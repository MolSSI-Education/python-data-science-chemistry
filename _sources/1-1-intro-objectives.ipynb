{
 "cells": [
  {
   "cell_type": "markdown",
   "metadata": {},
   "source": [
    "Session 1\n",
    "========"
   ]
  },
  {
   "attachments": {},
   "cell_type": "markdown",
   "metadata": {},
   "source": [
    "``````{admonition} Session 1 Overview\n",
    ":class: day-overview\n",
    "    \n",
    "In this session, we will see how to use the libraries [Pandas](https://pandas.pydata.org/), [NumPy](https://numpy.org/), and [Matplotlib](https://matplotlib.org/). \n",
    "Pandas is a library for working with tabular data which is widely used in data science. \n",
    "NumPy, short for **nu**merical **py**thon is used for working with numerical data. \n",
    "Its core data type, the n-dimensional NumPy array allows for much faster calculations than standard Python, \n",
    "and forms the base of the scientific Python eco-system. \n",
    "Matplotlib is a well-established plotting library for Python.\n",
    "\n",
    "These three libraries are fundamental for scientific work as well as data science in Python. \n",
    "In this session, we will learn some basics about pandas dataframes, NumPy arrays, and creating plots using matplotlib.\n",
    "\n",
    "````{admonition} Working with Pandas Dataframes\n",
    ":class: overview\n",
    "\n",
    "* How can I use pandas to examine data?\n",
    "\n",
    "````\n",
    "\n",
    "````{admonition} Working with NumPy Arrays\n",
    ":class: overview\n",
    "\n",
    "* When should I use NumPy arrays instead of Pandas dataframes?\n",
    "\n",
    "* What does the shape of a NumPy array mean?\n",
    "\n",
    "* How can I reshape arrays?\n",
    "````\n",
    "\n",
    "````{admonition} Creating plots using matplotlib\n",
    ":class: overview\n",
    "\n",
    "* How can I create plots using matplotlib?\n",
    "\n",
    "````\n",
    "\n",
    "``````"
   ]
  },
  {
   "cell_type": "code",
   "execution_count": null,
   "metadata": {},
   "outputs": [],
   "source": []
  }
 ],
 "metadata": {
  "kernelspec": {
   "display_name": "Python 3",
   "language": "python",
   "name": "python3"
  },
  "language_info": {
   "codemirror_mode": {
    "name": "ipython",
    "version": 3
   },
   "file_extension": ".py",
   "mimetype": "text/x-python",
   "name": "python",
   "nbconvert_exporter": "python",
   "pygments_lexer": "ipython3",
   "version": "3.8.10 (default, Nov 14 2022, 12:59:47) \n[GCC 9.4.0]"
  },
  "vscode": {
   "interpreter": {
    "hash": "916dbcbb3f70747c44a77c7bcd40155683ae19c65e1c03b4aa3499c5328201f1"
   }
  }
 },
 "nbformat": 4,
 "nbformat_minor": 4
}
