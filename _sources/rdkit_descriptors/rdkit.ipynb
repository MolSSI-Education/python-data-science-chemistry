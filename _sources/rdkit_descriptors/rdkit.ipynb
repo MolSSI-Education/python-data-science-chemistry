{
 "cells": [
  {
   "cell_type": "markdown",
   "id": "d9020474",
   "metadata": {},
   "source": [
    "# Introduction to RDKit\n",
    "\n",
    "There are also libraries in Python that are made for working just with chemical data. One commonly used library in Python for data science (or cheminformatics) is called RDKit.\n",
    "\n",
    "RDKit lets us create variables which represent molecules and retrieve information about the molecules. \n",
    "\n",
    "We are going to use a part of RDKit called `Chem`. To use `Chem`, we first have to import it. "
   ]
  },
  {
   "cell_type": "code",
   "execution_count": 1,
   "id": "afc9bc63",
   "metadata": {},
   "outputs": [],
   "source": [
    "from rdkit import Chem"
   ]
  },
  {
   "cell_type": "markdown",
   "id": "d5b835ad",
   "metadata": {},
   "source": [
    "## Creating Molecules with RDKit\n",
    "\n",
    "To get information about molecules in RDKit, we have to have RDKit retreive the information. The molecule name has to be communicated to RDKit in a way that computers understand. We could open info from molecular file formats like `mol`.\n",
    "\n",
    "We are going to use a format called SMILES. SMILES stands for \"Simplified Molecular-Input Line-entry System\" and is a string representation of a molecule. You usually will be looking up SMILES or having a program generate them for you. \n",
    "\n",
    "In SMILES, if we want methane, we specify that with \"C\". We can create a representation of methane using RDKit by using the `MolFromSmiles` function in `rdkit.Chem`."
   ]
  },
  {
   "cell_type": "code",
   "execution_count": 2,
   "id": "40b29a7c",
   "metadata": {},
   "outputs": [],
   "source": [
    "methane = Chem.MolFromSmiles(\"C\")"
   ]
  },
  {
   "cell_type": "code",
   "execution_count": 3,
   "id": "99734c44",
   "metadata": {},
   "outputs": [
    {
     "data": {
      "image/png": "[encoded data removed]",
      "text/plain": [
       "<rdkit.Chem.rdchem.Mol at 0x7f319d275ee0>"
      ]
     },
     "execution_count": 3,
     "metadata": {},
     "output_type": "execute_result"
    }
   ],
   "source": [
    "methane"
   ]
  },
  {
   "cell_type": "markdown",
   "id": "95ad0cdb",
   "metadata": {},
   "source": [
    "## Retrieving Molecule Information\n",
    "\n",
    "RDKit will allow us to access information about our molecule. For example, we can have RDKit tell us the number of atoms in our molecule."
   ]
  },
  {
   "cell_type": "code",
   "execution_count": 4,
   "id": "3e3ce1c8",
   "metadata": {},
   "outputs": [
    {
     "name": "stdout",
     "output_type": "stream",
     "text": [
      "The number of atoms in methane is 1\n"
     ]
    }
   ],
   "source": [
    "num_methane = methane.GetNumAtoms()\n",
    "print(f\"The number of atoms in methane is {num_methane}\")"
   ]
  },
  {
   "cell_type": "markdown",
   "id": "cc5d6ee6",
   "metadata": {},
   "source": [
    "This isn't exactly what we expect. By default, RDKit only counts \"heavy atoms\". This means that hydrogen isn't included. We can tell RDKit to count hydrogens by adding `onlyExplicit=False` to our `GetNumAtoms` function."
   ]
  },
  {
   "cell_type": "code",
   "execution_count": 5,
   "id": "3e94e9f4",
   "metadata": {},
   "outputs": [
    {
     "name": "stdout",
     "output_type": "stream",
     "text": [
      "The number of atoms in methane including hydrogens is 5.\n"
     ]
    }
   ],
   "source": [
    "num_methane_h = methane.GetNumAtoms(onlyExplicit=False)\n",
    "print(f\"The number of atoms in methane including hydrogens is {num_methane_h}.\")"
   ]
  },
  {
   "cell_type": "markdown",
   "id": "be75dd06",
   "metadata": {},
   "source": [
    "<div class=\"exercise-this-is-a-title exercise\">\n",
    "    <p class=\"exercise-title\">Check Your Understanding</p>\n",
    "    <p>Create a molecule called ethane and print the number of atoms. The SMILES for ethane is `CC`.</p>\n",
    "    \n",
    "```{admonition} Answer\n",
    ":class: dropdown\n",
    "\n",
    "    \n",
    "```python\n",
    "ethane = Chem.MolFromSmiles(\"CC\")\n",
    "num_ethane_h = ethane.GetNumAtoms(onlyHeavy=False)\n",
    "print(f\"Ethane has {num_ethane_h} atoms.\")\n",
    "```\n",
    "</div>"
   ]
  },
  {
   "cell_type": "code",
   "execution_count": 6,
   "id": "48748996",
   "metadata": {},
   "outputs": [],
   "source": [
    "ethanol = Chem.MolFromSmiles(\"CCO\")"
   ]
  },
  {
   "cell_type": "markdown",
   "id": "5e78625d",
   "metadata": {},
   "source": [
    "We can also get information about atoms or  bonds from RDKit molecules. We can use the `GetAtoms()` function, then use a loop to look at the atoms."
   ]
  },
  {
   "cell_type": "code",
   "execution_count": 7,
   "id": "6bf913ea",
   "metadata": {},
   "outputs": [
    {
     "name": "stdout",
     "output_type": "stream",
     "text": [
      "C\n",
      "C\n",
      "O\n"
     ]
    }
   ],
   "source": [
    "for atom in ethanol.GetAtoms():\n",
    "    print(atom.GetSymbol())"
   ]
  },
  {
   "cell_type": "markdown",
   "id": "d6dc6fb9",
   "metadata": {},
   "source": [
    "or, get information about the bonds."
   ]
  },
  {
   "cell_type": "code",
   "execution_count": 8,
   "id": "371244ad",
   "metadata": {},
   "outputs": [
    {
     "name": "stdout",
     "output_type": "stream",
     "text": [
      "SINGLE\n",
      "SINGLE\n"
     ]
    }
   ],
   "source": [
    "for bond in ethanol.GetBonds():\n",
    "    print(bond.GetBondType())"
   ]
  },
  {
   "cell_type": "markdown",
   "id": "e9f1b524",
   "metadata": {},
   "source": [
    "In the SMILES format, `=` signifies a double bond, and `#` signifies a triple bond.\n",
    "\n",
    "For example, to create ethene or ehtyne"
   ]
  },
  {
   "cell_type": "code",
   "execution_count": 9,
   "id": "ca61e770",
   "metadata": {},
   "outputs": [],
   "source": [
    "ethene = Chem.MolFromSmiles(\"C=C\")\n",
    "ethyne = Chem.MolFromSmiles(\"C#C\")"
   ]
  },
  {
   "cell_type": "code",
   "execution_count": 10,
   "id": "36f4eacc",
   "metadata": {},
   "outputs": [
    {
     "data": {
      "image/png": "[encoded data removed]",
      "text/plain": [
       "<rdkit.Chem.rdchem.Mol at 0x7f319d22c460>"
      ]
     },
     "execution_count": 10,
     "metadata": {},
     "output_type": "execute_result"
    }
   ],
   "source": [
    "ethyne"
   ]
  },
  {
   "cell_type": "markdown",
   "id": "cddd79fa",
   "metadata": {},
   "source": [
    "You can find SMILES for more complicated online on websites like [PubChem](https://pubchem.ncbi.nlm.nih.gov/)."
   ]
  },
  {
   "cell_type": "code",
   "execution_count": 11,
   "id": "ea3dbc90",
   "metadata": {},
   "outputs": [
    {
     "data": {
      "image/png": "[encoded data removed]",
      "text/plain": [
       "<rdkit.Chem.rdchem.Mol at 0x7f319d22c220>"
      ]
     },
     "execution_count": 11,
     "metadata": {},
     "output_type": "execute_result"
    }
   ],
   "source": [
    "phenylalanine = Chem.MolFromSmiles(\"C1=CC=C(C=C1)CC(C(=O)O)N\")\n",
    "phenylalanine"
   ]
  },
  {
   "cell_type": "code",
   "execution_count": 12,
   "id": "b0b37cd4",
   "metadata": {},
   "outputs": [
    {
     "data": {
      "image/png": "[encoded data removed]",
      "text/plain": [
       "<rdkit.Chem.rdchem.Mol at 0x7f319d22cb20>"
      ]
     },
     "execution_count": 12,
     "metadata": {},
     "output_type": "execute_result"
    }
   ],
   "source": [
    "benzene = Chem.MolFromSmiles(\"c1ccccc1\")\n",
    "benzene"
   ]
  },
  {
   "cell_type": "markdown",
   "id": "b39599a7",
   "metadata": {},
   "source": [
    "## Molecular Descriptors\n",
    "\n",
    "RDKit has a module for retrieving molecular descriptors. Molecular descriptors are properties of molecules which can be analyzed using statistical methods to make predictions about molecular properties. \n",
    "\n",
    "To get molecular descriptors from RDKit, we import the `Descriptors` module."
   ]
  },
  {
   "cell_type": "code",
   "execution_count": 13,
   "id": "3d8d3ac3",
   "metadata": {},
   "outputs": [],
   "source": [
    "from rdkit.Chem import Descriptors"
   ]
  },
  {
   "cell_type": "markdown",
   "id": "bce6a322",
   "metadata": {},
   "source": [
    "Some molecular descriptors we might be interested in are:\n",
    "\n",
    "1. Heavy Atom Count (`HeavyAtomCount`)\n",
    "2. Number of hydrogen bond acceptrs (`NumHAcceptors`)\n",
    "3. Number of hydrogen bond donors (`NumHDonors`)\n",
    "4. Number of valence electrons (`NumValenceElectrons`)\n",
    "5. Molecular weight (`MolWt`)\n",
    "6. Number of aromatic rings (`NumAromaticRings`)\n",
    "And many others!\n",
    "\n",
    "To get the descritpor you're interested in, the syntax is\n",
    "\n",
    "```python\n",
    "Descriptors.DescriptorName(molecule_variable)\n",
    "```"
   ]
  },
  {
   "cell_type": "code",
   "execution_count": 14,
   "id": "f3ed7282",
   "metadata": {},
   "outputs": [
    {
     "name": "stdout",
     "output_type": "stream",
     "text": [
      "Printing info for benzene\n",
      "The molecular weight is 78.11399999999999\n",
      "The number of aromatic rings is 1\n"
     ]
    }
   ],
   "source": [
    "print(\"Printing info for benzene\")\n",
    "print(f\"The molecular weight is {Descriptors.MolWt(benzene)}\")\n",
    "print(f\"The number of aromatic rings is {Descriptors.NumAromaticRings(benzene)}\")\n"
   ]
  },
  {
   "cell_type": "markdown",
   "id": "a69e2463",
   "metadata": {},
   "source": [
    "## Substructure Search\n",
    "\n",
    "RDKit can do a lot. One thing you can do are substructure searches. You can identify when molecules contain other molecules. Let's try this with benzene and phenylalanine."
   ]
  },
  {
   "cell_type": "code",
   "execution_count": 15,
   "id": "c4b26b52",
   "metadata": {},
   "outputs": [
    {
     "data": {
      "image/png": "[encoded data removed]",
      "text/plain": [
       "<rdkit.Chem.rdchem.Mol at 0x7f319d22c220>"
      ]
     },
     "execution_count": 15,
     "metadata": {},
     "output_type": "execute_result"
    }
   ],
   "source": [
    "matches = phenylalanine.GetSubstructMatches(benzene)\n",
    "phenylalanine"
   ]
  },
  {
   "cell_type": "code",
   "execution_count": null,
   "id": "60de3c0b",
   "metadata": {},
   "outputs": [],
   "source": []
  }
 ],
 "metadata": {
  "kernelspec": {
   "display_name": "Python 3 (ipykernel)",
   "language": "python",
   "name": "python3"
  },
  "language_info": {
   "codemirror_mode": {
    "name": "ipython",
    "version": 3
   },
   "file_extension": ".py",
   "mimetype": "text/x-python",
   "name": "python",
   "nbconvert_exporter": "python",
   "pygments_lexer": "ipython3",
   "version": "3.9.12"
  }
 },
 "nbformat": 4,
 "nbformat_minor": 5
}
