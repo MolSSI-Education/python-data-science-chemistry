{
 "cells": [
  {
   "cell_type": "markdown",
   "id": "e61a8ce1",
   "metadata": {},
   "source": [
    "## Generating and analyzing a dataset using RDKit\n",
    "\n",
    "This is an exploratory notebook using rdkit and other libraries to examine melting points of hydrocarbons."
   ]
  },
  {
   "cell_type": "code",
   "execution_count": 1,
   "id": "54cb0037",
   "metadata": {},
   "outputs": [],
   "source": [
    "import pandas as pd\n",
    "import seaborn as sns\n",
    "import matplotlib.pyplot as plt\n",
    "\n",
    "from rdkit import Chem\n",
    "from rdkit.Chem import Descriptors, PandasTools"
   ]
  },
  {
   "cell_type": "code",
   "execution_count": 2,
   "id": "3e334e5a",
   "metadata": {},
   "outputs": [
    {
     "data": {
      "text/html": [
       "<div>\n",
       "<style scoped>\n",
       "    .dataframe tbody tr th:only-of-type {\n",
       "        vertical-align: middle;\n",
       "    }\n",
       "\n",
       "    .dataframe tbody tr th {\n",
       "        vertical-align: top;\n",
       "    }\n",
       "\n",
       "    .dataframe thead th {\n",
       "        text-align: right;\n",
       "    }\n",
       "</style>\n",
       "<table border=\"1\" class=\"dataframe\">\n",
       "  <thead>\n",
       "    <tr style=\"text-align: right;\">\n",
       "      <th></th>\n",
       "      <th>Class of hydrocarbon</th>\n",
       "      <th>IUPAC name</th>\n",
       "      <th>Melting point</th>\n",
       "      <th>Boiling point</th>\n",
       "      <th>Density@20å¡C*</th>\n",
       "      <th>Flash point</th>\n",
       "      <th>Autoignition temp</th>\n",
       "      <th>pubchem_id</th>\n",
       "      <th>smiles</th>\n",
       "    </tr>\n",
       "  </thead>\n",
       "  <tbody>\n",
       "    <tr>\n",
       "      <th>0</th>\n",
       "      <td>Trimetylalkane</td>\n",
       "      <td>2,2,4-Trimethylpentane</td>\n",
       "      <td>-107.0</td>\n",
       "      <td>99.0</td>\n",
       "      <td>0.69</td>\n",
       "      <td>NaN</td>\n",
       "      <td>396</td>\n",
       "      <td>10907</td>\n",
       "      <td>CC(C)CC(C)(C)C</td>\n",
       "    </tr>\n",
       "    <tr>\n",
       "      <th>1</th>\n",
       "      <td>Triaromatics</td>\n",
       "      <td>Phenanthrene</td>\n",
       "      <td>99.0</td>\n",
       "      <td>338.0</td>\n",
       "      <td>1.18</td>\n",
       "      <td>171</td>\n",
       "      <td>&gt;450</td>\n",
       "      <td>995</td>\n",
       "      <td>C1=CC=C2C(=C1)C=CC3=CC=CC=C32</td>\n",
       "    </tr>\n",
       "    <tr>\n",
       "      <th>2</th>\n",
       "      <td>Triaromatics</td>\n",
       "      <td>Anthracene</td>\n",
       "      <td>216.0</td>\n",
       "      <td>341.0</td>\n",
       "      <td>1.2825</td>\n",
       "      <td>NaN</td>\n",
       "      <td>NaN</td>\n",
       "      <td>8418</td>\n",
       "      <td>C1=CC=C2C=C3C=CC=CC3=CC2=C1</td>\n",
       "    </tr>\n",
       "    <tr>\n",
       "      <th>3</th>\n",
       "      <td>Triaromatics</td>\n",
       "      <td>1-methylanthracene</td>\n",
       "      <td>86.0</td>\n",
       "      <td>342.0</td>\n",
       "      <td>1.04799</td>\n",
       "      <td>NaN</td>\n",
       "      <td>NaN</td>\n",
       "      <td>11884</td>\n",
       "      <td>CC1=CC=CC2=CC3=CC=CC=C3C=C12</td>\n",
       "    </tr>\n",
       "    <tr>\n",
       "      <th>4</th>\n",
       "      <td>Triaromatics</td>\n",
       "      <td>2-methylanthracene</td>\n",
       "      <td>209.0</td>\n",
       "      <td>340.0</td>\n",
       "      <td>1.8</td>\n",
       "      <td>NaN</td>\n",
       "      <td>NaN</td>\n",
       "      <td>11936</td>\n",
       "      <td>CC1=CC2=CC3=CC=CC=C3C=C2C=C1</td>\n",
       "    </tr>\n",
       "  </tbody>\n",
       "</table>\n",
       "</div>"
      ],
      "text/plain": [
       "  Class of hydrocarbon              IUPAC name  Melting point  Boiling point  \\\n",
       "0       Trimetylalkane  2,2,4-Trimethylpentane         -107.0           99.0   \n",
       "1         Triaromatics            Phenanthrene           99.0          338.0   \n",
       "2         Triaromatics              Anthracene          216.0          341.0   \n",
       "3         Triaromatics      1-methylanthracene           86.0          342.0   \n",
       "4         Triaromatics      2-methylanthracene          209.0          340.0   \n",
       "\n",
       "  Density@20å¡C* Flash point Autoignition temp  pubchem_id  \\\n",
       "0           0.69         NaN               396       10907   \n",
       "1           1.18         171              >450         995   \n",
       "2         1.2825         NaN               NaN        8418   \n",
       "3        1.04799         NaN               NaN       11884   \n",
       "4            1.8         NaN               NaN       11936   \n",
       "\n",
       "                          smiles  \n",
       "0                 CC(C)CC(C)(C)C  \n",
       "1  C1=CC=C2C(=C1)C=CC3=CC=CC=C32  \n",
       "2    C1=CC=C2C=C3C=CC=CC3=CC2=C1  \n",
       "3   CC1=CC=CC2=CC3=CC=CC=C3C=C12  \n",
       "4   CC1=CC2=CC3=CC=CC=C3C=C2C=C1  "
      ]
     },
     "execution_count": 2,
     "metadata": {},
     "output_type": "execute_result"
    }
   ],
   "source": [
    "df = pd.read_csv(\"data/hydrocarbons.csv\")\n",
    "df.head()"
   ]
  },
  {
   "cell_type": "code",
   "execution_count": 3,
   "id": "fea93cb9",
   "metadata": {},
   "outputs": [],
   "source": [
    "# Use pandas tools to \n",
    "PandasTools.AddMoleculeColumnToFrame(df,'smiles', 'Molecule', includeFingerprints=True)"
   ]
  },
  {
   "cell_type": "code",
   "execution_count": 4,
   "id": "ae6424ff",
   "metadata": {},
   "outputs": [
    {
     "data": {
      "text/html": [
       "<div>\n",
       "<style scoped>\n",
       "    .dataframe tbody tr th:only-of-type {\n",
       "        vertical-align: middle;\n",
       "    }\n",
       "\n",
       "    .dataframe tbody tr th {\n",
       "        vertical-align: top;\n",
       "    }\n",
       "\n",
       "    .dataframe thead th {\n",
       "        text-align: right;\n",
       "    }\n",
       "</style>\n",
       "<table border=\"1\" class=\"dataframe\">\n",
       "  <thead>\n",
       "    <tr style=\"text-align: right;\">\n",
       "      <th></th>\n",
       "      <th>Class of hydrocarbon</th>\n",
       "      <th>IUPAC name</th>\n",
       "      <th>Melting point</th>\n",
       "      <th>Boiling point</th>\n",
       "      <th>Density@20å¡C*</th>\n",
       "      <th>Flash point</th>\n",
       "      <th>Autoignition temp</th>\n",
       "      <th>pubchem_id</th>\n",
       "      <th>smiles</th>\n",
       "      <th>Molecule</th>\n",
       "    </tr>\n",
       "  </thead>\n",
       "  <tbody>\n",
       "    <tr>\n",
       "      <th>0</th>\n",
       "      <td>Trimetylalkane</td>\n",
       "      <td>2,2,4-Trimethylpentane</td>\n",
       "      <td>-107.0</td>\n",
       "      <td>99.0</td>\n",
       "      <td>0.69</td>\n",
       "      <td>NaN</td>\n",
       "      <td>396</td>\n",
       "      <td>10907</td>\n",
       "      <td>CC(C)CC(C)(C)C</td>\n",
       "      <td>&lt;rdkit.Chem.rdchem.Mol object at 0x7fc5f994c970&gt;</td>\n",
       "    </tr>\n",
       "    <tr>\n",
       "      <th>1</th>\n",
       "      <td>Triaromatics</td>\n",
       "      <td>Phenanthrene</td>\n",
       "      <td>99.0</td>\n",
       "      <td>338.0</td>\n",
       "      <td>1.18</td>\n",
       "      <td>171</td>\n",
       "      <td>&gt;450</td>\n",
       "      <td>995</td>\n",
       "      <td>C1=CC=C2C(=C1)C=CC3=CC=CC=C32</td>\n",
       "      <td>&lt;rdkit.Chem.rdchem.Mol object at 0x7fc5f994ca50&gt;</td>\n",
       "    </tr>\n",
       "    <tr>\n",
       "      <th>2</th>\n",
       "      <td>Triaromatics</td>\n",
       "      <td>Anthracene</td>\n",
       "      <td>216.0</td>\n",
       "      <td>341.0</td>\n",
       "      <td>1.2825</td>\n",
       "      <td>NaN</td>\n",
       "      <td>NaN</td>\n",
       "      <td>8418</td>\n",
       "      <td>C1=CC=C2C=C3C=CC=CC3=CC2=C1</td>\n",
       "      <td>&lt;rdkit.Chem.rdchem.Mol object at 0x7fc5f994cba0&gt;</td>\n",
       "    </tr>\n",
       "    <tr>\n",
       "      <th>3</th>\n",
       "      <td>Triaromatics</td>\n",
       "      <td>1-methylanthracene</td>\n",
       "      <td>86.0</td>\n",
       "      <td>342.0</td>\n",
       "      <td>1.04799</td>\n",
       "      <td>NaN</td>\n",
       "      <td>NaN</td>\n",
       "      <td>11884</td>\n",
       "      <td>CC1=CC=CC2=CC3=CC=CC=C3C=C12</td>\n",
       "      <td>&lt;rdkit.Chem.rdchem.Mol object at 0x7fc5f994ccf0&gt;</td>\n",
       "    </tr>\n",
       "    <tr>\n",
       "      <th>4</th>\n",
       "      <td>Triaromatics</td>\n",
       "      <td>2-methylanthracene</td>\n",
       "      <td>209.0</td>\n",
       "      <td>340.0</td>\n",
       "      <td>1.8</td>\n",
       "      <td>NaN</td>\n",
       "      <td>NaN</td>\n",
       "      <td>11936</td>\n",
       "      <td>CC1=CC2=CC3=CC=CC=C3C=C2C=C1</td>\n",
       "      <td>&lt;rdkit.Chem.rdchem.Mol object at 0x7fc5f994cc80&gt;</td>\n",
       "    </tr>\n",
       "  </tbody>\n",
       "</table>\n",
       "</div>"
      ],
      "text/plain": [
       "  Class of hydrocarbon              IUPAC name  Melting point  Boiling point  \\\n",
       "0       Trimetylalkane  2,2,4-Trimethylpentane         -107.0           99.0   \n",
       "1         Triaromatics            Phenanthrene           99.0          338.0   \n",
       "2         Triaromatics              Anthracene          216.0          341.0   \n",
       "3         Triaromatics      1-methylanthracene           86.0          342.0   \n",
       "4         Triaromatics      2-methylanthracene          209.0          340.0   \n",
       "\n",
       "  Density@20å¡C* Flash point Autoignition temp  pubchem_id  \\\n",
       "0           0.69         NaN               396       10907   \n",
       "1           1.18         171              >450         995   \n",
       "2         1.2825         NaN               NaN        8418   \n",
       "3        1.04799         NaN               NaN       11884   \n",
       "4            1.8         NaN               NaN       11936   \n",
       "\n",
       "                          smiles  \\\n",
       "0                 CC(C)CC(C)(C)C   \n",
       "1  C1=CC=C2C(=C1)C=CC3=CC=CC=C32   \n",
       "2    C1=CC=C2C=C3C=CC=CC3=CC2=C1   \n",
       "3   CC1=CC=CC2=CC3=CC=CC=C3C=C12   \n",
       "4   CC1=CC2=CC3=CC=CC=C3C=C2C=C1   \n",
       "\n",
       "                                           Molecule  \n",
       "0  <rdkit.Chem.rdchem.Mol object at 0x7fc5f994c970>  \n",
       "1  <rdkit.Chem.rdchem.Mol object at 0x7fc5f994ca50>  \n",
       "2  <rdkit.Chem.rdchem.Mol object at 0x7fc5f994cba0>  \n",
       "3  <rdkit.Chem.rdchem.Mol object at 0x7fc5f994ccf0>  \n",
       "4  <rdkit.Chem.rdchem.Mol object at 0x7fc5f994cc80>  "
      ]
     },
     "execution_count": 4,
     "metadata": {},
     "output_type": "execute_result"
    }
   ],
   "source": [
    "df.head()"
   ]
  },
  {
   "cell_type": "code",
   "execution_count": 6,
   "id": "18c4a53a",
   "metadata": {},
   "outputs": [],
   "source": [
    "# Retrieve some descriptors\n",
    "\n",
    "descriptors_df = pd.DataFrame()\n",
    "descriptors_df[\"Melting point\"] = df[\"Melting point\"].copy()\n",
    "\n",
    "descriptors_df[\"molecular_weight\"] = df[\"Molecule\"].apply(Chem.Descriptors.MolWt)\n",
    "descriptors_df[\"num_aromatic_rings\"] = df[\"Molecule\"].apply(Chem.Descriptors.NumAromaticRings)"
   ]
  },
  {
   "cell_type": "code",
   "execution_count": 7,
   "id": "1590653a",
   "metadata": {},
   "outputs": [
    {
     "data": {
      "text/html": [
       "<div>\n",
       "<style scoped>\n",
       "    .dataframe tbody tr th:only-of-type {\n",
       "        vertical-align: middle;\n",
       "    }\n",
       "\n",
       "    .dataframe tbody tr th {\n",
       "        vertical-align: top;\n",
       "    }\n",
       "\n",
       "    .dataframe thead th {\n",
       "        text-align: right;\n",
       "    }\n",
       "</style>\n",
       "<table border=\"1\" class=\"dataframe\">\n",
       "  <thead>\n",
       "    <tr style=\"text-align: right;\">\n",
       "      <th></th>\n",
       "      <th>Melting point</th>\n",
       "      <th>molecular_weight</th>\n",
       "      <th>num_aromatic_rings</th>\n",
       "    </tr>\n",
       "  </thead>\n",
       "  <tbody>\n",
       "    <tr>\n",
       "      <th>0</th>\n",
       "      <td>-107.0</td>\n",
       "      <td>114.232</td>\n",
       "      <td>0</td>\n",
       "    </tr>\n",
       "    <tr>\n",
       "      <th>1</th>\n",
       "      <td>99.0</td>\n",
       "      <td>178.234</td>\n",
       "      <td>3</td>\n",
       "    </tr>\n",
       "    <tr>\n",
       "      <th>2</th>\n",
       "      <td>216.0</td>\n",
       "      <td>178.234</td>\n",
       "      <td>3</td>\n",
       "    </tr>\n",
       "    <tr>\n",
       "      <th>3</th>\n",
       "      <td>86.0</td>\n",
       "      <td>192.261</td>\n",
       "      <td>3</td>\n",
       "    </tr>\n",
       "    <tr>\n",
       "      <th>4</th>\n",
       "      <td>209.0</td>\n",
       "      <td>192.261</td>\n",
       "      <td>3</td>\n",
       "    </tr>\n",
       "  </tbody>\n",
       "</table>\n",
       "</div>"
      ],
      "text/plain": [
       "   Melting point  molecular_weight  num_aromatic_rings\n",
       "0         -107.0           114.232                   0\n",
       "1           99.0           178.234                   3\n",
       "2          216.0           178.234                   3\n",
       "3           86.0           192.261                   3\n",
       "4          209.0           192.261                   3"
      ]
     },
     "execution_count": 7,
     "metadata": {},
     "output_type": "execute_result"
    }
   ],
   "source": [
    "descriptors_df.head()"
   ]
  },
  {
   "cell_type": "code",
   "execution_count": 9,
   "id": "c3dbb6b6",
   "metadata": {},
   "outputs": [],
   "source": [
    "descriptors_melt = descriptors_df.melt(id_vars=\"Melting point\")"
   ]
  },
  {
   "cell_type": "code",
   "execution_count": 10,
   "id": "405b05a5",
   "metadata": {},
   "outputs": [
    {
     "data": {
      "text/html": [
       "<div>\n",
       "<style scoped>\n",
       "    .dataframe tbody tr th:only-of-type {\n",
       "        vertical-align: middle;\n",
       "    }\n",
       "\n",
       "    .dataframe tbody tr th {\n",
       "        vertical-align: top;\n",
       "    }\n",
       "\n",
       "    .dataframe thead th {\n",
       "        text-align: right;\n",
       "    }\n",
       "</style>\n",
       "<table border=\"1\" class=\"dataframe\">\n",
       "  <thead>\n",
       "    <tr style=\"text-align: right;\">\n",
       "      <th></th>\n",
       "      <th>Melting point</th>\n",
       "      <th>variable</th>\n",
       "      <th>value</th>\n",
       "    </tr>\n",
       "  </thead>\n",
       "  <tbody>\n",
       "    <tr>\n",
       "      <th>0</th>\n",
       "      <td>-107.0</td>\n",
       "      <td>molecular_weight</td>\n",
       "      <td>114.232</td>\n",
       "    </tr>\n",
       "    <tr>\n",
       "      <th>1</th>\n",
       "      <td>99.0</td>\n",
       "      <td>molecular_weight</td>\n",
       "      <td>178.234</td>\n",
       "    </tr>\n",
       "    <tr>\n",
       "      <th>2</th>\n",
       "      <td>216.0</td>\n",
       "      <td>molecular_weight</td>\n",
       "      <td>178.234</td>\n",
       "    </tr>\n",
       "    <tr>\n",
       "      <th>3</th>\n",
       "      <td>86.0</td>\n",
       "      <td>molecular_weight</td>\n",
       "      <td>192.261</td>\n",
       "    </tr>\n",
       "    <tr>\n",
       "      <th>4</th>\n",
       "      <td>209.0</td>\n",
       "      <td>molecular_weight</td>\n",
       "      <td>192.261</td>\n",
       "    </tr>\n",
       "  </tbody>\n",
       "</table>\n",
       "</div>"
      ],
      "text/plain": [
       "   Melting point          variable    value\n",
       "0         -107.0  molecular_weight  114.232\n",
       "1           99.0  molecular_weight  178.234\n",
       "2          216.0  molecular_weight  178.234\n",
       "3           86.0  molecular_weight  192.261\n",
       "4          209.0  molecular_weight  192.261"
      ]
     },
     "execution_count": 10,
     "metadata": {},
     "output_type": "execute_result"
    }
   ],
   "source": [
    "descriptors_melt.head()"
   ]
  },
  {
   "cell_type": "code",
   "execution_count": 11,
   "id": "38873dc2",
   "metadata": {},
   "outputs": [
    {
     "data": {
      "image/png": "[encoded data removed]",
      "text/plain": [
       "<Figure size 1000x500 with 2 Axes>"
      ]
     },
     "metadata": {},
     "output_type": "display_data"
    }
   ],
   "source": [
    "g = sns.lmplot(data=descriptors_melt, y=\"Melting point\", x=\"value\", col=\"variable\", col_wrap=2, facet_kws={\"sharex\": False})"
   ]
  },
  {
   "cell_type": "markdown",
   "id": "64953c7d",
   "metadata": {},
   "source": [
    "## Linear and Multilinear Regression Using SciKitLearn\n",
    "\n",
    "Use this section to perform linear or multilinear regression using scikitlearn."
   ]
  },
  {
   "cell_type": "code",
   "execution_count": null,
   "id": "aa6f6bf7",
   "metadata": {},
   "outputs": [],
   "source": []
  },
  {
   "cell_type": "markdown",
   "id": "eb9ff67c",
   "metadata": {},
   "source": [
    "## Fitting with Random Forest"
   ]
  },
  {
   "cell_type": "code",
   "execution_count": null,
   "id": "322fe63f",
   "metadata": {},
   "outputs": [],
   "source": [
    "from sklearn.ensemble import RandomForestRegressor\n",
    "from sklearn.model_selection import train_test_split"
   ]
  },
  {
   "cell_type": "code",
   "execution_count": null,
   "id": "0a5a7045",
   "metadata": {},
   "outputs": [],
   "source": [
    "analyze = df.dropna(axis=0, subset=\"Melting point\")\n",
    "\n",
    "X = analyze[[\"molecular_weight\", \"num_aromatic_rings\"]].to_numpy()\n",
    "Y = analyze[\"Melting point\"].to_numpy()\n",
    "\n",
    "X_train, X_test, Y_train, Y_test = train_test_split(X, Y)"
   ]
  },
  {
   "cell_type": "code",
   "execution_count": null,
   "id": "1edd6288",
   "metadata": {},
   "outputs": [],
   "source": [
    "random_forest_model = RandomForestRegressor().fit(X_train, Y_train)\n",
    "yerr = random_forest_model.score(X_test, Y_test)\n",
    "print(yerr)"
   ]
  },
  {
   "cell_type": "code",
   "execution_count": null,
   "id": "94feef15",
   "metadata": {},
   "outputs": [],
   "source": [
    "y_pred = random_forest_model.predict(X)"
   ]
  },
  {
   "cell_type": "code",
   "execution_count": null,
   "id": "4005b847",
   "metadata": {},
   "outputs": [],
   "source": [
    "plt.figure()\n",
    "plt.scatter(Y, y_pred)"
   ]
  },
  {
   "cell_type": "code",
   "execution_count": null,
   "id": "32ff2375",
   "metadata": {},
   "outputs": [],
   "source": []
  }
 ],
 "metadata": {
  "kernelspec": {
   "display_name": "Python 3 (ipykernel)",
   "language": "python",
   "name": "python3"
  },
  "language_info": {
   "codemirror_mode": {
    "name": "ipython",
    "version": 3
   },
   "file_extension": ".py",
   "mimetype": "text/x-python",
   "name": "python",
   "nbconvert_exporter": "python",
   "pygments_lexer": "ipython3",
   "version": "3.11.0"
  }
 },
 "nbformat": 4,
 "nbformat_minor": 5
}
