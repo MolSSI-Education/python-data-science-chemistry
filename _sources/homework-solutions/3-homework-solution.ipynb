{
 "cells": [
  {
   "cell_type": "markdown",
   "id": "bb6eb622",
   "metadata": {},
   "source": [
    "Session 3 Homework Solution\n",
    "========================\n",
    "\n",
    "## Exercise 1 - Linear Fitting\n",
    "\n",
    "Use scikitlearn to perform multiple linear regression for solubility using the dataset `delaney-processed.csv`. Unfortunately the dataset doesn't contain all of the molecular descriptors as described in the original paper. Use the available descriptors as independent variables in the linear fit. \n",
    "\n",
    "- Use your model to predict solubilities for the dataset.\n",
    "- Compute the $R^2$ statistic for the fit\n"
   ]
  },
  {
   "cell_type": "code",
   "execution_count": 1,
   "id": "c9d1858b",
   "metadata": {},
   "outputs": [],
   "source": [
    "import pandas as pd\n",
    "from sklearn.linear_model import LinearRegression"
   ]
  },
  {
   "cell_type": "markdown",
   "id": "1b97566a",
   "metadata": {},
   "source": [
    "### Loading and Transforming the Data"
   ]
  },
  {
   "cell_type": "code",
   "execution_count": 2,
   "id": "601f1d01",
   "metadata": {},
   "outputs": [],
   "source": [
    "df = pd.read_csv(\"data/delaney-processed.csv\")"
   ]
  },
  {
   "cell_type": "code",
   "execution_count": 3,
   "id": "24f190df",
   "metadata": {},
   "outputs": [
    {
     "data": {
      "text/html": [
       "<div>\n",
       "<style scoped>\n",
       "    .dataframe tbody tr th:only-of-type {\n",
       "        vertical-align: middle;\n",
       "    }\n",
       "\n",
       "    .dataframe tbody tr th {\n",
       "        vertical-align: top;\n",
       "    }\n",
       "\n",
       "    .dataframe thead th {\n",
       "        text-align: right;\n",
       "    }\n",
       "</style>\n",
       "<table border=\"1\" class=\"dataframe\">\n",
       "  <thead>\n",
       "    <tr style=\"text-align: right;\">\n",
       "      <th></th>\n",
       "      <th>Compound ID</th>\n",
       "      <th>ESOL predicted log solubility in mols per litre</th>\n",
       "      <th>Minimum Degree</th>\n",
       "      <th>Molecular Weight</th>\n",
       "      <th>Number of H-Bond Donors</th>\n",
       "      <th>Number of Rings</th>\n",
       "      <th>Number of Rotatable Bonds</th>\n",
       "      <th>Polar Surface Area</th>\n",
       "      <th>measured log solubility in mols per litre</th>\n",
       "      <th>smiles</th>\n",
       "    </tr>\n",
       "  </thead>\n",
       "  <tbody>\n",
       "    <tr>\n",
       "      <th>0</th>\n",
       "      <td>Amigdalin</td>\n",
       "      <td>-0.974</td>\n",
       "      <td>1</td>\n",
       "      <td>457.432</td>\n",
       "      <td>7</td>\n",
       "      <td>3</td>\n",
       "      <td>7</td>\n",
       "      <td>202.32</td>\n",
       "      <td>-0.77</td>\n",
       "      <td>OCC3OC(OCC2OC(OC(C#N)c1ccccc1)C(O)C(O)C2O)C(O)...</td>\n",
       "    </tr>\n",
       "    <tr>\n",
       "      <th>1</th>\n",
       "      <td>Fenfuram</td>\n",
       "      <td>-2.885</td>\n",
       "      <td>1</td>\n",
       "      <td>201.225</td>\n",
       "      <td>1</td>\n",
       "      <td>2</td>\n",
       "      <td>2</td>\n",
       "      <td>42.24</td>\n",
       "      <td>-3.30</td>\n",
       "      <td>Cc1occc1C(=O)Nc2ccccc2</td>\n",
       "    </tr>\n",
       "    <tr>\n",
       "      <th>2</th>\n",
       "      <td>citral</td>\n",
       "      <td>-2.579</td>\n",
       "      <td>1</td>\n",
       "      <td>152.237</td>\n",
       "      <td>0</td>\n",
       "      <td>0</td>\n",
       "      <td>4</td>\n",
       "      <td>17.07</td>\n",
       "      <td>-2.06</td>\n",
       "      <td>CC(C)=CCCC(C)=CC(=O)</td>\n",
       "    </tr>\n",
       "    <tr>\n",
       "      <th>3</th>\n",
       "      <td>Picene</td>\n",
       "      <td>-6.618</td>\n",
       "      <td>2</td>\n",
       "      <td>278.354</td>\n",
       "      <td>0</td>\n",
       "      <td>5</td>\n",
       "      <td>0</td>\n",
       "      <td>0.00</td>\n",
       "      <td>-7.87</td>\n",
       "      <td>c1ccc2c(c1)ccc3c2ccc4c5ccccc5ccc43</td>\n",
       "    </tr>\n",
       "    <tr>\n",
       "      <th>4</th>\n",
       "      <td>Thiophene</td>\n",
       "      <td>-2.232</td>\n",
       "      <td>2</td>\n",
       "      <td>84.143</td>\n",
       "      <td>0</td>\n",
       "      <td>1</td>\n",
       "      <td>0</td>\n",
       "      <td>0.00</td>\n",
       "      <td>-1.33</td>\n",
       "      <td>c1ccsc1</td>\n",
       "    </tr>\n",
       "  </tbody>\n",
       "</table>\n",
       "</div>"
      ],
      "text/plain": [
       "  Compound ID  ESOL predicted log solubility in mols per litre  \\\n",
       "0   Amigdalin                                           -0.974   \n",
       "1    Fenfuram                                           -2.885   \n",
       "2      citral                                           -2.579   \n",
       "3      Picene                                           -6.618   \n",
       "4   Thiophene                                           -2.232   \n",
       "\n",
       "   Minimum Degree  Molecular Weight  Number of H-Bond Donors  Number of Rings  \\\n",
       "0               1           457.432                        7                3   \n",
       "1               1           201.225                        1                2   \n",
       "2               1           152.237                        0                0   \n",
       "3               2           278.354                        0                5   \n",
       "4               2            84.143                        0                1   \n",
       "\n",
       "   Number of Rotatable Bonds  Polar Surface Area  \\\n",
       "0                          7              202.32   \n",
       "1                          2               42.24   \n",
       "2                          4               17.07   \n",
       "3                          0                0.00   \n",
       "4                          0                0.00   \n",
       "\n",
       "   measured log solubility in mols per litre  \\\n",
       "0                                      -0.77   \n",
       "1                                      -3.30   \n",
       "2                                      -2.06   \n",
       "3                                      -7.87   \n",
       "4                                      -1.33   \n",
       "\n",
       "                                              smiles  \n",
       "0  OCC3OC(OCC2OC(OC(C#N)c1ccccc1)C(O)C(O)C2O)C(O)...  \n",
       "1                             Cc1occc1C(=O)Nc2ccccc2  \n",
       "2                               CC(C)=CCCC(C)=CC(=O)  \n",
       "3                 c1ccc2c(c1)ccc3c2ccc4c5ccccc5ccc43  \n",
       "4                                            c1ccsc1  "
      ]
     },
     "execution_count": 3,
     "metadata": {},
     "output_type": "execute_result"
    }
   ],
   "source": [
    "df.head()"
   ]
  },
  {
   "cell_type": "code",
   "execution_count": 4,
   "id": "f3160cc8",
   "metadata": {},
   "outputs": [
    {
     "data": {
      "text/html": [
       "<div>\n",
       "<style scoped>\n",
       "    .dataframe tbody tr th:only-of-type {\n",
       "        vertical-align: middle;\n",
       "    }\n",
       "\n",
       "    .dataframe tbody tr th {\n",
       "        vertical-align: top;\n",
       "    }\n",
       "\n",
       "    .dataframe thead th {\n",
       "        text-align: right;\n",
       "    }\n",
       "</style>\n",
       "<table border=\"1\" class=\"dataframe\">\n",
       "  <thead>\n",
       "    <tr style=\"text-align: right;\">\n",
       "      <th></th>\n",
       "      <th>Minimum Degree</th>\n",
       "      <th>Molecular Weight</th>\n",
       "      <th>Number of H-Bond Donors</th>\n",
       "      <th>Number of Rings</th>\n",
       "      <th>Number of Rotatable Bonds</th>\n",
       "      <th>Polar Surface Area</th>\n",
       "    </tr>\n",
       "  </thead>\n",
       "  <tbody>\n",
       "    <tr>\n",
       "      <th>0</th>\n",
       "      <td>1</td>\n",
       "      <td>457.432</td>\n",
       "      <td>7</td>\n",
       "      <td>3</td>\n",
       "      <td>7</td>\n",
       "      <td>202.32</td>\n",
       "    </tr>\n",
       "    <tr>\n",
       "      <th>1</th>\n",
       "      <td>1</td>\n",
       "      <td>201.225</td>\n",
       "      <td>1</td>\n",
       "      <td>2</td>\n",
       "      <td>2</td>\n",
       "      <td>42.24</td>\n",
       "    </tr>\n",
       "    <tr>\n",
       "      <th>2</th>\n",
       "      <td>1</td>\n",
       "      <td>152.237</td>\n",
       "      <td>0</td>\n",
       "      <td>0</td>\n",
       "      <td>4</td>\n",
       "      <td>17.07</td>\n",
       "    </tr>\n",
       "    <tr>\n",
       "      <th>3</th>\n",
       "      <td>2</td>\n",
       "      <td>278.354</td>\n",
       "      <td>0</td>\n",
       "      <td>5</td>\n",
       "      <td>0</td>\n",
       "      <td>0.00</td>\n",
       "    </tr>\n",
       "    <tr>\n",
       "      <th>4</th>\n",
       "      <td>2</td>\n",
       "      <td>84.143</td>\n",
       "      <td>0</td>\n",
       "      <td>1</td>\n",
       "      <td>0</td>\n",
       "      <td>0.00</td>\n",
       "    </tr>\n",
       "  </tbody>\n",
       "</table>\n",
       "</div>"
      ],
      "text/plain": [
       "   Minimum Degree  Molecular Weight  Number of H-Bond Donors  Number of Rings  \\\n",
       "0               1           457.432                        7                3   \n",
       "1               1           201.225                        1                2   \n",
       "2               1           152.237                        0                0   \n",
       "3               2           278.354                        0                5   \n",
       "4               2            84.143                        0                1   \n",
       "\n",
       "   Number of Rotatable Bonds  Polar Surface Area  \n",
       "0                          7              202.32  \n",
       "1                          2               42.24  \n",
       "2                          4               17.07  \n",
       "3                          0                0.00  \n",
       "4                          0                0.00  "
      ]
     },
     "execution_count": 4,
     "metadata": {},
     "output_type": "execute_result"
    }
   ],
   "source": [
    "# Get X and Y values as NumPy arrays\n",
    "X = df.iloc[:, 2:8]\n",
    "X.head()"
   ]
  },
  {
   "cell_type": "code",
   "execution_count": 5,
   "id": "b113c2ea",
   "metadata": {},
   "outputs": [
    {
     "data": {
      "text/plain": [
       "0   -0.77\n",
       "1   -3.30\n",
       "2   -2.06\n",
       "3   -7.87\n",
       "4   -1.33\n",
       "Name: measured log solubility in mols per litre, dtype: float64"
      ]
     },
     "execution_count": 5,
     "metadata": {},
     "output_type": "execute_result"
    }
   ],
   "source": [
    "Y = df[\"measured log solubility in mols per litre\"]\n",
    "Y.head()"
   ]
  },
  {
   "cell_type": "code",
   "execution_count": 6,
   "id": "e5e78d62",
   "metadata": {},
   "outputs": [],
   "source": [
    "X = X.to_numpy()\n",
    "Y = Y.to_numpy()"
   ]
  },
  {
   "cell_type": "markdown",
   "id": "bb8310f1",
   "metadata": {},
   "source": [
    "### Fitting the linear model"
   ]
  },
  {
   "cell_type": "code",
   "execution_count": 7,
   "id": "935e7ac1",
   "metadata": {},
   "outputs": [],
   "source": [
    "regression = LinearRegression().fit(X, Y)"
   ]
  },
  {
   "cell_type": "code",
   "execution_count": 8,
   "id": "142a2de5",
   "metadata": {},
   "outputs": [
    {
     "data": {
      "text/plain": [
       "array([-0.49921068, -0.01362162,  0.07281654, -0.41338402, -0.14337233,\n",
       "        0.03159255])"
      ]
     },
     "execution_count": 8,
     "metadata": {},
     "output_type": "execute_result"
    }
   ],
   "source": [
    "regression.coef_"
   ]
  },
  {
   "cell_type": "markdown",
   "id": "b1299958",
   "metadata": {},
   "source": [
    "### Using the model to predict values"
   ]
  },
  {
   "cell_type": "code",
   "execution_count": 9,
   "id": "455c4473",
   "metadata": {},
   "outputs": [],
   "source": [
    "predicted = regression.predict(X)"
   ]
  },
  {
   "cell_type": "code",
   "execution_count": 10,
   "id": "951a986c",
   "metadata": {},
   "outputs": [],
   "source": [
    "df[\"multiple_regression\"] = predicted"
   ]
  },
  {
   "cell_type": "code",
   "execution_count": 11,
   "id": "89f63c4f",
   "metadata": {},
   "outputs": [
    {
     "data": {
      "text/html": [
       "<div>\n",
       "<style scoped>\n",
       "    .dataframe tbody tr th:only-of-type {\n",
       "        vertical-align: middle;\n",
       "    }\n",
       "\n",
       "    .dataframe tbody tr th {\n",
       "        vertical-align: top;\n",
       "    }\n",
       "\n",
       "    .dataframe thead th {\n",
       "        text-align: right;\n",
       "    }\n",
       "</style>\n",
       "<table border=\"1\" class=\"dataframe\">\n",
       "  <thead>\n",
       "    <tr style=\"text-align: right;\">\n",
       "      <th></th>\n",
       "      <th>Compound ID</th>\n",
       "      <th>ESOL predicted log solubility in mols per litre</th>\n",
       "      <th>Minimum Degree</th>\n",
       "      <th>Molecular Weight</th>\n",
       "      <th>Number of H-Bond Donors</th>\n",
       "      <th>Number of Rings</th>\n",
       "      <th>Number of Rotatable Bonds</th>\n",
       "      <th>Polar Surface Area</th>\n",
       "      <th>measured log solubility in mols per litre</th>\n",
       "      <th>smiles</th>\n",
       "      <th>multiple_regression</th>\n",
       "    </tr>\n",
       "  </thead>\n",
       "  <tbody>\n",
       "    <tr>\n",
       "      <th>0</th>\n",
       "      <td>Amigdalin</td>\n",
       "      <td>-0.974</td>\n",
       "      <td>1</td>\n",
       "      <td>457.432</td>\n",
       "      <td>7</td>\n",
       "      <td>3</td>\n",
       "      <td>7</td>\n",
       "      <td>202.32</td>\n",
       "      <td>-0.77</td>\n",
       "      <td>OCC3OC(OCC2OC(OC(C#N)c1ccccc1)C(O)C(O)C2O)C(O)...</td>\n",
       "      <td>-2.081763</td>\n",
       "    </tr>\n",
       "    <tr>\n",
       "      <th>1</th>\n",
       "      <td>Fenfuram</td>\n",
       "      <td>-2.885</td>\n",
       "      <td>1</td>\n",
       "      <td>201.225</td>\n",
       "      <td>1</td>\n",
       "      <td>2</td>\n",
       "      <td>2</td>\n",
       "      <td>42.24</td>\n",
       "      <td>-3.30</td>\n",
       "      <td>Cc1occc1C(=O)Nc2ccccc2</td>\n",
       "      <td>-2.955797</td>\n",
       "    </tr>\n",
       "    <tr>\n",
       "      <th>2</th>\n",
       "      <td>citral</td>\n",
       "      <td>-2.579</td>\n",
       "      <td>1</td>\n",
       "      <td>152.237</td>\n",
       "      <td>0</td>\n",
       "      <td>0</td>\n",
       "      <td>4</td>\n",
       "      <td>17.07</td>\n",
       "      <td>-2.06</td>\n",
       "      <td>CC(C)=CCCC(C)=CC(=O)</td>\n",
       "      <td>-2.616479</td>\n",
       "    </tr>\n",
       "    <tr>\n",
       "      <th>3</th>\n",
       "      <td>Picene</td>\n",
       "      <td>-6.618</td>\n",
       "      <td>2</td>\n",
       "      <td>278.354</td>\n",
       "      <td>0</td>\n",
       "      <td>5</td>\n",
       "      <td>0</td>\n",
       "      <td>0.00</td>\n",
       "      <td>-7.87</td>\n",
       "      <td>c1ccc2c(c1)ccc3c2ccc4c5ccccc5ccc43</td>\n",
       "      <td>-6.866323</td>\n",
       "    </tr>\n",
       "    <tr>\n",
       "      <th>4</th>\n",
       "      <td>Thiophene</td>\n",
       "      <td>-2.232</td>\n",
       "      <td>2</td>\n",
       "      <td>84.143</td>\n",
       "      <td>0</td>\n",
       "      <td>1</td>\n",
       "      <td>0</td>\n",
       "      <td>0.00</td>\n",
       "      <td>-1.33</td>\n",
       "      <td>c1ccsc1</td>\n",
       "      <td>-2.567318</td>\n",
       "    </tr>\n",
       "  </tbody>\n",
       "</table>\n",
       "</div>"
      ],
      "text/plain": [
       "  Compound ID  ESOL predicted log solubility in mols per litre  \\\n",
       "0   Amigdalin                                           -0.974   \n",
       "1    Fenfuram                                           -2.885   \n",
       "2      citral                                           -2.579   \n",
       "3      Picene                                           -6.618   \n",
       "4   Thiophene                                           -2.232   \n",
       "\n",
       "   Minimum Degree  Molecular Weight  Number of H-Bond Donors  Number of Rings  \\\n",
       "0               1           457.432                        7                3   \n",
       "1               1           201.225                        1                2   \n",
       "2               1           152.237                        0                0   \n",
       "3               2           278.354                        0                5   \n",
       "4               2            84.143                        0                1   \n",
       "\n",
       "   Number of Rotatable Bonds  Polar Surface Area  \\\n",
       "0                          7              202.32   \n",
       "1                          2               42.24   \n",
       "2                          4               17.07   \n",
       "3                          0                0.00   \n",
       "4                          0                0.00   \n",
       "\n",
       "   measured log solubility in mols per litre  \\\n",
       "0                                      -0.77   \n",
       "1                                      -3.30   \n",
       "2                                      -2.06   \n",
       "3                                      -7.87   \n",
       "4                                      -1.33   \n",
       "\n",
       "                                              smiles  multiple_regression  \n",
       "0  OCC3OC(OCC2OC(OC(C#N)c1ccccc1)C(O)C(O)C2O)C(O)...            -2.081763  \n",
       "1                             Cc1occc1C(=O)Nc2ccccc2            -2.955797  \n",
       "2                               CC(C)=CCCC(C)=CC(=O)            -2.616479  \n",
       "3                 c1ccc2c(c1)ccc3c2ccc4c5ccccc5ccc43            -6.866323  \n",
       "4                                            c1ccsc1            -2.567318  "
      ]
     },
     "execution_count": 11,
     "metadata": {},
     "output_type": "execute_result"
    }
   ],
   "source": [
    "df.head()"
   ]
  },
  {
   "cell_type": "markdown",
   "id": "66a39683",
   "metadata": {},
   "source": [
    "### Computing $r^2$ score"
   ]
  },
  {
   "cell_type": "code",
   "execution_count": 12,
   "id": "55c2abc8",
   "metadata": {},
   "outputs": [],
   "source": [
    "from sklearn.metrics import r2_score"
   ]
  },
  {
   "cell_type": "code",
   "execution_count": 13,
   "id": "21de9da9",
   "metadata": {},
   "outputs": [
    {
     "data": {
      "text/plain": [
       "0.6856666003196058"
      ]
     },
     "execution_count": 13,
     "metadata": {},
     "output_type": "execute_result"
    }
   ],
   "source": [
    "r2_score(Y, predicted)"
   ]
  },
  {
   "cell_type": "code",
   "execution_count": 14,
   "id": "1df9f7be",
   "metadata": {},
   "outputs": [
    {
     "name": "stdout",
     "output_type": "stream",
     "text": [
      "Help on function r2_score in module sklearn.metrics._regression:\n",
      "\n",
      "r2_score(y_true, y_pred, *, sample_weight=None, multioutput='uniform_average')\n",
      "    R^2 (coefficient of determination) regression score function.\n",
      "    \n",
      "    Best possible score is 1.0 and it can be negative (because the\n",
      "    model can be arbitrarily worse). A constant model that always\n",
      "    predicts the expected value of y, disregarding the input features,\n",
      "    would get a R^2 score of 0.0.\n",
      "    \n",
      "    Read more in the :ref:`User Guide <r2_score>`.\n",
      "    \n",
      "    Parameters\n",
      "    ----------\n",
      "    y_true : array-like of shape (n_samples,) or (n_samples, n_outputs)\n",
      "        Ground truth (correct) target values.\n",
      "    \n",
      "    y_pred : array-like of shape (n_samples,) or (n_samples, n_outputs)\n",
      "        Estimated target values.\n",
      "    \n",
      "    sample_weight : array-like of shape (n_samples,), default=None\n",
      "        Sample weights.\n",
      "    \n",
      "    multioutput : {'raw_values', 'uniform_average', 'variance_weighted'},             array-like of shape (n_outputs,) or None, default='uniform_average'\n",
      "    \n",
      "        Defines aggregating of multiple output scores.\n",
      "        Array-like value defines weights used to average scores.\n",
      "        Default is \"uniform_average\".\n",
      "    \n",
      "        'raw_values' :\n",
      "            Returns a full set of scores in case of multioutput input.\n",
      "    \n",
      "        'uniform_average' :\n",
      "            Scores of all outputs are averaged with uniform weight.\n",
      "    \n",
      "        'variance_weighted' :\n",
      "            Scores of all outputs are averaged, weighted by the variances\n",
      "            of each individual output.\n",
      "    \n",
      "        .. versionchanged:: 0.19\n",
      "            Default value of multioutput is 'uniform_average'.\n",
      "    \n",
      "    Returns\n",
      "    -------\n",
      "    z : float or ndarray of floats\n",
      "        The R^2 score or ndarray of scores if 'multioutput' is\n",
      "        'raw_values'.\n",
      "    \n",
      "    Notes\n",
      "    -----\n",
      "    This is not a symmetric function.\n",
      "    \n",
      "    Unlike most other scores, R^2 score may be negative (it need not actually\n",
      "    be the square of a quantity R).\n",
      "    \n",
      "    This metric is not well-defined for single samples and will return a NaN\n",
      "    value if n_samples is less than two.\n",
      "    \n",
      "    References\n",
      "    ----------\n",
      "    .. [1] `Wikipedia entry on the Coefficient of determination\n",
      "            <https://en.wikipedia.org/wiki/Coefficient_of_determination>`_\n",
      "    \n",
      "    Examples\n",
      "    --------\n",
      "    >>> from sklearn.metrics import r2_score\n",
      "    >>> y_true = [3, -0.5, 2, 7]\n",
      "    >>> y_pred = [2.5, 0.0, 2, 8]\n",
      "    >>> r2_score(y_true, y_pred)\n",
      "    0.948...\n",
      "    >>> y_true = [[0.5, 1], [-1, 1], [7, -6]]\n",
      "    >>> y_pred = [[0, 2], [-1, 2], [8, -5]]\n",
      "    >>> r2_score(y_true, y_pred,\n",
      "    ...          multioutput='variance_weighted')\n",
      "    0.938...\n",
      "    >>> y_true = [1, 2, 3]\n",
      "    >>> y_pred = [1, 2, 3]\n",
      "    >>> r2_score(y_true, y_pred)\n",
      "    1.0\n",
      "    >>> y_true = [1, 2, 3]\n",
      "    >>> y_pred = [2, 2, 2]\n",
      "    >>> r2_score(y_true, y_pred)\n",
      "    0.0\n",
      "    >>> y_true = [1, 2, 3]\n",
      "    >>> y_pred = [3, 2, 1]\n",
      "    >>> r2_score(y_true, y_pred)\n",
      "    -3.0\n",
      "\n"
     ]
    }
   ],
   "source": [
    "help(r2_score)"
   ]
  },
  {
   "cell_type": "markdown",
   "id": "6273fbc8",
   "metadata": {},
   "source": [
    "## Exercise 2 - Regular Expressions\n",
    "\n",
    "Parse the file `SBE-b-CD-data.sdf` in your `data` folder using regular expressions. \n",
    "\n",
    "The SDF file contains information for 220 molecules. For each molecule, there is a section which looks like this:\n",
    "\n",
    "```\n",
    ">  <ID>\n",
    "(-)__Sulpiride\n",
    "\n",
    ">  <Temperature_K>\n",
    "293\n",
    "\n",
    ">  <Kapp>\n",
    "35\n",
    "```"
   ]
  },
  {
   "cell_type": "markdown",
   "id": "d210a3a0",
   "metadata": {},
   "source": [
    "### Loading the data\n",
    "\n",
    "For this homework  thwe recommend you read in the file using `open` function. We recommend this because the file is irregular, it is not just a table. Additionally, the assignment is to use regular expressions which work on strings. When you use `with open` then use `.read` the entire file contents will be in one string. Do note that if your data is tabular and contains text, you can still [use regular expressions in pandas dataframes](https://pandas.pydata.org/docs/user_guide/text.html). The question of strategies for opening a file and the question of using regular expressions are not related. You should choose the best option to open a file based on the file structure, and the best option for text processing based on what you're looking for.\n",
    "\n",
    "Notably, there are other options you might use with `open`. You could also use `readlines` (will put each line into a list, or `readline` to read a single line at a time."
   ]
  },
  {
   "cell_type": "code",
   "execution_count": 15,
   "id": "cf893af7",
   "metadata": {},
   "outputs": [],
   "source": [
    "import re"
   ]
  },
  {
   "cell_type": "code",
   "execution_count": 16,
   "id": "668692ab",
   "metadata": {},
   "outputs": [],
   "source": [
    "with open(\"data/SBE-b-CD-data.sdf\") as f:\n",
    "    data = f.read()"
   ]
  },
  {
   "cell_type": "code",
   "execution_count": 17,
   "id": "b9de3f95",
   "metadata": {},
   "outputs": [
    {
     "data": {
      "text/plain": [
       "str"
      ]
     },
     "execution_count": 17,
     "metadata": {},
     "output_type": "execute_result"
    }
   ],
   "source": [
    "type(data)"
   ]
  },
  {
   "cell_type": "code",
   "execution_count": 18,
   "id": "19f2ba63",
   "metadata": {},
   "outputs": [
    {
     "name": "stdout",
     "output_type": "stream",
     "text": [
      "(-)__Sulpiride\n",
      "  Marvin  01071110562D\n",
      " \n",
      " 23 24  0  0  0  0  0  0  0  0999 V2000\n",
      "    0.3200    0.2956    0.0000 C   0  0  3  0  0  0  0  0  0  0  0  0\n",
      "    1.1450    0.2956    0.0000 C   0  0  3  0  0  0  0  0  0  0  0  0\n",
      "    1.5575    1.0101    0.0000 C   0  0  3  0  0  0  0  0  0  0  0  0\n",
      "    2.3824    1.0101    0.0000 C   0  0  0  0  0  0  0  0  0  0  0  0\n",
      "    2.7949    0.2956    0.0000 C   0  0  0  0  0  0  0  0  0  0  0  0\n",
      "    2.3824   -0.4189    0.0000 C   0  0  3  0  0  0  0  0  0  0  0  0\n",
      "\n"
     ]
    }
   ],
   "source": [
    "# Preview the first 500 characters\n",
    "print(data[:500])"
   ]
  },
  {
   "cell_type": "markdown",
   "id": "57f3938e",
   "metadata": {},
   "source": [
    "### Composing our regular expression\n",
    "\n",
    "Now we will write our regular expression. To do a proof of concept on this, I would recommend constructing your regular expression using part of the file and [pythex](https://pythex.org/) as a proof of concept.\n",
    "\n",
    "Let's break down the rules for what we're looking for then translate that into regular expression characters.\n",
    "\n",
    "\n",
    "```\n",
    ">  <ID>\n",
    "(-)__Sulpiride\n",
    "\n",
    ">  <Temperature_K>\n",
    "293\n",
    "\n",
    ">  <Kapp>\n",
    "35\n",
    "```\n",
    "\n",
    "\n",
    "- Notice that these all follow the pattern of `<PROPERTY>`, a line break and then the value. Let's write a regular expression to get this kind of group. For `PROPERTY`, what we are looking for is mostly words, along with a _ for `Temperature_K`.\n",
    "\n",
    "Let's first write an expression for getting `<PROPERTY>`. We want characters and `_` to be between `<>` We could write `[A-Za-z]` to indicate any letter A-Z of any case. You can add a `_` to also have this be a valid character.\n",
    "\n",
    "`<[A-Za-z_]>`\n",
    "\n",
    "This pattern will not match anything because as written it will only look for a single letter between the the brackets. To say that there should be more than one character, add `+` to the end. Note that you could have also used `.` instead of `[A-Za-z_]` to indicate that you would accept *any* character. For our case, this will have an effect on our results. If we had numbers (like `<Kapp_2>`) the first pattern would not find the key, while the second would."
   ]
  },
  {
   "cell_type": "code",
   "execution_count": 63,
   "id": "1142c75f",
   "metadata": {},
   "outputs": [],
   "source": [
    "pattern = re.compile('<[A-Za-z_]+>')"
   ]
  },
  {
   "cell_type": "code",
   "execution_count": 64,
   "id": "dc1c5017",
   "metadata": {},
   "outputs": [
    {
     "data": {
      "text/plain": [
       "['<ID>',\n",
       " '<Temperature_K>',\n",
       " '<Kapp>',\n",
       " '<ID>',\n",
       " '<Temperature_K>',\n",
       " '<Kapp>',\n",
       " '<ID>',\n",
       " '<Temperature_K>',\n",
       " '<Kapp>',\n",
       " '<ID>',\n",
       " '<Temperature_K>',\n",
       " '<Kapp>',\n",
       " '<ID>',\n",
       " '<Temperature_K>',\n",
       " '<Kapp>',\n",
       " '<ID>',\n",
       " '<Temperature_K>',\n",
       " '<Kapp>',\n",
       " '<ID>',\n",
       " '<Temperature_K>']"
      ]
     },
     "execution_count": 64,
     "metadata": {},
     "output_type": "execute_result"
    }
   ],
   "source": [
    "found = pattern.findall(data)\n",
    "\n",
    "# Show first 20 found\n",
    "found[:20]"
   ]
  },
  {
   "cell_type": "markdown",
   "id": "e7f9fbcd",
   "metadata": {},
   "source": [
    "Next, we'll add in to look for a newline. On the following line, we would like to get the value. We'll specify this should be any character up to the next line (`.`). Recall that the period `.` represents any character except a line break. Use the plust modifier to indicate more than one character."
   ]
  },
  {
   "cell_type": "code",
   "execution_count": 65,
   "id": "ee391fa4",
   "metadata": {},
   "outputs": [],
   "source": [
    "pattern = re.compile('<[A-Za-z_]+>\\n.+')"
   ]
  },
  {
   "cell_type": "code",
   "execution_count": 66,
   "id": "0eda3a40",
   "metadata": {},
   "outputs": [
    {
     "data": {
      "text/plain": [
       "['<ID>\\n(-)__Sulpiride',\n",
       " '<Temperature_K>\\n293',\n",
       " '<Kapp>\\n35',\n",
       " '<ID>\\n1-naphthol',\n",
       " '<Temperature_K>\\n298',\n",
       " '<Kapp>\\n1720.0',\n",
       " '<ID>\\n1-naphthylamine',\n",
       " '<Temperature_K>\\n293',\n",
       " '<Kapp>\\n518',\n",
       " '<ID>\\n1-phenylpyrrole',\n",
       " '<Temperature_K>\\n293',\n",
       " '<Kapp>\\n555',\n",
       " '<ID>\\n17-a-methyltestosterone',\n",
       " '<Temperature_K>\\n298',\n",
       " '<Kapp>\\n12933',\n",
       " '<ID>\\n1_2_3-Trichlorobenzene',\n",
       " '<Temperature_K>\\n293',\n",
       " '<Kapp>\\n31567',\n",
       " '<ID>\\n2-(1-Adamantyl)-4-methylphenol',\n",
       " '<Temperature_K>\\n293']"
      ]
     },
     "execution_count": 66,
     "metadata": {},
     "output_type": "execute_result"
    }
   ],
   "source": [
    "found = pattern.findall(data)\n",
    "found[:20]"
   ]
  },
  {
   "cell_type": "markdown",
   "id": "04b0b9ab",
   "metadata": {},
   "source": [
    "Finally, we'll add parenthesis to group the parts we would like to keep. Put parenthesis around `[A-Za-z_]+` and `.+` to get the property name and value in different groups."
   ]
  },
  {
   "cell_type": "code",
   "execution_count": 67,
   "id": "c1ab02e3",
   "metadata": {},
   "outputs": [],
   "source": [
    "pattern = re.compile('<([A-Za-z_]+)>\\n(.+)')"
   ]
  },
  {
   "cell_type": "code",
   "execution_count": 68,
   "id": "4213075a",
   "metadata": {},
   "outputs": [
    {
     "data": {
      "text/plain": [
       "[('ID', '(-)__Sulpiride'),\n",
       " ('Temperature_K', '293'),\n",
       " ('Kapp', '35'),\n",
       " ('ID', '1-naphthol'),\n",
       " ('Temperature_K', '298'),\n",
       " ('Kapp', '1720.0'),\n",
       " ('ID', '1-naphthylamine'),\n",
       " ('Temperature_K', '293'),\n",
       " ('Kapp', '518'),\n",
       " ('ID', '1-phenylpyrrole'),\n",
       " ('Temperature_K', '293'),\n",
       " ('Kapp', '555'),\n",
       " ('ID', '17-a-methyltestosterone'),\n",
       " ('Temperature_K', '298'),\n",
       " ('Kapp', '12933'),\n",
       " ('ID', '1_2_3-Trichlorobenzene'),\n",
       " ('Temperature_K', '293'),\n",
       " ('Kapp', '31567'),\n",
       " ('ID', '2-(1-Adamantyl)-4-methylphenol'),\n",
       " ('Temperature_K', '293')]"
      ]
     },
     "execution_count": 68,
     "metadata": {},
     "output_type": "execute_result"
    }
   ],
   "source": [
    "found = pattern.findall(data)\n",
    "found[:20]"
   ]
  },
  {
   "cell_type": "markdown",
   "id": "c0abcb69",
   "metadata": {},
   "source": [
    "## Exercise 3 - Bonus\n",
    "\n",
    "This exercise directs you how to retrieve papers from ChemRxiv (chemistry preprint server) using their REST API. Your task is then to do some processing in pandas to retrieve article abstracts, then to look for phrases in the abstract using regular expressions. This homework requires learning some extra material, so it is a bonus.\n",
    "\n",
    "First, you can use the Python `requests` module (part of the Python Standard Library) to query the rest API for ChemRxiv. This is the URL we will go to. If you visit this url in your browser, you will get a list of the 100 most recent papers uploaded to ChemRxiv.\n",
    "\n",
    "`https://api.figshare.com/v2/articles?institution=259&page_size=100`\n",
    "\n",
    "To retrieve this information using Python, do\n",
    "\n",
    "```python\n",
    "import requests\n",
    "\n",
    "results = requests.get('https://api.figshare.com/v2/articles?institution=259&page_size=100')\n",
    "```\n",
    "\n",
    "The 'payload' of this is stored in `results.json()`. This is where the information which you see in your browser. You can convert what you've retrieved into a dataframe by doing `df = pd.DataFrame(results.json())`.\n",
    "\n",
    "You can retrieve the abstracts by calling `requests.get` on the `url` for each paper. Save this in a column called `detail`. This step will take a while to execute.\n",
    "\n",
    "After retrieving the details, you must get the json and retreive the \"description\" field. You can write a custom function which does this and apply it to the `detail` column.\n",
    "\n",
    "Next, use [pandas str contains](https://pandas.pydata.org/docs/reference/api/pandas.Series.str.contains.html) to search the abstract for phrases of interest. We suggest trying out machine/deep learning. Your results will vary since it will always grab the 100 most recently uploaded papers!"
   ]
  },
  {
   "cell_type": "code",
   "execution_count": 35,
   "id": "ae361c68",
   "metadata": {},
   "outputs": [],
   "source": [
    "import requests"
   ]
  },
  {
   "cell_type": "code",
   "execution_count": 36,
   "id": "614dce6c",
   "metadata": {},
   "outputs": [],
   "source": [
    "results = requests.get('https://api.figshare.com/v2/articles?institution=259&page_size=100')"
   ]
  },
  {
   "cell_type": "code",
   "execution_count": 38,
   "id": "addbe957",
   "metadata": {},
   "outputs": [],
   "source": [
    "df = pd.DataFrame(results.json())"
   ]
  },
  {
   "cell_type": "code",
   "execution_count": 39,
   "id": "33dc7cef",
   "metadata": {},
   "outputs": [
    {
     "data": {
      "text/html": [
       "<div>\n",
       "<style scoped>\n",
       "    .dataframe tbody tr th:only-of-type {\n",
       "        vertical-align: middle;\n",
       "    }\n",
       "\n",
       "    .dataframe tbody tr th {\n",
       "        vertical-align: top;\n",
       "    }\n",
       "\n",
       "    .dataframe thead th {\n",
       "        text-align: right;\n",
       "    }\n",
       "</style>\n",
       "<table border=\"1\" class=\"dataframe\">\n",
       "  <thead>\n",
       "    <tr style=\"text-align: right;\">\n",
       "      <th></th>\n",
       "      <th>defined_type_name</th>\n",
       "      <th>handle</th>\n",
       "      <th>url_private_html</th>\n",
       "      <th>timeline</th>\n",
       "      <th>url_private_api</th>\n",
       "      <th>url_public_api</th>\n",
       "      <th>id</th>\n",
       "      <th>doi</th>\n",
       "      <th>thumb</th>\n",
       "      <th>title</th>\n",
       "      <th>url</th>\n",
       "      <th>defined_type</th>\n",
       "      <th>resource_title</th>\n",
       "      <th>url_public_html</th>\n",
       "      <th>resource_doi</th>\n",
       "      <th>published_date</th>\n",
       "      <th>group_id</th>\n",
       "    </tr>\n",
       "  </thead>\n",
       "  <tbody>\n",
       "    <tr>\n",
       "      <th>0</th>\n",
       "      <td>preprint</td>\n",
       "      <td></td>\n",
       "      <td>https://figshare.com/account/articles/14579535</td>\n",
       "      <td>{'revision': '2021-05-14T07:58:17', 'firstOnli...</td>\n",
       "      <td>https://api.figshare.com/v2/account/articles/1...</td>\n",
       "      <td>https://api.figshare.com/v2/articles/14579535</td>\n",
       "      <td>14579535</td>\n",
       "      <td>10.26434/chemrxiv.14579535.v1</td>\n",
       "      <td>https://s3-eu-west-1.amazonaws.com/ppreviews-c...</td>\n",
       "      <td>Screening of Influenza a (H1N1) Neuraminidase ...</td>\n",
       "      <td>https://api.figshare.com/v2/articles/14579535</td>\n",
       "      <td>12</td>\n",
       "      <td></td>\n",
       "      <td>https://chemrxiv.org/articles/preprint/Screeni...</td>\n",
       "      <td></td>\n",
       "      <td>2021-05-14T07:58:15Z</td>\n",
       "      <td>13668</td>\n",
       "    </tr>\n",
       "    <tr>\n",
       "      <th>1</th>\n",
       "      <td>preprint</td>\n",
       "      <td></td>\n",
       "      <td>https://figshare.com/account/articles/14587656</td>\n",
       "      <td>{'revision': '2021-05-13T13:11:44', 'firstOnli...</td>\n",
       "      <td>https://api.figshare.com/v2/account/articles/1...</td>\n",
       "      <td>https://api.figshare.com/v2/articles/14587656</td>\n",
       "      <td>14587656</td>\n",
       "      <td>10.26434/chemrxiv.14587656.v1</td>\n",
       "      <td>https://s3-eu-west-1.amazonaws.com/ppreviews-c...</td>\n",
       "      <td>COVID-19: The CaMKII_Like System of S Protein ...</td>\n",
       "      <td>https://api.figshare.com/v2/articles/14587656</td>\n",
       "      <td>12</td>\n",
       "      <td></td>\n",
       "      <td>https://chemrxiv.org/articles/preprint/COVID-1...</td>\n",
       "      <td></td>\n",
       "      <td>2021-05-13T13:11:31Z</td>\n",
       "      <td>13668</td>\n",
       "    </tr>\n",
       "    <tr>\n",
       "      <th>2</th>\n",
       "      <td>preprint</td>\n",
       "      <td></td>\n",
       "      <td>https://figshare.com/account/articles/14587401</td>\n",
       "      <td>{'revision': '2021-05-13T13:04:54', 'firstOnli...</td>\n",
       "      <td>https://api.figshare.com/v2/account/articles/1...</td>\n",
       "      <td>https://api.figshare.com/v2/articles/14587401</td>\n",
       "      <td>14587401</td>\n",
       "      <td>10.26434/chemrxiv.14587401.v1</td>\n",
       "      <td>https://s3-eu-west-1.amazonaws.com/ppreviews-c...</td>\n",
       "      <td>DoE Optimization Empowers the Automated Prepar...</td>\n",
       "      <td>https://api.figshare.com/v2/articles/14587401</td>\n",
       "      <td>12</td>\n",
       "      <td></td>\n",
       "      <td>https://chemrxiv.org/articles/preprint/DoE_Opt...</td>\n",
       "      <td></td>\n",
       "      <td>2021-05-13T13:04:51Z</td>\n",
       "      <td>13668</td>\n",
       "    </tr>\n",
       "    <tr>\n",
       "      <th>3</th>\n",
       "      <td>preprint</td>\n",
       "      <td></td>\n",
       "      <td>https://figshare.com/account/articles/14585934</td>\n",
       "      <td>{'revision': '2021-05-13T12:57:08', 'firstOnli...</td>\n",
       "      <td>https://api.figshare.com/v2/account/articles/1...</td>\n",
       "      <td>https://api.figshare.com/v2/articles/14585934</td>\n",
       "      <td>14585934</td>\n",
       "      <td>10.26434/chemrxiv.14585934.v1</td>\n",
       "      <td>https://s3-eu-west-1.amazonaws.com/ppreviews-c...</td>\n",
       "      <td>A Quantitative Metric for Organic Radical Pers...</td>\n",
       "      <td>https://api.figshare.com/v2/articles/14585934</td>\n",
       "      <td>12</td>\n",
       "      <td></td>\n",
       "      <td>https://chemrxiv.org/articles/preprint/A_Quant...</td>\n",
       "      <td></td>\n",
       "      <td>2021-05-13T12:57:04Z</td>\n",
       "      <td>13668</td>\n",
       "    </tr>\n",
       "    <tr>\n",
       "      <th>4</th>\n",
       "      <td>preprint</td>\n",
       "      <td></td>\n",
       "      <td>https://figshare.com/account/articles/14052293</td>\n",
       "      <td>{'revision': '2021-05-13T09:26:26', 'firstOnli...</td>\n",
       "      <td>https://api.figshare.com/v2/account/articles/1...</td>\n",
       "      <td>https://api.figshare.com/v2/articles/14052293</td>\n",
       "      <td>14052293</td>\n",
       "      <td>10.26434/chemrxiv.14052293.v3</td>\n",
       "      <td>https://s3-eu-west-1.amazonaws.com/ppreviews-c...</td>\n",
       "      <td>Mixed Chirality α-Helix in a Stapled Bicyclic ...</td>\n",
       "      <td>https://api.figshare.com/v2/articles/14052293</td>\n",
       "      <td>12</td>\n",
       "      <td></td>\n",
       "      <td>https://chemrxiv.org/articles/preprint/Mixed_C...</td>\n",
       "      <td></td>\n",
       "      <td>2021-05-13T09:26:21Z</td>\n",
       "      <td>13668</td>\n",
       "    </tr>\n",
       "  </tbody>\n",
       "</table>\n",
       "</div>"
      ],
      "text/plain": [
       "  defined_type_name handle                                url_private_html  \\\n",
       "0          preprint         https://figshare.com/account/articles/14579535   \n",
       "1          preprint         https://figshare.com/account/articles/14587656   \n",
       "2          preprint         https://figshare.com/account/articles/14587401   \n",
       "3          preprint         https://figshare.com/account/articles/14585934   \n",
       "4          preprint         https://figshare.com/account/articles/14052293   \n",
       "\n",
       "                                            timeline  \\\n",
       "0  {'revision': '2021-05-14T07:58:17', 'firstOnli...   \n",
       "1  {'revision': '2021-05-13T13:11:44', 'firstOnli...   \n",
       "2  {'revision': '2021-05-13T13:04:54', 'firstOnli...   \n",
       "3  {'revision': '2021-05-13T12:57:08', 'firstOnli...   \n",
       "4  {'revision': '2021-05-13T09:26:26', 'firstOnli...   \n",
       "\n",
       "                                     url_private_api  \\\n",
       "0  https://api.figshare.com/v2/account/articles/1...   \n",
       "1  https://api.figshare.com/v2/account/articles/1...   \n",
       "2  https://api.figshare.com/v2/account/articles/1...   \n",
       "3  https://api.figshare.com/v2/account/articles/1...   \n",
       "4  https://api.figshare.com/v2/account/articles/1...   \n",
       "\n",
       "                                  url_public_api        id  \\\n",
       "0  https://api.figshare.com/v2/articles/14579535  14579535   \n",
       "1  https://api.figshare.com/v2/articles/14587656  14587656   \n",
       "2  https://api.figshare.com/v2/articles/14587401  14587401   \n",
       "3  https://api.figshare.com/v2/articles/14585934  14585934   \n",
       "4  https://api.figshare.com/v2/articles/14052293  14052293   \n",
       "\n",
       "                             doi  \\\n",
       "0  10.26434/chemrxiv.14579535.v1   \n",
       "1  10.26434/chemrxiv.14587656.v1   \n",
       "2  10.26434/chemrxiv.14587401.v1   \n",
       "3  10.26434/chemrxiv.14585934.v1   \n",
       "4  10.26434/chemrxiv.14052293.v3   \n",
       "\n",
       "                                               thumb  \\\n",
       "0  https://s3-eu-west-1.amazonaws.com/ppreviews-c...   \n",
       "1  https://s3-eu-west-1.amazonaws.com/ppreviews-c...   \n",
       "2  https://s3-eu-west-1.amazonaws.com/ppreviews-c...   \n",
       "3  https://s3-eu-west-1.amazonaws.com/ppreviews-c...   \n",
       "4  https://s3-eu-west-1.amazonaws.com/ppreviews-c...   \n",
       "\n",
       "                                               title  \\\n",
       "0  Screening of Influenza a (H1N1) Neuraminidase ...   \n",
       "1  COVID-19: The CaMKII_Like System of S Protein ...   \n",
       "2  DoE Optimization Empowers the Automated Prepar...   \n",
       "3  A Quantitative Metric for Organic Radical Pers...   \n",
       "4  Mixed Chirality α-Helix in a Stapled Bicyclic ...   \n",
       "\n",
       "                                             url  defined_type resource_title  \\\n",
       "0  https://api.figshare.com/v2/articles/14579535            12                  \n",
       "1  https://api.figshare.com/v2/articles/14587656            12                  \n",
       "2  https://api.figshare.com/v2/articles/14587401            12                  \n",
       "3  https://api.figshare.com/v2/articles/14585934            12                  \n",
       "4  https://api.figshare.com/v2/articles/14052293            12                  \n",
       "\n",
       "                                     url_public_html resource_doi  \\\n",
       "0  https://chemrxiv.org/articles/preprint/Screeni...                \n",
       "1  https://chemrxiv.org/articles/preprint/COVID-1...                \n",
       "2  https://chemrxiv.org/articles/preprint/DoE_Opt...                \n",
       "3  https://chemrxiv.org/articles/preprint/A_Quant...                \n",
       "4  https://chemrxiv.org/articles/preprint/Mixed_C...                \n",
       "\n",
       "         published_date  group_id  \n",
       "0  2021-05-14T07:58:15Z     13668  \n",
       "1  2021-05-13T13:11:31Z     13668  \n",
       "2  2021-05-13T13:04:51Z     13668  \n",
       "3  2021-05-13T12:57:04Z     13668  \n",
       "4  2021-05-13T09:26:21Z     13668  "
      ]
     },
     "execution_count": 39,
     "metadata": {},
     "output_type": "execute_result"
    }
   ],
   "source": [
    "df.head()"
   ]
  },
  {
   "cell_type": "code",
   "execution_count": 40,
   "id": "2d63ccb0",
   "metadata": {},
   "outputs": [],
   "source": [
    "df[\"detail\"] = df[\"url\"].apply(requests.get)"
   ]
  },
  {
   "cell_type": "code",
   "execution_count": 47,
   "id": "c2f227be",
   "metadata": {},
   "outputs": [],
   "source": [
    "def get_abstract(paper_detail):\n",
    "    abstract = paper_detail.json()[\"description\"]\n",
    "    return abstract"
   ]
  },
  {
   "cell_type": "code",
   "execution_count": 48,
   "id": "938f7c99",
   "metadata": {},
   "outputs": [],
   "source": [
    "df[\"abstract\"] = df[\"detail\"].apply(get_abstract)"
   ]
  },
  {
   "cell_type": "code",
   "execution_count": 49,
   "id": "44046015",
   "metadata": {},
   "outputs": [
    {
     "data": {
      "text/plain": [
       "0     <p>Due\\nto erratic climate change, vector-born...\n",
       "1     COVID-19 is a unique disease characterized by ...\n",
       "2     PARP inhibitors are proven chemotherapeutics a...\n",
       "3     <p>Long-lived organic radicals are promising c...\n",
       "4     <p></p><p>The\\npeptide α-helix is right-handed...\n",
       "                            ...                        \n",
       "95    <p>The use of enzymes for organic synthesis al...\n",
       "96    We prepared a new class of luciferins based on...\n",
       "97    <p>The functional diversity of the green fluor...\n",
       "98    <p>Lasso peptides are a structurally diverse s...\n",
       "99    The oxygen evolution reaction (OER) from water...\n",
       "Name: abstract, Length: 100, dtype: object"
      ]
     },
     "execution_count": 49,
     "metadata": {},
     "output_type": "execute_result"
    }
   ],
   "source": [
    "df[\"abstract\"]"
   ]
  },
  {
   "cell_type": "code",
   "execution_count": 53,
   "id": "fe96fcb8",
   "metadata": {},
   "outputs": [
    {
     "name": "stderr",
     "output_type": "stream",
     "text": [
      "/Users/jessica/miniconda3/envs/python-scripting-2/lib/python3.9/site-packages/pandas/core/strings/accessor.py:101: UserWarning: This pattern has match groups. To actually get the groups, use str.extract.\n",
      "  return func(self, *args, **kwargs)\n"
     ]
    }
   ],
   "source": [
    "# use str.contains to find strings in df which contain phrase. Regular expressions work with this function.\n",
    "ml_papers = df[df[\"abstract\"].str.contains(\"(machine|deep) learning\")]"
   ]
  },
  {
   "cell_type": "code",
   "execution_count": 54,
   "id": "ecf00878",
   "metadata": {},
   "outputs": [
    {
     "name": "stdout",
     "output_type": "stream",
     "text": [
      "<class 'pandas.core.frame.DataFrame'>\n",
      "Int64Index: 8 entries, 11 to 95\n",
      "Data columns (total 19 columns):\n",
      " #   Column             Non-Null Count  Dtype \n",
      "---  ------             --------------  ----- \n",
      " 0   defined_type_name  8 non-null      object\n",
      " 1   handle             8 non-null      object\n",
      " 2   url_private_html   8 non-null      object\n",
      " 3   timeline           8 non-null      object\n",
      " 4   url_private_api    8 non-null      object\n",
      " 5   url_public_api     8 non-null      object\n",
      " 6   id                 8 non-null      int64 \n",
      " 7   doi                8 non-null      object\n",
      " 8   thumb              8 non-null      object\n",
      " 9   title              8 non-null      object\n",
      " 10  url                8 non-null      object\n",
      " 11  defined_type       8 non-null      int64 \n",
      " 12  resource_title     8 non-null      object\n",
      " 13  url_public_html    8 non-null      object\n",
      " 14  resource_doi       8 non-null      object\n",
      " 15  published_date     8 non-null      object\n",
      " 16  group_id           8 non-null      int64 \n",
      " 17  detail             8 non-null      object\n",
      " 18  abstract           8 non-null      object\n",
      "dtypes: int64(3), object(16)\n",
      "memory usage: 1.2+ KB\n"
     ]
    }
   ],
   "source": [
    "ml_papers.info()"
   ]
  },
  {
   "cell_type": "code",
   "execution_count": 59,
   "id": "5d5ea987",
   "metadata": {},
   "outputs": [
    {
     "data": {
      "text/plain": [
       "11    Asymmetric catalysis enabling divergent contro...\n",
       "28    For CO* and H* binding energy prediction, we d...\n",
       "37    Lithium-ion batteries (LIBs) represent the sta...\n",
       "42    <p></p><p>Enclosed you will find the article e...\n",
       "59    <p>Application of deep learning techniques for...\n",
       "78    <div>MOFs and COFs are porous materials with a...\n",
       "80    <p></p><p>The accurate description of protein ...\n",
       "95    <p>The use of enzymes for organic synthesis al...\n",
       "Name: abstract, dtype: object"
      ]
     },
     "execution_count": 59,
     "metadata": {},
     "output_type": "execute_result"
    }
   ],
   "source": [
    "ml_papers[\"abstract\"]"
   ]
  },
  {
   "cell_type": "code",
   "execution_count": 73,
   "id": "80b1fdca",
   "metadata": {},
   "outputs": [
    {
     "data": {
      "text/plain": [
       "'Lithium-ion batteries (LIBs) represent the state of the art in high-density energy storage. To further advance LIB technology, a fundamental understanding of the underlying chemical processes is required. In particular, the decomposition of electrolyte species and associated formation of the solid electrolyte interphase (SEI) is critical for LIB performance. However, SEI formation is poorly understood, in part due to insufficient exploration of the vast reactive space.  The Lithium-Ion Battery Electrolyte(LIBE) dataset reported here aims to provide accurate first-principles data to improve the understanding of SEI species and associated reactions. The dataset was generated by fragmenting a set of principal molecules, including solvents, salts, and SEI products, and then selectively recombining a subset of the fragments.  All candidate molecules were analyzed at the ωB97X-V/def2-TZVPPD/SMD level of theory at various charges and spin multiplicities.  In total, LIBE contains structural,thermodynamic, and vibrational information on over 17,000 unique species. In addition to studies of reactivity in LIBs, this dataset may prove useful for machine learning of molecular and reaction properties.'"
      ]
     },
     "execution_count": 73,
     "metadata": {},
     "output_type": "execute_result"
    }
   ],
   "source": [
    "# Read more from one paper. Notice that the row name is preserved from the original dataframe.\n",
    "# note that yours will be different because this code returns the 100 most recently uploaded papers to chemrxiv!\n",
    "ml_papers[\"abstract\"][37]"
   ]
  },
  {
   "cell_type": "code",
   "execution_count": null,
   "id": "e2680613",
   "metadata": {},
   "outputs": [],
   "source": []
  }
 ],
 "metadata": {
  "kernelspec": {
   "display_name": "Python 3",
   "language": "python",
   "name": "python3"
  },
  "language_info": {
   "codemirror_mode": {
    "name": "ipython",
    "version": 3
   },
   "file_extension": ".py",
   "mimetype": "text/x-python",
   "name": "python",
   "nbconvert_exporter": "python",
   "pygments_lexer": "ipython3",
   "version": "3.9.2"
  }
 },
 "nbformat": 4,
 "nbformat_minor": 5
}
