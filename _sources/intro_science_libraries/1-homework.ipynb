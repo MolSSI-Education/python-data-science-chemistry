{
 "cells": [
  {
   "attachments": {},
   "cell_type": "markdown",
   "metadata": {},
   "source": [
    "Section 1 Homework\n",
    "===================\n",
    "This is the homework for the first session of the MolSSI Python Scripting Level 2 Workshop.\n",
    "This homework is intended to give you practice with the material covered in the first session. \n",
    "\n",
    "Goals:\n",
    " - Utilize pandas to read in and work with the data in a csv file.\n",
    " - Utilize matplotlib to create plots and subplots of data stored in a pandas dataframe.\n",
    " - Utilize pandas to extract specific information from a dataframe.\n",
    " - Utilize matplotlib to construct a plot with multiple groups of data.\n",
    " \n",
    "For this homework, you will use the file `PubChemElements_all.csv`. This file contains information about elements of the periodic table. If you took MolSSI's level 1 Python scripting course, you will recognize this data file from the pandas lesson. \n",
    "\n",
    "For this homework, you will be exploring this data file using pandas and creating some plots using matplotlib.\n",
    "\n",
    "## Exercise 1\n",
    "Using the `PubChemElements_all.csv` file, create a plot of the Ionization Energy trend of the periodic table. The trend can be visualized by plotting the Ionization Energy of each element against it's Atomic Number. \n",
    "\n",
    "## Exercise 2\n",
    "Create a pair of subplots comparing the Ionization Energy and Electronegativity trends. The Electronegativity trend can be plotted in the same way as the Ionization Energy, by plotting the Electronegativity of each element against it's Atomic Number.\n",
    "\n",
    "## Exercise 3 \n",
    "Create a function that will assign a color coding to a particular Standard State of an element, i.e. red for gases, blue for solids, etc. Use the appropriate function from pandas to apply your function across the periodic table, creating a column of assigned colors. Create a pair of subplots utilizing the assigned color as the color of the marker:\n",
    " - Atomic Mass against the Melting point of each element\n",
    " - Ionization Energy against the Melting Point of each element\n",
    "\n",
    "**Hint:** You will need to figure out all of the standard states listed in the periodic table. See if you can figureout a pandas function which will tell you all of the *unique* values in a column."
   ]
  },
  {
   "cell_type": "code",
   "execution_count": null,
   "metadata": {},
   "outputs": [],
   "source": []
  }
 ],
 "metadata": {
  "kernelspec": {
   "display_name": "Python 3",
   "language": "python",
   "name": "python3"
  },
  "language_info": {
   "codemirror_mode": {
    "name": "ipython",
    "version": 3
   },
   "file_extension": ".py",
   "mimetype": "text/x-python",
   "name": "python",
   "nbconvert_exporter": "python",
   "pygments_lexer": "ipython3",
   "version": "3.7.8"
  }
 },
 "nbformat": 4,
 "nbformat_minor": 4
}
