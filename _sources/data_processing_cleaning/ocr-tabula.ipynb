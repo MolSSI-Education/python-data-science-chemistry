{
 "cells": [
  {
   "attachments": {},
   "cell_type": "markdown",
   "metadata": {},
   "source": [
    "Reading data from PDFs \n",
    "====================\n",
    "\n",
    "``````{admonition} Overview\n",
    ":class: overview\n",
    "\n",
    "Questions:\n",
    "\n",
    "* How can I tell if I can extract data from a pdf?\n",
    "\n",
    "* How can I run optical character recognition on a PDF?\n",
    "\n",
    "* How can I extract information from a PDF?\n",
    "\n",
    "Objectives:\n",
    "\n",
    "* Use `ocrmypdf` to make sure our PDF has recognizeable characters.\n",
    "\n",
    "* Use `tabula-py` to extract data from a table in a PDF.\n",
    "\n",
    "``````\n",
    "You should have the paper we are going to work with in your `pdfs` folder. The name of the file is `Potts-Guy1995_Article_APredictiveAlgorithmForSkinPer.pdf`. We will be reading the tables on page 3.\n",
    "\n",
    "Start by checking to ensure that you have the pdfs folder and the pdf. We will use the special command `ls` for this. We put an exclamation mark at the beginning of this command because it is not Python. In the Jupyter notebook, the commands that start with `!` are commands you could execute in your terminal if you were using a terminal."
   ]
  },
  {
   "cell_type": "code",
   "execution_count": 1,
   "metadata": {},
   "outputs": [
    {
     "name": "stdout",
     "output_type": "stream",
     "text": [
      "186.full.pdf\t   Potts-Guy1995_Article_APredictiveAlgorithmForSkinPer.pdf\r\n",
      "Delaney_paper.pdf  cyclodextrin.pdf\r\n"
     ]
    }
   ],
   "source": [
    "! ls pdfs"
   ]
  },
  {
   "cell_type": "markdown",
   "metadata": {},
   "source": [
    "We're going to use a Python library called `tabula-py` to read the data in `Table 1`. However, this pdf doesn't have any text information in it yet. One way you can tell this is by clicking and dragging your cursor over the text in a pdf viewer like Adobe Acrobat. If the text is not highlighted, the pdf does not contain text information. If we tried to extract the data in the table at this point, we would get an empty table.\n",
    "\n",
    "You can get text information in a pdf by performing optical character recognition, or OCR. If you have Adobe Acrobat Pro, it has an OCR tool built in that you can use. Python also has some free libraries which can be used for OCR. We'll be using one called [OCRmyPDF](https://ocrmypdf.readthedocs.io/en/latest/).\n",
    "\n",
    "Again, this command is not Python. We can tell this because it starts with an exclamation mark `!`. To use this software, we type the command `ocrmypdf` followed by the path to the pdf we would like to convert. Then you put the name you would like your new output file to have."
   ]
  },
  {
   "cell_type": "code",
   "execution_count": 2,
   "metadata": {},
   "outputs": [
    {
     "name": "stdout",
     "output_type": "stream",
     "text": [
      "Scanning contents: 100%|███████████████████████| 6/6 [00:00<00:00, 390.60page/s]\n",
      "Start processing 6 pages concurrently\n",
      "OCR: 100%|██████████████████████████████████| 6.0/6.0 [00:09<00:00,  1.53s/page]\n",
      "Postprocessing...\n",
      "PDF/A conversion: 100%|█████████████████████████| 6/6 [00:01<00:00,  5.63page/s]\n",
      "Recompressing JPEGs: 0image [00:00, ?image/s]\n",
      "Deflating JPEGs: 0image [00:00, ?image/s]\n",
      "JBIG2: 0item [00:00, ?item/s]\n",
      "Image optimization did not improve the file - optimizations will not be used\n",
      "Optimize ratio: 1.00 savings: -0.2%\n",
      "Output file is a PDF/A-2B (as expected)\n"
     ]
    }
   ],
   "source": [
    "! ocrmypdf \"pdfs/Potts-Guy1995_Article_APredictiveAlgorithmForSkinPer.pdf\"  \"pdfs/pottsguyocr.pdf\""
   ]
  },
  {
   "cell_type": "code",
   "execution_count": 1,
   "metadata": {},
   "outputs": [
    {
     "name": "stdout",
     "output_type": "stream",
     "text": [
      "186.full.pdf\n",
      "Delaney_paper.pdf\n",
      "JANAF-FourthEd-1998-Carbon.pdf\n",
      "Potts-Guy1995_Article_APredictiveAlgorithmForSkinPer.pdf\n",
      "cyclodextrin.pdf\n",
      "pottsguyocr.pdf\n"
     ]
    }
   ],
   "source": [
    "! ls pdfs"
   ]
  },
  {
   "cell_type": "markdown",
   "metadata": {},
   "source": [
    "## Reading Tables with `tabula-py`\n",
    "\n",
    "We now have two pdfs in the folder. The second one, `pottsguyocr.pdf` has text information in the pdf. We can use the library `tabula-py` to get information from table 1. The function we will be using is called `tabula.read_pdf`. We pass the file path to the pdf we would like to read to this function. You should also specify the page number of the table. Otherwise, it will by default try to read page 1."
   ]
  },
  {
   "cell_type": "code",
   "execution_count": 2,
   "metadata": {},
   "outputs": [],
   "source": [
    "import tabula"
   ]
  },
  {
   "cell_type": "code",
   "execution_count": 13,
   "metadata": {},
   "outputs": [],
   "source": [
    "pdf_path = \"pdfs/pottsguyocr.pdf\""
   ]
  },
  {
   "attachments": {},
   "cell_type": "markdown",
   "metadata": {},
   "source": [
    "In order to read from pages other than page 1, we will need to pass another argument (`pages`) to the function to specifiy which page contains the table we want to parse.\n",
    "You can specify a page number as a list of integers, or you can use `\"all\"` to read data from all tables in the PDF."
   ]
  },
  {
   "cell_type": "code",
   "execution_count": 23,
   "metadata": {},
   "outputs": [],
   "source": [
    "tables = tabula.read_pdf(pdf_path, pages=[3, 4], multiple_tables=True)"
   ]
  },
  {
   "cell_type": "code",
   "execution_count": 24,
   "metadata": {},
   "outputs": [
    {
     "name": "stdout",
     "output_type": "stream",
     "text": [
      "Found 3 tables.\n"
     ]
    }
   ],
   "source": [
    "print(f\"Found {len(tables)} tables.\")"
   ]
  },
  {
   "attachments": {},
   "cell_type": "markdown",
   "metadata": {},
   "source": [
    "The `read_pdf` function returns a list of pandas dataframes containing data from the tables.\n",
    "\n",
    "Let's examine each of these."
   ]
  },
  {
   "cell_type": "code",
   "execution_count": 25,
   "metadata": {},
   "outputs": [
    {
     "data": {
      "text/html": [
       "<div>\n",
       "<style scoped>\n",
       "    .dataframe tbody tr th:only-of-type {\n",
       "        vertical-align: middle;\n",
       "    }\n",
       "\n",
       "    .dataframe tbody tr th {\n",
       "        vertical-align: top;\n",
       "    }\n",
       "\n",
       "    .dataframe thead th {\n",
       "        text-align: right;\n",
       "    }\n",
       "</style>\n",
       "<table border=\"1\" class=\"dataframe\">\n",
       "  <thead>\n",
       "    <tr style=\"text-align: right;\">\n",
       "      <th></th>\n",
       "      <th>Unnamed: 0</th>\n",
       "      <th>Compound</th>\n",
       "      <th>log P</th>\n",
       "      <th>Unnamed: 1</th>\n",
       "      <th>II</th>\n",
       "      <th>H,</th>\n",
       "      <th>H,.1</th>\n",
       "      <th>MV</th>\n",
       "      <th>R,</th>\n",
       "      <th>log Koa</th>\n",
       "      <th>log Kyex</th>\n",
       "      <th>Unnamed: 2</th>\n",
       "      <th>log Kpep</th>\n",
       "    </tr>\n",
       "  </thead>\n",
       "  <tbody>\n",
       "    <tr>\n",
       "      <th>0</th>\n",
       "      <td>NaN</td>\n",
       "      <td>water</td>\n",
       "      <td>— 6.85</td>\n",
       "      <td>NaN</td>\n",
       "      <td>0.45</td>\n",
       "      <td>0.82</td>\n",
       "      <td>0.35</td>\n",
       "      <td>10.6</td>\n",
       "      <td>0.00</td>\n",
       "      <td>— 1.38</td>\n",
       "      <td>— 4,38</td>\n",
       "      <td>NaN</td>\n",
       "      <td>NaN</td>\n",
       "    </tr>\n",
       "    <tr>\n",
       "      <th>1</th>\n",
       "      <td>'</td>\n",
       "      <td>methanol</td>\n",
       "      <td>— 6.68</td>\n",
       "      <td>NaN</td>\n",
       "      <td>0.44</td>\n",
       "      <td>0.43</td>\n",
       "      <td>0.47</td>\n",
       "      <td>21.7</td>\n",
       "      <td>0.28</td>\n",
       "      <td>—0.73</td>\n",
       "      <td>—2.42</td>\n",
       "      <td>NaN</td>\n",
       "      <td>— 2.80</td>\n",
       "    </tr>\n",
       "    <tr>\n",
       "      <th>2</th>\n",
       "      <td>NaN</td>\n",
       "      <td>methanoic acid</td>\n",
       "      <td>— 7.08</td>\n",
       "      <td>NaN</td>\n",
       "      <td>0.60</td>\n",
       "      <td>0.75</td>\n",
       "      <td>0.38</td>\n",
       "      <td>22.3</td>\n",
       "      <td>0.30</td>\n",
       "      <td>—0.54</td>\n",
       "      <td>— 3.93</td>\n",
       "      <td>NaN</td>\n",
       "      <td>— 3.63</td>\n",
       "    </tr>\n",
       "    <tr>\n",
       "      <th>3</th>\n",
       "      <td>NaN</td>\n",
       "      <td>ethanol</td>\n",
       "      <td>— 6.66</td>\n",
       "      <td>NaN</td>\n",
       "      <td>0.42</td>\n",
       "      <td>0.37</td>\n",
       "      <td>0.48</td>\n",
       "      <td>31.9</td>\n",
       "      <td>0.25</td>\n",
       "      <td>—0.32</td>\n",
       "      <td>—2.24</td>\n",
       "      <td>NaN</td>\n",
       "      <td>—2.10</td>\n",
       "    </tr>\n",
       "    <tr>\n",
       "      <th>4</th>\n",
       "      <td>NaN</td>\n",
       "      <td>ethanoic acid</td>\n",
       "      <td>—7.01</td>\n",
       "      <td>NaN</td>\n",
       "      <td>0.65</td>\n",
       "      <td>0.61</td>\n",
       "      <td>0.45</td>\n",
       "      <td>33.4</td>\n",
       "      <td>0.27</td>\n",
       "      <td>—0.31</td>\n",
       "      <td>— 3.28</td>\n",
       "      <td>NaN</td>\n",
       "      <td>—2.90</td>\n",
       "    </tr>\n",
       "  </tbody>\n",
       "</table>\n",
       "</div>"
      ],
      "text/plain": [
       "  Unnamed: 0        Compound   log P  Unnamed: 1    II    H,  H,.1    MV  \\\n",
       "0        NaN           water  — 6.85         NaN  0.45  0.82  0.35  10.6   \n",
       "1          '        methanol  — 6.68         NaN  0.44  0.43  0.47  21.7   \n",
       "2        NaN  methanoic acid  — 7.08         NaN  0.60  0.75  0.38  22.3   \n",
       "3        NaN         ethanol  — 6.66         NaN  0.42  0.37  0.48  31.9   \n",
       "4        NaN   ethanoic acid   —7.01         NaN  0.65  0.61  0.45  33.4   \n",
       "\n",
       "     R, log Koa log Kyex  Unnamed: 2 log Kpep  \n",
       "0  0.00  — 1.38   — 4,38         NaN      NaN  \n",
       "1  0.28   —0.73    —2.42         NaN   — 2.80  \n",
       "2  0.30   —0.54   — 3.93         NaN   — 3.63  \n",
       "3  0.25   —0.32    —2.24         NaN    —2.10  \n",
       "4  0.27   —0.31   — 3.28         NaN    —2.90  "
      ]
     },
     "execution_count": 25,
     "metadata": {},
     "output_type": "execute_result"
    }
   ],
   "source": [
    "tables[0].head()"
   ]
  },
  {
   "cell_type": "code",
   "execution_count": 26,
   "metadata": {},
   "outputs": [
    {
     "data": {
      "text/html": [
       "<div>\n",
       "<style scoped>\n",
       "    .dataframe tbody tr th:only-of-type {\n",
       "        vertical-align: middle;\n",
       "    }\n",
       "\n",
       "    .dataframe tbody tr th {\n",
       "        vertical-align: top;\n",
       "    }\n",
       "\n",
       "    .dataframe thead th {\n",
       "        text-align: right;\n",
       "    }\n",
       "</style>\n",
       "<table border=\"1\" class=\"dataframe\">\n",
       "  <thead>\n",
       "    <tr style=\"text-align: right;\">\n",
       "      <th></th>\n",
       "      <th>Unnamed: 0</th>\n",
       "      <th>Unnamed: 1</th>\n",
       "      <th>10° -</th>\n",
       "      <th>a,</th>\n",
       "      <th>Unnamed: 2</th>\n",
       "      <th>Unnamed: 3</th>\n",
       "      <th>Unnamed: 4</th>\n",
       "      <th>Unnamed: 5</th>\n",
       "      <th>Unnamed: 6</th>\n",
       "      <th>Unnamed: 7</th>\n",
       "      <th>Unnamed: 8</th>\n",
       "    </tr>\n",
       "  </thead>\n",
       "  <tbody>\n",
       "    <tr>\n",
       "      <th>0</th>\n",
       "      <td>Solvent</td>\n",
       "      <td>NaN</td>\n",
       "      <td>(cm?/mole)</td>\n",
       "      <td>NaN</td>\n",
       "      <td>NaN</td>\n",
       "      <td>ay</td>\n",
       "      <td>a3</td>\n",
       "      <td>ay</td>\n",
       "      <td>r’</td>\n",
       "      <td>F</td>\n",
       "      <td>n</td>\n",
       "    </tr>\n",
       "    <tr>\n",
       "      <th>1</th>\n",
       "      <td>Octanol</td>\n",
       "      <td>NaN</td>\n",
       "      <td>5.63</td>\n",
       "      <td>NaN</td>\n",
       "      <td>NaN</td>\n",
       "      <td>nsd?</td>\n",
       "      <td>— 4.09</td>\n",
       "      <td>—0.51</td>\n",
       "      <td>0.98</td>\n",
       "      <td>478</td>\n",
       "      <td>37</td>\n",
       "    </tr>\n",
       "    <tr>\n",
       "      <th>2</th>\n",
       "      <td>NaN</td>\n",
       "      <td>NaN</td>\n",
       "      <td>(0.14)</td>\n",
       "      <td>NaN</td>\n",
       "      <td>NaN</td>\n",
       "      <td>NaN</td>\n",
       "      <td>(0.20)</td>\n",
       "      <td>(0.09)</td>\n",
       "      <td>NaN</td>\n",
       "      <td>NaN</td>\n",
       "      <td>NaN</td>\n",
       "    </tr>\n",
       "    <tr>\n",
       "      <th>3</th>\n",
       "      <td>Heptane</td>\n",
       "      <td>NaN</td>\n",
       "      <td>6.50</td>\n",
       "      <td>NaN</td>\n",
       "      <td>NaN</td>\n",
       "      <td>—2.90</td>\n",
       "      <td>— 4,80</td>\n",
       "      <td>— 1.49</td>\n",
       "      <td>0.95</td>\n",
       "      <td>124</td>\n",
       "      <td>33</td>\n",
       "    </tr>\n",
       "    <tr>\n",
       "      <th>4</th>\n",
       "      <td>NaN</td>\n",
       "      <td>NaN</td>\n",
       "      <td>(0.32)</td>\n",
       "      <td>NaN</td>\n",
       "      <td>NaN</td>\n",
       "      <td>(0.39)</td>\n",
       "      <td>(0.48)</td>\n",
       "      <td>(0.24)</td>\n",
       "      <td>NaN</td>\n",
       "      <td>NaN</td>\n",
       "      <td>NaN</td>\n",
       "    </tr>\n",
       "  </tbody>\n",
       "</table>\n",
       "</div>"
      ],
      "text/plain": [
       "  Unnamed: 0 Unnamed: 1       10° -  a,  Unnamed: 2 Unnamed: 3 Unnamed: 4  \\\n",
       "0    Solvent        NaN  (cm?/mole) NaN         NaN         ay         a3   \n",
       "1    Octanol        NaN        5.63 NaN         NaN       nsd?     — 4.09   \n",
       "2        NaN        NaN      (0.14) NaN         NaN        NaN     (0.20)   \n",
       "3    Heptane        NaN        6.50 NaN         NaN      —2.90     — 4,80   \n",
       "4        NaN        NaN      (0.32) NaN         NaN     (0.39)     (0.48)   \n",
       "\n",
       "  Unnamed: 5 Unnamed: 6 Unnamed: 7 Unnamed: 8  \n",
       "0         ay         r’          F          n  \n",
       "1      —0.51       0.98        478         37  \n",
       "2     (0.09)        NaN        NaN        NaN  \n",
       "3     — 1.49       0.95        124         33  \n",
       "4     (0.24)        NaN        NaN        NaN  "
      ]
     },
     "execution_count": 26,
     "metadata": {},
     "output_type": "execute_result"
    }
   ],
   "source": [
    "tables[1].head()"
   ]
  },
  {
   "cell_type": "code",
   "execution_count": 27,
   "metadata": {},
   "outputs": [
    {
     "data": {
      "text/html": [
       "<div>\n",
       "<style scoped>\n",
       "    .dataframe tbody tr th:only-of-type {\n",
       "        vertical-align: middle;\n",
       "    }\n",
       "\n",
       "    .dataframe tbody tr th {\n",
       "        vertical-align: top;\n",
       "    }\n",
       "\n",
       "    .dataframe thead th {\n",
       "        text-align: right;\n",
       "    }\n",
       "</style>\n",
       "<table border=\"1\" class=\"dataframe\">\n",
       "  <thead>\n",
       "    <tr style=\"text-align: right;\">\n",
       "      <th></th>\n",
       "      <th>implies that</th>\n",
       "      <th>hydrogen bond acceptors are</th>\n",
       "      <th>Unnamed: 0</th>\n",
       "      <th>not</th>\n",
       "      <th>well-</th>\n",
       "      <th>Unnamed: 1</th>\n",
       "      <th>Unnamed: 2</th>\n",
       "      <th>Unnamed: 3</th>\n",
       "      <th>ute a).</th>\n",
       "      <th>The</th>\n",
       "      <th>results</th>\n",
       "      <th>in Table</th>\n",
       "      <th>4,</th>\n",
       "      <th>on</th>\n",
       "      <th>the other hand,</th>\n",
       "      <th>imply</th>\n",
       "      <th>that</th>\n",
       "    </tr>\n",
       "  </thead>\n",
       "  <tbody>\n",
       "    <tr>\n",
       "      <th>0</th>\n",
       "      <td>accommodated</td>\n",
       "      <td>in alkanes as compared to octanol. Whereas</td>\n",
       "      <td>NaN</td>\n",
       "      <td>NaN</td>\n",
       "      <td>NaN</td>\n",
       "      <td>NaN</td>\n",
       "      <td>NaN</td>\n",
       "      <td>NaN</td>\n",
       "      <td>the SC lipids accept hydrogen bonds better tha...</td>\n",
       "      <td>NaN</td>\n",
       "      <td>NaN</td>\n",
       "      <td>NaN</td>\n",
       "      <td>NaN</td>\n",
       "      <td>NaN</td>\n",
       "      <td>NaN</td>\n",
       "      <td>NaN</td>\n",
       "      <td>NaN</td>\n",
       "    </tr>\n",
       "    <tr>\n",
       "      <th>1</th>\n",
       "      <td>octanol is capable</td>\n",
       "      <td>of donating a hydrogen bond</td>\n",
       "      <td>NaN</td>\n",
       "      <td>via the</td>\n",
       "      <td>hy-</td>\n",
       "      <td>NaN</td>\n",
       "      <td>NaN</td>\n",
       "      <td>NaN</td>\n",
       "      <td>but that,</td>\n",
       "      <td>like</td>\n",
       "      <td>octanol,</td>\n",
       "      <td>polar</td>\n",
       "      <td>species</td>\n",
       "      <td>NaN</td>\n",
       "      <td>can be accommodated</td>\n",
       "      <td>NaN</td>\n",
       "      <td>NaN</td>\n",
       "    </tr>\n",
       "    <tr>\n",
       "      <th>2</th>\n",
       "      <td>droxyl group,</td>\n",
       "      <td>heptane and hexadecane cannot</td>\n",
       "      <td>do</td>\n",
       "      <td>so.</td>\n",
       "      <td>Parti-</td>\n",
       "      <td>NaN</td>\n",
       "      <td>NaN</td>\n",
       "      <td>NaN</td>\n",
       "      <td>more easily</td>\n",
       "      <td>NaN</td>\n",
       "      <td>in the SC than</td>\n",
       "      <td>in alkane solvents</td>\n",
       "      <td>NaN</td>\n",
       "      <td>NaN</td>\n",
       "      <td>(vi. the absence</td>\n",
       "      <td>NaN</td>\n",
       "      <td>NaN</td>\n",
       "    </tr>\n",
       "    <tr>\n",
       "      <th>3</th>\n",
       "      <td>tioning decreased</td>\n",
       "      <td>in the hydrocarbon solvents</td>\n",
       "      <td>with increas-</td>\n",
       "      <td>NaN</td>\n",
       "      <td>NaN</td>\n",
       "      <td>NaN</td>\n",
       "      <td>NaN</td>\n",
       "      <td>NaN</td>\n",
       "      <td>of 7 dependence again). These conclusions may ...</td>\n",
       "      <td>NaN</td>\n",
       "      <td>NaN</td>\n",
       "      <td>NaN</td>\n",
       "      <td>NaN</td>\n",
       "      <td>NaN</td>\n",
       "      <td>NaN</td>\n",
       "      <td>NaN</td>\n",
       "      <td>NaN</td>\n",
       "    </tr>\n",
       "    <tr>\n",
       "      <th>4</th>\n",
       "      <td>ing solute polarity</td>\n",
       "      <td>(7); no significant dependence</td>\n",
       "      <td>NaN</td>\n",
       "      <td>on</td>\n",
       "      <td>7 was</td>\n",
       "      <td>NaN</td>\n",
       "      <td>NaN</td>\n",
       "      <td>NaN</td>\n",
       "      <td>with those</td>\n",
       "      <td>NaN</td>\n",
       "      <td>of a previous</td>\n",
       "      <td>study</td>\n",
       "      <td>NaN</td>\n",
       "      <td>(3),</td>\n",
       "      <td>which reported</td>\n",
       "      <td>the</td>\n",
       "      <td>free</td>\n",
       "    </tr>\n",
       "  </tbody>\n",
       "</table>\n",
       "</div>"
      ],
      "text/plain": [
       "          implies that                 hydrogen bond acceptors are  \\\n",
       "0         accommodated  in alkanes as compared to octanol. Whereas   \n",
       "1   octanol is capable                 of donating a hydrogen bond   \n",
       "2        droxyl group,               heptane and hexadecane cannot   \n",
       "3    tioning decreased                 in the hydrocarbon solvents   \n",
       "4  ing solute polarity              (7); no significant dependence   \n",
       "\n",
       "      Unnamed: 0      not   well-  Unnamed: 1  Unnamed: 2  Unnamed: 3  \\\n",
       "0            NaN      NaN     NaN         NaN         NaN         NaN   \n",
       "1            NaN  via the     hy-         NaN         NaN         NaN   \n",
       "2             do      so.  Parti-         NaN         NaN         NaN   \n",
       "3  with increas-      NaN     NaN         NaN         NaN         NaN   \n",
       "4            NaN       on   7 was         NaN         NaN         NaN   \n",
       "\n",
       "                                             ute a).   The         results  \\\n",
       "0  the SC lipids accept hydrogen bonds better tha...   NaN             NaN   \n",
       "1                                          but that,  like        octanol,   \n",
       "2                                        more easily   NaN  in the SC than   \n",
       "3  of 7 dependence again). These conclusions may ...   NaN             NaN   \n",
       "4                                         with those   NaN   of a previous   \n",
       "\n",
       "             in Table       4,    on      the other hand, imply  that  \n",
       "0                 NaN      NaN   NaN                  NaN   NaN   NaN  \n",
       "1               polar  species   NaN  can be accommodated   NaN   NaN  \n",
       "2  in alkane solvents      NaN   NaN     (vi. the absence   NaN   NaN  \n",
       "3                 NaN      NaN   NaN                  NaN   NaN   NaN  \n",
       "4               study      NaN  (3),       which reported   the  free  "
      ]
     },
     "execution_count": 27,
     "metadata": {},
     "output_type": "execute_result"
    }
   ],
   "source": [
    "tables[2].head()"
   ]
  },
  {
   "attachments": {},
   "cell_type": "markdown",
   "metadata": {},
   "source": [
    "You can see that the data in some of the tables seems pretty messy. \n",
    "\n",
    "For this exercise, we will be working with the first two tables. Neither of these tables are usable yet. We'll save both as csvs and work on cleaning them in the next section."
   ]
  },
  {
   "cell_type": "code",
   "execution_count": 29,
   "metadata": {},
   "outputs": [
    {
     "name": "stdout",
     "output_type": "stream",
     "text": [
      "<class 'pandas.core.frame.DataFrame'>\n",
      "RangeIndex: 37 entries, 0 to 36\n",
      "Data columns (total 13 columns):\n",
      " #   Column      Non-Null Count  Dtype  \n",
      "---  ------      --------------  -----  \n",
      " 0   Unnamed: 0  1 non-null      object \n",
      " 1   Compound    37 non-null     object \n",
      " 2   log P       37 non-null     object \n",
      " 3   Unnamed: 1  0 non-null      float64\n",
      " 4   II          37 non-null     float64\n",
      " 5   H,          37 non-null     float64\n",
      " 6   H,.1        37 non-null     float64\n",
      " 7   MV          37 non-null     float64\n",
      " 8   R,          37 non-null     float64\n",
      " 9   log Koa     37 non-null     object \n",
      " 10  log Kyex    31 non-null     object \n",
      " 11  Unnamed: 2  0 non-null      float64\n",
      " 12  log Kpep    25 non-null     object \n",
      "dtypes: float64(7), object(6)\n",
      "memory usage: 3.9+ KB\n"
     ]
    }
   ],
   "source": [
    "tables[0].info()"
   ]
  },
  {
   "cell_type": "code",
   "execution_count": 31,
   "metadata": {},
   "outputs": [],
   "source": [
    "output_1 = \"data/potts_table1.csv\"\n",
    "output_2 = os.path.join(\"data\", \"potts_table2.csv\")\n",
    "\n",
    "tables[0].to_csv(output_1, index=False)\n",
    "tables[1].to_csv(output_2, index=False)"
   ]
  },
  {
   "attachments": {},
   "cell_type": "markdown",
   "metadata": {},
   "source": [
    "``````{admonition} Key Points\n",
    ":class: key\n",
    "\n",
    "* PDFs usually have text associated with them. If they don't, you can use `ocrmypdf` to perform optical character recognition.\n",
    "\n",
    "* You can use the library `tabula-py` to extract data from tables in PDFs.\n",
    "``````"
   ]
  },
  {
   "cell_type": "markdown",
   "metadata": {},
   "source": []
  }
 ],
 "metadata": {
  "kernelspec": {
   "display_name": "molssi-training",
   "language": "python",
   "name": "python3"
  },
  "language_info": {
   "codemirror_mode": {
    "name": "ipython",
    "version": 3
   },
   "file_extension": ".py",
   "mimetype": "text/x-python",
   "name": "python",
   "nbconvert_exporter": "python",
   "pygments_lexer": "ipython3",
   "version": "3.11.0"
  },
  "vscode": {
   "interpreter": {
    "hash": "16d4a7bb199d969b1271ebe46f77414b0d9cd01b3c3983c2b2742fc6cd4503d3"
   }
  }
 },
 "nbformat": 4,
 "nbformat_minor": 4
}
