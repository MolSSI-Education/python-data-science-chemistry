{
 "cells": [
  {
   "cell_type": "markdown",
   "metadata": {},
   "source": [
    "Regular Expressions\n",
    "=================\n",
    "\n",
    "<div class=\"overview\">\n",
    "   <p class=\"overview-title\">Overview</p>\n",
    "    <p>Questions</p>\n",
    "     <ul>\n",
    "        <li>What is a regular expression?</li>\n",
    "        <li>When should I use regular expressions?</li>\n",
    "    </ul>\n",
    "    <p>Objectives:</p>\n",
    "        <ul>\n",
    "            <li>Use regular expressions to pull information from a complex data file.</li>\n",
    "        </ul>\n",
    "    <p>Keypoints:</p>\n",
    "        <ul>\n",
    "            <li>Regular expressions allow you to define patterns of strings using special metacharacters.</li>\n",
    "        </ul>\n",
    "    </div>\n",
    "\n",
    "In the first Python and Data Scripting Workshop we learned how to parse files using `open`, `readlines`, then looping through the file to find specific phrases. This works fine for some cases, however, there are some times when this will either be slow or impossible.\n",
    "\n",
    "Sometimes, you will want to look for text which resembles a certain pattern. \n",
    "\n",
    "Regular expressions will allow us to define patterns of text we are looking for rather than hardcoding specific phrases. \n",
    "\n",
    "For this section, we will be parsing output files from the Spartan software. This dataset was published as supplemental information for [this paper](https://science.sciencemag.org/content/360/6385/186) where the authors used molecular descriptors obtained from the Spartan software along with machine learning methods to predict reaction yields. \n",
    "\n",
    "To follow along with this section, you should download [this file](https://github.com/doylelab/rxnpredict/blob/master/spartan_molecules/1-bromo-4-(trifluoromethyl)benzene.spardir/M0001/output) and put it in your data folder (name it `output`). \n",
    "\n",
    "We will see later how to loop over all of the files in [this repository](https://github.com/doylelab/rxnpredict). We will be working with files in the `rxnpredict/spartan_molecules` directory. First, we will proof our regular expressions on one file, then we will apply it to all of our files to get our molecular descriptors."
   ]
  },
  {
   "cell_type": "code",
   "execution_count": 1,
   "metadata": {},
   "outputs": [],
   "source": [
    "import os\n",
    "\n",
    "import pandas as pd"
   ]
  },
  {
   "cell_type": "code",
   "execution_count": 2,
   "metadata": {},
   "outputs": [],
   "source": [
    "file_path = os.path.join(\"data\", \"rxnpredict\", \"output\")"
   ]
  },
  {
   "cell_type": "markdown",
   "metadata": {},
   "source": [
    "Because this is not a file which is tabular or structured, we can't easily read it using NumPy or pandas. We will use a method from the first Python scripting workshop where we read it in using the `open` function. Note that there are many ways to open files in Python. If you reading a file that is only partially tabular, you may still want to use pandas with appropriate variables on the read functions. However, these files contain a lot of information and are mostly unstructured, so we will first pull out some information using regular expressions.\n",
    "\n",
    "We use the syntax `with open` because this allows us to open and automatically close the file. We will read the file inside the open block. The `read` function in Python is used on an open file object. All of the file contents will be pulled into a `string` called `data`."
   ]
  },
  {
   "cell_type": "code",
   "execution_count": 3,
   "metadata": {},
   "outputs": [],
   "source": [
    "with open(file_path) as f:\n",
    "    data = f.read()"
   ]
  },
  {
   "cell_type": "code",
   "execution_count": 4,
   "metadata": {},
   "outputs": [
    {
     "name": "stdout",
     "output_type": "stream",
     "text": [
      "SPARTAN '14 CONFORMATION SEARCH:   (Win/64b)                      Release  1.1.4\n",
      "\n",
      "\n",
      " Conformation Search\n",
      "\n",
      "\n",
      " Initializing 4 threads\n",
      "\n",
      "  Reason for exit: Successful completion \n",
      "  Conformer Program CPU Time :          .30\n",
      "  Conformer Program Wall Time:          .07\n",
      "\n",
      "SPARTAN '14 Quantum Mechanics Driver:  (Win/64b)         Release  1.1.4\n",
      "\n",
      "Job type: Geometry optimization.\n",
      "Method: RB3LYP\n",
      "Basis set: 6-31G(D)\n",
      "Number of shells: 56\n",
      "Number of basis functions: 193\n",
      "Multiplicity: 1\n",
      "Parallel Job: 4 threads\n",
      "\n",
      "SCF \n"
     ]
    }
   ],
   "source": [
    "# print the first 500 characters of data\n",
    "print(data[:500])"
   ]
  },
  {
   "cell_type": "markdown",
   "metadata": {},
   "source": [
    "## Basic Matching\n",
    "\n",
    "We are going to process this file using regular expressions. Regular expressions will let us define patterns that we want to look for in our text. To use regular expressions, you start by importing the appropriate module - `import re`."
   ]
  },
  {
   "cell_type": "code",
   "execution_count": 5,
   "metadata": {},
   "outputs": [],
   "source": [
    "import re"
   ]
  },
  {
   "cell_type": "markdown",
   "metadata": {},
   "source": [
    "At it's simplest, regular expressions match the exact pattern yoou specify. For example, if we wanted to find all the places the word `energy` occurred in the file, we could do that.\n",
    "\n",
    "We create a regular expression pattern by using `re.compile`. Inside this function, you put the pattern you want to look for. Then you use `pattern.findall` and pass the string you would like to search as an argument. The function will return a list of matches in the text."
   ]
  },
  {
   "cell_type": "code",
   "execution_count": 6,
   "metadata": {},
   "outputs": [],
   "source": [
    "pattern = re.compile(\"energy\")"
   ]
  },
  {
   "cell_type": "code",
   "execution_count": 7,
   "metadata": {},
   "outputs": [
    {
     "name": "stdout",
     "output_type": "stream",
     "text": [
      "['energy', 'energy']\n"
     ]
    }
   ],
   "source": [
    "matches = pattern.findall(data)\n",
    "print(matches)"
   ]
  },
  {
   "cell_type": "markdown",
   "metadata": {},
   "source": [
    "## Using metacharacters\n",
    "\n",
    "This is not that interesting, but we can see that the word \"energy\" is found twice in the text. You'll notice here that this text matches exactly, as in it is only showing us when the word `energy` (lowercase `e`) is found. This is where the power of regular expressions can come in. Let's imagine that you want to look for either the word `energy` or the word `Energy`. You can modify your regular expression to use special characters to tell the regular expression that either letter is okay.\n",
    "\n",
    "To do matches other than matching for the literal character, you use special characters in your regular expressions (referred to as `metacharacters`). Here are some examples of metacharacters:\n",
    "\n",
    "```\n",
    ". ^ $ * + ? { } [ ] \\ | ( )\n",
    "```\n",
    "\n",
    "The first we will use is `[ ]`. For regular expressions, these indicate a class of characters you want to search for. For example, to look for `e` or `E`, we could use `[Ee]`."
   ]
  },
  {
   "cell_type": "code",
   "execution_count": 8,
   "metadata": {},
   "outputs": [],
   "source": [
    "pattern = re.compile(\"[Ee]nergy\")"
   ]
  },
  {
   "cell_type": "code",
   "execution_count": 9,
   "metadata": {},
   "outputs": [
    {
     "name": "stdout",
     "output_type": "stream",
     "text": [
      "['Energy', 'energy', 'energy', 'Energy', 'Energy']\n"
     ]
    }
   ],
   "source": [
    "matches = pattern.findall(data)\n",
    "print(matches)"
   ]
  },
  {
   "cell_type": "code",
   "execution_count": 10,
   "metadata": {},
   "outputs": [],
   "source": [
    "pattern = re.compile(\"energy\", re.IGNORECASE)"
   ]
  },
  {
   "cell_type": "code",
   "execution_count": 11,
   "metadata": {},
   "outputs": [
    {
     "name": "stdout",
     "output_type": "stream",
     "text": [
      "['Energy', 'energy', 'energy', 'Energy', 'Energy']\n"
     ]
    }
   ],
   "source": [
    "matches = pattern.findall(data)\n",
    "print(matches)"
   ]
  },
  {
   "cell_type": "markdown",
   "metadata": {},
   "source": [
    "Where this is more useful is for finding a range of characters. For example, the pattern below will find any single uppercase letter surrounded by spaces."
   ]
  },
  {
   "cell_type": "code",
   "execution_count": 12,
   "metadata": {},
   "outputs": [
    {
     "name": "stdout",
     "output_type": "stream",
     "text": [
      "[' A ', ' S ', ' X ', ' Y ', ' Z ', ' C ', ' C ', ' C ', ' C ', ' C ', ' C ', ' H ', ' H ', ' H ', ' H ', ' C ', ' F ', ' F ', ' F ', ' S ', ' S ', ' S ', ' S ', ' S ', ' S ', ' S ', ' S ', ' S ', ' S ', ' S ', ' S ', ' S ', ' S ', ' S ', ' S ', ' S ', ' S ', ' S ', ' S ', ' S ', ' S ', ' S ', ' S ', ' S ', ' S ', ' S ', ' S ', ' S ', ' S ', ' S ', ' S ', ' S ', ' S ', ' S ', ' S ', ' S ', ' S ', ' S ', ' S ', ' S ', ' S ', ' S ', ' S ', ' S ', ' S ', ' S ', ' S ', ' S ', ' S ', ' S ', ' S ', ' S ', ' S ', ' S ', ' S ', ' S ', ' S ', ' S ', ' S ', ' S ', ' S ', ' S ', ' S ', ' S ', ' S ', ' S ', ' S ', ' S ', ' S ', ' S ', ' S ', ' S ', ' S ', ' S ', ' S ', ' S ', ' S ', ' S ', ' S ', ' S ', ' S ', ' S ', ' S ', ' S ', ' S ', ' S ', ' S ', ' S ', ' S ', ' S ', ' S ', ' S ', ' S ', ' S ', ' S ', ' S ', ' S ', ' S ', ' S ', ' S ', ' S ', ' S ', ' S ', ' S ', ' S ', ' S ', ' S ', ' S ', ' S ', ' S ', ' S ', ' S ', ' S ', ' S ', ' S ', ' S ', ' S ', ' S ', ' S ', ' S ', ' S ', ' S ', ' S ', ' S ', ' S ', ' S ', ' S ', ' S ', ' S ', ' S ', ' S ', ' S ', ' S ', ' S ', ' S ', ' S ', ' S ', ' S ', ' S ', ' S ', ' S ', ' S ', ' S ', ' S ', ' S ', ' S ', ' S ', ' S ', ' S ', ' S ', ' S ', ' S ', ' S ', ' S ', ' S ', ' S ', ' S ', ' S ', ' S ', ' S ', ' S ', ' S ', ' S ', ' S ', ' S ', ' S ', ' S ', ' S ', ' S ', ' S ', ' S ', ' S ', ' S ', ' S ', ' S ', ' S ', ' S ', ' S ', ' S ', ' S ', ' S ', ' S ', ' S ', ' S ', ' S ', ' S ', ' S ', ' S ', ' S ', ' S ', ' S ', ' S ', ' S ', ' S ', ' S ', ' S ', ' S ', ' S ', ' S ', ' S ', ' S ', ' S ', ' S ', ' S ', ' S ', ' S ', ' S ', ' S ', ' S ', ' S ', ' S ', ' S ', ' S ', ' S ', ' S ', ' S ', ' S ', ' S ', ' S ', ' S ', ' S ', ' S ', ' S ', ' S ', ' S ', ' S ', ' S ', ' S ', ' S ', ' S ', ' S ', ' S ', ' S ', ' S ', ' S ', ' S ', ' S ', ' S ', ' S ', ' S ', ' S ', ' S ', ' S ', ' S ', ' S ', ' S ', ' S ', ' S ', ' S ', ' S ', ' S ', ' S ', ' S ', ' S ', ' S ', ' S ', ' S ', ' S ', ' S ', ' S ', ' S ', ' S ', ' S ', ' S ', ' S ', ' S ', ' S ', ' S ', ' S ', ' S ', ' S ', ' S ', ' S ', ' S ', ' S ', ' S ', ' S ', ' S ', ' S ', ' S ', ' S ', ' S ', ' S ', ' S ', ' S ', ' S ', ' S ', ' S ', ' S ', ' S ', ' S ', ' S ', ' S ', ' S ', ' S ', ' S ', ' S ', ' S ', ' S ', ' S ', ' S ', ' S ', ' S ', ' S ', ' S ', ' S ', ' S ', ' S ', ' S ', ' S ', ' S ', ' S ', ' S ', ' S ', ' S ', ' S ', ' S ', ' S ', ' S ', ' S ', ' S ', ' S ', ' S ', ' S ', ' S ', ' S ', ' S ', ' S ', ' S ', ' S ', ' S ', ' S ', ' S ', ' S ', ' S ', ' S ', ' S ', ' S ', ' S ', ' S ', ' S ', ' S ', ' S ', ' S ', ' S ', ' S ', ' S ', ' S ', ' S ', ' S ', ' S ', ' S ', ' S ', ' S ', ' S ', ' S ', ' S ', ' S ', ' S ', ' S ', ' S ', ' S ', ' S ', ' S ', ' S ', ' S ', ' S ', ' S ', ' S ', ' S ', ' S ', ' S ', ' S ', ' S ', ' S ', ' S ', ' S ', ' S ', ' S ', ' S ', ' S ', ' S ', ' S ', ' S ', ' S ', ' S ', ' S ', ' S ', ' S ', ' S ', ' S ', ' S ', ' S ', ' S ', ' S ', ' S ', ' S ', ' S ', ' S ', ' S ', ' S ', ' S ', ' S ', ' S ', ' S ', ' S ', ' S ', ' S ', ' S ', ' S ', ' S ', ' S ', ' S ', ' S ', ' S ', ' S ', ' S ', ' S ', ' S ', ' S ', ' S ', ' S ', ' S ', ' S ', ' S ', ' S ', ' S ', ' S ', ' S ', ' S ', ' S ', ' S ', ' S ', ' S ', ' S ', ' S ', ' S ', ' S ', ' S ', ' S ', ' S ', ' S ', ' S ', ' S ', ' S ', ' S ', ' S ', ' S ', ' S ', ' S ', ' S ', ' S ', ' S ', ' S ', ' S ', ' S ', ' S ', ' S ', ' S ', ' S ', ' S ', ' S ', ' S ', ' S ', ' S ', ' S ', ' S ', ' S ', ' S ', ' S ', ' S ', ' S ', ' S ', ' S ', ' S ', ' S ', ' S ', ' S ', ' S ', ' S ', ' S ', ' S ', ' S ', ' S ', ' S ', ' S ', ' S ', ' S ', ' S ', ' S ', ' S ', ' S ', ' S ', ' S ', ' S ', ' S ', ' S ', ' S ', ' S ', ' S ', ' S ', ' S ', ' S ', ' S ', ' S ', ' S ', ' S ', ' S ', ' S ', ' S ', ' S ', ' S ', ' S ', ' S ', ' S ', ' S ', ' S ', ' S ', ' S ', ' S ', ' S ', ' S ', ' S ', ' S ', ' S ', ' S ', ' S ', ' S ', ' S ', ' S ', ' S ', ' S ', ' S ', ' S ', ' S ', ' S ', ' S ', ' S ', ' S ', ' S ', ' S ', ' S ', ' S ', ' S ', ' S ', ' S ', ' S ', ' S ', ' S ', ' S ', ' S ', ' S ', ' S ', ' S ', ' S ', ' S ', ' S ', ' S ', ' S ', ' S ', ' S ', ' S ', ' S ', ' S ', ' S ', ' S ', ' S ', ' S ', ' S ', ' S ', ' S ', ' S ', ' S ', ' S ', ' S ', ' S ', ' S ', ' S ', ' S ', ' S ', ' S ', ' S ', ' S ', ' S ', ' S ', ' S ', ' S ', ' S ', ' S ', ' S ', ' S ', ' S ', ' S ', ' S ', ' S ', ' S ', ' S ', ' S ', ' S ', ' S ', ' S ', ' S ', ' S ', ' S ', ' S ', ' S ', ' S ', ' S ', ' S ', ' S ', ' S ', ' S ', ' S ', ' S ', ' S ', ' S ', ' S ', ' S ', ' S ', ' S ', ' S ', ' S ', ' S ', ' S ', ' S ', ' S ', ' S ', ' S ', ' S ', ' S ', ' S ', ' S ', ' S ', ' S ', ' S ', ' S ', ' S ', ' S ', ' S ', ' S ', ' S ', ' S ', ' S ', ' S ', ' S ', ' S ', ' S ', ' S ', ' S ', ' S ', ' S ', ' S ', ' S ', ' S ', ' S ', ' S ', ' S ', ' S ', ' S ', ' S ', ' S ', ' S ', ' S ', ' S ', ' S ', ' S ', ' S ', ' S ', ' S ', ' S ', ' S ', ' S ', ' S ', ' S ', ' S ', ' S ', ' S ', ' S ', ' S ', ' S ', ' S ', ' S ', ' S ', ' S ', ' S ', ' S ', ' S ', ' S ', ' S ', ' S ', ' S ', ' S ', ' S ', ' S ', ' S ', ' S ', ' S ', ' S ', ' S ', ' S ', ' S ', ' S ', ' S ', ' S ', ' S ', ' S ', ' S ', ' S ', ' S ', ' S ', ' S ', ' S ', ' S ', ' S ', ' S ', ' S ', ' S ', ' S ', ' S ', ' S ', ' S ', ' S ', ' S ', ' S ', ' S ', ' S ', ' S ', ' S ', ' S ', ' S ', ' S ', ' S ', ' S ', ' S ', ' S ', ' S ', ' S ', ' S ', ' S ', ' S ', ' X ', ' Y ', ' Z ', ' S ', ' S ', ' S ', ' S ', ' S ', ' S ', ' S ', ' S ', ' S ', ' S ', ' S ', ' S ', ' S ', ' S ', ' S ', ' S ', ' S ', ' S ', ' S ', ' S ', ' S ', ' S ', ' S ', ' S ', ' S ', ' S ', ' S ', ' S ', ' S ', ' S ', ' S ', ' S ', ' S ', ' S ', ' S ', ' S ', ' S ', ' S ', ' S ', ' S ', ' S ', ' S ', ' S ', ' S ', ' S ', ' S ', ' S ', ' S ', ' S ', ' S ', ' S ', ' S ', ' S ', ' S ', ' S ', ' S ', ' S ', ' S ', ' S ', ' S ', ' S ', ' S ', ' S ', ' S ', ' S ', ' S ', ' S ', ' S ', ' S ', ' S ', ' S ', ' S ', ' S ', ' S ', ' S ', ' X ', ' Y ', ' Z ', ' X ', ' Y ', ' Z ', ' X ', ' Y ', ' X ', ' Y ', ' Z ', ' X ', ' Y ', ' Z ', ' X ', ' Y ', ' X ', ' Y ', ' Z ', ' X ', ' Y ', ' Z ', ' X ', ' Y ', ' X ', ' Y ', ' Z ', ' X ', ' Y ', ' Z ', ' X ', ' Y ', ' X ', ' Y ', ' Z ', ' X ', ' Y ', ' Z ', ' X ', ' Y ', ' X ', ' Y ', ' Z ', ' X ', ' Y ', ' Z ', ' X ', ' Y ', ' X ', ' Y ', ' Z ', ' X ', ' Y ', ' Z ', ' X ', ' Y ', ' X ', ' Y ', ' Z ', ' X ', ' Y ', ' Z ', ' X ', ' Y ', ' X ', ' Y ', ' Z ', ' X ', ' Y ', ' Z ', ' X ', ' Y ', ' X ', ' Y ', ' Z ', ' X ', ' Y ', ' Z ', ' X ', ' Y ', ' X ', ' Y ', ' Z ', ' X ', ' Y ', ' Z ', ' X ', ' Y ', ' X ', ' Y ', ' Z ', ' X ', ' Y ', ' Z ', ' X ', ' Y ', ' X ', ' Y ', ' Z ', ' X ', ' Y ', ' Z ', ' X ', ' Y ', ' K ', ' A ', ' B ', ' A ', ' B ', ' A ', ' B ', ' X ', ' Y ', ' X ', ' Y ', ' X ', ' Y ', ' X ', ' Y ']\n"
     ]
    }
   ],
   "source": [
    "pattern = re.compile(\" [A-Z] \")\n",
    "matches = pattern.findall(data)\n",
    "print(matches)"
   ]
  },
  {
   "cell_type": "markdown",
   "metadata": {},
   "source": [
    "Let's keep building on one of these and get what follows the word \"energy\". Another special character recognized by `regex` is the period. The period means `any character except a new line`. If we add a period after the word `energy`, it will match the word `energy` (case insensitive) followed by any character except a newline."
   ]
  },
  {
   "cell_type": "code",
   "execution_count": 13,
   "metadata": {},
   "outputs": [],
   "source": [
    "pattern = re.compile(\"energy.\", re.IGNORECASE)"
   ]
  },
  {
   "cell_type": "code",
   "execution_count": 14,
   "metadata": {},
   "outputs": [
    {
     "name": "stdout",
     "output_type": "stream",
     "text": [
      "['Energy ', 'energy:', 'energy:', 'Energy ', 'Energy ']\n"
     ]
    }
   ],
   "source": [
    "matches = pattern.findall(data)\n",
    "print(matches)"
   ]
  },
  {
   "cell_type": "markdown",
   "metadata": {},
   "source": [
    "After adding the dot, you will see another trailing character has been added to our results. \n",
    "\n",
    "We can specify how many times we want a special character or group of characters repeated by using `{}` and specifying the number of times. For example, the following will get the two following characters. "
   ]
  },
  {
   "cell_type": "code",
   "execution_count": 15,
   "metadata": {},
   "outputs": [],
   "source": [
    "pattern = re.compile(\"energy.{2}\", re.IGNORECASE)"
   ]
  },
  {
   "cell_type": "code",
   "execution_count": 16,
   "metadata": {},
   "outputs": [
    {
     "name": "stdout",
     "output_type": "stream",
     "text": [
      "['Energy  ', 'energy: ', 'energy: ', 'Energy D', 'Energy S']\n"
     ]
    }
   ],
   "source": [
    "matches = pattern.findall(data)\n",
    "print(matches)"
   ]
  },
  {
   "cell_type": "markdown",
   "metadata": {},
   "source": [
    "You can also use `*` to specify 0 or more matches, or `+` to specify one or more matches. In this case, you do not need the curly braces `{}`. In general, this is the pattern you will follow when not doing exact matches. You will define something using the special metacharacters, followed by how many times to look for that metacharacter."
   ]
  },
  {
   "cell_type": "code",
   "execution_count": 17,
   "metadata": {},
   "outputs": [
    {
     "name": "stdout",
     "output_type": "stream",
     "text": [
      "['Energy          Max Grad.      Max Dist. ', 'energy:   -3142.5663410 hartrees', 'energy:   -3142.5663410 hartrees', 'Energy Due to Solvation', 'Energy SM5.4/A          1.983']\n"
     ]
    }
   ],
   "source": [
    "pattern = re.compile(\"energy.+\", re.IGNORECASE)\n",
    "matches = pattern.findall(data)\n",
    "print(matches)"
   ]
  },
  {
   "cell_type": "markdown",
   "metadata": {},
   "source": [
    "<div class=\"exercise-this-is-a-title exercise\">\n",
    "<p class=\"exercise-title\">Check your understanding</p>\n",
    "    <p>Modify the regular expression we wrote above to match uppercase words that are between three and 6 letters long. *Challenge* - Write a regular expression for uppercase words that are at least three characters long (no upper bound on length** </p>\n",
    "\n",
    "```python\n",
    "pattern = re.compile(\" [A-Z] \")\n",
    "matches = pattern.findall(data)\n",
    "print(matches)\n",
    "```\n",
    "    \n",
    "```{admonition} Solution\n",
    ":class: dropdown\n",
    "\n",
    "```python\n",
    "pattern = re.compile(\" [A-Z]{3,6} \")\n",
    "challenge_pattern = re.compile(\" [A-Z]{3,} \")\n",
    "```\n",
    "     \n",
    "</div>"
   ]
  },
  {
   "cell_type": "markdown",
   "metadata": {},
   "source": [
    "Within the matches, you can use parenthesis `()` to create groups. For example, if we wanted to separate the word energy from what followed, we could surround relevant parts with parenthesis. In the pattern below, we've also added a whitespace of length greater than 0 with `\\s+`."
   ]
  },
  {
   "cell_type": "code",
   "execution_count": 18,
   "metadata": {},
   "outputs": [
    {
     "name": "stdout",
     "output_type": "stream",
     "text": [
      "[('Energy', 'Max Grad.      Max Dist. '), ('energy', ':   -3142.5663410 hartrees'), ('energy', ':   -3142.5663410 hartrees'), ('Energy', 'Due to Solvation'), ('Energy', 'SM5.4/A          1.983')]\n"
     ]
    }
   ],
   "source": [
    "pattern = re.compile(\"(energy)\\s*(.+)\", re.IGNORECASE)\n",
    "matches = pattern.findall(data)\n",
    "print(matches)"
   ]
  },
  {
   "cell_type": "code",
   "execution_count": 19,
   "metadata": {},
   "outputs": [
    {
     "data": {
      "text/plain": [
       "('energy', ':   -3142.5663410 hartrees')"
      ]
     },
     "execution_count": 19,
     "metadata": {},
     "output_type": "execute_result"
    }
   ],
   "source": [
    "matches[1]"
   ]
  },
  {
   "cell_type": "markdown",
   "metadata": {},
   "source": [
    "You can imagine how this might be more useful if we wanted to pull out all of the keyword values pairs, ie `word : value`."
   ]
  },
  {
   "cell_type": "code",
   "execution_count": 20,
   "metadata": {},
   "outputs": [],
   "source": [
    "pattern = re.compile(\".+:.+\")"
   ]
  },
  {
   "cell_type": "code",
   "execution_count": 21,
   "metadata": {},
   "outputs": [
    {
     "name": "stdout",
     "output_type": "stream",
     "text": [
      "313\n"
     ]
    }
   ],
   "source": [
    "matches = pattern.findall(data)\n",
    "print(len(matches))"
   ]
  },
  {
   "cell_type": "markdown",
   "metadata": {},
   "source": [
    "When writing a complicated regular expression, it is useful to be able to explain the pattern within the code. You can add a special argument `re.VERBOSE` to allow the use of `#` comments. To make this multiline, use three quotes to start and end your string."
   ]
  },
  {
   "cell_type": "code",
   "execution_count": 22,
   "metadata": {},
   "outputs": [],
   "source": [
    "pattern = re.compile(\"\"\"\n",
    "                        .+             # One or more of any character\n",
    "                        :              # A literal colon\n",
    "                        .+             # One or more of any character excluding newline.\n",
    "                        \"\"\", re.VERBOSE)"
   ]
  },
  {
   "cell_type": "code",
   "execution_count": 23,
   "metadata": {},
   "outputs": [
    {
     "name": "stdout",
     "output_type": "stream",
     "text": [
      "313\n"
     ]
    }
   ],
   "source": [
    "matches = pattern.findall(data)\n",
    "print(len(matches))"
   ]
  },
  {
   "cell_type": "code",
   "execution_count": 24,
   "metadata": {},
   "outputs": [
    {
     "data": {
      "text/plain": [
       "[\"SPARTAN '14 CONFORMATION SEARCH:   (Win/64b)                      Release  1.1.4\",\n",
       " '  Reason for exit: Successful completion ',\n",
       " '  Conformer Program CPU Time :          .30',\n",
       " '  Conformer Program Wall Time:          .07',\n",
       " \"SPARTAN '14 Quantum Mechanics Driver:  (Win/64b)         Release  1.1.4\",\n",
       " 'Job type: Geometry optimization.',\n",
       " 'Method: RB3LYP',\n",
       " 'Basis set: 6-31G(D)',\n",
       " 'Number of shells: 56',\n",
       " 'Number of basis functions: 193',\n",
       " 'Multiplicity: 1',\n",
       " 'Parallel Job: 4 threads',\n",
       " 'Job type: Frequency calculation.',\n",
       " 'Method: RB3LYP',\n",
       " 'Basis set: 6-31G(D)',\n",
       " 'Job type: Single point.',\n",
       " 'Method: RB3LYP',\n",
       " 'Basis set: 6-31G(D)',\n",
       " ' SCF total energy:   -3142.5663410 hartrees',\n",
       " 'Job type: Molecular property calculation.',\n",
       " 'Method: RB3LYP',\n",
       " 'Basis set: 6-31G(D)',\n",
       " ' SCF total energy:   -3142.5663410 hartrees',\n",
       " '  Reason for exit: Successful completion ',\n",
       " '  Quantum Calculation CPU Time :     50:25.28']"
      ]
     },
     "execution_count": 24,
     "metadata": {},
     "output_type": "execute_result"
    }
   ],
   "source": [
    "matches[:25]"
   ]
  },
  {
   "cell_type": "markdown",
   "metadata": {},
   "source": [
    "<div class=\"exercise-this-is-a-title exercise\">\n",
    "<p class=\"exercise-title\">Check your understanding</p>\n",
    "    <p> Add parenthesis to the appropriate place in the regular expression so that each match is grouped into (`key`, `value`). </p>\n",
    "\n",
    "```python\n",
    "pattern = re.compile(\".+:.+\")\n",
    "```\n",
    "    \n",
    "```{admonition} Solution\n",
    ":class: dropdown\n",
    "\n",
    "```python\n",
    "pattern = re.compile(\"(.+):(.+)\")\n",
    "```\n",
    "     \n",
    "</div>"
   ]
  },
  {
   "cell_type": "markdown",
   "metadata": {},
   "source": [
    "This pattern groups keys and values, but also adds zero or more whitespace with the colon to discard the whitespace before the value."
   ]
  },
  {
   "cell_type": "code",
   "execution_count": 25,
   "metadata": {},
   "outputs": [
    {
     "name": "stdout",
     "output_type": "stream",
     "text": [
      "317\n",
      "(\"SPARTAN '14 CONFORMATION SEARCH\", '(Win/64b)                      Release  1.1.4')\n",
      "('  Reason for exit', 'Successful completion ')\n",
      "('  Conformer Program CPU Time ', '.30')\n",
      "('  Conformer Program Wall Time', '.07')\n",
      "(\"SPARTAN '14 Quantum Mechanics Driver\", '(Win/64b)         Release  1.1.4')\n",
      "('Job type', 'Geometry optimization.')\n",
      "('Method', 'RB3LYP')\n",
      "('Basis set', '6-31G(D)')\n",
      "('Number of shells', '56')\n",
      "('Number of basis functions', '193')\n",
      "('Multiplicity', '1')\n",
      "('Parallel Job', '4 threads')\n",
      "('SCF model', 'A restricted hybrid HF-DFT SCF calculation will be')\n",
      "('Optimization', 'Step      Energy          Max Grad.      Max Dist. ')\n",
      "('Job type', 'Frequency calculation.')\n",
      "('Method', 'RB3LYP')\n",
      "('Basis set', '6-31G(D)')\n",
      "('Job type', 'Single point.')\n",
      "('Method', 'RB3LYP')\n",
      "('Basis set', '6-31G(D)')\n",
      "(' SCF total energy', '-3142.5663410 hartrees')\n",
      "('Job type', 'Molecular property calculation.')\n",
      "('Method', 'RB3LYP')\n",
      "('Basis set', '6-31G(D)')\n",
      "(' SCF total energy', '-3142.5663410 hartrees')\n",
      "('  Reason for exit', 'Successful completion ')\n",
      "('  Quantum Calculation CPU Time :     50', '25.28')\n",
      "('  Quantum Calculation Wall Time:     58', '12.93')\n",
      "(\"SPARTAN '14 Semi-Empirical Program\", '(Win/64b)           Release  1.1.4        ')\n",
      "('  Memory Used', '882.13 Kb')\n",
      "('  Reason for exit', 'Successful completion ')\n",
      "('  Semi-Empirical Program CPU Time ', '.33')\n",
      "('  Semi-Empirical Program Wall Time', '.03')\n",
      "('Surface computation Wall Time: 000:00', '04.5')\n",
      "('Surface computation CPU Time: 000:00', '04.5')\n",
      "('QSAR CPU Time:  000:00', '00.7')\n",
      "('QSAR Wall Time: 000:00', '05.2')\n",
      "(\"SPARTAN '14 Properties Program\", '(Win/64b)                     Release  1.1.4  ')\n",
      "('  Model', 'B3LYP/6- ')\n",
      "('  Number of shells', '56')\n",
      "('  Number of basis functions', '193')\n",
      "('  Molecular charge', '0')\n",
      "('  Spin multiplicity', '1')\n",
      "('  Electrons', '108')\n",
      "('Molecular descriptors', 'Molecular volume:       149.53 (Ang**3)')\n",
      "('Surface area', '171.08 (Ang**2)')\n",
      "('Ovality', '1.256')\n",
      "('Atomic weight', '225.012 g')\n",
      "('E(HOMO)', '-0.2616')\n",
      "('E(LUMO)', '-0.0413')\n",
      "('Electronegativity', '0.15')\n",
      "('Hardness', '0.11')\n",
      "('Est. polarizability', '52.086')\n",
      "('LogP (Ghose-Crippen)', '3.78')\n",
      "('  MO', '1          2          3          4          5    ')\n",
      "('  Eigenvalues', '-482.87418  -62.53242  -56.35360  -56.34988  -56.34976')\n",
      "('  MO', '6          7          8          9         10    ')\n",
      "('  Eigenvalues', '-24.73012  -24.73012  -24.72378  -10.43890  -10.26735')\n",
      "('  MO', '11         12         13         14         15    ')\n",
      "('  Eigenvalues', '-10.22875  -10.22411  -10.22408  -10.22282  -10.22282')\n",
      "('  MO', '16         17         18         19         20    ')\n",
      "('  Eigenvalues', '-8.71946   -6.54976   -6.53686   -6.53653   -2.64331')\n",
      "('  MO', '21         22         23         24         25    ')\n",
      "('  Eigenvalues', '-2.63963   -2.63941   -2.62917   -2.62915   -1.30569')\n",
      "('  MO', '26         27         28         29         30    ')\n",
      "('  Eigenvalues', '-1.22058   -1.21529   -0.89659   -0.83068   -0.77898')\n",
      "('  MO', '31         32         33         34         35    ')\n",
      "('  Eigenvalues', '-0.76810   -0.69484   -0.64394   -0.62473   -0.58382')\n",
      "('  MO', '36         37         38         39         40    ')\n",
      "('  Eigenvalues', '-0.58272   -0.57794   -0.49620   -0.48747   -0.47840')\n",
      "('  MO', '41         42         43         44         45    ')\n",
      "('  Eigenvalues', '-0.45875   -0.45851   -0.45487   -0.42628   -0.41857')\n",
      "('  MO', '46         47         48         49         50    ')\n",
      "('  Eigenvalues', '-0.40373   -0.40185   -0.40111   -0.38011   -0.36716')\n",
      "('  MO', '51         52         53         54         55    ')\n",
      "('  Eigenvalues', '-0.32880   -0.30144   -0.28158   -0.26163   -0.04133')\n",
      "('  MO', '56         57         58         59         60    ')\n",
      "('  Eigenvalues', '-0.03083   -0.01484    0.10093    0.10914    0.12276')\n",
      "('  MO', '61         62         63         64         65    ')\n",
      "('  Eigenvalues', '0.13613    0.14724    0.18582    0.18715    0.21082')\n",
      "('  MO', '66         67         68         69         70    ')\n",
      "('  Eigenvalues', '0.21357    0.24266    0.25096    0.26708    0.30527')\n",
      "('  MO', '71         72         73         74         75    ')\n",
      "('  Eigenvalues', '0.31687    0.32036    0.34311    0.35024    0.42380')\n",
      "('  MO', '76         77         78         79         80    ')\n",
      "('  Eigenvalues', '0.47277    0.48094    0.50586    0.51801    0.51818')\n",
      "('  MO', '81         82         83         84         85    ')\n",
      "('  Eigenvalues', '0.55010    0.55814    0.56030    0.56391    0.57779')\n",
      "('  MO', '86         87         88         89         90    ')\n",
      "('  Eigenvalues', '0.58078    0.58427    0.58698    0.60498    0.65053')\n",
      "('  MO', '91         92         93         94         95    ')\n",
      "('  Eigenvalues', '0.67861    0.71020    0.72332    0.74136    0.79291')\n",
      "('  MO', '96         97         98         99        100    ')\n",
      "('  Eigenvalues', '0.80654    0.81106    0.82592    0.84248    0.86627')\n",
      "('  MO', '101        102        103        104        105    ')\n",
      "('  Eigenvalues', '0.87569    0.90676    0.96192    0.96647    0.99502')\n",
      "('  MO', '106        107        108        109        110    ')\n",
      "('  Eigenvalues', '1.05052    1.07442    1.08586    1.12076    1.13496')\n",
      "('  MO', '111        112        113        114        115    ')\n",
      "('  Eigenvalues', '1.13662    1.16888    1.21469    1.21506    1.24578')\n",
      "('  MO', '116        117        118        119        120    ')\n",
      "('  Eigenvalues', '1.32568    1.32818    1.33873    1.36247    1.37563')\n",
      "('  MO', '121        122        123        124        125    ')\n",
      "('  Eigenvalues', '1.37838    1.40237    1.42457    1.43372    1.44270')\n",
      "('  MO', '126        127        128        129        130    ')\n",
      "('  Eigenvalues', '1.47614    1.51746    1.53819    1.64469    1.65565')\n",
      "('  MO', '131        132        133        134        135    ')\n",
      "('  Eigenvalues', '1.66812    1.68761    1.72401    1.76178    1.77351')\n",
      "('  MO', '136        137        138        139        140    ')\n",
      "('  Eigenvalues', '1.83747    1.85068    1.89070    1.90841    1.91736')\n",
      "('  MO', '141        142        143        144        145    ')\n",
      "('  Eigenvalues', '1.94202    1.96284    1.98688    1.98944    2.00606')\n",
      "('  MO', '146        147        148        149        150    ')\n",
      "('  Eigenvalues', '2.03778    2.05113    2.06304    2.08675    2.09427')\n",
      "('  MO', '151        152        153        154        155    ')\n",
      "('  Eigenvalues', '2.11188    2.11863    2.15089    2.16447    2.22791')\n",
      "('  MO', '156        157        158        159        160    ')\n",
      "('  Eigenvalues', '2.23323    2.28021    2.30949    2.37697    2.47973')\n",
      "('  MO', '161        162        163        164        165    ')\n",
      "('  Eigenvalues', '2.49526    2.59063    2.60216    2.62025    2.69276')\n",
      "('  MO', '166        167        168        169        170    ')\n",
      "('  Eigenvalues', '2.71251    2.73635    2.73680    2.76192    2.86154')\n",
      "('  MO', '171        172        173        174        175    ')\n",
      "('  Eigenvalues', '2.90706    3.02095    3.03225    3.07843    3.09087')\n",
      "('  MO', '176        177        178        179        180    ')\n",
      "('  Eigenvalues', '3.36458    4.05458    4.07595    4.08552    4.22065')\n",
      "('  MO', '181        182        183        184        185    ')\n",
      "('  Eigenvalues', '4.29576    4.43412    4.43747    4.54613    4.70124')\n",
      "('  MO', '186        187        188        189        190    ')\n",
      "('  Eigenvalues', '4.70226    4.73711    4.75946    4.86294    4.98169')\n",
      "('  MO', '191        192        193    ')\n",
      "('  Eigenvalues', '5.46282    6.28356   90.36309')\n",
      "('  Dipole moment', 'X =  -0.747860  Y =  -0.097531  Z =   0.000000')\n",
      "('  Total Dipole', '0.754193 Debye')\n",
      "('  Fitted Dipole ', 'x  =   -1.3099,  y  =   -0.0469,  z  =    0.0000  =    1.3107 debye')\n",
      "('  Total MIN occupancy', '107.783940')\n",
      "('  Total RYD occupancy', '0.216060')\n",
      "('  Total occupancy', '108.000000')\n",
      "('  Fitted Dipole ', 'x  =   -3.3259,  y  =   -0.1022,  z  =    0.0000  =    3.3274 debye')\n",
      "('   OCC. THRESH. = 1.90', 'ANTIBOND/RYDBERG OCCUPANCY =    3.6726')\n",
      "('   OCC. THRESH. = 1.80', 'ANTIBOND/RYDBERG OCCUPANCY =    3.6726')\n",
      "('   OCC. THRESH. = 1.70', 'ANTIBOND/RYDBERG OCCUPANCY =    3.6726')\n",
      "('   OCC. THRESH. = 1.60', 'ANTIBOND/RYDBERG OCCUPANCY =    2.4536')\n",
      "('   OCC. THRESH. = 1.50', 'ANTIBOND/RYDBERG OCCUPANCY =    2.4536')\n",
      "('  Total core, lone pair and bond occupancy', '105.5464 ( 97.73%)')\n",
      "('  Total Rydberg and antibond occupancy', '2.4536')\n",
      "('     *C1      C2       ', '1.825      1.3945 [double]')\n",
      "('     *C1      *C2      ', '0.991      1.3945 [single]')\n",
      "('     *C1      Br1      ', '0.993      1.9165 [single]')\n",
      "('     *C4      *C3      ', '1.817      1.3969 [double]')\n",
      "('     *C4      C3       ', '0.987      1.3969 [single]')\n",
      "('     *C4      C7       ', '0.993      1.5050 [single]')\n",
      "('     C2       C3       ', '0.985      1.3938 [single]')\n",
      "('     C2       H2       ', '0.990      1.0842 [sing-H]')\n",
      "('     *C2      *C3      ', '0.985      1.3938 [single]')\n",
      "('     *C2      *H2      ', '0.990      1.0842 [sing-H]')\n",
      "('     *C3      *H3      ', '0.990      1.0849 [sing-H]')\n",
      "('     C3       H3       ', '0.990      1.0849 [sing-H]')\n",
      "('     C7       F1       ', '0.997      1.3512 [single]')\n",
      "('     C7       F2       ', '0.996      1.3534 [single]')\n",
      "('     C7       F3       ', '0.997      1.3512 [single]')\n",
      "('      ... Q0 ', '-0.163538')\n",
      "('      ... Qx ', '-1.851396')\n",
      "('      ... Qy ', '0.016292')\n",
      "('      ... Qz ', '-0.016028')\n",
      "('      ... Qxx', '1.583762')\n",
      "('      ... Qyy', '-1.997099')\n",
      "('      ... Qzz', '0.413337')\n",
      "('      ... Qxy', '-0.023437')\n",
      "('      ... Qxz', '-0.001069')\n",
      "('      ... Qyz', '0.060847')\n",
      "('      ... Q0 ', '-0.307790')\n",
      "('      ... Qx ', '1.468323')\n",
      "('      ... Qy ', '0.065515')\n",
      "('      ... Qz ', '-0.007300')\n",
      "('      ... Qxx', '0.344085')\n",
      "('      ... Qyy', '-0.475027')\n",
      "('      ... Qzz', '0.130942')\n",
      "('      ... Qxy', '-0.023749')\n",
      "('      ... Qxz', '-0.002051')\n",
      "('      ... Qyz', '-0.082442')\n",
      "('      ... Q0 ', '0.178586')\n",
      "('      ... Qx ', '1.411544')\n",
      "('      ... Qy ', '0.002053')\n",
      "('      ... Qz ', '1.267567')\n",
      "('      ... Qxx', '0.516127')\n",
      "('      ... Qyy', '-1.499046')\n",
      "('      ... Qzz', '0.982919')\n",
      "('      ... Qxy', '-0.062188')\n",
      "('      ... Qxz', '0.076552')\n",
      "('      ... Qyz', '-0.047541')\n",
      "('      ... Q0 ', '0.178551')\n",
      "('      ... Qx ', '1.408304')\n",
      "('      ... Qy ', '0.006266')\n",
      "('      ... Qz ', '-1.286343')\n",
      "('      ... Qxx', '0.519581')\n",
      "('      ... Qyy', '-1.489739')\n",
      "('      ... Qzz', '0.970158')\n",
      "('      ... Qxy', '-0.008215')\n",
      "('      ... Qxz', '-0.081349')\n",
      "('      ... Qyz', '0.000064')\n",
      "('      ... Q0 ', '-0.226184')\n",
      "('      ... Qx ', '0.264106')\n",
      "('      ... Qy ', '-0.047609')\n",
      "('      ... Qz ', '-0.801573')\n",
      "('      ... Qxx', '0.279018')\n",
      "('      ... Qyy', '-0.824322')\n",
      "('      ... Qzz', '0.545304')\n",
      "('      ... Qxy', '0.063086')\n",
      "('      ... Qxz', '0.040624')\n",
      "('      ... Qyz', '0.033288')\n",
      "('      ... Q0 ', '-0.228808')\n",
      "('      ... Qx ', '0.273758')\n",
      "('      ... Qy ', '-0.052234')\n",
      "('      ... Qz ', '0.818753')\n",
      "('      ... Qxx', '0.263270')\n",
      "('      ... Qyy', '-0.813509')\n",
      "('      ... Qzz', '0.550239')\n",
      "('      ... Qxy', '-0.036747')\n",
      "('      ... Qxz', '-0.033769')\n",
      "('      ... Qyz', '0.041040')\n",
      "('      ... Q0 ', '1.313248')\n",
      "('      ... Qx ', '0.646083')\n",
      "('      ... Qy ', '0.141190')\n",
      "('      ... Qz ', '-0.049458')\n",
      "('      ... Qxx', '0.158304')\n",
      "('      ... Qyy', '-0.073952')\n",
      "('      ... Qzz', '-0.084352')\n",
      "('      ... Qxy', '0.000739')\n",
      "('      ... Qxz', '-0.004590')\n",
      "('      ... Qyz', '-0.027778')\n",
      "('      ... Q0 ', '-0.463736')\n",
      "('      ... Qx ', '0.424394')\n",
      "('      ... Qy ', '-0.319386')\n",
      "('      ... Qz ', '-0.475098')\n",
      "('      ... Qxx', '-0.247750')\n",
      "('      ... Qyy', '0.133772')\n",
      "('      ... Qzz', '0.113979')\n",
      "('      ... Qxy', '0.095114')\n",
      "('      ... Qxz', '0.047052')\n",
      "('      ... Qyz', '-0.009976')\n",
      "('      ... Q0 ', '-0.481187')\n",
      "('      ... Qx ', '0.318474')\n",
      "('      ... Qy ', '0.685491')\n",
      "('      ... Qz ', '0.008669')\n",
      "('      ... Qxx', '-0.086026')\n",
      "('      ... Qyy', '-0.038164')\n",
      "('      ... Qzz', '0.124190')\n",
      "('      ... Qxy', '-0.022439')\n",
      "('      ... Qxz', '-0.004279')\n",
      "('      ... Qyz', '-0.009291')\n",
      "('      ... Q0 ', '-0.447727')\n",
      "('      ... Qx ', '0.388831')\n",
      "('      ... Qy ', '-0.282775')\n",
      "('      ... Qz ', '0.436155')\n",
      "('      ... Qxx', '-0.240775')\n",
      "('      ... Qyy', '0.121889')\n",
      "('      ... Qzz', '0.118886')\n",
      "('      ... Qxy', '0.064528')\n",
      "('      ... Qxz', '-0.006250')\n",
      "('      ... Qyz', '-0.041871')\n",
      "('      ... Q0 ', '-0.110462')\n",
      "('      ... Qx ', '0.288697')\n",
      "('      ... Qy ', '-0.006979')\n",
      "('      ... Qz ', '0.003238')\n",
      "('      ... Qxx', '4.913063')\n",
      "('      ... Qyy', '-2.410696')\n",
      "('      ... Qzz', '-2.502367')\n",
      "('      ... Qxy', '-0.081163')\n",
      "('      ... Qxz', '0.009367')\n",
      "('      ... Qyz', '-0.011689')\n",
      "('  RMS fit', '2.518255')\n",
      "(' %RMS fit', '503.441352')\n",
      "('  Fitted Dipole ', 'x  =   -1.3967,  y  =   -0.0902,  z  =    0.0003  =    1.3996 debye')\n",
      "('  RMS fit', '4.372352')\n",
      "(' %RMS fit', '420.354455')\n",
      "('  Fitted Dipole ', 'x  =   -1.2761,  y  =   -0.1164,  z  =    0.0000  =    1.2814 debye')\n",
      "(' Atomic Charges', 'Electrostatic Mulliken  Natural ')\n",
      "('   1 *C1      ', '-0.093     +0.018   -0.105 ')\n",
      "('   2 *C4      ', '+0.130     -0.008   -0.173 ')\n",
      "('   3 C2       ', '+0.015     -0.149   -0.240 ')\n",
      "('   4 *C2      ', '+0.015     -0.149   -0.240 ')\n",
      "('   5 *C3      ', '-0.223     -0.153   -0.195 ')\n",
      "('   6 C3       ', '-0.223     -0.153   -0.195 ')\n",
      "('   7 H2       ', '+0.100     +0.168   +0.260 ')\n",
      "('   8 *H2      ', '+0.100     +0.168   +0.260 ')\n",
      "('   9 *H3      ', '+0.156     +0.165   +0.258 ')\n",
      "('  10 H3       ', '+0.156     +0.165   +0.258 ')\n",
      "('  11 C7       ', '+0.338     +0.786   +1.132 ')\n",
      "('  12 F1       ', '-0.144     -0.269   -0.364 ')\n",
      "('  13 F2       ', '-0.149     -0.259   -0.362 ')\n",
      "('  14 F3       ', '-0.144     -0.269   -0.364 ')\n",
      "('  15 Br1      ', '-0.036     -0.062   +0.070 ')\n",
      "('   1 *C1      *C4      ', '0.085    ---  ')\n",
      "('   2 *C1      C2       ', '1.412    1.825')\n",
      "('   3 *C1      *C2      ', '1.412    0.991')\n",
      "('   4 *C1      Br1      ', '0.978    0.993')\n",
      "('   5 *C4      *C3      ', '1.414    1.817')\n",
      "('   6 *C4      C3       ', '1.414    0.987')\n",
      "('   7 *C4      C7       ', '0.973    0.993')\n",
      "('   8 C2       *C3      ', '0.092    ---  ')\n",
      "('   9 C2       C3       ', '1.425    0.985')\n",
      "('  10 C2       H2       ', '0.920    0.990')\n",
      "('  11 C2       Br1      ', '0.027    ---  ')\n",
      "('  12 *C2      *C3      ', '1.425    0.985')\n",
      "('  13 *C2      C3       ', '0.092    ---  ')\n",
      "('  14 *C2      *H2      ', '0.920    0.990')\n",
      "('  15 *C2      Br1      ', '0.027    ---  ')\n",
      "('  16 *C3      *H3      ', '0.916    0.990')\n",
      "('  17 C3       H3       ', '0.916    0.990')\n",
      "('  18 C7       F1       ', '1.003    0.997')\n",
      "('  19 C7       F2       ', '1.035    0.996')\n",
      "('  20 C7       F3       ', '1.003    0.997')\n",
      "(' Vibrational(v) Corrections', 'Temp. Correction    Hv     274.6411  ')\n",
      "('  Reason for exit', 'Successful completion ')\n",
      "('  Properties CPU Time ', '.78')\n",
      "('  Properties Wall Time', '.50')\n"
     ]
    }
   ],
   "source": [
    "pattern = re.compile(\"\"\"\n",
    "                        (.+)                    # One or more letters a-z (any case)\n",
    "                        :\\s*                    # A literal colon followed by 0 or more whitespace\n",
    "                        (.+)             # One or more of any character excluding newline.\n",
    "                     \"\"\", re.VERBOSE)\n",
    "\n",
    "matches = pattern.findall(data)\n",
    "print(len(matches))\n",
    "\n",
    "for match in matches:\n",
    "    print(match)"
   ]
  },
  {
   "cell_type": "markdown",
   "metadata": {},
   "source": [
    "If we wanted to limit these results to the values which have digits, we would have to do some additional work. We could use either `[0-9]` or `\\d` to indicate that we were looking for digits. However, the presence of a decimal complicates things a bit. Doing `\\d+` would only result in integers, while doing something like `\\d+\\.\\d+` (notice the slash in front of the period to escape the decimal) wouldn't result in any integer matches."
   ]
  },
  {
   "cell_type": "code",
   "execution_count": 26,
   "metadata": {},
   "outputs": [
    {
     "name": "stdout",
     "output_type": "stream",
     "text": [
      "('Basis set', '6')\n",
      "('Number of shells', '56')\n",
      "('Number of basis functions', '193')\n",
      "('Multiplicity', '1')\n",
      "('Parallel Job', '4')\n",
      "('Basis set', '6')\n",
      "('Basis set', '6')\n",
      "('Basis set', '6')\n",
      "('  Quantum Calculation CPU Time :     50', '25')\n",
      "('  Quantum Calculation Wall Time:     58', '12')\n"
     ]
    }
   ],
   "source": [
    "pattern = re.compile(\"(.+):\\s*(\\d+)\")\n",
    "matches = pattern.findall(data)\n",
    "for i in range(10):\n",
    "    print(matches[i])"
   ]
  },
  {
   "cell_type": "markdown",
   "metadata": {},
   "source": [
    "You'll notice that we are only pulling out integers.\n",
    "\n",
    "If we modify to have a decimal place (escaped with `\\`) followed by more numbers, we will only have decimal numbers. "
   ]
  },
  {
   "cell_type": "code",
   "execution_count": 27,
   "metadata": {},
   "outputs": [
    {
     "name": "stdout",
     "output_type": "stream",
     "text": [
      "('  Quantum Calculation CPU Time :     50', '25.28')\n",
      "('  Quantum Calculation Wall Time:     58', '12.93')\n",
      "('  Memory Used', '882.13')\n",
      "('Surface computation Wall Time: 000:00', '04.5')\n",
      "('Surface computation CPU Time: 000:00', '04.5')\n",
      "('QSAR CPU Time:  000:00', '00.7')\n",
      "('QSAR Wall Time: 000:00', '05.2')\n",
      "('Molecular volume', '149.53')\n",
      "('Surface area', '171.08')\n",
      "('Ovality', '1.256')\n"
     ]
    }
   ],
   "source": [
    "pattern = re.compile(\"(.+):\\s*(\\d+\\.\\d+)\")\n",
    "matches = pattern.findall(data)\n",
    "for i in range(10):\n",
    "    print(matches[i])"
   ]
  },
  {
   "cell_type": "markdown",
   "metadata": {},
   "source": [
    "We can modify this regular expression and make the decimal optional (matches 1 or 0 times) by following it with a question mark `?`. This means that the decimal is optional. You can then make the first digit have 0 or more repeats. Finally, we need to specify that we might have a negative sign at the start of the number and add `.+` to indicate that more characters (perhaps as units) may follow."
   ]
  },
  {
   "cell_type": "code",
   "execution_count": 28,
   "metadata": {},
   "outputs": [
    {
     "name": "stdout",
     "output_type": "stream",
     "text": [
      "226 matches found!\n",
      "('Conformer Program CPU Time ', '.30')\n",
      "('Conformer Program Wall Time', '.07')\n",
      "('SCF total energy', '-3142.5663410')\n",
      "('SCF total energy', '-3142.5663410')\n",
      "('Quantum Calculation CPU Time :     50', '25.28')\n",
      "('Quantum Calculation Wall Time:     58', '12.93')\n",
      "('Memory Used', '882.13')\n",
      "('Semi-Empirical Program CPU Time ', '.33')\n",
      "('Semi-Empirical Program Wall Time', '.03')\n",
      "('Surface computation Wall Time: 000:00', '04.5')\n",
      "('Surface computation CPU Time: 000:00', '04.5')\n",
      "('QSAR CPU Time:  000:00', '00.7')\n",
      "('QSAR Wall Time: 000:00', '05.2')\n",
      "('Molecular volume', '149.53')\n",
      "('Surface area', '171.08')\n",
      "('Ovality', '1.256')\n",
      "('Atomic weight', '225.012')\n",
      "('E(HOMO)', '-0.2616')\n",
      "('E(LUMO)', '-0.0413')\n",
      "('Electronegativity', '0.15')\n",
      "('Hardness', '0.11')\n",
      "('Est. polarizability', '52.086')\n",
      "('LogP (Ghose-Crippen)', '3.78')\n",
      "('Eigenvalues', '-482.87418')\n",
      "('Eigenvalues', '-24.73012')\n"
     ]
    }
   ],
   "source": [
    "pattern = re.compile(\"([A-Za-z].*):\\s*(-?\\d*\\.\\d+)\\s+\")\n",
    "matches = pattern.findall(data)\n",
    "\n",
    "print(f\"{len(matches)} matches found!\")\n",
    "for i in range(25):\n",
    "    print(matches[i])"
   ]
  },
  {
   "cell_type": "markdown",
   "metadata": {},
   "source": [
    "## \"Greedy\" and \"non-greedy\" matching\n",
    "\n",
    "You'll notice in the file that there is data between various steps. For example, the results from the step where NMR shifts are shown below. You'll notice `<step 3>` starting this block and `<step 4>` ending this block. Let's imagine that we want to pull out all text starting with `<step n>` and ending `<step n+1>`. We might think to match characters in between `<step \\d>`.\n",
    "\n",
    "\n",
    "```raw\n",
    "<step 3>\n",
    "Job type: Single point.\n",
    "Method: RB3LYP\n",
    "Basis set: 6-31G(D)\n",
    " SCF total energy:   -3142.5663410 hartrees\n",
    "\n",
    "\n",
    "  NMR shifts (ppm)\n",
    "       Atom     Isotropic        Rel. Shift \n",
    "  ---------------------------------------------------\n",
    "     1   *C1      50.7941          138.83\n",
    "     2   *C4      64.1012          125.53\n",
    "     3    C2      63.9735          125.65\n",
    "     4   *C2      63.9735          125.65\n",
    "     5   *C3      68.6792          120.95\n",
    "     6    C3      68.6792          120.95\n",
    "     7    H2      24.8868            7.30\n",
    "     8   *H2      24.8868            7.30\n",
    "     9   *H3      24.8117            7.37\n",
    "    10    H3      24.8117            7.37\n",
    "    11    C7      63.3782          126.25\n",
    "    12    F1     273.5747          -93.43\n",
    "    13    F2     248.4779          -68.34\n",
    "    14    F3     273.5747          -93.43\n",
    "    15   Br1    2066.9469 \n",
    "\n",
    "<step 4>\n",
    "```\n",
    "\n",
    "We might write something like the following. Here we are using the flag `re.DOTALL` to make the `.` all characters (including newline)."
   ]
  },
  {
   "cell_type": "code",
   "execution_count": 29,
   "metadata": {},
   "outputs": [],
   "source": [
    "pattern = re.compile(\"<step \\d>.+<step \\d>\", re.DOTALL)\n",
    "matches = pattern.findall(data)"
   ]
  },
  {
   "cell_type": "code",
   "execution_count": 30,
   "metadata": {},
   "outputs": [
    {
     "name": "stdout",
     "output_type": "stream",
     "text": [
      "<step 2>\n",
      "Job type: Frequency calculation.\n",
      "Method: RB3LYP\n",
      "Basis set: 6-31G(D)\n",
      "\n",
      "<step 3>\n",
      "Job type: Single point.\n",
      "Method: RB3LYP\n",
      "Basis set: 6-31G(D)\n",
      " SCF total energy:   -3142.5663410 hartrees\n",
      "\n",
      "\n",
      "  NMR shifts (ppm)\n",
      "       Atom     Isotropic        Rel. Shift \n",
      "  ---------------------------------------------------\n",
      "     1   *C1      50.7941          138.83\n",
      "     2   *C4      64.1012          125.53\n",
      "     3    C2      63.9735          125.65\n",
      "     4   *C2      63.9735          125.65\n",
      "     5   *C3      68.6792          120.95\n",
      "     6    C3      68.6792          120.95\n",
      "     7    H2      24.8868            7.30\n",
      "     8   *H2      24.8868            7.30\n",
      "     9   *H3      24.8117            7.37\n",
      "    10    H3      24.8117            7.37\n",
      "    11    C7      63.3782          126.25\n",
      "    12    F1     273.5747          -93.43\n",
      "    13    F2     248.4779          -68.34\n",
      "    14    F3     273.5747          -93.43\n",
      "    15   Br1    2066.9469 \n",
      "\n",
      "<step 4>\n"
     ]
    }
   ],
   "source": [
    "print(matches[0])"
   ]
  },
  {
   "cell_type": "markdown",
   "metadata": {},
   "source": [
    "You'll notice that this does not quite give us the expected output. It gives us the output all the way to `<step 4>`. This is because by default regular expressions use something called \"greedy matching\". This means that what is returned tries to use as much of the pattern as possible. \n",
    "\n",
    "We will need to add a modifier to our pattern to make it non-greedy. This means it will match as little text as possible. You can add a `question mark` after the `+` (or after the repeat character) to make the expression 'non-greedy'."
   ]
  },
  {
   "cell_type": "markdown",
   "metadata": {},
   "source": []
  },
  {
   "cell_type": "code",
   "execution_count": 31,
   "metadata": {},
   "outputs": [],
   "source": [
    "pattern = re.compile(\"<step \\d>(.+?)<step \\d>\", re.DOTALL)\n",
    "matches = pattern.findall(data)"
   ]
  },
  {
   "cell_type": "code",
   "execution_count": 32,
   "metadata": {},
   "outputs": [
    {
     "name": "stdout",
     "output_type": "stream",
     "text": [
      "Found 1 matches!\n",
      "\n",
      "Job type: Frequency calculation.\n",
      "Method: RB3LYP\n",
      "Basis set: 6-31G(D)\n",
      "\n",
      "\n"
     ]
    }
   ],
   "source": [
    "print(f\"Found {len(matches)} matches!\")\n",
    "print(matches[0])"
   ]
  },
  {
   "cell_type": "markdown",
   "metadata": {},
   "source": [
    "This seems better, but it's still not quit what we want. You'll notice that we are not getting the data in `step 3`. This is because by default matches will not overlap. Since `<step 3>` is used at the end of the first match, it can't be used at the beginning of the next one."
   ]
  },
  {
   "cell_type": "code",
   "execution_count": 33,
   "metadata": {},
   "outputs": [],
   "source": [
    "pattern = re.compile(\"(?=(<step \\d>(.+?)<step \\d>))\", re.DOTALL)\n",
    "matches = pattern.findall(data)"
   ]
  },
  {
   "cell_type": "code",
   "execution_count": 34,
   "metadata": {},
   "outputs": [
    {
     "name": "stdout",
     "output_type": "stream",
     "text": [
      "Found 2 matches!\n",
      "\n",
      "Job type: Single point.\n",
      "Method: RB3LYP\n",
      "Basis set: 6-31G(D)\n",
      " SCF total energy:   -3142.5663410 hartrees\n",
      "\n",
      "\n",
      "  NMR shifts (ppm)\n",
      "       Atom     Isotropic        Rel. Shift \n",
      "  ---------------------------------------------------\n",
      "     1   *C1      50.7941          138.83\n",
      "     2   *C4      64.1012          125.53\n",
      "     3    C2      63.9735          125.65\n",
      "     4   *C2      63.9735          125.65\n",
      "     5   *C3      68.6792          120.95\n",
      "     6    C3      68.6792          120.95\n",
      "     7    H2      24.8868            7.30\n",
      "     8   *H2      24.8868            7.30\n",
      "     9   *H3      24.8117            7.37\n",
      "    10    H3      24.8117            7.37\n",
      "    11    C7      63.3782          126.25\n",
      "    12    F1     273.5747          -93.43\n",
      "    13    F2     248.4779          -68.34\n",
      "    14    F3     273.5747          -93.43\n",
      "    15   Br1    2066.9469 \n",
      "\n",
      "\n"
     ]
    }
   ],
   "source": [
    "print(f\"Found {len(matches)} matches!\")\n",
    "print(matches[1][1])"
   ]
  },
  {
   "cell_type": "markdown",
   "metadata": {},
   "source": [
    "## re.finditer\n",
    "\n",
    "We started with `re.findall` here for simplicity, but an alternative which will give you more information about your matches is to use `re.finditer`. In this case, a iterable will be returned to you rather than a string. You can then iterate through the results with a `for` loop. A lot more information is provided about the matches."
   ]
  },
  {
   "cell_type": "code",
   "execution_count": 35,
   "metadata": {},
   "outputs": [
    {
     "name": "stdout",
     "output_type": "stream",
     "text": [
      "Match span is (1125, 1195)\n",
      "\n",
      "Job type: Frequency calculation.\n",
      "Method: RB3LYP\n",
      "Basis set: 6-31G(D)\n",
      "\n",
      "\n",
      "Match span is (1203, 2043)\n",
      "\n",
      "Job type: Single point.\n",
      "Method: RB3LYP\n",
      "Basis set: 6-31G(D)\n",
      " SCF total energy:   -3142.5663410 hartrees\n",
      "\n",
      "\n",
      "  NMR shifts (ppm)\n",
      "       Atom     Isotropic        Rel. Shift \n",
      "  ---------------------------------------------------\n",
      "     1   *C1      50.7941          138.83\n",
      "     2   *C4      64.1012          125.53\n",
      "     3    C2      63.9735          125.65\n",
      "     4   *C2      63.9735          125.65\n",
      "     5   *C3      68.6792          120.95\n",
      "     6    C3      68.6792          120.95\n",
      "     7    H2      24.8868            7.30\n",
      "     8   *H2      24.8868            7.30\n",
      "     9   *H3      24.8117            7.37\n",
      "    10    H3      24.8117            7.37\n",
      "    11    C7      63.3782          126.25\n",
      "    12    F1     273.5747          -93.43\n",
      "    13    F2     248.4779          -68.34\n",
      "    14    F3     273.5747          -93.43\n",
      "    15   Br1    2066.9469 \n",
      "\n",
      "\n"
     ]
    }
   ],
   "source": [
    "pattern = re.compile(\"(?=(<step \\d>(.+?)<step \\d>))\", re.DOTALL)\n",
    "matches = pattern.finditer(data)\n",
    "for match in matches:\n",
    "    print(f\"Match span is {match.span(2)}\")\n",
    "    print(match.group(2))"
   ]
  },
  {
   "cell_type": "markdown",
   "metadata": {},
   "source": [
    "Regular expressions take practice, but they are worth learning a bit about. It is useful to try out small regexes on online tools like [pythex](https://pythex.org/)."
   ]
  },
  {
   "cell_type": "code",
   "execution_count": null,
   "metadata": {},
   "outputs": [],
   "source": []
  }
 ],
 "metadata": {
  "kernelspec": {
   "display_name": "Python 3",
   "language": "python",
   "name": "python3"
  },
  "language_info": {
   "codemirror_mode": {
    "name": "ipython",
    "version": 3
   },
   "file_extension": ".py",
   "mimetype": "text/x-python",
   "name": "python",
   "nbconvert_exporter": "python",
   "pygments_lexer": "ipython3",
   "version": "3.9.2"
  }
 },
 "nbformat": 4,
 "nbformat_minor": 4
}
