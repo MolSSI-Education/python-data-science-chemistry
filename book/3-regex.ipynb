{
 "cells": [
  {
   "cell_type": "markdown",
   "metadata": {},
   "source": [
    "Regular Expressions\n",
    "=================\n",
    "\n",
    "<div class=\"overview\">\n",
    "   <p class=\"overview-title\">Overview</p>\n",
    "    <p>Questions</p>\n",
    "     <ul>\n",
    "        <li>What is a regular expression?</li>\n",
    "        <li>When should I use regular expressions?</li>\n",
    "    </ul>\n",
    "    <p>Objectives:</p>\n",
    "        <ul>\n",
    "            <li>Use regular expressions to pull information from a complex data file.</li>\n",
    "        </ul>\n",
    "    <p>Keypoints:</p>\n",
    "        <ul>\n",
    "            <li>Regular expressions allow you to define patterns of strings using special metacharacters.</li>\n",
    "        </ul>\n",
    "    </div>\n",
    "\n",
    "In the first Python and Data Scripting Workshop we learned how to parse files using `open`, `readlines`, then looping through the file to find specific phrases. This works fine for some cases, however, there are some times when this will either be slow or impossible.\n",
    "\n",
    "Sometimes, you will want to look for text which resembles a certain pattern. \n",
    "\n",
    "Regular expressions will allow us to define patterns of text we are looking for rather than hardcoding specific phrases. \n",
    "\n",
    "For this section, we will be parsing output files from the Spartan software. This dataset was published as supplemental information for [this paper](https://science.sciencemag.org/content/360/6385/186) where the authors used molecular descriptors obtained from the Spartan software along with machine learning methods to predict reaction yields. \n",
    "\n",
    "To follow along with this section, you should download [this file](https://github.com/doylelab/rxnpredict/blob/master/spartan_molecules/1-bromo-4-(trifluoromethyl)benzene.spardir/M0001/output) and put it in your data folder (name it `output`). \n",
    "\n",
    "We will see later how to loop over all of the files in [this repository](https://github.com/doylelab/rxnpredict). We will be working with files in the `rxnpredict/spartan_molecules` directory. First, we will proof our regular expressions on one file, then we will apply it to all of our files to get our molecular descriptors."
   ]
  },
  {
   "cell_type": "code",
   "execution_count": 1,
   "metadata": {},
   "outputs": [],
   "source": [
    "import os\n",
    "\n",
    "import pandas as pd"
   ]
  },
  {
   "cell_type": "code",
   "execution_count": 2,
   "metadata": {},
   "outputs": [],
   "source": [
    "file_path = os.path.join(\"data\", \"output\")"
   ]
  },
  {
   "cell_type": "markdown",
   "metadata": {},
   "source": [
    "Because this is not a file which is tabular or structured, we can't easily read it using NumPy or pandas. We will use a method from the first Python scripting workshop where we read it in using the `open` function. Note that there are many ways to open files in Python. If you reading a file that is only partially tabular, you may still want to use pandas with appropriate variables on the read functions. However, these files contain a lot of information and are mostly unstructured, so we will first pull out some information using regular expressions.\n",
    "\n",
    "We use the syntax `with open` because this allows us to open and automatically close the file. We will read the file inside the open block. The `read` function in Python is used on an open file object. All of the file contents will be pulled into a `string` called `data`."
   ]
  },
  {
   "cell_type": "code",
   "execution_count": 3,
   "metadata": {},
   "outputs": [],
   "source": [
    "with open(file_path) as f:\n",
    "    data = f.read()"
   ]
  },
  {
   "cell_type": "code",
   "execution_count": 4,
   "metadata": {},
   "outputs": [
    {
     "name": "stdout",
     "output_type": "stream",
     "text": [
      "SPARTAN '14 CONFORMATION SEARCH:   (Win/64b)                      Release  1.1.4\n",
      "\n",
      "\n",
      " Conformation Search\n",
      "\n",
      "\n",
      " Initializing 4 threads\n",
      "\n",
      "  Reason for exit: Successful completion \n",
      "  Conformer Program CPU Time :          .30\n",
      "  Conformer Program Wall Time:          .07\n",
      "\n",
      "SPARTAN '14 Quantum Mechanics Driver:  (Win/64b)         Release  1.1.4\n",
      "\n",
      "Job type: Geometry optimization.\n",
      "Method: RB3LYP\n",
      "Basis set: 6-31G(D)\n",
      "Number of shells: 56\n",
      "Number of basis functions: 193\n",
      "Multiplicity: 1\n",
      "Parallel Job: 4 threads\n",
      "\n",
      "SCF \n"
     ]
    }
   ],
   "source": [
    "# print the first 500 characters of data\n",
    "print(data[:500])"
   ]
  },
  {
   "cell_type": "markdown",
   "metadata": {},
   "source": [
    "## Basic Matching\n",
    "\n",
    "We are going to process this file using regular expressions. Regular expressions will let us define patterns that we want to look for in our text. To use regular expressions, you start by importing the appropriate module - `import re`."
   ]
  },
  {
   "cell_type": "code",
   "execution_count": 5,
   "metadata": {},
   "outputs": [],
   "source": [
    "import re"
   ]
  },
  {
   "cell_type": "markdown",
   "metadata": {},
   "source": [
    "At it's simplest, regular expressions match the exact pattern yoou specify. For example, if we wanted to find all the places the word `energy` occurred in the file, we could do that.\n",
    "\n",
    "We create a regular expression pattern by using `re.compile`. Inside this function, you put the pattern you want to look for. Then you use `pattern.findall` and pass the string you would like to search as an argument. The function will return a list of matches in the text."
   ]
  },
  {
   "cell_type": "code",
   "execution_count": 6,
   "metadata": {},
   "outputs": [],
   "source": [
    "pattern = re.compile(\"energy\")"
   ]
  },
  {
   "cell_type": "code",
   "execution_count": 7,
   "metadata": {},
   "outputs": [
    {
     "name": "stdout",
     "output_type": "stream",
     "text": [
      "['energy', 'energy']\n"
     ]
    }
   ],
   "source": [
    "matches = pattern.findall(data)\n",
    "print(matches)"
   ]
  },
  {
   "cell_type": "markdown",
   "metadata": {},
   "source": [
    "## Using metacharacters\n",
    "\n",
    "This is not that interesting, but we can see that the word \"energy\" is found twice in the text. You'll notice here that this text matches exactly, as in it is only showing us when the word `energy` (lowercase `e`) is found. This is where the power of regular expressions can come in. Let's imagine that you want to look for either the word `energy` or the word `Energy`. You can modify your regular expression to use special characters to tell the regular expression that either letter is okay.\n",
    "\n",
    "To do matches other than matching for the literal character, you use special characters in your regular expressions (referred to as `metacharacters`). Here are some examples of metacharacters:\n",
    "\n",
    "```\n",
    ". ^ $ * + ? { } [ ] \\ | ( )\n",
    "```\n",
    "\n",
    "The first we will use is `[ ]`. For regular expressions, these indicate a class of characters you want to search for. For example, to look for `e` or `E`, we could use `[Ee]`."
   ]
  },
  {
   "cell_type": "code",
   "execution_count": 8,
   "metadata": {},
   "outputs": [],
   "source": [
    "pattern = re.compile(\"[Ee]nergy\")"
   ]
  },
  {
   "cell_type": "code",
   "execution_count": 9,
   "metadata": {},
   "outputs": [
    {
     "name": "stdout",
     "output_type": "stream",
     "text": [
      "['Energy', 'energy', 'energy', 'Energy', 'Energy']\n"
     ]
    }
   ],
   "source": [
    "matches = pattern.findall(data)\n",
    "print(matches)"
   ]
  },
  {
   "cell_type": "markdown",
   "metadata": {},
   "source": [
    "This is just a simple example. Note that we could have also achieved a similar result to the one shown above by specifying `re.IGNORECASE` in our pattern. Then case would be ignored entirely in our matches."
   ]
  },
  {
   "cell_type": "code",
   "execution_count": 10,
   "metadata": {},
   "outputs": [],
   "source": [
    "pattern = re.compile(\"energy\", re.IGNORECASE)"
   ]
  },
  {
   "cell_type": "code",
   "execution_count": 11,
   "metadata": {},
   "outputs": [
    {
     "name": "stdout",
     "output_type": "stream",
     "text": [
      "['Energy', 'energy', 'energy', 'Energy', 'Energy']\n"
     ]
    }
   ],
   "source": [
    "matches = pattern.findall(data)\n",
    "print(matches)"
   ]
  },
  {
   "cell_type": "markdown",
   "metadata": {},
   "source": [
    "Let's keep building on one of these and get what follows the word \"energy\". Another special character recognized by `regex` is the period. The period means `any character except a new line`. If we add a period after the word `energy`, it will match the word `energy` (case insensitive) followed by any character except a newline."
   ]
  },
  {
   "cell_type": "code",
   "execution_count": 12,
   "metadata": {},
   "outputs": [],
   "source": [
    "pattern = re.compile(\"energy.\", re.IGNORECASE)"
   ]
  },
  {
   "cell_type": "code",
   "execution_count": 13,
   "metadata": {},
   "outputs": [
    {
     "name": "stdout",
     "output_type": "stream",
     "text": [
      "['Energy ', 'energy:', 'energy:', 'Energy ', 'Energy ']\n"
     ]
    }
   ],
   "source": [
    "matches = pattern.findall(data)\n",
    "print(matches)"
   ]
  },
  {
   "cell_type": "markdown",
   "metadata": {},
   "source": [
    "After adding the dot, you will see another trailing character has been added to our results. \n",
    "\n",
    "We can specify how many times we want a special character or group of characters repeated by using `{}` and specifying the number of times. For example, the following will get the two following characters. "
   ]
  },
  {
   "cell_type": "code",
   "execution_count": 14,
   "metadata": {},
   "outputs": [],
   "source": [
    "pattern = re.compile(\"energy.{2}\", re.IGNORECASE)"
   ]
  },
  {
   "cell_type": "code",
   "execution_count": 15,
   "metadata": {},
   "outputs": [
    {
     "name": "stdout",
     "output_type": "stream",
     "text": [
      "['Energy  ', 'energy: ', 'energy: ', 'Energy D', 'Energy S']\n"
     ]
    }
   ],
   "source": [
    "matches = pattern.findall(data)\n",
    "print(matches)"
   ]
  },
  {
   "cell_type": "markdown",
   "metadata": {},
   "source": [
    "You can also use `*` to specify 0 or more matches, or `+` to specify one or more matches. In this case, you do not need the curly braces `{}`. In general, this is the pattern you will follow when not doing exact matches. You will define something using the special metacharacters, followed by how many times to look for that metacharacter."
   ]
  },
  {
   "cell_type": "code",
   "execution_count": 16,
   "metadata": {},
   "outputs": [
    {
     "name": "stdout",
     "output_type": "stream",
     "text": [
      "['Energy          Max Grad.      Max Dist. ', 'energy:   -3142.5663410 hartrees', 'energy:   -3142.5663410 hartrees', 'Energy Due to Solvation', 'Energy SM5.4/A          1.983']\n"
     ]
    }
   ],
   "source": [
    "pattern = re.compile(\"energy.+\", re.IGNORECASE)\n",
    "matches = pattern.findall(data)\n",
    "print(matches)"
   ]
  },
  {
   "cell_type": "markdown",
   "metadata": {},
   "source": [
    "Within the matches, you can use parenthesis `()` to create groups. For example, if we wanted to separate the word energy from what followed, we could surround relevant parts with parenthesis."
   ]
  },
  {
   "cell_type": "code",
   "execution_count": 17,
   "metadata": {},
   "outputs": [
    {
     "name": "stdout",
     "output_type": "stream",
     "text": [
      "[('Energy', '          Max Grad.      Max Dist. '), ('energy', ':   -3142.5663410 hartrees'), ('energy', ':   -3142.5663410 hartrees'), ('Energy', ' Due to Solvation'), ('Energy', ' SM5.4/A          1.983')]\n"
     ]
    }
   ],
   "source": [
    "pattern = re.compile(\"(energy)(.+)\", re.IGNORECASE)\n",
    "matches = pattern.findall(data)\n",
    "print(matches)"
   ]
  },
  {
   "cell_type": "code",
   "execution_count": 18,
   "metadata": {},
   "outputs": [
    {
     "data": {
      "text/plain": [
       "('Energy', '          Max Grad.      Max Dist. ')"
      ]
     },
     "execution_count": 18,
     "metadata": {},
     "output_type": "execute_result"
    }
   ],
   "source": [
    "matches[0]"
   ]
  },
  {
   "cell_type": "markdown",
   "metadata": {},
   "source": [
    "You can imagine how this might be more useful if we wanted to pull out all of the keyword values pairs, ie `word : value`.\n",
    "\n",
    "In this case, the pattern we would look for is first that a \"word\" occurs. We could define a \"word\" as a collection of letters. One way we might express that is `[A-Z]`. This would match all letters `A-Z`, to make this be any case, we would use `[A-Za-z]`. \n",
    "\n",
    "Here is an explanation of that pattern:\n",
    "\n",
    "| Regex   | Explanation |\n",
    "| ------  | ----------- |\n",
    "|[A-Za-z] |matches any character A-Z or any character a-z\n",
    "| +       | the preceeding pattern occurs one or more times |\n",
    "| .       | any character except the newline character |\n",
    "| +       | the preceeding pattern occurs one or more times |\n",
    "| :       | matches a literal colon |\n",
    "| .       | matches any character except a newline |\n",
    "| +       | the preceeding pattern occurs one or more times |\n"
   ]
  },
  {
   "cell_type": "code",
   "execution_count": 19,
   "metadata": {},
   "outputs": [],
   "source": [
    "pattern = re.compile(\"[A-Za-z]+.+:.+\")"
   ]
  },
  {
   "cell_type": "code",
   "execution_count": 20,
   "metadata": {},
   "outputs": [
    {
     "name": "stdout",
     "output_type": "stream",
     "text": [
      "313\n"
     ]
    }
   ],
   "source": [
    "matches = pattern.findall(data)\n",
    "print(len(matches))"
   ]
  },
  {
   "cell_type": "code",
   "execution_count": 21,
   "metadata": {},
   "outputs": [
    {
     "name": "stdout",
     "output_type": "stream",
     "text": [
      "SPARTAN '14 CONFORMATION SEARCH:   (Win/64b)                      Release  1.1.4\n",
      "Reason for exit: Successful completion \n",
      "Conformer Program CPU Time :          .30\n",
      "Conformer Program Wall Time:          .07\n",
      "SPARTAN '14 Quantum Mechanics Driver:  (Win/64b)         Release  1.1.4\n",
      "Job type: Geometry optimization.\n",
      "Method: RB3LYP\n",
      "Basis set: 6-31G(D)\n",
      "Number of shells: 56\n",
      "Number of basis functions: 193\n",
      "Multiplicity: 1\n",
      "Parallel Job: 4 threads\n",
      "Job type: Frequency calculation.\n",
      "Method: RB3LYP\n",
      "Basis set: 6-31G(D)\n",
      "Job type: Single point.\n",
      "Method: RB3LYP\n",
      "Basis set: 6-31G(D)\n",
      "SCF total energy:   -3142.5663410 hartrees\n",
      "Job type: Molecular property calculation.\n",
      "Method: RB3LYP\n",
      "Basis set: 6-31G(D)\n",
      "SCF total energy:   -3142.5663410 hartrees\n",
      "Reason for exit: Successful completion \n",
      "Quantum Calculation CPU Time :     50:25.28\n",
      "Quantum Calculation Wall Time:     58:12.93\n",
      "SPARTAN '14 Semi-Empirical Program:  (Win/64b)           Release  1.1.4        \n",
      "Memory Used:         882.13 Kb\n",
      "Reason for exit: Successful completion \n",
      "Semi-Empirical Program CPU Time :          .33\n",
      "Semi-Empirical Program Wall Time:          .03\n",
      "Surface computation Wall Time: 000:00:04.5\n",
      "Surface computation CPU Time: 000:00:04.5\n",
      "QSAR CPU Time:  000:00:00.7\n",
      "QSAR Wall Time: 000:00:05.2\n",
      "SPARTAN '14 Properties Program:  (Win/64b)                     Release  1.1.4  \n",
      "Model: B3LYP/6- \n",
      "Number of shells:   56\n",
      "Number of basis functions:   193\n",
      "Molecular charge:   0\n",
      "Spin multiplicity:  1\n",
      "Electrons:         108\n",
      "Molecular volume:       149.53 (Ang**3)\n",
      "Surface area:           171.08 (Ang**2)\n",
      "Ovality:                  1.256\n",
      "Atomic weight:          225.012 g\n",
      "E(HOMO):                 -0.2616\n",
      "E(LUMO):                 -0.0413\n",
      "Electronegativity:        0.15\n",
      "Hardness:                 0.11\n"
     ]
    }
   ],
   "source": [
    "for i in range(50):\n",
    "    print(matches[i])"
   ]
  },
  {
   "cell_type": "markdown",
   "metadata": {},
   "source": [
    "<div class=\"exercise-this-is-a-title exercise\">\n",
    "<p class=\"exercise-title\">Check your understanding</p>\n",
    "    <p> Add parenthesis to the appropriate place in the regular expression so that each match is grouped into (`key`, `value`). </p>\n",
    "\n",
    "```python\n",
    "pattern = re.compile(\"[A-Za-z]+.+:.+\")\n",
    "```\n",
    "    \n",
    "```{admonition} Solution\n",
    ":class: dropdown\n",
    "\n",
    "```python\n",
    "pattern = re.compile(\"([A-Za-z]+.+):(.+)\")\n",
    "```\n",
    "     \n",
    "</div>"
   ]
  },
  {
   "cell_type": "markdown",
   "metadata": {},
   "source": [
    "If we wanted to limit these responses to digits, we would have to do some additional work. We could use either `[0-9]` or `\\d` to indicate that we were looking for digits. However, the presence of a decimal complicates things a bit. Doing `\\d+` would only result in integers, while doing something like `\\d+\\.\\d+` (notice the slash in front of the period to escape the decimal) wouldn't result in any integer matches."
   ]
  },
  {
   "cell_type": "code",
   "execution_count": 22,
   "metadata": {},
   "outputs": [
    {
     "name": "stdout",
     "output_type": "stream",
     "text": [
      "('Basis set', '6')\n",
      "('Number of shells', '56')\n",
      "('Number of basis functions', '193')\n",
      "('Multiplicity', '1')\n",
      "('Parallel Job', '4')\n",
      "('Basis set', '6')\n",
      "('Basis set', '6')\n",
      "('Basis set', '6')\n",
      "('Quantum Calculation CPU Time :     50', '25')\n",
      "('Quantum Calculation Wall Time:     58', '12')\n"
     ]
    }
   ],
   "source": [
    "pattern = re.compile(\"([A-Za-z]+.+):\\s*(\\d+)\")\n",
    "matches = pattern.findall(data)\n",
    "for i in range(10):\n",
    "    print(matches[i])"
   ]
  },
  {
   "cell_type": "markdown",
   "metadata": {},
   "source": [
    "In the example above, we've also added the possibility of encountering whitespace using `\\s`. You'll notice that we are only pulling out integers.\n",
    "\n",
    "If we modify to have a decimal place (escaped with `\\`) followed by more numbers, we will only have decimal numbers. "
   ]
  },
  {
   "cell_type": "code",
   "execution_count": 23,
   "metadata": {},
   "outputs": [
    {
     "name": "stdout",
     "output_type": "stream",
     "text": [
      "('Quantum Calculation CPU Time :     50', '25.28')\n",
      "('Quantum Calculation Wall Time:     58', '12.93')\n",
      "('Memory Used', '882.13')\n",
      "('Surface computation Wall Time: 000:00', '04.5')\n",
      "('Surface computation CPU Time: 000:00', '04.5')\n",
      "('QSAR CPU Time:  000:00', '00.7')\n",
      "('QSAR Wall Time: 000:00', '05.2')\n",
      "('Molecular volume', '149.53')\n",
      "('Surface area', '171.08')\n",
      "('Ovality', '1.256')\n"
     ]
    }
   ],
   "source": [
    "pattern = re.compile(\"([A-Za-z]+.+):\\s*(\\d+\\.\\d+)\")\n",
    "matches = pattern.findall(data)\n",
    "for i in range(10):\n",
    "    print(matches[i])"
   ]
  },
  {
   "cell_type": "markdown",
   "metadata": {},
   "source": [
    "We can modify this regular expression and make the decimal optional (matches 1 or 0 times) by following it with a question mark `?`. This means that the decimal is optional. You can then make the first digit have 0 or more repeats. Finally, we need to specify that we might have a negative sign at the start of the number."
   ]
  },
  {
   "cell_type": "code",
   "execution_count": 24,
   "metadata": {},
   "outputs": [
    {
     "name": "stdout",
     "output_type": "stream",
     "text": [
      "('Conformer Program CPU Time ', '.30')\n",
      "('Conformer Program Wall Time', '.07')\n",
      "('Basis set', '6')\n",
      "('Number of shells', '56')\n",
      "('Number of basis functions', '193')\n",
      "('Multiplicity', '1')\n",
      "('Parallel Job', '4')\n",
      "('Basis set', '6')\n",
      "('Basis set', '6')\n",
      "('SCF total energy', '-3142.5663410')\n",
      "('Basis set', '6')\n",
      "('SCF total energy', '-3142.5663410')\n",
      "('Quantum Calculation CPU Time :     50', '25.28')\n",
      "('Quantum Calculation Wall Time:     58', '12.93')\n",
      "('Memory Used', '882.13')\n",
      "('Semi-Empirical Program CPU Time ', '.33')\n",
      "('Semi-Empirical Program Wall Time', '.03')\n",
      "('Surface computation Wall Time: 000:00', '04.5')\n",
      "('Surface computation CPU Time: 000:00', '04.5')\n",
      "('QSAR CPU Time:  000:00', '00.7')\n",
      "('QSAR Wall Time: 000:00', '05.2')\n",
      "('Number of shells', '56')\n",
      "('Number of basis functions', '193')\n",
      "('Molecular charge', '0')\n",
      "('Spin multiplicity', '1')\n"
     ]
    }
   ],
   "source": [
    "pattern = re.compile(\"([A-Za-z]+.*):\\s*(-?\\d*\\.?\\d+)\")\n",
    "matches = pattern.findall(data)\n",
    "for i in range(25):\n",
    "    print(matches[i])"
   ]
  },
  {
   "cell_type": "markdown",
   "metadata": {},
   "source": [
    "## \"Greedy\" and \"non-greedy\" matching\n",
    "\n",
    "You'll notice in the file that there is data between various steps. For example, the results from the step where NMR shifts are shown below. You'll notice `<step 3>` starting this block and `<step 4>` ending this block. Let's imagine that we want to pull out all text starting with `<step n>` and ending `<step n+1>`. We might think to match characters in between `<step \\d>`.\n",
    "\n",
    "\n",
    "```raw\n",
    "<step 3>\n",
    "Job type: Single point.\n",
    "Method: RB3LYP\n",
    "Basis set: 6-31G(D)\n",
    " SCF total energy:   -3142.5663410 hartrees\n",
    "\n",
    "\n",
    "  NMR shifts (ppm)\n",
    "       Atom     Isotropic        Rel. Shift \n",
    "  ---------------------------------------------------\n",
    "     1   *C1      50.7941          138.83\n",
    "     2   *C4      64.1012          125.53\n",
    "     3    C2      63.9735          125.65\n",
    "     4   *C2      63.9735          125.65\n",
    "     5   *C3      68.6792          120.95\n",
    "     6    C3      68.6792          120.95\n",
    "     7    H2      24.8868            7.30\n",
    "     8   *H2      24.8868            7.30\n",
    "     9   *H3      24.8117            7.37\n",
    "    10    H3      24.8117            7.37\n",
    "    11    C7      63.3782          126.25\n",
    "    12    F1     273.5747          -93.43\n",
    "    13    F2     248.4779          -68.34\n",
    "    14    F3     273.5747          -93.43\n",
    "    15   Br1    2066.9469 \n",
    "\n",
    "<step 4>\n",
    "```\n",
    "\n",
    "We might write something like the following. Here we are using the flag `re.DOTALL` to make the `.` all characters (including newline)."
   ]
  },
  {
   "cell_type": "code",
   "execution_count": 25,
   "metadata": {},
   "outputs": [],
   "source": [
    "pattern = re.compile(\"<step \\d>.+<step \\d>\", re.DOTALL)\n",
    "matches = pattern.findall(data)"
   ]
  },
  {
   "cell_type": "code",
   "execution_count": 26,
   "metadata": {},
   "outputs": [
    {
     "name": "stdout",
     "output_type": "stream",
     "text": [
      "<step 2>\n",
      "Job type: Frequency calculation.\n",
      "Method: RB3LYP\n",
      "Basis set: 6-31G(D)\n",
      "\n",
      "<step 3>\n",
      "Job type: Single point.\n",
      "Method: RB3LYP\n",
      "Basis set: 6-31G(D)\n",
      " SCF total energy:   -3142.5663410 hartrees\n",
      "\n",
      "\n",
      "  NMR shifts (ppm)\n",
      "       Atom     Isotropic        Rel. Shift \n",
      "  ---------------------------------------------------\n",
      "     1   *C1      50.7941          138.83\n",
      "     2   *C4      64.1012          125.53\n",
      "     3    C2      63.9735          125.65\n",
      "     4   *C2      63.9735          125.65\n",
      "     5   *C3      68.6792          120.95\n",
      "     6    C3      68.6792          120.95\n",
      "     7    H2      24.8868            7.30\n",
      "     8   *H2      24.8868            7.30\n",
      "     9   *H3      24.8117            7.37\n",
      "    10    H3      24.8117            7.37\n",
      "    11    C7      63.3782          126.25\n",
      "    12    F1     273.5747          -93.43\n",
      "    13    F2     248.4779          -68.34\n",
      "    14    F3     273.5747          -93.43\n",
      "    15   Br1    2066.9469 \n",
      "\n",
      "<step 4>\n"
     ]
    }
   ],
   "source": [
    "print(matches[0])"
   ]
  },
  {
   "cell_type": "markdown",
   "metadata": {},
   "source": [
    "You'll notice that this does not quite give us the expected output. It gives us the output all the way to `<step 4>`. This is because by default regular expressions use something called \"greedy matching\". This means that what is returned tries to use as much of the pattern as possible. \n",
    "\n",
    "We will need to add a modifier to our pattern to make it non-greedy. This means it will match as little text as possible. You can add a `question mark` after the `+` (or after the repeat character) to make the expression 'non-greedy'."
   ]
  },
  {
   "cell_type": "markdown",
   "metadata": {},
   "source": []
  },
  {
   "cell_type": "code",
   "execution_count": 27,
   "metadata": {},
   "outputs": [],
   "source": [
    "pattern = re.compile(\"<step \\d>(.+?)<step \\d>\", re.DOTALL)\n",
    "matches = pattern.findall(data)"
   ]
  },
  {
   "cell_type": "code",
   "execution_count": 28,
   "metadata": {},
   "outputs": [
    {
     "name": "stdout",
     "output_type": "stream",
     "text": [
      "Found 1 matches!\n",
      "\n",
      "Job type: Frequency calculation.\n",
      "Method: RB3LYP\n",
      "Basis set: 6-31G(D)\n",
      "\n",
      "\n"
     ]
    }
   ],
   "source": [
    "print(f\"Found {len(matches)} matches!\")\n",
    "print(matches[0])"
   ]
  },
  {
   "cell_type": "markdown",
   "metadata": {},
   "source": [
    "This seems better, but it's still not quit what we want. You'll notice that we are not getting the data in `step 3`. This is because by default matches will not overlap. Since `<step 3>` is used at the end of the first match, it can't be used at the beginning of the next one."
   ]
  },
  {
   "cell_type": "code",
   "execution_count": 29,
   "metadata": {},
   "outputs": [],
   "source": [
    "pattern = re.compile(\"(?=(<step \\d>(.+?)<step \\d>))\", re.DOTALL)\n",
    "matches = pattern.findall(data)"
   ]
  },
  {
   "cell_type": "code",
   "execution_count": 30,
   "metadata": {},
   "outputs": [
    {
     "name": "stdout",
     "output_type": "stream",
     "text": [
      "Found 2 matches!\n",
      "\n",
      "Job type: Single point.\n",
      "Method: RB3LYP\n",
      "Basis set: 6-31G(D)\n",
      " SCF total energy:   -3142.5663410 hartrees\n",
      "\n",
      "\n",
      "  NMR shifts (ppm)\n",
      "       Atom     Isotropic        Rel. Shift \n",
      "  ---------------------------------------------------\n",
      "     1   *C1      50.7941          138.83\n",
      "     2   *C4      64.1012          125.53\n",
      "     3    C2      63.9735          125.65\n",
      "     4   *C2      63.9735          125.65\n",
      "     5   *C3      68.6792          120.95\n",
      "     6    C3      68.6792          120.95\n",
      "     7    H2      24.8868            7.30\n",
      "     8   *H2      24.8868            7.30\n",
      "     9   *H3      24.8117            7.37\n",
      "    10    H3      24.8117            7.37\n",
      "    11    C7      63.3782          126.25\n",
      "    12    F1     273.5747          -93.43\n",
      "    13    F2     248.4779          -68.34\n",
      "    14    F3     273.5747          -93.43\n",
      "    15   Br1    2066.9469 \n",
      "\n",
      "\n"
     ]
    }
   ],
   "source": [
    "print(f\"Found {len(matches)} matches!\")\n",
    "print(matches[1][1])"
   ]
  },
  {
   "cell_type": "markdown",
   "metadata": {},
   "source": [
    "## re.finditer\n",
    "\n",
    "We started with `re.findall` here for simplicity, but an alternative which will give you more information about your matches is to use `re.finditer`. In this case, a iterable will be returned to you rather than a string. You can then iterate through the results with a `for` loop. A lot more information is provided about the matches."
   ]
  },
  {
   "cell_type": "code",
   "execution_count": 31,
   "metadata": {},
   "outputs": [
    {
     "name": "stdout",
     "output_type": "stream",
     "text": [
      "Match span is (1125, 1195)\n",
      "\n",
      "Job type: Frequency calculation.\n",
      "Method: RB3LYP\n",
      "Basis set: 6-31G(D)\n",
      "\n",
      "\n",
      "Match span is (1203, 2043)\n",
      "\n",
      "Job type: Single point.\n",
      "Method: RB3LYP\n",
      "Basis set: 6-31G(D)\n",
      " SCF total energy:   -3142.5663410 hartrees\n",
      "\n",
      "\n",
      "  NMR shifts (ppm)\n",
      "       Atom     Isotropic        Rel. Shift \n",
      "  ---------------------------------------------------\n",
      "     1   *C1      50.7941          138.83\n",
      "     2   *C4      64.1012          125.53\n",
      "     3    C2      63.9735          125.65\n",
      "     4   *C2      63.9735          125.65\n",
      "     5   *C3      68.6792          120.95\n",
      "     6    C3      68.6792          120.95\n",
      "     7    H2      24.8868            7.30\n",
      "     8   *H2      24.8868            7.30\n",
      "     9   *H3      24.8117            7.37\n",
      "    10    H3      24.8117            7.37\n",
      "    11    C7      63.3782          126.25\n",
      "    12    F1     273.5747          -93.43\n",
      "    13    F2     248.4779          -68.34\n",
      "    14    F3     273.5747          -93.43\n",
      "    15   Br1    2066.9469 \n",
      "\n",
      "\n"
     ]
    }
   ],
   "source": [
    "pattern = re.compile(\"(?=(<step \\d>(.+?)<step \\d>))\", re.DOTALL)\n",
    "matches = pattern.finditer(data)\n",
    "for match in matches:\n",
    "    print(f\"Match span is {match.span(2)}\")\n",
    "    print(match.group(2))"
   ]
  },
  {
   "cell_type": "markdown",
   "metadata": {},
   "source": [
    "Regular expressions take practice, but they are worth learning a bit about. It is useful to try out small regexes on online tools like [pythex](https://pythex.org/)."
   ]
  },
  {
   "cell_type": "code",
   "execution_count": null,
   "metadata": {},
   "outputs": [],
   "source": []
  }
 ],
 "metadata": {
  "kernelspec": {
   "display_name": "Python 3",
   "language": "python",
   "name": "python3"
  },
  "language_info": {
   "codemirror_mode": {
    "name": "ipython",
    "version": 3
   },
   "file_extension": ".py",
   "mimetype": "text/x-python",
   "name": "python",
   "nbconvert_exporter": "python",
   "pygments_lexer": "ipython3",
   "version": "3.9.2"
  }
 },
 "nbformat": 4,
 "nbformat_minor": 4
}
