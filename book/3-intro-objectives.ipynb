{
 "cells": [
  {
   "cell_type": "markdown",
   "metadata": {},
   "source": [
    "Session 3\n",
    "========"
   ]
  },
  {
   "cell_type": "markdown",
   "metadata": {},
   "source": [
    "<div class=\"overview\">\n",
    "   <p class=\"overview-title\">Session 3 Overview</p>\n",
    "    \n",
    "<p>In this session, we will learrn how to use `scikitlearn` to fit a linear model to the data we cleaned in the last session.</p>\n",
    "    \n",
    "<p>We will also discuss an alternate way to search strings and parse files called regular expressions. Regular expressions allow you to define patterns you are looking for in a string, rather than a specific phrase.</p>\n",
    "    \n",
    "    \n",
    "<p>At the end of this session, you should be able to answer these questions.</p>\n",
    "    <p class=\"overview-sub\">Linear Fitting with SciKit Learn</p>\n",
    "    <ul>\n",
    "        <li>How can I fit a linear equation using scikitlearn?</li>\n",
    "        <li>How can I fit a linear equation with multiple variables using scikitlearn?</li>\n",
    "    </ul>\n",
    "    <p class=\"overview-sub\">Regular Expression</p>\n",
    "    <ul>\n",
    "        <li>What is a regular expression?</li>\n",
    "        <li>When should I use regular expressions?</li>\n",
    "    </ul>\n",
    "</div>\n"
   ]
  },
  {
   "cell_type": "code",
   "execution_count": null,
   "metadata": {},
   "outputs": [],
   "source": []
  }
 ],
 "metadata": {
  "kernelspec": {
   "display_name": "Python 3",
   "language": "python",
   "name": "python3"
  },
  "language_info": {
   "codemirror_mode": {
    "name": "ipython",
    "version": 3
   },
   "file_extension": ".py",
   "mimetype": "text/x-python",
   "name": "python",
   "nbconvert_exporter": "python",
   "pygments_lexer": "ipython3",
   "version": "3.9.2"
  }
 },
 "nbformat": 4,
 "nbformat_minor": 4
}
