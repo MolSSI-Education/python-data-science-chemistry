{
 "cells": [
  {
   "cell_type": "markdown",
   "metadata": {},
   "source": [
    "Reading data from PDFs \n",
    "====================\n",
    "\n",
    "So far, we have been working with data that is fairly 'clean'. This means that, for the most part, our data didn't have too many missing values and had the right data type. This is more often the case when the data we are working with is prepared to be machine readable in the first place (more 'modern' data).\n",
    "\n",
    "Data you would like to work with, however, may not always be 'clean', particularly if you are working with older data. For example, you might want to work with or analyze data from published papers. In these cases, the data may be in tables in pdf.\n",
    "\n",
    "This section covers some python libraries that can be used to get data from pdfs. We will 'clean' the data using pandas in the next lesson. \n",
    "\n",
    "We'll be grabbing data from the following paper, cleaning it, and fitting the data using python:\n",
    "\n",
    "> Potts, R.O., Guy, R.H. A Predictive Algorithm for Skin Permeability: The Effects of Molecular Size and Hydrogen Bond Activity. Pharm Res 12, 1628–1633 (1995). https://doi.org/10.1023/A:1016236932339\n",
    "\n",
    "\n",
    "In this paper, the authors make a model for predicting skin permeability of molecules based on simple molecular descriptors. This paper was published in 1995, so this will definitely not be the best method. It is, however, a nice example of the kinds of things you can do with Python.\n",
    "\n",
    "Access and download the paper [here](https://link.springer.com/article/10.1023/A:1016236932339). Save the paper in a directory called `pdfs` to match what we have for this notebook."
   ]
  },
  {
   "cell_type": "code",
   "execution_count": 1,
   "metadata": {},
   "outputs": [
    {
     "name": "stdout",
     "output_type": "stream",
     "text": [
      "Potts-Guy1995_Article_APredictiveAlgorithmForSkinPer.pdf\r\n"
     ]
    }
   ],
   "source": [
    "ls pdfs"
   ]
  },
  {
   "cell_type": "markdown",
   "metadata": {},
   "source": [
    "We're going to use a Python library called `tabula-py` to read the data in `Table 1`. However, this pdf doesn't have any text information in it yet. One way you can tell this is by clicking and dragging your cursor over the text in a pdf viewer. If the text is not highlighted, the pdf does not contain text information. \n",
    "\n",
    "You can get text information in a pdf by performing optical character recognition, or OCR. If you have Adobe Acrobat Pro, it has an OCR tool built in that you can use. Python also has some free libraries which can be used for OCR. We'll be using one called [OCRmyPDF](https://ocrmypdf.readthedocs.io/en/latest/)."
   ]
  },
  {
   "cell_type": "code",
   "execution_count": 2,
   "metadata": {},
   "outputs": [
    {
     "name": "stdout",
     "output_type": "stream",
     "text": [
      "Scanning contents: 100%|████████████████████████| 6/6 [00:00<00:00, 11.50page/s]\n",
      "Start processing 6 pages concurrently\n",
      "OCR: 100%|██████████████████████████████████| 6.0/6.0 [00:15<00:00,  2.56s/page]\n",
      "Postprocessing...\n",
      "PDF/A conversion: 100%|█████████████████████████| 6/6 [00:01<00:00,  4.09page/s]\n",
      "JPEGs: 0image [00:00, ?image/s]\n",
      "JBIG2: 0item [00:00, ?item/s]\n",
      "Optimize ratio: 1.00 savings: -0.2%\n",
      "Image optimization did not improve the file - discarded\n",
      "Output file is a PDF/A-2B (as expected)\n"
     ]
    }
   ],
   "source": [
    "! ocrmypdf \"pdfs/Potts-Guy1995_Article_APredictiveAlgorithmForSkinPer.pdf\"  \"pdfs/pottsguyocr.pdf\""
   ]
  },
  {
   "cell_type": "code",
   "execution_count": 3,
   "metadata": {},
   "outputs": [
    {
     "name": "stdout",
     "output_type": "stream",
     "text": [
      "Potts-Guy1995_Article_APredictiveAlgorithmForSkinPer.pdf\r\n",
      "pottsguyocr.pdf\r\n"
     ]
    }
   ],
   "source": [
    "ls pdfs"
   ]
  },
  {
   "cell_type": "markdown",
   "metadata": {},
   "source": [
    "## Reading Tables with `tabula-py`\n",
    "\n",
    "We now have two pdfs in the folder. The second one, `pottsguyocr.pdf` has text information in the pdf. We can use the library `tabula-py` to get information from table 1. The function we will be using is called `tabula.read_pdf`. "
   ]
  },
  {
   "cell_type": "code",
   "execution_count": 4,
   "metadata": {},
   "outputs": [],
   "source": [
    "import os\n",
    "import tabula"
   ]
  },
  {
   "cell_type": "code",
   "execution_count": 5,
   "metadata": {},
   "outputs": [],
   "source": [
    "pdf_path = os.path.join(\"pdfs\", \"pottsguyocr.pdf\")"
   ]
  },
  {
   "cell_type": "markdown",
   "metadata": {},
   "source": [
    "In order to read from pages other than page 1, we will need to pass another argument (`pages`) to the function to specifiy which page contains the table we want to parse"
   ]
  },
  {
   "cell_type": "code",
   "execution_count": 6,
   "metadata": {},
   "outputs": [],
   "source": [
    "tables = tabula.read_pdf(pdf_path, pages=[3])"
   ]
  },
  {
   "cell_type": "markdown",
   "metadata": {},
   "source": [
    "This will return a list of pandas dataframes. Tabula will convert each table it finds on the page into a pandas dataframe. Let's examine each of these."
   ]
  },
  {
   "cell_type": "code",
   "execution_count": 7,
   "metadata": {},
   "outputs": [
    {
     "data": {
      "text/html": [
       "<div>\n",
       "<style scoped>\n",
       "    .dataframe tbody tr th:only-of-type {\n",
       "        vertical-align: middle;\n",
       "    }\n",
       "\n",
       "    .dataframe tbody tr th {\n",
       "        vertical-align: top;\n",
       "    }\n",
       "\n",
       "    .dataframe thead th {\n",
       "        text-align: right;\n",
       "    }\n",
       "</style>\n",
       "<table border=\"1\" class=\"dataframe\">\n",
       "  <thead>\n",
       "    <tr style=\"text-align: right;\">\n",
       "      <th></th>\n",
       "      <th>Unnamed: 0</th>\n",
       "      <th>Compound</th>\n",
       "      <th>log P</th>\n",
       "      <th>Unnamed: 1</th>\n",
       "      <th>II</th>\n",
       "      <th>Hy</th>\n",
       "      <th>H,</th>\n",
       "      <th>MV</th>\n",
       "      <th>R,</th>\n",
       "      <th>log Kou</th>\n",
       "      <th>log Kyex</th>\n",
       "      <th>Unnamed: 2</th>\n",
       "      <th>log Kpep</th>\n",
       "    </tr>\n",
       "  </thead>\n",
       "  <tbody>\n",
       "    <tr>\n",
       "      <th>0</th>\n",
       "      <td>NaN</td>\n",
       "      <td>water</td>\n",
       "      <td>— 6.85</td>\n",
       "      <td>NaN</td>\n",
       "      <td>0.45</td>\n",
       "      <td>0.82</td>\n",
       "      <td>0.35</td>\n",
       "      <td>10.6</td>\n",
       "      <td>0.00</td>\n",
       "      <td>— 1.38</td>\n",
       "      <td>— 4,38</td>\n",
       "      <td>NaN</td>\n",
       "      <td>NaN</td>\n",
       "    </tr>\n",
       "    <tr>\n",
       "      <th>1</th>\n",
       "      <td>'</td>\n",
       "      <td>methanol</td>\n",
       "      <td>— 6.68</td>\n",
       "      <td>NaN</td>\n",
       "      <td>0.44</td>\n",
       "      <td>0.43</td>\n",
       "      <td>0.47</td>\n",
       "      <td>21.7</td>\n",
       "      <td>0.28</td>\n",
       "      <td>—0.73</td>\n",
       "      <td>— 2.42</td>\n",
       "      <td>NaN</td>\n",
       "      <td>— 2.80</td>\n",
       "    </tr>\n",
       "    <tr>\n",
       "      <th>2</th>\n",
       "      <td>NaN</td>\n",
       "      <td>methanoic acid</td>\n",
       "      <td>— 7.08</td>\n",
       "      <td>NaN</td>\n",
       "      <td>0.60</td>\n",
       "      <td>0.75</td>\n",
       "      <td>0.38</td>\n",
       "      <td>22.3</td>\n",
       "      <td>0.30</td>\n",
       "      <td>—0.54</td>\n",
       "      <td>— 3.93</td>\n",
       "      <td>NaN</td>\n",
       "      <td>— 3.63</td>\n",
       "    </tr>\n",
       "    <tr>\n",
       "      <th>3</th>\n",
       "      <td>NaN</td>\n",
       "      <td>ethanol</td>\n",
       "      <td>— 6.66</td>\n",
       "      <td>NaN</td>\n",
       "      <td>0.42</td>\n",
       "      <td>0.37</td>\n",
       "      <td>0.48</td>\n",
       "      <td>31.9</td>\n",
       "      <td>0.25</td>\n",
       "      <td>—0.32</td>\n",
       "      <td>—2.24</td>\n",
       "      <td>NaN</td>\n",
       "      <td>—2.10</td>\n",
       "    </tr>\n",
       "    <tr>\n",
       "      <th>4</th>\n",
       "      <td>NaN</td>\n",
       "      <td>ethanoic acid</td>\n",
       "      <td>—7.01</td>\n",
       "      <td>NaN</td>\n",
       "      <td>0.65</td>\n",
       "      <td>0.61</td>\n",
       "      <td>0.45</td>\n",
       "      <td>33.4</td>\n",
       "      <td>0.27</td>\n",
       "      <td>—0.31</td>\n",
       "      <td>— 3.28</td>\n",
       "      <td>NaN</td>\n",
       "      <td>—2.90</td>\n",
       "    </tr>\n",
       "  </tbody>\n",
       "</table>\n",
       "</div>"
      ],
      "text/plain": [
       "  Unnamed: 0        Compound   log P  Unnamed: 1    II    Hy    H,    MV  \\\n",
       "0        NaN           water  — 6.85         NaN  0.45  0.82  0.35  10.6   \n",
       "1          '        methanol  — 6.68         NaN  0.44  0.43  0.47  21.7   \n",
       "2        NaN  methanoic acid  — 7.08         NaN  0.60  0.75  0.38  22.3   \n",
       "3        NaN         ethanol  — 6.66         NaN  0.42  0.37  0.48  31.9   \n",
       "4        NaN   ethanoic acid   —7.01         NaN  0.65  0.61  0.45  33.4   \n",
       "\n",
       "     R, log Kou log Kyex  Unnamed: 2 log Kpep  \n",
       "0  0.00  — 1.38   — 4,38         NaN      NaN  \n",
       "1  0.28   —0.73   — 2.42         NaN   — 2.80  \n",
       "2  0.30   —0.54   — 3.93         NaN   — 3.63  \n",
       "3  0.25   —0.32    —2.24         NaN    —2.10  \n",
       "4  0.27   —0.31   — 3.28         NaN    —2.90  "
      ]
     },
     "execution_count": 7,
     "metadata": {},
     "output_type": "execute_result"
    }
   ],
   "source": [
    "tables[0].head()"
   ]
  },
  {
   "cell_type": "code",
   "execution_count": 8,
   "metadata": {},
   "outputs": [
    {
     "data": {
      "text/html": [
       "<div>\n",
       "<style scoped>\n",
       "    .dataframe tbody tr th:only-of-type {\n",
       "        vertical-align: middle;\n",
       "    }\n",
       "\n",
       "    .dataframe tbody tr th {\n",
       "        vertical-align: top;\n",
       "    }\n",
       "\n",
       "    .dataframe thead th {\n",
       "        text-align: right;\n",
       "    }\n",
       "</style>\n",
       "<table border=\"1\" class=\"dataframe\">\n",
       "  <thead>\n",
       "    <tr style=\"text-align: right;\">\n",
       "      <th></th>\n",
       "      <th>Unnamed: 0</th>\n",
       "      <th>Unnamed: 1</th>\n",
       "      <th>Unnamed: 2</th>\n",
       "      <th>Unnamed: 3</th>\n",
       "      <th>Unnamed: 4</th>\n",
       "      <th>Unnamed: 5</th>\n",
       "      <th>Unnamed: 6</th>\n",
       "      <th>coefficients show that</th>\n",
       "      <th>solutes with hydrogen-bond donating</th>\n",
       "      <th>Unnamed: 7</th>\n",
       "      <th>Unnamed: 8</th>\n",
       "    </tr>\n",
       "  </thead>\n",
       "  <tbody>\n",
       "    <tr>\n",
       "      <th>0</th>\n",
       "      <td>Octanol</td>\n",
       "      <td>3.80</td>\n",
       "      <td>1.19</td>\n",
       "      <td>— 5.06</td>\n",
       "      <td>0.84</td>\n",
       "      <td>88.0</td>\n",
       "      <td>37.0</td>\n",
       "      <td>ability partition least well</td>\n",
       "      <td>into alkanes.</td>\n",
       "      <td>This expected</td>\n",
       "      <td>result</td>\n",
       "    </tr>\n",
       "    <tr>\n",
       "      <th>1</th>\n",
       "      <td>NaN</td>\n",
       "      <td>(0.73)</td>\n",
       "      <td>(0.13)</td>\n",
       "      <td>(0.29)</td>\n",
       "      <td>NaN</td>\n",
       "      <td>NaN</td>\n",
       "      <td>NaN</td>\n",
       "      <td>NaN</td>\n",
       "      <td>NaN</td>\n",
       "      <td>NaN</td>\n",
       "      <td>NaN</td>\n",
       "    </tr>\n",
       "    <tr>\n",
       "      <th>2</th>\n",
       "      <td>NaN</td>\n",
       "      <td>NaN</td>\n",
       "      <td>NaN</td>\n",
       "      <td>NaN</td>\n",
       "      <td>NaN</td>\n",
       "      <td>NaN</td>\n",
       "      <td>NaN</td>\n",
       "      <td>is, of course, completely consistent with</td>\n",
       "      <td>NaN</td>\n",
       "      <td>the relative hydro-</td>\n",
       "      <td>NaN</td>\n",
       "    </tr>\n",
       "    <tr>\n",
       "      <th>3</th>\n",
       "      <td>Heptane</td>\n",
       "      <td>nsd?</td>\n",
       "      <td>0.43</td>\n",
       "      <td>— 5.53</td>\n",
       "      <td>0.79</td>\n",
       "      <td>113.0</td>\n",
       "      <td>33.0</td>\n",
       "      <td>NaN</td>\n",
       "      <td>NaN</td>\n",
       "      <td>NaN</td>\n",
       "      <td>NaN</td>\n",
       "    </tr>\n",
       "    <tr>\n",
       "      <th>4</th>\n",
       "      <td>NaN</td>\n",
       "      <td>NaN</td>\n",
       "      <td>NaN</td>\n",
       "      <td>NaN</td>\n",
       "      <td>NaN</td>\n",
       "      <td>NaN</td>\n",
       "      <td>NaN</td>\n",
       "      <td>gen bond acceptor activity</td>\n",
       "      <td>of the solvent</td>\n",
       "      <td>phases</td>\n",
       "      <td>involved</td>\n",
       "    </tr>\n",
       "  </tbody>\n",
       "</table>\n",
       "</div>"
      ],
      "text/plain": [
       "  Unnamed: 0 Unnamed: 1 Unnamed: 2 Unnamed: 3  Unnamed: 4  Unnamed: 5  \\\n",
       "0    Octanol       3.80       1.19     — 5.06        0.84        88.0   \n",
       "1        NaN     (0.73)     (0.13)     (0.29)         NaN         NaN   \n",
       "2        NaN        NaN        NaN        NaN         NaN         NaN   \n",
       "3    Heptane       nsd?       0.43     — 5.53        0.79       113.0   \n",
       "4        NaN        NaN        NaN        NaN         NaN         NaN   \n",
       "\n",
       "   Unnamed: 6                     coefficients show that  \\\n",
       "0        37.0               ability partition least well   \n",
       "1         NaN                                        NaN   \n",
       "2         NaN  is, of course, completely consistent with   \n",
       "3        33.0                                        NaN   \n",
       "4         NaN                 gen bond acceptor activity   \n",
       "\n",
       "  solutes with hydrogen-bond donating           Unnamed: 7 Unnamed: 8  \n",
       "0                       into alkanes.        This expected     result  \n",
       "1                                 NaN                  NaN        NaN  \n",
       "2                                 NaN  the relative hydro-        NaN  \n",
       "3                                 NaN                  NaN        NaN  \n",
       "4                      of the solvent               phases   involved  "
      ]
     },
     "execution_count": 8,
     "metadata": {},
     "output_type": "execute_result"
    }
   ],
   "source": [
    "tables[1].head()"
   ]
  },
  {
   "cell_type": "code",
   "execution_count": 9,
   "metadata": {},
   "outputs": [
    {
     "name": "stdout",
     "output_type": "stream",
     "text": [
      "<class 'pandas.core.frame.DataFrame'>\n",
      "RangeIndex: 37 entries, 0 to 36\n",
      "Data columns (total 13 columns):\n",
      " #   Column      Non-Null Count  Dtype  \n",
      "---  ------      --------------  -----  \n",
      " 0   Unnamed: 0  1 non-null      object \n",
      " 1   Compound    37 non-null     object \n",
      " 2   log P       37 non-null     object \n",
      " 3   Unnamed: 1  0 non-null      float64\n",
      " 4   II          37 non-null     float64\n",
      " 5   Hy          37 non-null     float64\n",
      " 6   H,          37 non-null     float64\n",
      " 7   MV          37 non-null     object \n",
      " 8   R,          37 non-null     float64\n",
      " 9   log Kou     37 non-null     object \n",
      " 10  log Kyex    31 non-null     object \n",
      " 11  Unnamed: 2  0 non-null      float64\n",
      " 12  log Kpep    25 non-null     object \n",
      "dtypes: float64(6), object(7)\n",
      "memory usage: 3.9+ KB\n"
     ]
    }
   ],
   "source": [
    "tables[0].info()"
   ]
  },
  {
   "cell_type": "code",
   "execution_count": 10,
   "metadata": {},
   "outputs": [
    {
     "data": {
      "text/html": [
       "<div>\n",
       "<style scoped>\n",
       "    .dataframe tbody tr th:only-of-type {\n",
       "        vertical-align: middle;\n",
       "    }\n",
       "\n",
       "    .dataframe tbody tr th {\n",
       "        vertical-align: top;\n",
       "    }\n",
       "\n",
       "    .dataframe thead th {\n",
       "        text-align: right;\n",
       "    }\n",
       "</style>\n",
       "<table border=\"1\" class=\"dataframe\">\n",
       "  <thead>\n",
       "    <tr style=\"text-align: right;\">\n",
       "      <th></th>\n",
       "      <th>Unnamed: 0</th>\n",
       "      <th>Unnamed: 1</th>\n",
       "      <th>Unnamed: 2</th>\n",
       "      <th>Unnamed: 3</th>\n",
       "      <th>Unnamed: 4</th>\n",
       "      <th>Unnamed: 5</th>\n",
       "      <th>Unnamed: 6</th>\n",
       "      <th>coefficients show that</th>\n",
       "      <th>solutes with hydrogen-bond donating</th>\n",
       "      <th>Unnamed: 7</th>\n",
       "      <th>Unnamed: 8</th>\n",
       "    </tr>\n",
       "  </thead>\n",
       "  <tbody>\n",
       "    <tr>\n",
       "      <th>0</th>\n",
       "      <td>Octanol</td>\n",
       "      <td>3.80</td>\n",
       "      <td>1.19</td>\n",
       "      <td>— 5.06</td>\n",
       "      <td>0.84</td>\n",
       "      <td>88.0</td>\n",
       "      <td>37.0</td>\n",
       "      <td>ability partition least well</td>\n",
       "      <td>into alkanes.</td>\n",
       "      <td>This expected</td>\n",
       "      <td>result</td>\n",
       "    </tr>\n",
       "    <tr>\n",
       "      <th>1</th>\n",
       "      <td>NaN</td>\n",
       "      <td>(0.73)</td>\n",
       "      <td>(0.13)</td>\n",
       "      <td>(0.29)</td>\n",
       "      <td>NaN</td>\n",
       "      <td>NaN</td>\n",
       "      <td>NaN</td>\n",
       "      <td>NaN</td>\n",
       "      <td>NaN</td>\n",
       "      <td>NaN</td>\n",
       "      <td>NaN</td>\n",
       "    </tr>\n",
       "    <tr>\n",
       "      <th>2</th>\n",
       "      <td>NaN</td>\n",
       "      <td>NaN</td>\n",
       "      <td>NaN</td>\n",
       "      <td>NaN</td>\n",
       "      <td>NaN</td>\n",
       "      <td>NaN</td>\n",
       "      <td>NaN</td>\n",
       "      <td>is, of course, completely consistent with</td>\n",
       "      <td>NaN</td>\n",
       "      <td>the relative hydro-</td>\n",
       "      <td>NaN</td>\n",
       "    </tr>\n",
       "    <tr>\n",
       "      <th>3</th>\n",
       "      <td>Heptane</td>\n",
       "      <td>nsd?</td>\n",
       "      <td>0.43</td>\n",
       "      <td>— 5.53</td>\n",
       "      <td>0.79</td>\n",
       "      <td>113.0</td>\n",
       "      <td>33.0</td>\n",
       "      <td>NaN</td>\n",
       "      <td>NaN</td>\n",
       "      <td>NaN</td>\n",
       "      <td>NaN</td>\n",
       "    </tr>\n",
       "    <tr>\n",
       "      <th>4</th>\n",
       "      <td>NaN</td>\n",
       "      <td>NaN</td>\n",
       "      <td>NaN</td>\n",
       "      <td>NaN</td>\n",
       "      <td>NaN</td>\n",
       "      <td>NaN</td>\n",
       "      <td>NaN</td>\n",
       "      <td>gen bond acceptor activity</td>\n",
       "      <td>of the solvent</td>\n",
       "      <td>phases</td>\n",
       "      <td>involved</td>\n",
       "    </tr>\n",
       "  </tbody>\n",
       "</table>\n",
       "</div>"
      ],
      "text/plain": [
       "  Unnamed: 0 Unnamed: 1 Unnamed: 2 Unnamed: 3  Unnamed: 4  Unnamed: 5  \\\n",
       "0    Octanol       3.80       1.19     — 5.06        0.84        88.0   \n",
       "1        NaN     (0.73)     (0.13)     (0.29)         NaN         NaN   \n",
       "2        NaN        NaN        NaN        NaN         NaN         NaN   \n",
       "3    Heptane       nsd?       0.43     — 5.53        0.79       113.0   \n",
       "4        NaN        NaN        NaN        NaN         NaN         NaN   \n",
       "\n",
       "   Unnamed: 6                     coefficients show that  \\\n",
       "0        37.0               ability partition least well   \n",
       "1         NaN                                        NaN   \n",
       "2         NaN  is, of course, completely consistent with   \n",
       "3        33.0                                        NaN   \n",
       "4         NaN                 gen bond acceptor activity   \n",
       "\n",
       "  solutes with hydrogen-bond donating           Unnamed: 7 Unnamed: 8  \n",
       "0                       into alkanes.        This expected     result  \n",
       "1                                 NaN                  NaN        NaN  \n",
       "2                                 NaN  the relative hydro-        NaN  \n",
       "3                                 NaN                  NaN        NaN  \n",
       "4                      of the solvent               phases   involved  "
      ]
     },
     "execution_count": 10,
     "metadata": {},
     "output_type": "execute_result"
    }
   ],
   "source": [
    "tables[1].head()"
   ]
  },
  {
   "cell_type": "markdown",
   "metadata": {},
   "source": [
    "Neither of these tables are usable yet. We'll save both as csvs and work on cleaning them in the next section."
   ]
  },
  {
   "cell_type": "code",
   "execution_count": 11,
   "metadata": {},
   "outputs": [],
   "source": [
    "output_1 = os.path.join(\"data\", \"potts_table1.csv\")\n",
    "output_2 = os.path.join(\"data\", \"potts_table2.csv\")\n",
    "\n",
    "tables[0].to_csv(output_1)\n",
    "tables[1].to_csv(output_2)"
   ]
  }
 ],
 "metadata": {
  "kernelspec": {
   "display_name": "Python 3",
   "language": "python",
   "name": "python3"
  },
  "language_info": {
   "codemirror_mode": {
    "name": "ipython",
    "version": 3
   },
   "file_extension": ".py",
   "mimetype": "text/x-python",
   "name": "python",
   "nbconvert_exporter": "python",
   "pygments_lexer": "ipython3",
   "version": "3.7.8"
  }
 },
 "nbformat": 4,
 "nbformat_minor": 4
}
