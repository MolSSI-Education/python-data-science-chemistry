{
 "cells": [
  {
   "cell_type": "markdown",
   "metadata": {},
   "source": [
    "Working with Pandas DataFrames\n",
    "==========================="
   ]
  },
  {
   "cell_type": "markdown",
   "metadata": {},
   "source": [
    "Pandas is a Python library used for data analysis and manipulation. Within the world of data science, it is a ubiquitous and widely used library. If you are learning how to analyze data in Python, it will be almost impossible to avoid pandas. \n",
    "\n",
    "For this workshop, we will be using two types of data structues - NumPy arrays and pandas DataFrames. Pandas dataframes are specifically for data which is two dimensional (rows and columns). NumPy arrays, while similar in some ways, are meant to work with higher dimensional data. We'll see this in a future lesson.\n",
    "\n",
    "Pandas is very powerful. In this session, we'll be learning how to access information in pandas dataframes and how to do some basic manipulation and analysis."
   ]
  },
  {
   "cell_type": "markdown",
   "metadata": {},
   "source": [
    "We start by importing pandas and the os library. We use the os library to build our file paths rather than typing them in directly to ensure compatibility of our notebook on different operating systems.\n",
    "\n",
    "We are going to be looking at a dataset which gives information about the elements in the periodic table. We'll do a little bit of data sorting and cleaning, but we'll be doing a lot more in session 2."
   ]
  },
  {
   "cell_type": "code",
   "execution_count": 1,
   "metadata": {},
   "outputs": [],
   "source": [
    "import os\n",
    "\n",
    "import pandas as pd"
   ]
  },
  {
   "cell_type": "code",
   "execution_count": 2,
   "metadata": {},
   "outputs": [],
   "source": [
    "file_path = os.path.join(\"data\", \"PubChemElements_all.csv\")\n",
    "\n",
    "df = pd.read_csv(file_path)"
   ]
  },
  {
   "cell_type": "markdown",
   "metadata": {},
   "source": [
    "## Examining Data"
   ]
  },
  {
   "cell_type": "markdown",
   "metadata": {},
   "source": [
    "Initially when loading data in, and also at certain points as we're working with it, we'll want to see what our dataframe looks like. Youo can see a preview of your dataframe using the `.head` function"
   ]
  },
  {
   "cell_type": "code",
   "execution_count": 3,
   "metadata": {},
   "outputs": [
    {
     "data": {
      "text/html": [
       "<div>\n",
       "<style scoped>\n",
       "    .dataframe tbody tr th:only-of-type {\n",
       "        vertical-align: middle;\n",
       "    }\n",
       "\n",
       "    .dataframe tbody tr th {\n",
       "        vertical-align: top;\n",
       "    }\n",
       "\n",
       "    .dataframe thead th {\n",
       "        text-align: right;\n",
       "    }\n",
       "</style>\n",
       "<table border=\"1\" class=\"dataframe\">\n",
       "  <thead>\n",
       "    <tr style=\"text-align: right;\">\n",
       "      <th></th>\n",
       "      <th>AtomicNumber</th>\n",
       "      <th>Symbol</th>\n",
       "      <th>Name</th>\n",
       "      <th>AtomicMass</th>\n",
       "      <th>CPKHexColor</th>\n",
       "      <th>ElectronConfiguration</th>\n",
       "      <th>Electronegativity</th>\n",
       "      <th>AtomicRadius</th>\n",
       "      <th>IonizationEnergy</th>\n",
       "      <th>ElectronAffinity</th>\n",
       "      <th>OxidationStates</th>\n",
       "      <th>StandardState</th>\n",
       "      <th>MeltingPoint</th>\n",
       "      <th>BoilingPoint</th>\n",
       "      <th>Density</th>\n",
       "      <th>GroupBlock</th>\n",
       "      <th>YearDiscovered</th>\n",
       "    </tr>\n",
       "  </thead>\n",
       "  <tbody>\n",
       "    <tr>\n",
       "      <th>0</th>\n",
       "      <td>1</td>\n",
       "      <td>H</td>\n",
       "      <td>Hydrogen</td>\n",
       "      <td>1.008000</td>\n",
       "      <td>FFFFFF</td>\n",
       "      <td>1s1</td>\n",
       "      <td>2.20</td>\n",
       "      <td>120.0</td>\n",
       "      <td>13.598</td>\n",
       "      <td>0.754</td>\n",
       "      <td>+1, -1</td>\n",
       "      <td>Gas</td>\n",
       "      <td>13.81</td>\n",
       "      <td>20.28</td>\n",
       "      <td>0.000090</td>\n",
       "      <td>Nonmetal</td>\n",
       "      <td>1766</td>\n",
       "    </tr>\n",
       "    <tr>\n",
       "      <th>1</th>\n",
       "      <td>2</td>\n",
       "      <td>He</td>\n",
       "      <td>Helium</td>\n",
       "      <td>4.002600</td>\n",
       "      <td>D9FFFF</td>\n",
       "      <td>1s2</td>\n",
       "      <td>NaN</td>\n",
       "      <td>140.0</td>\n",
       "      <td>24.587</td>\n",
       "      <td>NaN</td>\n",
       "      <td>0</td>\n",
       "      <td>Gas</td>\n",
       "      <td>0.95</td>\n",
       "      <td>4.22</td>\n",
       "      <td>0.000179</td>\n",
       "      <td>Noble gas</td>\n",
       "      <td>1868</td>\n",
       "    </tr>\n",
       "    <tr>\n",
       "      <th>2</th>\n",
       "      <td>3</td>\n",
       "      <td>Li</td>\n",
       "      <td>Lithium</td>\n",
       "      <td>7.000000</td>\n",
       "      <td>CC80FF</td>\n",
       "      <td>[He]2s1</td>\n",
       "      <td>0.98</td>\n",
       "      <td>182.0</td>\n",
       "      <td>5.392</td>\n",
       "      <td>0.618</td>\n",
       "      <td>+1</td>\n",
       "      <td>Solid</td>\n",
       "      <td>453.65</td>\n",
       "      <td>1615.00</td>\n",
       "      <td>0.534000</td>\n",
       "      <td>Alkali metal</td>\n",
       "      <td>1817</td>\n",
       "    </tr>\n",
       "    <tr>\n",
       "      <th>3</th>\n",
       "      <td>4</td>\n",
       "      <td>Be</td>\n",
       "      <td>Beryllium</td>\n",
       "      <td>9.012183</td>\n",
       "      <td>C2FF00</td>\n",
       "      <td>[He]2s2</td>\n",
       "      <td>1.57</td>\n",
       "      <td>153.0</td>\n",
       "      <td>9.323</td>\n",
       "      <td>NaN</td>\n",
       "      <td>+2</td>\n",
       "      <td>Solid</td>\n",
       "      <td>1560.00</td>\n",
       "      <td>2744.00</td>\n",
       "      <td>1.850000</td>\n",
       "      <td>Alkaline earth metal</td>\n",
       "      <td>1798</td>\n",
       "    </tr>\n",
       "    <tr>\n",
       "      <th>4</th>\n",
       "      <td>5</td>\n",
       "      <td>B</td>\n",
       "      <td>Boron</td>\n",
       "      <td>10.810000</td>\n",
       "      <td>FFB5B5</td>\n",
       "      <td>[He]2s2 2p1</td>\n",
       "      <td>2.04</td>\n",
       "      <td>192.0</td>\n",
       "      <td>8.298</td>\n",
       "      <td>0.277</td>\n",
       "      <td>+3</td>\n",
       "      <td>Solid</td>\n",
       "      <td>2348.00</td>\n",
       "      <td>4273.00</td>\n",
       "      <td>2.370000</td>\n",
       "      <td>Metalloid</td>\n",
       "      <td>1808</td>\n",
       "    </tr>\n",
       "  </tbody>\n",
       "</table>\n",
       "</div>"
      ],
      "text/plain": [
       "   AtomicNumber Symbol       Name  AtomicMass CPKHexColor  \\\n",
       "0             1      H   Hydrogen    1.008000      FFFFFF   \n",
       "1             2     He     Helium    4.002600      D9FFFF   \n",
       "2             3     Li    Lithium    7.000000      CC80FF   \n",
       "3             4     Be  Beryllium    9.012183      C2FF00   \n",
       "4             5      B      Boron   10.810000      FFB5B5   \n",
       "\n",
       "  ElectronConfiguration  Electronegativity  AtomicRadius  IonizationEnergy  \\\n",
       "0                   1s1               2.20         120.0            13.598   \n",
       "1                   1s2                NaN         140.0            24.587   \n",
       "2               [He]2s1               0.98         182.0             5.392   \n",
       "3               [He]2s2               1.57         153.0             9.323   \n",
       "4           [He]2s2 2p1               2.04         192.0             8.298   \n",
       "\n",
       "   ElectronAffinity OxidationStates StandardState  MeltingPoint  BoilingPoint  \\\n",
       "0             0.754          +1, -1           Gas         13.81         20.28   \n",
       "1               NaN               0           Gas          0.95          4.22   \n",
       "2             0.618              +1         Solid        453.65       1615.00   \n",
       "3               NaN              +2         Solid       1560.00       2744.00   \n",
       "4             0.277              +3         Solid       2348.00       4273.00   \n",
       "\n",
       "    Density            GroupBlock YearDiscovered  \n",
       "0  0.000090              Nonmetal           1766  \n",
       "1  0.000179             Noble gas           1868  \n",
       "2  0.534000          Alkali metal           1817  \n",
       "3  1.850000  Alkaline earth metal           1798  \n",
       "4  2.370000             Metalloid           1808  "
      ]
     },
     "execution_count": 3,
     "metadata": {},
     "output_type": "execute_result"
    }
   ],
   "source": [
    "df.head()"
   ]
  },
  {
   "cell_type": "markdown",
   "metadata": {},
   "source": [
    "The `.info` function will give information about the columns and the data type of those columns. The data type will become very important later as we work with data more."
   ]
  },
  {
   "cell_type": "code",
   "execution_count": 4,
   "metadata": {},
   "outputs": [
    {
     "name": "stdout",
     "output_type": "stream",
     "text": [
      "<class 'pandas.core.frame.DataFrame'>\n",
      "RangeIndex: 118 entries, 0 to 117\n",
      "Data columns (total 17 columns):\n",
      " #   Column                 Non-Null Count  Dtype  \n",
      "---  ------                 --------------  -----  \n",
      " 0   AtomicNumber           118 non-null    int64  \n",
      " 1   Symbol                 118 non-null    object \n",
      " 2   Name                   118 non-null    object \n",
      " 3   AtomicMass             118 non-null    float64\n",
      " 4   CPKHexColor            108 non-null    object \n",
      " 5   ElectronConfiguration  118 non-null    object \n",
      " 6   Electronegativity      95 non-null     float64\n",
      " 7   AtomicRadius           113 non-null    float64\n",
      " 8   IonizationEnergy       102 non-null    float64\n",
      " 9   ElectronAffinity       57 non-null     float64\n",
      " 10  OxidationStates        103 non-null    object \n",
      " 11  StandardState          118 non-null    object \n",
      " 12  MeltingPoint           103 non-null    float64\n",
      " 13  BoilingPoint           93 non-null     float64\n",
      " 14  Density                96 non-null     float64\n",
      " 15  GroupBlock             118 non-null    object \n",
      " 16  YearDiscovered         118 non-null    object \n",
      "dtypes: float64(8), int64(1), object(8)\n",
      "memory usage: 15.8+ KB\n"
     ]
    }
   ],
   "source": [
    "df.info()"
   ]
  },
  {
   "cell_type": "markdown",
   "metadata": {},
   "source": [
    "For this dataframe, we see that the first column, `AtomicNumber` has the data type of `int64`. Here, `int` means `integer` and `64` means `64 bit`.  The `64 bit` refers to the amount of computer memory the variable can occupy. It won't really be important for us. Similarly, `float64` means `64 bit floating point`. These are decimal numbers.\n",
    "\n",
    "The other column names which read `object` are not numeric. They might be strings or they might be something else. We'll discuss more later.\n",
    "\n",
    "The `describe` function can be used on a dataframe to quickly see statistics about columns with numerical data. If you look at the columns that statistics are computed for and compare to the data type shown from `info`, you will see that we only get statistics for columns which had `int64` or `float64` data types."
   ]
  },
  {
   "cell_type": "code",
   "execution_count": 5,
   "metadata": {},
   "outputs": [
    {
     "data": {
      "text/html": [
       "<div>\n",
       "<style scoped>\n",
       "    .dataframe tbody tr th:only-of-type {\n",
       "        vertical-align: middle;\n",
       "    }\n",
       "\n",
       "    .dataframe tbody tr th {\n",
       "        vertical-align: top;\n",
       "    }\n",
       "\n",
       "    .dataframe thead th {\n",
       "        text-align: right;\n",
       "    }\n",
       "</style>\n",
       "<table border=\"1\" class=\"dataframe\">\n",
       "  <thead>\n",
       "    <tr style=\"text-align: right;\">\n",
       "      <th></th>\n",
       "      <th>AtomicNumber</th>\n",
       "      <th>AtomicMass</th>\n",
       "      <th>Electronegativity</th>\n",
       "      <th>AtomicRadius</th>\n",
       "      <th>IonizationEnergy</th>\n",
       "      <th>ElectronAffinity</th>\n",
       "      <th>MeltingPoint</th>\n",
       "      <th>BoilingPoint</th>\n",
       "      <th>Density</th>\n",
       "    </tr>\n",
       "  </thead>\n",
       "  <tbody>\n",
       "    <tr>\n",
       "      <th>count</th>\n",
       "      <td>118.000000</td>\n",
       "      <td>118.000000</td>\n",
       "      <td>95.000000</td>\n",
       "      <td>113.000000</td>\n",
       "      <td>102.000000</td>\n",
       "      <td>57.000000</td>\n",
       "      <td>103.000000</td>\n",
       "      <td>93.000000</td>\n",
       "      <td>96.000000</td>\n",
       "    </tr>\n",
       "    <tr>\n",
       "      <th>mean</th>\n",
       "      <td>59.500000</td>\n",
       "      <td>146.607635</td>\n",
       "      <td>1.732316</td>\n",
       "      <td>201.902655</td>\n",
       "      <td>7.997255</td>\n",
       "      <td>1.072140</td>\n",
       "      <td>1273.740553</td>\n",
       "      <td>2536.212473</td>\n",
       "      <td>7.608001</td>\n",
       "    </tr>\n",
       "    <tr>\n",
       "      <th>std</th>\n",
       "      <td>34.207699</td>\n",
       "      <td>89.845304</td>\n",
       "      <td>0.635187</td>\n",
       "      <td>42.025707</td>\n",
       "      <td>3.339066</td>\n",
       "      <td>0.879163</td>\n",
       "      <td>888.853859</td>\n",
       "      <td>1588.410919</td>\n",
       "      <td>5.878692</td>\n",
       "    </tr>\n",
       "    <tr>\n",
       "      <th>min</th>\n",
       "      <td>1.000000</td>\n",
       "      <td>1.008000</td>\n",
       "      <td>0.700000</td>\n",
       "      <td>120.000000</td>\n",
       "      <td>3.894000</td>\n",
       "      <td>0.079000</td>\n",
       "      <td>0.950000</td>\n",
       "      <td>4.220000</td>\n",
       "      <td>0.000090</td>\n",
       "    </tr>\n",
       "    <tr>\n",
       "      <th>25%</th>\n",
       "      <td>30.250000</td>\n",
       "      <td>66.480000</td>\n",
       "      <td>1.290000</td>\n",
       "      <td>180.000000</td>\n",
       "      <td>6.020500</td>\n",
       "      <td>0.470000</td>\n",
       "      <td>516.040000</td>\n",
       "      <td>1180.000000</td>\n",
       "      <td>2.572500</td>\n",
       "    </tr>\n",
       "    <tr>\n",
       "      <th>50%</th>\n",
       "      <td>59.500000</td>\n",
       "      <td>142.573850</td>\n",
       "      <td>1.620000</td>\n",
       "      <td>202.000000</td>\n",
       "      <td>6.960000</td>\n",
       "      <td>0.754000</td>\n",
       "      <td>1191.000000</td>\n",
       "      <td>2792.000000</td>\n",
       "      <td>7.072000</td>\n",
       "    </tr>\n",
       "    <tr>\n",
       "      <th>75%</th>\n",
       "      <td>88.750000</td>\n",
       "      <td>226.777165</td>\n",
       "      <td>2.170000</td>\n",
       "      <td>229.000000</td>\n",
       "      <td>8.998500</td>\n",
       "      <td>1.350000</td>\n",
       "      <td>1806.500000</td>\n",
       "      <td>3618.000000</td>\n",
       "      <td>10.275250</td>\n",
       "    </tr>\n",
       "    <tr>\n",
       "      <th>max</th>\n",
       "      <td>118.000000</td>\n",
       "      <td>294.214000</td>\n",
       "      <td>3.980000</td>\n",
       "      <td>348.000000</td>\n",
       "      <td>24.587000</td>\n",
       "      <td>3.617000</td>\n",
       "      <td>3823.000000</td>\n",
       "      <td>5869.000000</td>\n",
       "      <td>22.570000</td>\n",
       "    </tr>\n",
       "  </tbody>\n",
       "</table>\n",
       "</div>"
      ],
      "text/plain": [
       "       AtomicNumber  AtomicMass  Electronegativity  AtomicRadius  \\\n",
       "count    118.000000  118.000000          95.000000    113.000000   \n",
       "mean      59.500000  146.607635           1.732316    201.902655   \n",
       "std       34.207699   89.845304           0.635187     42.025707   \n",
       "min        1.000000    1.008000           0.700000    120.000000   \n",
       "25%       30.250000   66.480000           1.290000    180.000000   \n",
       "50%       59.500000  142.573850           1.620000    202.000000   \n",
       "75%       88.750000  226.777165           2.170000    229.000000   \n",
       "max      118.000000  294.214000           3.980000    348.000000   \n",
       "\n",
       "       IonizationEnergy  ElectronAffinity  MeltingPoint  BoilingPoint  \\\n",
       "count        102.000000         57.000000    103.000000     93.000000   \n",
       "mean           7.997255          1.072140   1273.740553   2536.212473   \n",
       "std            3.339066          0.879163    888.853859   1588.410919   \n",
       "min            3.894000          0.079000      0.950000      4.220000   \n",
       "25%            6.020500          0.470000    516.040000   1180.000000   \n",
       "50%            6.960000          0.754000   1191.000000   2792.000000   \n",
       "75%            8.998500          1.350000   1806.500000   3618.000000   \n",
       "max           24.587000          3.617000   3823.000000   5869.000000   \n",
       "\n",
       "         Density  \n",
       "count  96.000000  \n",
       "mean    7.608001  \n",
       "std     5.878692  \n",
       "min     0.000090  \n",
       "25%     2.572500  \n",
       "50%     7.072000  \n",
       "75%    10.275250  \n",
       "max    22.570000  "
      ]
     },
     "execution_count": 5,
     "metadata": {},
     "output_type": "execute_result"
    }
   ],
   "source": [
    "df.describe()"
   ]
  },
  {
   "cell_type": "markdown",
   "metadata": {},
   "source": [
    "## Accessing Data\n",
    "\n",
    "One great thing about pandas dataframes is how easy it is to access information. Pandas allows you to access information in a dataframe using both data indexes and names.\n",
    "\n",
    "Pandas dataframes have rows and columns, you can see how many rows and columns using `.shape`. This will return the shape as `(num_rows, num_columns)`."
   ]
  },
  {
   "cell_type": "code",
   "execution_count": 6,
   "metadata": {},
   "outputs": [
    {
     "data": {
      "text/plain": [
       "(118, 17)"
      ]
     },
     "execution_count": 6,
     "metadata": {},
     "output_type": "execute_result"
    }
   ],
   "source": [
    "df.shape"
   ]
  },
  {
   "cell_type": "markdown",
   "metadata": {},
   "source": [
    "### Accessing with rows and column numbers\n",
    "\n",
    "Access on a particular row and column using `.iloc` followed by squarre brackets and the row and column numbers yoou want to access. If you only put one number, it will be assumed to be the row number you want.\n",
    "\n",
    "The following gets row number 35."
   ]
  },
  {
   "cell_type": "code",
   "execution_count": 7,
   "metadata": {},
   "outputs": [
    {
     "data": {
      "text/plain": [
       "AtomicNumber                           36\n",
       "Symbol                                 Kr\n",
       "Name                              Krypton\n",
       "AtomicMass                           83.8\n",
       "CPKHexColor                        5CB8D1\n",
       "ElectronConfiguration    [Ar]4s2 3d10 4p6\n",
       "Electronegativity                     3.0\n",
       "AtomicRadius                        202.0\n",
       "IonizationEnergy                     14.0\n",
       "ElectronAffinity                      NaN\n",
       "OxidationStates                         0\n",
       "StandardState                         Gas\n",
       "MeltingPoint                       115.79\n",
       "BoilingPoint                       119.93\n",
       "Density                          0.003733\n",
       "GroupBlock                      Noble gas\n",
       "YearDiscovered                       1898\n",
       "Name: 35, dtype: object"
      ]
     },
     "execution_count": 7,
     "metadata": {},
     "output_type": "execute_result"
    }
   ],
   "source": [
    "df.iloc[35]"
   ]
  },
  {
   "cell_type": "code",
   "execution_count": 8,
   "metadata": {},
   "outputs": [
    {
     "data": {
      "text/plain": [
       "AtomicNumber         36\n",
       "Symbol               Kr\n",
       "Name            Krypton\n",
       "Name: 35, dtype: object"
      ]
     },
     "execution_count": 8,
     "metadata": {},
     "output_type": "execute_result"
    }
   ],
   "source": [
    "df.iloc[35, :3]"
   ]
  },
  {
   "cell_type": "markdown",
   "metadata": {},
   "source": [
    "### Accessing with names\n",
    "\n",
    "Each dataframe has an index (rows) and columns. The index can be named, but by default it is usually just numbered. \n",
    "\n",
    "You can see information about the index or the columns using `df.index` or `df.columns`."
   ]
  },
  {
   "cell_type": "code",
   "execution_count": 9,
   "metadata": {},
   "outputs": [
    {
     "data": {
      "text/plain": [
       "RangeIndex(start=0, stop=118, step=1)"
      ]
     },
     "execution_count": 9,
     "metadata": {},
     "output_type": "execute_result"
    }
   ],
   "source": [
    "df.index"
   ]
  },
  {
   "cell_type": "code",
   "execution_count": 10,
   "metadata": {},
   "outputs": [
    {
     "data": {
      "text/plain": [
       "Index(['AtomicNumber', 'Symbol', 'Name', 'AtomicMass', 'CPKHexColor',\n",
       "       'ElectronConfiguration', 'Electronegativity', 'AtomicRadius',\n",
       "       'IonizationEnergy', 'ElectronAffinity', 'OxidationStates',\n",
       "       'StandardState', 'MeltingPoint', 'BoilingPoint', 'Density',\n",
       "       'GroupBlock', 'YearDiscovered'],\n",
       "      dtype='object')"
      ]
     },
     "execution_count": 10,
     "metadata": {},
     "output_type": "execute_result"
    }
   ],
   "source": [
    "df.columns"
   ]
  },
  {
   "cell_type": "markdown",
   "metadata": {},
   "source": [
    "To access part of a dataframe using the index or column names, would use the `loc` function."
   ]
  },
  {
   "cell_type": "code",
   "execution_count": 11,
   "metadata": {},
   "outputs": [
    {
     "data": {
      "text/plain": [
       "AtomicNumber                           36\n",
       "Symbol                                 Kr\n",
       "Name                              Krypton\n",
       "AtomicMass                           83.8\n",
       "CPKHexColor                        5CB8D1\n",
       "ElectronConfiguration    [Ar]4s2 3d10 4p6\n",
       "Electronegativity                     3.0\n",
       "AtomicRadius                        202.0\n",
       "IonizationEnergy                     14.0\n",
       "ElectronAffinity                      NaN\n",
       "OxidationStates                         0\n",
       "StandardState                         Gas\n",
       "MeltingPoint                       115.79\n",
       "BoilingPoint                       119.93\n",
       "Density                          0.003733\n",
       "GroupBlock                      Noble gas\n",
       "YearDiscovered                       1898\n",
       "Name: 35, dtype: object"
      ]
     },
     "execution_count": 11,
     "metadata": {},
     "output_type": "execute_result"
    }
   ],
   "source": [
    "df.loc[35]"
   ]
  },
  {
   "cell_type": "code",
   "execution_count": 12,
   "metadata": {},
   "outputs": [
    {
     "data": {
      "text/plain": [
       "3.0"
      ]
     },
     "execution_count": 12,
     "metadata": {},
     "output_type": "execute_result"
    }
   ],
   "source": [
    "df.loc[35, 'Electronegativity']"
   ]
  },
  {
   "cell_type": "code",
   "execution_count": 13,
   "metadata": {},
   "outputs": [
    {
     "data": {
      "text/plain": [
       "Name                 Krypton\n",
       "Electronegativity        3.0\n",
       "Name: 35, dtype: object"
      ]
     },
     "execution_count": 13,
     "metadata": {},
     "output_type": "execute_result"
    }
   ],
   "source": [
    "df.loc[35, ['Name','Electronegativity']] "
   ]
  },
  {
   "cell_type": "markdown",
   "metadata": {},
   "source": [
    "You can also get a column of information by using `df[column_name]`. "
   ]
  },
  {
   "cell_type": "code",
   "execution_count": 14,
   "metadata": {},
   "outputs": [
    {
     "data": {
      "text/plain": [
       "0    2.20\n",
       "1     NaN\n",
       "2    0.98\n",
       "3    1.57\n",
       "4    2.04\n",
       "Name: Electronegativity, dtype: float64"
      ]
     },
     "execution_count": 14,
     "metadata": {},
     "output_type": "execute_result"
    }
   ],
   "source": [
    "df['Electronegativity'].head()"
   ]
  },
  {
   "cell_type": "code",
   "execution_count": 15,
   "metadata": {},
   "outputs": [
    {
     "data": {
      "text/html": [
       "<div>\n",
       "<style scoped>\n",
       "    .dataframe tbody tr th:only-of-type {\n",
       "        vertical-align: middle;\n",
       "    }\n",
       "\n",
       "    .dataframe tbody tr th {\n",
       "        vertical-align: top;\n",
       "    }\n",
       "\n",
       "    .dataframe thead th {\n",
       "        text-align: right;\n",
       "    }\n",
       "</style>\n",
       "<table border=\"1\" class=\"dataframe\">\n",
       "  <thead>\n",
       "    <tr style=\"text-align: right;\">\n",
       "      <th></th>\n",
       "      <th>Name</th>\n",
       "      <th>Electronegativity</th>\n",
       "    </tr>\n",
       "  </thead>\n",
       "  <tbody>\n",
       "    <tr>\n",
       "      <th>0</th>\n",
       "      <td>Hydrogen</td>\n",
       "      <td>2.20</td>\n",
       "    </tr>\n",
       "    <tr>\n",
       "      <th>1</th>\n",
       "      <td>Helium</td>\n",
       "      <td>NaN</td>\n",
       "    </tr>\n",
       "    <tr>\n",
       "      <th>2</th>\n",
       "      <td>Lithium</td>\n",
       "      <td>0.98</td>\n",
       "    </tr>\n",
       "    <tr>\n",
       "      <th>3</th>\n",
       "      <td>Beryllium</td>\n",
       "      <td>1.57</td>\n",
       "    </tr>\n",
       "    <tr>\n",
       "      <th>4</th>\n",
       "      <td>Boron</td>\n",
       "      <td>2.04</td>\n",
       "    </tr>\n",
       "    <tr>\n",
       "      <th>...</th>\n",
       "      <td>...</td>\n",
       "      <td>...</td>\n",
       "    </tr>\n",
       "    <tr>\n",
       "      <th>113</th>\n",
       "      <td>Flerovium</td>\n",
       "      <td>NaN</td>\n",
       "    </tr>\n",
       "    <tr>\n",
       "      <th>114</th>\n",
       "      <td>Moscovium</td>\n",
       "      <td>NaN</td>\n",
       "    </tr>\n",
       "    <tr>\n",
       "      <th>115</th>\n",
       "      <td>Livermorium</td>\n",
       "      <td>NaN</td>\n",
       "    </tr>\n",
       "    <tr>\n",
       "      <th>116</th>\n",
       "      <td>Tennessine</td>\n",
       "      <td>NaN</td>\n",
       "    </tr>\n",
       "    <tr>\n",
       "      <th>117</th>\n",
       "      <td>Oganesson</td>\n",
       "      <td>NaN</td>\n",
       "    </tr>\n",
       "  </tbody>\n",
       "</table>\n",
       "<p>118 rows × 2 columns</p>\n",
       "</div>"
      ],
      "text/plain": [
       "            Name  Electronegativity\n",
       "0       Hydrogen               2.20\n",
       "1         Helium                NaN\n",
       "2        Lithium               0.98\n",
       "3      Beryllium               1.57\n",
       "4          Boron               2.04\n",
       "..           ...                ...\n",
       "113    Flerovium                NaN\n",
       "114    Moscovium                NaN\n",
       "115  Livermorium                NaN\n",
       "116   Tennessine                NaN\n",
       "117    Oganesson                NaN\n",
       "\n",
       "[118 rows x 2 columns]"
      ]
     },
     "execution_count": 15,
     "metadata": {},
     "output_type": "execute_result"
    }
   ],
   "source": [
    "df[['Name','Electronegativity']]"
   ]
  },
  {
   "cell_type": "markdown",
   "metadata": {},
   "source": [
    "## Performing Operations on Columns\n",
    "\n",
    "Both pandas and NumPy dataframes have the convenient feature that they use something called `broadcasting`. This means that if you are doing something like subtracting a number, multiplying, etc to a column or dataframe of information, it can be done all at once instead of with a `for` loop. Consider if we wanted to calculate the melting point in degrees celsius for all of the elements.\n",
    "\n",
    "Instead of writing a `for` loop that does this, we can just write the following code. This will return a pandas Series (one dimensional dataframe). "
   ]
  },
  {
   "cell_type": "code",
   "execution_count": 16,
   "metadata": {},
   "outputs": [
    {
     "data": {
      "text/plain": [
       "0      -259.34\n",
       "1      -272.20\n",
       "2       180.50\n",
       "3      1286.85\n",
       "4      2074.85\n",
       "        ...   \n",
       "113        NaN\n",
       "114        NaN\n",
       "115        NaN\n",
       "116        NaN\n",
       "117        NaN\n",
       "Name: MeltingPoint, Length: 118, dtype: float64"
      ]
     },
     "execution_count": 16,
     "metadata": {},
     "output_type": "execute_result"
    }
   ],
   "source": [
    "df['MeltingPoint'] - 273.15"
   ]
  },
  {
   "cell_type": "markdown",
   "metadata": {},
   "source": [
    "We could do this one two columns as well."
   ]
  },
  {
   "cell_type": "code",
   "execution_count": 17,
   "metadata": {},
   "outputs": [
    {
     "data": {
      "text/html": [
       "<div>\n",
       "<style scoped>\n",
       "    .dataframe tbody tr th:only-of-type {\n",
       "        vertical-align: middle;\n",
       "    }\n",
       "\n",
       "    .dataframe tbody tr th {\n",
       "        vertical-align: top;\n",
       "    }\n",
       "\n",
       "    .dataframe thead th {\n",
       "        text-align: right;\n",
       "    }\n",
       "</style>\n",
       "<table border=\"1\" class=\"dataframe\">\n",
       "  <thead>\n",
       "    <tr style=\"text-align: right;\">\n",
       "      <th></th>\n",
       "      <th>MeltingPoint</th>\n",
       "      <th>BoilingPoint</th>\n",
       "    </tr>\n",
       "  </thead>\n",
       "  <tbody>\n",
       "    <tr>\n",
       "      <th>0</th>\n",
       "      <td>-259.34</td>\n",
       "      <td>-252.87</td>\n",
       "    </tr>\n",
       "    <tr>\n",
       "      <th>1</th>\n",
       "      <td>-272.20</td>\n",
       "      <td>-268.93</td>\n",
       "    </tr>\n",
       "    <tr>\n",
       "      <th>2</th>\n",
       "      <td>180.50</td>\n",
       "      <td>1341.85</td>\n",
       "    </tr>\n",
       "    <tr>\n",
       "      <th>3</th>\n",
       "      <td>1286.85</td>\n",
       "      <td>2470.85</td>\n",
       "    </tr>\n",
       "    <tr>\n",
       "      <th>4</th>\n",
       "      <td>2074.85</td>\n",
       "      <td>3999.85</td>\n",
       "    </tr>\n",
       "    <tr>\n",
       "      <th>...</th>\n",
       "      <td>...</td>\n",
       "      <td>...</td>\n",
       "    </tr>\n",
       "    <tr>\n",
       "      <th>113</th>\n",
       "      <td>NaN</td>\n",
       "      <td>NaN</td>\n",
       "    </tr>\n",
       "    <tr>\n",
       "      <th>114</th>\n",
       "      <td>NaN</td>\n",
       "      <td>NaN</td>\n",
       "    </tr>\n",
       "    <tr>\n",
       "      <th>115</th>\n",
       "      <td>NaN</td>\n",
       "      <td>NaN</td>\n",
       "    </tr>\n",
       "    <tr>\n",
       "      <th>116</th>\n",
       "      <td>NaN</td>\n",
       "      <td>NaN</td>\n",
       "    </tr>\n",
       "    <tr>\n",
       "      <th>117</th>\n",
       "      <td>NaN</td>\n",
       "      <td>NaN</td>\n",
       "    </tr>\n",
       "  </tbody>\n",
       "</table>\n",
       "<p>118 rows × 2 columns</p>\n",
       "</div>"
      ],
      "text/plain": [
       "     MeltingPoint  BoilingPoint\n",
       "0         -259.34       -252.87\n",
       "1         -272.20       -268.93\n",
       "2          180.50       1341.85\n",
       "3         1286.85       2470.85\n",
       "4         2074.85       3999.85\n",
       "..            ...           ...\n",
       "113           NaN           NaN\n",
       "114           NaN           NaN\n",
       "115           NaN           NaN\n",
       "116           NaN           NaN\n",
       "117           NaN           NaN\n",
       "\n",
       "[118 rows x 2 columns]"
      ]
     },
     "execution_count": 17,
     "metadata": {},
     "output_type": "execute_result"
    }
   ],
   "source": [
    "df[['MeltingPoint', 'BoilingPoint']] - 273.15"
   ]
  },
  {
   "cell_type": "markdown",
   "metadata": {},
   "source": [
    "We can capture these in new dataframe columns"
   ]
  },
  {
   "cell_type": "code",
   "execution_count": 18,
   "metadata": {},
   "outputs": [],
   "source": [
    "df[['MeltingPointC', 'BoilingPointC']] = df[['MeltingPoint', 'BoilingPoint']] - 273.15"
   ]
  },
  {
   "cell_type": "code",
   "execution_count": 19,
   "metadata": {},
   "outputs": [
    {
     "data": {
      "text/html": [
       "<div>\n",
       "<style scoped>\n",
       "    .dataframe tbody tr th:only-of-type {\n",
       "        vertical-align: middle;\n",
       "    }\n",
       "\n",
       "    .dataframe tbody tr th {\n",
       "        vertical-align: top;\n",
       "    }\n",
       "\n",
       "    .dataframe thead th {\n",
       "        text-align: right;\n",
       "    }\n",
       "</style>\n",
       "<table border=\"1\" class=\"dataframe\">\n",
       "  <thead>\n",
       "    <tr style=\"text-align: right;\">\n",
       "      <th></th>\n",
       "      <th>AtomicNumber</th>\n",
       "      <th>Symbol</th>\n",
       "      <th>Name</th>\n",
       "      <th>AtomicMass</th>\n",
       "      <th>CPKHexColor</th>\n",
       "      <th>ElectronConfiguration</th>\n",
       "      <th>Electronegativity</th>\n",
       "      <th>AtomicRadius</th>\n",
       "      <th>IonizationEnergy</th>\n",
       "      <th>ElectronAffinity</th>\n",
       "      <th>OxidationStates</th>\n",
       "      <th>StandardState</th>\n",
       "      <th>MeltingPoint</th>\n",
       "      <th>BoilingPoint</th>\n",
       "      <th>Density</th>\n",
       "      <th>GroupBlock</th>\n",
       "      <th>YearDiscovered</th>\n",
       "      <th>MeltingPointC</th>\n",
       "      <th>BoilingPointC</th>\n",
       "    </tr>\n",
       "  </thead>\n",
       "  <tbody>\n",
       "    <tr>\n",
       "      <th>0</th>\n",
       "      <td>1</td>\n",
       "      <td>H</td>\n",
       "      <td>Hydrogen</td>\n",
       "      <td>1.008000</td>\n",
       "      <td>FFFFFF</td>\n",
       "      <td>1s1</td>\n",
       "      <td>2.20</td>\n",
       "      <td>120.0</td>\n",
       "      <td>13.598</td>\n",
       "      <td>0.754</td>\n",
       "      <td>+1, -1</td>\n",
       "      <td>Gas</td>\n",
       "      <td>13.81</td>\n",
       "      <td>20.28</td>\n",
       "      <td>0.000090</td>\n",
       "      <td>Nonmetal</td>\n",
       "      <td>1766</td>\n",
       "      <td>-259.34</td>\n",
       "      <td>-252.87</td>\n",
       "    </tr>\n",
       "    <tr>\n",
       "      <th>1</th>\n",
       "      <td>2</td>\n",
       "      <td>He</td>\n",
       "      <td>Helium</td>\n",
       "      <td>4.002600</td>\n",
       "      <td>D9FFFF</td>\n",
       "      <td>1s2</td>\n",
       "      <td>NaN</td>\n",
       "      <td>140.0</td>\n",
       "      <td>24.587</td>\n",
       "      <td>NaN</td>\n",
       "      <td>0</td>\n",
       "      <td>Gas</td>\n",
       "      <td>0.95</td>\n",
       "      <td>4.22</td>\n",
       "      <td>0.000179</td>\n",
       "      <td>Noble gas</td>\n",
       "      <td>1868</td>\n",
       "      <td>-272.20</td>\n",
       "      <td>-268.93</td>\n",
       "    </tr>\n",
       "    <tr>\n",
       "      <th>2</th>\n",
       "      <td>3</td>\n",
       "      <td>Li</td>\n",
       "      <td>Lithium</td>\n",
       "      <td>7.000000</td>\n",
       "      <td>CC80FF</td>\n",
       "      <td>[He]2s1</td>\n",
       "      <td>0.98</td>\n",
       "      <td>182.0</td>\n",
       "      <td>5.392</td>\n",
       "      <td>0.618</td>\n",
       "      <td>+1</td>\n",
       "      <td>Solid</td>\n",
       "      <td>453.65</td>\n",
       "      <td>1615.00</td>\n",
       "      <td>0.534000</td>\n",
       "      <td>Alkali metal</td>\n",
       "      <td>1817</td>\n",
       "      <td>180.50</td>\n",
       "      <td>1341.85</td>\n",
       "    </tr>\n",
       "    <tr>\n",
       "      <th>3</th>\n",
       "      <td>4</td>\n",
       "      <td>Be</td>\n",
       "      <td>Beryllium</td>\n",
       "      <td>9.012183</td>\n",
       "      <td>C2FF00</td>\n",
       "      <td>[He]2s2</td>\n",
       "      <td>1.57</td>\n",
       "      <td>153.0</td>\n",
       "      <td>9.323</td>\n",
       "      <td>NaN</td>\n",
       "      <td>+2</td>\n",
       "      <td>Solid</td>\n",
       "      <td>1560.00</td>\n",
       "      <td>2744.00</td>\n",
       "      <td>1.850000</td>\n",
       "      <td>Alkaline earth metal</td>\n",
       "      <td>1798</td>\n",
       "      <td>1286.85</td>\n",
       "      <td>2470.85</td>\n",
       "    </tr>\n",
       "    <tr>\n",
       "      <th>4</th>\n",
       "      <td>5</td>\n",
       "      <td>B</td>\n",
       "      <td>Boron</td>\n",
       "      <td>10.810000</td>\n",
       "      <td>FFB5B5</td>\n",
       "      <td>[He]2s2 2p1</td>\n",
       "      <td>2.04</td>\n",
       "      <td>192.0</td>\n",
       "      <td>8.298</td>\n",
       "      <td>0.277</td>\n",
       "      <td>+3</td>\n",
       "      <td>Solid</td>\n",
       "      <td>2348.00</td>\n",
       "      <td>4273.00</td>\n",
       "      <td>2.370000</td>\n",
       "      <td>Metalloid</td>\n",
       "      <td>1808</td>\n",
       "      <td>2074.85</td>\n",
       "      <td>3999.85</td>\n",
       "    </tr>\n",
       "  </tbody>\n",
       "</table>\n",
       "</div>"
      ],
      "text/plain": [
       "   AtomicNumber Symbol       Name  AtomicMass CPKHexColor  \\\n",
       "0             1      H   Hydrogen    1.008000      FFFFFF   \n",
       "1             2     He     Helium    4.002600      D9FFFF   \n",
       "2             3     Li    Lithium    7.000000      CC80FF   \n",
       "3             4     Be  Beryllium    9.012183      C2FF00   \n",
       "4             5      B      Boron   10.810000      FFB5B5   \n",
       "\n",
       "  ElectronConfiguration  Electronegativity  AtomicRadius  IonizationEnergy  \\\n",
       "0                   1s1               2.20         120.0            13.598   \n",
       "1                   1s2                NaN         140.0            24.587   \n",
       "2               [He]2s1               0.98         182.0             5.392   \n",
       "3               [He]2s2               1.57         153.0             9.323   \n",
       "4           [He]2s2 2p1               2.04         192.0             8.298   \n",
       "\n",
       "   ElectronAffinity OxidationStates StandardState  MeltingPoint  BoilingPoint  \\\n",
       "0             0.754          +1, -1           Gas         13.81         20.28   \n",
       "1               NaN               0           Gas          0.95          4.22   \n",
       "2             0.618              +1         Solid        453.65       1615.00   \n",
       "3               NaN              +2         Solid       1560.00       2744.00   \n",
       "4             0.277              +3         Solid       2348.00       4273.00   \n",
       "\n",
       "    Density            GroupBlock YearDiscovered  MeltingPointC  BoilingPointC  \n",
       "0  0.000090              Nonmetal           1766        -259.34        -252.87  \n",
       "1  0.000179             Noble gas           1868        -272.20        -268.93  \n",
       "2  0.534000          Alkali metal           1817         180.50        1341.85  \n",
       "3  1.850000  Alkaline earth metal           1798        1286.85        2470.85  \n",
       "4  2.370000             Metalloid           1808        2074.85        3999.85  "
      ]
     },
     "execution_count": 19,
     "metadata": {},
     "output_type": "execute_result"
    }
   ],
   "source": [
    "df.head()"
   ]
  },
  {
   "cell_type": "markdown",
   "metadata": {},
   "source": [
    "### The `.apply` operator"
   ]
  },
  {
   "cell_type": "code",
   "execution_count": 20,
   "metadata": {},
   "outputs": [
    {
     "data": {
      "text/html": [
       "<div>\n",
       "<style scoped>\n",
       "    .dataframe tbody tr th:only-of-type {\n",
       "        vertical-align: middle;\n",
       "    }\n",
       "\n",
       "    .dataframe tbody tr th {\n",
       "        vertical-align: top;\n",
       "    }\n",
       "\n",
       "    .dataframe thead th {\n",
       "        text-align: right;\n",
       "    }\n",
       "</style>\n",
       "<table border=\"1\" class=\"dataframe\">\n",
       "  <thead>\n",
       "    <tr style=\"text-align: right;\">\n",
       "      <th></th>\n",
       "      <th>AtomicNumber</th>\n",
       "      <th>Symbol</th>\n",
       "      <th>Name</th>\n",
       "      <th>AtomicMass</th>\n",
       "      <th>CPKHexColor</th>\n",
       "      <th>ElectronConfiguration</th>\n",
       "      <th>Electronegativity</th>\n",
       "      <th>AtomicRadius</th>\n",
       "      <th>IonizationEnergy</th>\n",
       "      <th>ElectronAffinity</th>\n",
       "      <th>OxidationStates</th>\n",
       "      <th>StandardState</th>\n",
       "      <th>MeltingPoint</th>\n",
       "      <th>BoilingPoint</th>\n",
       "      <th>Density</th>\n",
       "      <th>GroupBlock</th>\n",
       "      <th>YearDiscovered</th>\n",
       "      <th>MeltingPointC</th>\n",
       "      <th>BoilingPointC</th>\n",
       "    </tr>\n",
       "  </thead>\n",
       "  <tbody>\n",
       "    <tr>\n",
       "      <th>0</th>\n",
       "      <td>1</td>\n",
       "      <td>H</td>\n",
       "      <td>Hydrogen</td>\n",
       "      <td>1.008000</td>\n",
       "      <td>FFFFFF</td>\n",
       "      <td>1s1</td>\n",
       "      <td>2.20</td>\n",
       "      <td>120.0</td>\n",
       "      <td>13.598</td>\n",
       "      <td>0.754</td>\n",
       "      <td>+1, -1</td>\n",
       "      <td>Gas</td>\n",
       "      <td>13.81</td>\n",
       "      <td>20.28</td>\n",
       "      <td>0.000090</td>\n",
       "      <td>Nonmetal</td>\n",
       "      <td>1766</td>\n",
       "      <td>-259.34</td>\n",
       "      <td>-252.87</td>\n",
       "    </tr>\n",
       "    <tr>\n",
       "      <th>1</th>\n",
       "      <td>2</td>\n",
       "      <td>He</td>\n",
       "      <td>Helium</td>\n",
       "      <td>4.002600</td>\n",
       "      <td>D9FFFF</td>\n",
       "      <td>1s2</td>\n",
       "      <td>NaN</td>\n",
       "      <td>140.0</td>\n",
       "      <td>24.587</td>\n",
       "      <td>NaN</td>\n",
       "      <td>0</td>\n",
       "      <td>Gas</td>\n",
       "      <td>0.95</td>\n",
       "      <td>4.22</td>\n",
       "      <td>0.000179</td>\n",
       "      <td>Noble gas</td>\n",
       "      <td>1868</td>\n",
       "      <td>-272.20</td>\n",
       "      <td>-268.93</td>\n",
       "    </tr>\n",
       "    <tr>\n",
       "      <th>2</th>\n",
       "      <td>3</td>\n",
       "      <td>Li</td>\n",
       "      <td>Lithium</td>\n",
       "      <td>7.000000</td>\n",
       "      <td>CC80FF</td>\n",
       "      <td>[He]2s1</td>\n",
       "      <td>0.98</td>\n",
       "      <td>182.0</td>\n",
       "      <td>5.392</td>\n",
       "      <td>0.618</td>\n",
       "      <td>+1</td>\n",
       "      <td>Solid</td>\n",
       "      <td>453.65</td>\n",
       "      <td>1615.00</td>\n",
       "      <td>0.534000</td>\n",
       "      <td>Alkali metal</td>\n",
       "      <td>1817</td>\n",
       "      <td>180.50</td>\n",
       "      <td>1341.85</td>\n",
       "    </tr>\n",
       "    <tr>\n",
       "      <th>3</th>\n",
       "      <td>4</td>\n",
       "      <td>Be</td>\n",
       "      <td>Beryllium</td>\n",
       "      <td>9.012183</td>\n",
       "      <td>C2FF00</td>\n",
       "      <td>[He]2s2</td>\n",
       "      <td>1.57</td>\n",
       "      <td>153.0</td>\n",
       "      <td>9.323</td>\n",
       "      <td>NaN</td>\n",
       "      <td>+2</td>\n",
       "      <td>Solid</td>\n",
       "      <td>1560.00</td>\n",
       "      <td>2744.00</td>\n",
       "      <td>1.850000</td>\n",
       "      <td>Alkaline earth metal</td>\n",
       "      <td>1798</td>\n",
       "      <td>1286.85</td>\n",
       "      <td>2470.85</td>\n",
       "    </tr>\n",
       "    <tr>\n",
       "      <th>4</th>\n",
       "      <td>5</td>\n",
       "      <td>B</td>\n",
       "      <td>Boron</td>\n",
       "      <td>10.810000</td>\n",
       "      <td>FFB5B5</td>\n",
       "      <td>[He]2s2 2p1</td>\n",
       "      <td>2.04</td>\n",
       "      <td>192.0</td>\n",
       "      <td>8.298</td>\n",
       "      <td>0.277</td>\n",
       "      <td>+3</td>\n",
       "      <td>Solid</td>\n",
       "      <td>2348.00</td>\n",
       "      <td>4273.00</td>\n",
       "      <td>2.370000</td>\n",
       "      <td>Metalloid</td>\n",
       "      <td>1808</td>\n",
       "      <td>2074.85</td>\n",
       "      <td>3999.85</td>\n",
       "    </tr>\n",
       "  </tbody>\n",
       "</table>\n",
       "</div>"
      ],
      "text/plain": [
       "   AtomicNumber Symbol       Name  AtomicMass CPKHexColor  \\\n",
       "0             1      H   Hydrogen    1.008000      FFFFFF   \n",
       "1             2     He     Helium    4.002600      D9FFFF   \n",
       "2             3     Li    Lithium    7.000000      CC80FF   \n",
       "3             4     Be  Beryllium    9.012183      C2FF00   \n",
       "4             5      B      Boron   10.810000      FFB5B5   \n",
       "\n",
       "  ElectronConfiguration  Electronegativity  AtomicRadius  IonizationEnergy  \\\n",
       "0                   1s1               2.20         120.0            13.598   \n",
       "1                   1s2                NaN         140.0            24.587   \n",
       "2               [He]2s1               0.98         182.0             5.392   \n",
       "3               [He]2s2               1.57         153.0             9.323   \n",
       "4           [He]2s2 2p1               2.04         192.0             8.298   \n",
       "\n",
       "   ElectronAffinity OxidationStates StandardState  MeltingPoint  BoilingPoint  \\\n",
       "0             0.754          +1, -1           Gas         13.81         20.28   \n",
       "1               NaN               0           Gas          0.95          4.22   \n",
       "2             0.618              +1         Solid        453.65       1615.00   \n",
       "3               NaN              +2         Solid       1560.00       2744.00   \n",
       "4             0.277              +3         Solid       2348.00       4273.00   \n",
       "\n",
       "    Density            GroupBlock YearDiscovered  MeltingPointC  BoilingPointC  \n",
       "0  0.000090              Nonmetal           1766        -259.34        -252.87  \n",
       "1  0.000179             Noble gas           1868        -272.20        -268.93  \n",
       "2  0.534000          Alkali metal           1817         180.50        1341.85  \n",
       "3  1.850000  Alkaline earth metal           1798        1286.85        2470.85  \n",
       "4  2.370000             Metalloid           1808        2074.85        3999.85  "
      ]
     },
     "execution_count": 20,
     "metadata": {},
     "output_type": "execute_result"
    }
   ],
   "source": [
    "df.head()"
   ]
  },
  {
   "cell_type": "code",
   "execution_count": 21,
   "metadata": {},
   "outputs": [
    {
     "data": {
      "text/plain": [
       "0       8\n",
       "1       6\n",
       "2       7\n",
       "3       9\n",
       "4       5\n",
       "       ..\n",
       "113     9\n",
       "114     9\n",
       "115    11\n",
       "116    10\n",
       "117     9\n",
       "Name: Name, Length: 118, dtype: int64"
      ]
     },
     "execution_count": 21,
     "metadata": {},
     "output_type": "execute_result"
    }
   ],
   "source": [
    "# Number of letters in name - \n",
    "# point - you can use built in functions\n",
    "df[\"Name\"].apply(len)"
   ]
  },
  {
   "cell_type": "code",
   "execution_count": 22,
   "metadata": {},
   "outputs": [],
   "source": [
    "# Apply with custom function\n",
    "import numpy as np\n",
    "\n",
    "def calculate_num_oxidation(oxidation_states):\n",
    "    \"\"\"Calcultae the number of oxidation states.\"\"\"\n",
    "    \n",
    "    if isinstance(oxidation_states, str):\n",
    "        oxidation_list = oxidation_states.split(\",\")\n",
    "        num_states = len(oxidation_list)\n",
    "\n",
    "        return num_states\n",
    "    \n",
    "    else:\n",
    "        return np.nan"
   ]
  },
  {
   "cell_type": "code",
   "execution_count": 23,
   "metadata": {},
   "outputs": [],
   "source": [
    "df[\"NumOxidation\"] = df[\"OxidationStates\"].apply(calculate_num_oxidation)"
   ]
  },
  {
   "cell_type": "code",
   "execution_count": 24,
   "metadata": {},
   "outputs": [
    {
     "data": {
      "text/html": [
       "<div>\n",
       "<style scoped>\n",
       "    .dataframe tbody tr th:only-of-type {\n",
       "        vertical-align: middle;\n",
       "    }\n",
       "\n",
       "    .dataframe tbody tr th {\n",
       "        vertical-align: top;\n",
       "    }\n",
       "\n",
       "    .dataframe thead th {\n",
       "        text-align: right;\n",
       "    }\n",
       "</style>\n",
       "<table border=\"1\" class=\"dataframe\">\n",
       "  <thead>\n",
       "    <tr style=\"text-align: right;\">\n",
       "      <th></th>\n",
       "      <th>AtomicNumber</th>\n",
       "      <th>Symbol</th>\n",
       "      <th>Name</th>\n",
       "      <th>AtomicMass</th>\n",
       "      <th>CPKHexColor</th>\n",
       "      <th>ElectronConfiguration</th>\n",
       "      <th>Electronegativity</th>\n",
       "      <th>AtomicRadius</th>\n",
       "      <th>IonizationEnergy</th>\n",
       "      <th>ElectronAffinity</th>\n",
       "      <th>OxidationStates</th>\n",
       "      <th>StandardState</th>\n",
       "      <th>MeltingPoint</th>\n",
       "      <th>BoilingPoint</th>\n",
       "      <th>Density</th>\n",
       "      <th>GroupBlock</th>\n",
       "      <th>YearDiscovered</th>\n",
       "      <th>MeltingPointC</th>\n",
       "      <th>BoilingPointC</th>\n",
       "      <th>NumOxidation</th>\n",
       "    </tr>\n",
       "  </thead>\n",
       "  <tbody>\n",
       "    <tr>\n",
       "      <th>0</th>\n",
       "      <td>1</td>\n",
       "      <td>H</td>\n",
       "      <td>Hydrogen</td>\n",
       "      <td>1.008000</td>\n",
       "      <td>FFFFFF</td>\n",
       "      <td>1s1</td>\n",
       "      <td>2.20</td>\n",
       "      <td>120.0</td>\n",
       "      <td>13.598</td>\n",
       "      <td>0.754</td>\n",
       "      <td>+1, -1</td>\n",
       "      <td>Gas</td>\n",
       "      <td>13.81</td>\n",
       "      <td>20.28</td>\n",
       "      <td>0.000090</td>\n",
       "      <td>Nonmetal</td>\n",
       "      <td>1766</td>\n",
       "      <td>-259.34</td>\n",
       "      <td>-252.87</td>\n",
       "      <td>2.0</td>\n",
       "    </tr>\n",
       "    <tr>\n",
       "      <th>1</th>\n",
       "      <td>2</td>\n",
       "      <td>He</td>\n",
       "      <td>Helium</td>\n",
       "      <td>4.002600</td>\n",
       "      <td>D9FFFF</td>\n",
       "      <td>1s2</td>\n",
       "      <td>NaN</td>\n",
       "      <td>140.0</td>\n",
       "      <td>24.587</td>\n",
       "      <td>NaN</td>\n",
       "      <td>0</td>\n",
       "      <td>Gas</td>\n",
       "      <td>0.95</td>\n",
       "      <td>4.22</td>\n",
       "      <td>0.000179</td>\n",
       "      <td>Noble gas</td>\n",
       "      <td>1868</td>\n",
       "      <td>-272.20</td>\n",
       "      <td>-268.93</td>\n",
       "      <td>1.0</td>\n",
       "    </tr>\n",
       "    <tr>\n",
       "      <th>2</th>\n",
       "      <td>3</td>\n",
       "      <td>Li</td>\n",
       "      <td>Lithium</td>\n",
       "      <td>7.000000</td>\n",
       "      <td>CC80FF</td>\n",
       "      <td>[He]2s1</td>\n",
       "      <td>0.98</td>\n",
       "      <td>182.0</td>\n",
       "      <td>5.392</td>\n",
       "      <td>0.618</td>\n",
       "      <td>+1</td>\n",
       "      <td>Solid</td>\n",
       "      <td>453.65</td>\n",
       "      <td>1615.00</td>\n",
       "      <td>0.534000</td>\n",
       "      <td>Alkali metal</td>\n",
       "      <td>1817</td>\n",
       "      <td>180.50</td>\n",
       "      <td>1341.85</td>\n",
       "      <td>1.0</td>\n",
       "    </tr>\n",
       "    <tr>\n",
       "      <th>3</th>\n",
       "      <td>4</td>\n",
       "      <td>Be</td>\n",
       "      <td>Beryllium</td>\n",
       "      <td>9.012183</td>\n",
       "      <td>C2FF00</td>\n",
       "      <td>[He]2s2</td>\n",
       "      <td>1.57</td>\n",
       "      <td>153.0</td>\n",
       "      <td>9.323</td>\n",
       "      <td>NaN</td>\n",
       "      <td>+2</td>\n",
       "      <td>Solid</td>\n",
       "      <td>1560.00</td>\n",
       "      <td>2744.00</td>\n",
       "      <td>1.850000</td>\n",
       "      <td>Alkaline earth metal</td>\n",
       "      <td>1798</td>\n",
       "      <td>1286.85</td>\n",
       "      <td>2470.85</td>\n",
       "      <td>1.0</td>\n",
       "    </tr>\n",
       "    <tr>\n",
       "      <th>4</th>\n",
       "      <td>5</td>\n",
       "      <td>B</td>\n",
       "      <td>Boron</td>\n",
       "      <td>10.810000</td>\n",
       "      <td>FFB5B5</td>\n",
       "      <td>[He]2s2 2p1</td>\n",
       "      <td>2.04</td>\n",
       "      <td>192.0</td>\n",
       "      <td>8.298</td>\n",
       "      <td>0.277</td>\n",
       "      <td>+3</td>\n",
       "      <td>Solid</td>\n",
       "      <td>2348.00</td>\n",
       "      <td>4273.00</td>\n",
       "      <td>2.370000</td>\n",
       "      <td>Metalloid</td>\n",
       "      <td>1808</td>\n",
       "      <td>2074.85</td>\n",
       "      <td>3999.85</td>\n",
       "      <td>1.0</td>\n",
       "    </tr>\n",
       "  </tbody>\n",
       "</table>\n",
       "</div>"
      ],
      "text/plain": [
       "   AtomicNumber Symbol       Name  AtomicMass CPKHexColor  \\\n",
       "0             1      H   Hydrogen    1.008000      FFFFFF   \n",
       "1             2     He     Helium    4.002600      D9FFFF   \n",
       "2             3     Li    Lithium    7.000000      CC80FF   \n",
       "3             4     Be  Beryllium    9.012183      C2FF00   \n",
       "4             5      B      Boron   10.810000      FFB5B5   \n",
       "\n",
       "  ElectronConfiguration  Electronegativity  AtomicRadius  IonizationEnergy  \\\n",
       "0                   1s1               2.20         120.0            13.598   \n",
       "1                   1s2                NaN         140.0            24.587   \n",
       "2               [He]2s1               0.98         182.0             5.392   \n",
       "3               [He]2s2               1.57         153.0             9.323   \n",
       "4           [He]2s2 2p1               2.04         192.0             8.298   \n",
       "\n",
       "   ElectronAffinity OxidationStates StandardState  MeltingPoint  BoilingPoint  \\\n",
       "0             0.754          +1, -1           Gas         13.81         20.28   \n",
       "1               NaN               0           Gas          0.95          4.22   \n",
       "2             0.618              +1         Solid        453.65       1615.00   \n",
       "3               NaN              +2         Solid       1560.00       2744.00   \n",
       "4             0.277              +3         Solid       2348.00       4273.00   \n",
       "\n",
       "    Density            GroupBlock YearDiscovered  MeltingPointC  \\\n",
       "0  0.000090              Nonmetal           1766        -259.34   \n",
       "1  0.000179             Noble gas           1868        -272.20   \n",
       "2  0.534000          Alkali metal           1817         180.50   \n",
       "3  1.850000  Alkaline earth metal           1798        1286.85   \n",
       "4  2.370000             Metalloid           1808        2074.85   \n",
       "\n",
       "   BoilingPointC  NumOxidation  \n",
       "0        -252.87           2.0  \n",
       "1        -268.93           1.0  \n",
       "2        1341.85           1.0  \n",
       "3        2470.85           1.0  \n",
       "4        3999.85           1.0  "
      ]
     },
     "execution_count": 24,
     "metadata": {},
     "output_type": "execute_result"
    }
   ],
   "source": [
    "df.head()"
   ]
  },
  {
   "cell_type": "markdown",
   "metadata": {},
   "source": [
    "## Built-in plotting"
   ]
  },
  {
   "cell_type": "code",
   "execution_count": 25,
   "metadata": {},
   "outputs": [
    {
     "data": {
      "text/plain": [
       "<AxesSubplot:>"
      ]
     },
     "execution_count": 25,
     "metadata": {},
     "output_type": "execute_result"
    },
    {
     "data": {
      "image/png": "[encoded data removed]",
      "text/plain": [
       "<Figure size 432x288 with 1 Axes>"
      ]
     },
     "metadata": {
      "needs_background": "light"
     },
     "output_type": "display_data"
    }
   ],
   "source": [
    "df.plot()"
   ]
  },
  {
   "cell_type": "code",
   "execution_count": 26,
   "metadata": {},
   "outputs": [
    {
     "data": {
      "text/plain": [
       "<AxesSubplot:xlabel='Electronegativity', ylabel='AtomicRadius'>"
      ]
     },
     "execution_count": 26,
     "metadata": {},
     "output_type": "execute_result"
    },
    {
     "data": {
      "image/png": "[encoded data removed]",
      "text/plain": [
       "<Figure size 432x288 with 1 Axes>"
      ]
     },
     "metadata": {
      "needs_background": "light"
     },
     "output_type": "display_data"
    }
   ],
   "source": [
    "df.plot(x=\"Electronegativity\", y=\"AtomicRadius\", kind=\"scatter\")"
   ]
  },
  {
   "cell_type": "code",
   "execution_count": null,
   "metadata": {},
   "outputs": [],
   "source": []
  }
 ],
 "metadata": {
  "kernelspec": {
   "display_name": "Python 3",
   "language": "python",
   "name": "python3"
  },
  "language_info": {
   "codemirror_mode": {
    "name": "ipython",
    "version": 3
   },
   "file_extension": ".py",
   "mimetype": "text/x-python",
   "name": "python",
   "nbconvert_exporter": "python",
   "pygments_lexer": "ipython3",
   "version": "3.9.2"
  }
 },
 "nbformat": 4,
 "nbformat_minor": 4
}
