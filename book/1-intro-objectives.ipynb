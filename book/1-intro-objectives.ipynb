{
 "cells": [
  {
   "cell_type": "markdown",
   "metadata": {},
   "source": [
    "Session 1\n",
    "========"
   ]
  },
  {
   "cell_type": "markdown",
   "metadata": {},
   "source": [
    "<div class=\"overview\">\n",
    "   <p class=\"overview-title\">Session 1 Overview</p>\n",
    "    <p>In this session, we will see how to use the libraries <a href=\"https://pandas.pydata.org/\">Pandas</a>, <a href=\"https://numpy.org/\">NumPy</a>, and <a href=\"https://matplotlib.org/\">Matplotlib</a>. Pandas is a library for working with tabular data which is widely used in data science. NumPy, short for <strong>nu</strong>merical <strong>py</strong>thon is used for working with numerical data. Its core data type, the n-dimensional NumPy array allows for much faster calculations than standard Python, and forms the base of the scientific Python eco-system. Matplotlib is a well-established plotting library for Python.</p>\n",
    "    <p>These three libraries are fundamental for scientific work as well as data science in Python. In this session, we will learn some basics about pandas dataframes, NumPy arrays, and creating plots using matplotlib.</p>\n",
    "    <p>At the end of this session, you should be able to answer these questions.</p>\n",
    "    <h3>Working with Pandas DataFrames</h3>\n",
    "        <ul>\n",
    "            <li>How can I use pandas to examine data?</li>\n",
    "        </ul>\n",
    "    <h3>Working with NumPy Arrays</h3>\n",
    "        <ul>\n",
    "            <li>When should I use NumPy arrays instead of Pandas dataframes?</li>\n",
    "            <li>What does the shape of a NumPy array mean?</li>\n",
    "            <li>How can I reshape arrays?</li>\n",
    "        </ul>\n",
    "    <h3>Creating plots using matplotlib</h3>\n",
    "        <ul>\n",
    "            <li>How can I create plots using matplotlib?</li>\n",
    "        </ul>\n",
    "</div>"
   ]
  },
  {
   "cell_type": "code",
   "execution_count": null,
   "metadata": {},
   "outputs": [],
   "source": []
  }
 ],
 "metadata": {
  "kernelspec": {
   "display_name": "Python 3",
   "language": "python",
   "name": "python3"
  },
  "language_info": {
   "codemirror_mode": {
    "name": "ipython",
    "version": 3
   },
   "file_extension": ".py",
   "mimetype": "text/x-python",
   "name": "python",
   "nbconvert_exporter": "python",
   "pygments_lexer": "ipython3",
   "version": "3.9.2"
  }
 },
 "nbformat": 4,
 "nbformat_minor": 4
}
