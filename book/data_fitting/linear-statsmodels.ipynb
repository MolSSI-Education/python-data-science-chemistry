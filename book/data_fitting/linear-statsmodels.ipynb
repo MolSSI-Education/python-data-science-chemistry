{
 "cells": [
  {
   "attachments": {},
   "cell_type": "markdown",
   "metadata": {},
   "source": [
    "Linear Fitting with statsmodels\n",
    "========================\n",
    "\n",
    "``````{admonition} Overview\n",
    ":class: overview\n",
    "\n",
    "Questions:\n",
    "\n",
    "* How can I fit a linear equation using statsmodels?\n",
    "\n",
    "* How can I fit a linear equation with multiple variables using statsmodels?\n",
    "\n",
    "Objectives:\n",
    "\n",
    "* Use statsmodels for linear regression.\n",
    "\n",
    "``````\n",
    "In this module, we are going to use statsmodels to fit our linear model. We are going to use an interface which allows us to use dataframes and text formulas to specify the equations we want to fit. To import statsmodels, use `import statsmodels.formula.api` as `smf`.\n",
    "\n",
    "First, we'll use pandas to load the data we cleaned in session 2."
   ]
  },
  {
   "cell_type": "code",
   "execution_count": 1,
   "metadata": {},
   "outputs": [],
   "source": [
    "import os\n",
    "import pandas as pd\n",
    "\n",
    "import statsmodels.formula.api as smf"
   ]
  },
  {
   "cell_type": "code",
   "execution_count": 2,
   "metadata": {},
   "outputs": [],
   "source": [
    "file_path = os.path.join(\"data\", \"potts_table1_clean.csv\")\n",
    "df = pd.read_csv(file_path)"
   ]
  },
  {
   "cell_type": "code",
   "execution_count": 3,
   "metadata": {},
   "outputs": [
    {
     "name": "stdout",
     "output_type": "stream",
     "text": [
      "<class 'pandas.core.frame.DataFrame'>\n",
      "RangeIndex: 37 entries, 0 to 36\n",
      "Data columns (total 10 columns):\n",
      " #   Column     Non-Null Count  Dtype  \n",
      "---  ------     --------------  -----  \n",
      " 0   Compound   37 non-null     object \n",
      " 1   log P      34 non-null     float64\n",
      " 2   pi         37 non-null     float64\n",
      " 3   Hd         37 non-null     float64\n",
      " 4   Ha         37 non-null     float64\n",
      " 5   MV         36 non-null     float64\n",
      " 6   R_2        37 non-null     float64\n",
      " 7   log K_oct  36 non-null     float64\n",
      " 8   log K_hex  30 non-null     float64\n",
      " 9   log K_hep  24 non-null     float64\n",
      "dtypes: float64(9), object(1)\n",
      "memory usage: 3.0+ KB\n"
     ]
    }
   ],
   "source": [
    "df.info()"
   ]
  },
  {
   "cell_type": "markdown",
   "metadata": {},
   "source": [
    "Next, we will use ordinary least squares (`ols`) to fit our equation. When you call `ols`, you give it a formula you would like to fit. The dependent variable goes on the left side, followed by a `~`. Then you put the independent variables you want to fit. To fit `log P` as a function of `MV`, we would expect put `log P ~ MV`. However, since our dependent variable has a space in it, we must group it using a special syntax - `Q('log P')`. Finally, we fit the model using `.fit()`."
   ]
  },
  {
   "cell_type": "code",
   "execution_count": 4,
   "metadata": {},
   "outputs": [],
   "source": [
    "regression = smf.ols(\"Q('log P') ~ MV\", data=df).fit()"
   ]
  },
  {
   "cell_type": "markdown",
   "metadata": {},
   "source": [
    "This performs a fit to your equation using ordinary least squares. You can get a summary of your model by calling `.summary` on the fit."
   ]
  },
  {
   "cell_type": "code",
   "execution_count": 5,
   "metadata": {},
   "outputs": [
    {
     "data": {
      "text/html": [
       "<table class=\"simpletable\">\n",
       "<caption>OLS Regression Results</caption>\n",
       "<tr>\n",
       "  <th>Dep. Variable:</th>       <td>Q('log P')</td>    <th>  R-squared:         </th> <td>   0.446</td>\n",
       "</tr>\n",
       "<tr>\n",
       "  <th>Model:</th>                   <td>OLS</td>       <th>  Adj. R-squared:    </th> <td>   0.428</td>\n",
       "</tr>\n",
       "<tr>\n",
       "  <th>Method:</th>             <td>Least Squares</td>  <th>  F-statistic:       </th> <td>   24.98</td>\n",
       "</tr>\n",
       "<tr>\n",
       "  <th>Date:</th>             <td>Wed, 12 May 2021</td> <th>  Prob (F-statistic):</th> <td>2.16e-05</td>\n",
       "</tr>\n",
       "<tr>\n",
       "  <th>Time:</th>                 <td>13:54:47</td>     <th>  Log-Likelihood:    </th> <td> -34.474</td>\n",
       "</tr>\n",
       "<tr>\n",
       "  <th>No. Observations:</th>      <td>    33</td>      <th>  AIC:               </th> <td>   72.95</td>\n",
       "</tr>\n",
       "<tr>\n",
       "  <th>Df Residuals:</th>          <td>    31</td>      <th>  BIC:               </th> <td>   75.94</td>\n",
       "</tr>\n",
       "<tr>\n",
       "  <th>Df Model:</th>              <td>     1</td>      <th>                     </th>     <td> </td>   \n",
       "</tr>\n",
       "<tr>\n",
       "  <th>Covariance Type:</th>      <td>nonrobust</td>    <th>                     </th>     <td> </td>   \n",
       "</tr>\n",
       "</table>\n",
       "<table class=\"simpletable\">\n",
       "<tr>\n",
       "      <td></td>         <th>coef</th>     <th>std err</th>      <th>t</th>      <th>P>|t|</th>  <th>[0.025</th>    <th>0.975]</th>  \n",
       "</tr>\n",
       "<tr>\n",
       "  <th>Intercept</th> <td>   -7.2469</td> <td>    0.362</td> <td>  -20.002</td> <td> 0.000</td> <td>   -7.986</td> <td>   -6.508</td>\n",
       "</tr>\n",
       "<tr>\n",
       "  <th>MV</th>        <td>    0.0271</td> <td>    0.005</td> <td>    4.998</td> <td> 0.000</td> <td>    0.016</td> <td>    0.038</td>\n",
       "</tr>\n",
       "</table>\n",
       "<table class=\"simpletable\">\n",
       "<tr>\n",
       "  <th>Omnibus:</th>       <td>21.287</td> <th>  Durbin-Watson:     </th> <td>   1.639</td>\n",
       "</tr>\n",
       "<tr>\n",
       "  <th>Prob(Omnibus):</th> <td> 0.000</td> <th>  Jarque-Bera (JB):  </th> <td>  28.520</td>\n",
       "</tr>\n",
       "<tr>\n",
       "  <th>Skew:</th>          <td> 1.802</td> <th>  Prob(JB):          </th> <td>6.41e-07</td>\n",
       "</tr>\n",
       "<tr>\n",
       "  <th>Kurtosis:</th>      <td> 5.783</td> <th>  Cond. No.          </th> <td>    196.</td>\n",
       "</tr>\n",
       "</table><br/><br/>Notes:<br/>[1] Standard Errors assume that the covariance matrix of the errors is correctly specified."
      ],
      "text/plain": [
       "<class 'statsmodels.iolib.summary.Summary'>\n",
       "\"\"\"\n",
       "                            OLS Regression Results                            \n",
       "==============================================================================\n",
       "Dep. Variable:             Q('log P')   R-squared:                       0.446\n",
       "Model:                            OLS   Adj. R-squared:                  0.428\n",
       "Method:                 Least Squares   F-statistic:                     24.98\n",
       "Date:                Wed, 12 May 2021   Prob (F-statistic):           2.16e-05\n",
       "Time:                        13:54:47   Log-Likelihood:                -34.474\n",
       "No. Observations:                  33   AIC:                             72.95\n",
       "Df Residuals:                      31   BIC:                             75.94\n",
       "Df Model:                           1                                         \n",
       "Covariance Type:            nonrobust                                         \n",
       "==============================================================================\n",
       "                 coef    std err          t      P>|t|      [0.025      0.975]\n",
       "------------------------------------------------------------------------------\n",
       "Intercept     -7.2469      0.362    -20.002      0.000      -7.986      -6.508\n",
       "MV             0.0271      0.005      4.998      0.000       0.016       0.038\n",
       "==============================================================================\n",
       "Omnibus:                       21.287   Durbin-Watson:                   1.639\n",
       "Prob(Omnibus):                  0.000   Jarque-Bera (JB):               28.520\n",
       "Skew:                           1.802   Prob(JB):                     6.41e-07\n",
       "Kurtosis:                       5.783   Cond. No.                         196.\n",
       "==============================================================================\n",
       "\n",
       "Notes:\n",
       "[1] Standard Errors assume that the covariance matrix of the errors is correctly specified.\n",
       "\"\"\""
      ]
     },
     "execution_count": 5,
     "metadata": {},
     "output_type": "execute_result"
    }
   ],
   "source": [
    "regression.summary()"
   ]
  },
  {
   "cell_type": "code",
   "execution_count": 6,
   "metadata": {},
   "outputs": [
    {
     "data": {
      "text/plain": [
       "Intercept   -7.246871\n",
       "MV           0.027056\n",
       "dtype: float64"
      ]
     },
     "execution_count": 6,
     "metadata": {},
     "output_type": "execute_result"
    }
   ],
   "source": [
    "regression.params"
   ]
  },
  {
   "cell_type": "markdown",
   "metadata": {},
   "source": [
    "Fitted values are stored automatically in `regression.fittedvalues`."
   ]
  },
  {
   "cell_type": "code",
   "execution_count": 7,
   "metadata": {},
   "outputs": [
    {
     "data": {
      "text/plain": [
       "0    -6.960075\n",
       "1    -6.659752\n",
       "2    -6.643518\n",
       "3    -6.383779\n",
       "4    -6.343195\n",
       "5    -6.105100\n",
       "6    -6.067222\n",
       "7    -5.910296\n",
       "9    -5.839950\n",
       "10   -5.829127\n",
       "11   -5.788543\n",
       "13   -5.623500\n",
       "14   -5.618089\n",
       "15   -5.553154\n",
       "16   -5.515276\n",
       "17   -5.512570\n",
       "18   -5.461163\n",
       "19   -5.461163\n",
       "20   -5.417873\n",
       "22   -5.417873\n",
       "23   -5.352939\n",
       "24   -5.325882\n",
       "25   -5.325882\n",
       "27   -5.290709\n",
       "28   -5.274476\n",
       "29   -5.236597\n",
       "30   -5.095905\n",
       "31   -4.998503\n",
       "32   -4.957918\n",
       "33   -4.722530\n",
       "34   -4.681945\n",
       "35   -4.433029\n",
       "36   -4.162467\n",
       "dtype: float64"
      ]
     },
     "execution_count": 7,
     "metadata": {},
     "output_type": "execute_result"
    }
   ],
   "source": [
    "regression.fittedvalues"
   ]
  },
  {
   "cell_type": "code",
   "execution_count": 8,
   "metadata": {},
   "outputs": [],
   "source": [
    "df[\"predicted_values\"] = regression.fittedvalues"
   ]
  },
  {
   "cell_type": "code",
   "execution_count": 9,
   "metadata": {},
   "outputs": [
    {
     "data": {
      "text/html": [
       "<div>\n",
       "<style scoped>\n",
       "    .dataframe tbody tr th:only-of-type {\n",
       "        vertical-align: middle;\n",
       "    }\n",
       "\n",
       "    .dataframe tbody tr th {\n",
       "        vertical-align: top;\n",
       "    }\n",
       "\n",
       "    .dataframe thead th {\n",
       "        text-align: right;\n",
       "    }\n",
       "</style>\n",
       "<table border=\"1\" class=\"dataframe\">\n",
       "  <thead>\n",
       "    <tr style=\"text-align: right;\">\n",
       "      <th></th>\n",
       "      <th>Compound</th>\n",
       "      <th>log P</th>\n",
       "      <th>pi</th>\n",
       "      <th>Hd</th>\n",
       "      <th>Ha</th>\n",
       "      <th>MV</th>\n",
       "      <th>R_2</th>\n",
       "      <th>log K_oct</th>\n",
       "      <th>log K_hex</th>\n",
       "      <th>log K_hep</th>\n",
       "      <th>predicted_values</th>\n",
       "    </tr>\n",
       "  </thead>\n",
       "  <tbody>\n",
       "    <tr>\n",
       "      <th>0</th>\n",
       "      <td>water</td>\n",
       "      <td>-6.85</td>\n",
       "      <td>0.45</td>\n",
       "      <td>0.82</td>\n",
       "      <td>0.35</td>\n",
       "      <td>10.6</td>\n",
       "      <td>0.00</td>\n",
       "      <td>-1.38</td>\n",
       "      <td>NaN</td>\n",
       "      <td>NaN</td>\n",
       "      <td>-6.960075</td>\n",
       "    </tr>\n",
       "    <tr>\n",
       "      <th>1</th>\n",
       "      <td>methanol</td>\n",
       "      <td>-6.68</td>\n",
       "      <td>0.44</td>\n",
       "      <td>0.43</td>\n",
       "      <td>0.47</td>\n",
       "      <td>21.7</td>\n",
       "      <td>0.28</td>\n",
       "      <td>-0.73</td>\n",
       "      <td>-2.42</td>\n",
       "      <td>-2.80</td>\n",
       "      <td>-6.659752</td>\n",
       "    </tr>\n",
       "    <tr>\n",
       "      <th>2</th>\n",
       "      <td>methanoicacid</td>\n",
       "      <td>-7.08</td>\n",
       "      <td>0.60</td>\n",
       "      <td>0.75</td>\n",
       "      <td>0.38</td>\n",
       "      <td>22.3</td>\n",
       "      <td>0.30</td>\n",
       "      <td>-0.54</td>\n",
       "      <td>-3.93</td>\n",
       "      <td>-3.63</td>\n",
       "      <td>-6.643518</td>\n",
       "    </tr>\n",
       "    <tr>\n",
       "      <th>3</th>\n",
       "      <td>ethanol</td>\n",
       "      <td>-6.66</td>\n",
       "      <td>0.42</td>\n",
       "      <td>0.37</td>\n",
       "      <td>0.48</td>\n",
       "      <td>31.9</td>\n",
       "      <td>0.25</td>\n",
       "      <td>-0.32</td>\n",
       "      <td>-2.24</td>\n",
       "      <td>-2.10</td>\n",
       "      <td>-6.383779</td>\n",
       "    </tr>\n",
       "    <tr>\n",
       "      <th>4</th>\n",
       "      <td>ethanoicacid</td>\n",
       "      <td>-7.01</td>\n",
       "      <td>0.65</td>\n",
       "      <td>0.61</td>\n",
       "      <td>0.45</td>\n",
       "      <td>33.4</td>\n",
       "      <td>0.27</td>\n",
       "      <td>-0.31</td>\n",
       "      <td>-3.28</td>\n",
       "      <td>-2.90</td>\n",
       "      <td>-6.343195</td>\n",
       "    </tr>\n",
       "  </tbody>\n",
       "</table>\n",
       "</div>"
      ],
      "text/plain": [
       "        Compound  log P    pi    Hd    Ha    MV   R_2  log K_oct  log K_hex  \\\n",
       "0          water  -6.85  0.45  0.82  0.35  10.6  0.00      -1.38        NaN   \n",
       "1       methanol  -6.68  0.44  0.43  0.47  21.7  0.28      -0.73      -2.42   \n",
       "2  methanoicacid  -7.08  0.60  0.75  0.38  22.3  0.30      -0.54      -3.93   \n",
       "3        ethanol  -6.66  0.42  0.37  0.48  31.9  0.25      -0.32      -2.24   \n",
       "4   ethanoicacid  -7.01  0.65  0.61  0.45  33.4  0.27      -0.31      -3.28   \n",
       "\n",
       "   log K_hep  predicted_values  \n",
       "0        NaN         -6.960075  \n",
       "1      -2.80         -6.659752  \n",
       "2      -3.63         -6.643518  \n",
       "3      -2.10         -6.383779  \n",
       "4      -2.90         -6.343195  "
      ]
     },
     "execution_count": 9,
     "metadata": {},
     "output_type": "execute_result"
    }
   ],
   "source": [
    "df.head()"
   ]
  },
  {
   "cell_type": "markdown",
   "metadata": {},
   "source": [
    "You can make predictions using the fitted model by calling `regression.predict` and passing in values for which you want a prediction as part of a pandas dataframe with appropriate column names. Your column names **must** match the column names you performed the fit with."
   ]
  },
  {
   "cell_type": "code",
   "execution_count": 10,
   "metadata": {},
   "outputs": [
    {
     "name": "stdout",
     "output_type": "stream",
     "text": [
      "Help on method predict in module statsmodels.base.model:\n",
      "\n",
      "predict(exog=None, transform=True, *args, **kwargs) method of statsmodels.regression.linear_model.OLSResults instance\n",
      "    Call self.model.predict with self.params as the first argument.\n",
      "    \n",
      "    Parameters\n",
      "    ----------\n",
      "    exog : array_like, optional\n",
      "        The values for which you want to predict. see Notes below.\n",
      "    transform : bool, optional\n",
      "        If the model was fit via a formula, do you want to pass\n",
      "        exog through the formula. Default is True. E.g., if you fit\n",
      "        a model y ~ log(x1) + log(x2), and transform is True, then\n",
      "        you can pass a data structure that contains x1 and x2 in\n",
      "        their original form. Otherwise, you'd need to log the data\n",
      "        first.\n",
      "    *args\n",
      "        Additional arguments to pass to the model, see the\n",
      "        predict method of the model for the details.\n",
      "    **kwargs\n",
      "        Additional keywords arguments to pass to the model, see the\n",
      "        predict method of the model for the details.\n",
      "    \n",
      "    Returns\n",
      "    -------\n",
      "    array_like\n",
      "        See self.model.predict.\n",
      "    \n",
      "    Notes\n",
      "    -----\n",
      "    The types of exog that are supported depends on whether a formula\n",
      "    was used in the specification of the model.\n",
      "    \n",
      "    If a formula was used, then exog is processed in the same way as\n",
      "    the original data. This transformation needs to have key access to the\n",
      "    same variable names, and can be a pandas DataFrame or a dict like\n",
      "    object that contains numpy arrays.\n",
      "    \n",
      "    If no formula was used, then the provided exog needs to have the\n",
      "    same number of columns as the original exog in the model. No\n",
      "    transformation of the data is performed except converting it to\n",
      "    a numpy array.\n",
      "    \n",
      "    Row indices as in pandas data frames are supported, and added to the\n",
      "    returned prediction.\n",
      "\n"
     ]
    }
   ],
   "source": [
    "help(regression.predict)"
   ]
  },
  {
   "cell_type": "code",
   "execution_count": 11,
   "metadata": {},
   "outputs": [],
   "source": [
    "to_predict = pd.DataFrame()\n",
    "to_predict[\"MV\"] = [75, 90]"
   ]
  },
  {
   "cell_type": "code",
   "execution_count": 12,
   "metadata": {},
   "outputs": [
    {
     "data": {
      "text/plain": [
       "0   -5.217658\n",
       "1   -4.811815\n",
       "dtype: float64"
      ]
     },
     "execution_count": 12,
     "metadata": {},
     "output_type": "execute_result"
    }
   ],
   "source": [
    "regression.predict(to_predict)"
   ]
  },
  {
   "cell_type": "code",
   "execution_count": 18,
   "metadata": {},
   "outputs": [
    {
     "data": {
      "image/png": "[encoded data removed]",
      "text/plain": [
       "<Figure size 360x360 with 1 Axes>"
      ]
     },
     "metadata": {
      "needs_background": "light"
     },
     "output_type": "display_data"
    }
   ],
   "source": [
    "import seaborn as sns\n",
    "\n",
    "g = sns.lmplot(x=\"log P\", y=\"predicted_values\", data=df)"
   ]
  },
  {
   "cell_type": "markdown",
   "metadata": {},
   "source": [
    "## Multiple Regression"
   ]
  },
  {
   "cell_type": "code",
   "execution_count": 13,
   "metadata": {},
   "outputs": [
    {
     "data": {
      "text/plain": [
       "Index(['Compound', 'log P', 'pi', 'Hd', 'Ha', 'MV', 'R_2', 'log K_oct',\n",
       "       'log K_hex', 'log K_hep', 'predicted_values'],\n",
       "      dtype='object')"
      ]
     },
     "execution_count": 13,
     "metadata": {},
     "output_type": "execute_result"
    }
   ],
   "source": [
    "df.columns"
   ]
  },
  {
   "cell_type": "code",
   "execution_count": 16,
   "metadata": {},
   "outputs": [],
   "source": [
    "multiple_regression = smf.ols(\"Q('log P') ~ pi + Hd + Ha + MV + R_2\", data=df).fit()"
   ]
  },
  {
   "cell_type": "code",
   "execution_count": 17,
   "metadata": {},
   "outputs": [
    {
     "data": {
      "text/html": [
       "<table class=\"simpletable\">\n",
       "<caption>OLS Regression Results</caption>\n",
       "<tr>\n",
       "  <th>Dep. Variable:</th>       <td>Q('log P')</td>    <th>  R-squared:         </th> <td>   0.965</td>\n",
       "</tr>\n",
       "<tr>\n",
       "  <th>Model:</th>                   <td>OLS</td>       <th>  Adj. R-squared:    </th> <td>   0.959</td>\n",
       "</tr>\n",
       "<tr>\n",
       "  <th>Method:</th>             <td>Least Squares</td>  <th>  F-statistic:       </th> <td>   150.4</td>\n",
       "</tr>\n",
       "<tr>\n",
       "  <th>Date:</th>             <td>Wed, 12 May 2021</td> <th>  Prob (F-statistic):</th> <td>7.87e-19</td>\n",
       "</tr>\n",
       "<tr>\n",
       "  <th>Time:</th>                 <td>13:55:34</td>     <th>  Log-Likelihood:    </th> <td>  11.249</td>\n",
       "</tr>\n",
       "<tr>\n",
       "  <th>No. Observations:</th>      <td>    33</td>      <th>  AIC:               </th> <td>  -10.50</td>\n",
       "</tr>\n",
       "<tr>\n",
       "  <th>Df Residuals:</th>          <td>    27</td>      <th>  BIC:               </th> <td>  -1.518</td>\n",
       "</tr>\n",
       "<tr>\n",
       "  <th>Df Model:</th>              <td>     5</td>      <th>                     </th>     <td> </td>   \n",
       "</tr>\n",
       "<tr>\n",
       "  <th>Covariance Type:</th>      <td>nonrobust</td>    <th>                     </th>     <td> </td>   \n",
       "</tr>\n",
       "</table>\n",
       "<table class=\"simpletable\">\n",
       "<tr>\n",
       "      <td></td>         <th>coef</th>     <th>std err</th>      <th>t</th>      <th>P>|t|</th>  <th>[0.025</th>    <th>0.975]</th>  \n",
       "</tr>\n",
       "<tr>\n",
       "  <th>Intercept</th> <td>   -4.4861</td> <td>    0.199</td> <td>  -22.501</td> <td> 0.000</td> <td>   -4.895</td> <td>   -4.077</td>\n",
       "</tr>\n",
       "<tr>\n",
       "  <th>pi</th>        <td>   -0.9319</td> <td>    0.220</td> <td>   -4.237</td> <td> 0.000</td> <td>   -1.383</td> <td>   -0.481</td>\n",
       "</tr>\n",
       "<tr>\n",
       "  <th>Hd</th>        <td>   -1.3037</td> <td>    0.185</td> <td>   -7.038</td> <td> 0.000</td> <td>   -1.684</td> <td>   -0.924</td>\n",
       "</tr>\n",
       "<tr>\n",
       "  <th>Ha</th>        <td>   -4.3756</td> <td>    0.371</td> <td>  -11.784</td> <td> 0.000</td> <td>   -5.138</td> <td>   -3.614</td>\n",
       "</tr>\n",
       "<tr>\n",
       "  <th>MV</th>        <td>    0.0260</td> <td>    0.002</td> <td>   17.193</td> <td> 0.000</td> <td>    0.023</td> <td>    0.029</td>\n",
       "</tr>\n",
       "<tr>\n",
       "  <th>R_2</th>       <td>    0.5135</td> <td>    0.177</td> <td>    2.900</td> <td> 0.007</td> <td>    0.150</td> <td>    0.877</td>\n",
       "</tr>\n",
       "</table>\n",
       "<table class=\"simpletable\">\n",
       "<tr>\n",
       "  <th>Omnibus:</th>       <td> 0.688</td> <th>  Durbin-Watson:     </th> <td>   1.300</td>\n",
       "</tr>\n",
       "<tr>\n",
       "  <th>Prob(Omnibus):</th> <td> 0.709</td> <th>  Jarque-Bera (JB):  </th> <td>   0.200</td>\n",
       "</tr>\n",
       "<tr>\n",
       "  <th>Skew:</th>          <td> 0.179</td> <th>  Prob(JB):          </th> <td>   0.905</td>\n",
       "</tr>\n",
       "<tr>\n",
       "  <th>Kurtosis:</th>      <td> 3.132</td> <th>  Cond. No.          </th> <td>    835.</td>\n",
       "</tr>\n",
       "</table><br/><br/>Notes:<br/>[1] Standard Errors assume that the covariance matrix of the errors is correctly specified."
      ],
      "text/plain": [
       "<class 'statsmodels.iolib.summary.Summary'>\n",
       "\"\"\"\n",
       "                            OLS Regression Results                            \n",
       "==============================================================================\n",
       "Dep. Variable:             Q('log P')   R-squared:                       0.965\n",
       "Model:                            OLS   Adj. R-squared:                  0.959\n",
       "Method:                 Least Squares   F-statistic:                     150.4\n",
       "Date:                Wed, 12 May 2021   Prob (F-statistic):           7.87e-19\n",
       "Time:                        13:55:34   Log-Likelihood:                 11.249\n",
       "No. Observations:                  33   AIC:                            -10.50\n",
       "Df Residuals:                      27   BIC:                            -1.518\n",
       "Df Model:                           5                                         \n",
       "Covariance Type:            nonrobust                                         \n",
       "==============================================================================\n",
       "                 coef    std err          t      P>|t|      [0.025      0.975]\n",
       "------------------------------------------------------------------------------\n",
       "Intercept     -4.4861      0.199    -22.501      0.000      -4.895      -4.077\n",
       "pi            -0.9319      0.220     -4.237      0.000      -1.383      -0.481\n",
       "Hd            -1.3037      0.185     -7.038      0.000      -1.684      -0.924\n",
       "Ha            -4.3756      0.371    -11.784      0.000      -5.138      -3.614\n",
       "MV             0.0260      0.002     17.193      0.000       0.023       0.029\n",
       "R_2            0.5135      0.177      2.900      0.007       0.150       0.877\n",
       "==============================================================================\n",
       "Omnibus:                        0.688   Durbin-Watson:                   1.300\n",
       "Prob(Omnibus):                  0.709   Jarque-Bera (JB):                0.200\n",
       "Skew:                           0.179   Prob(JB):                        0.905\n",
       "Kurtosis:                       3.132   Cond. No.                         835.\n",
       "==============================================================================\n",
       "\n",
       "Notes:\n",
       "[1] Standard Errors assume that the covariance matrix of the errors is correctly specified.\n",
       "\"\"\""
      ]
     },
     "execution_count": 17,
     "metadata": {},
     "output_type": "execute_result"
    }
   ],
   "source": [
    "multiple_regression.summary()"
   ]
  },
  {
   "cell_type": "code",
   "execution_count": 19,
   "metadata": {},
   "outputs": [],
   "source": [
    "df[\"MR_predicted_values\"] = multiple_regression.fittedvalues"
   ]
  },
  {
   "cell_type": "code",
   "execution_count": 20,
   "metadata": {},
   "outputs": [
    {
     "data": {
      "image/png": "[encoded data removed]",
      "text/plain": [
       "<Figure size 360x360 with 1 Axes>"
      ]
     },
     "metadata": {
      "needs_background": "light"
     },
     "output_type": "display_data"
    }
   ],
   "source": [
    "g = sns.lmplot(x=\"log P\", y=\"MR_predicted_values\", data=df)"
   ]
  },
  {
   "attachments": {},
   "cell_type": "markdown",
   "metadata": {},
   "source": [
    "``````{admonition} Key Points\n",
    ":class: key\n",
    "\n",
    "* Statsmodels allows you to specify your equations using data frames and column names.\n",
    "\n",
    "* Calling `.summary`. on the fit gives you a summary of the fit and parameters.\n",
    "\n",
    "* You can use `.predict` to predict new values using the fitted model.\n",
    "\n",
    "* You must give the predict method a dataframe with the same column names as the original dataframe.\n",
    "``````"
   ]
  }
 ],
 "metadata": {
  "kernelspec": {
   "display_name": "Python 3",
   "language": "python",
   "name": "python3"
  },
  "language_info": {
   "codemirror_mode": {
    "name": "ipython",
    "version": 3
   },
   "file_extension": ".py",
   "mimetype": "text/x-python",
   "name": "python",
   "nbconvert_exporter": "python",
   "pygments_lexer": "ipython3",
   "version": "3.8.10 (default, Nov 14 2022, 12:59:47) \n[GCC 9.4.0]"
  },
  "vscode": {
   "interpreter": {
    "hash": "916dbcbb3f70747c44a77c7bcd40155683ae19c65e1c03b4aa3499c5328201f1"
   }
  }
 },
 "nbformat": 4,
 "nbformat_minor": 4
}
