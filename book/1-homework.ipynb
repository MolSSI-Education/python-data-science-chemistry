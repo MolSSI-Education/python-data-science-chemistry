{
 "cells": [
  {
   "cell_type": "markdown",
   "metadata": {},
   "source": [
    "Session 1 Homework\n",
    "=================\n",
    "This is the homework for the first session of the MolSSI Intermediate Python Workshop for Pfizer.\n",
    "This homework is intended to give you practice with the material covered in the first session. \n",
    "\n",
    "Goals:\n",
    " - Utilize pandas to read in and work with the data in a csv file.\n",
    " - Utilize matplotlib to create plots and subplots of data stored in a pandas dataframe.\n",
    " - Utilize pandas to extract specific information from a dataframe.\n",
    " - Utilize matplotlib to construct a plot with multiple groups of data.\n",
    "\n",
    "## Exercise 1\n",
    "Using the `PubChemElements_all.csv` file used during Session 1, create a plot of the Ionization Energy trend of the periodic table. The trend can be visualized by plotting the Ionization Energy of each element against it's Atomic Number. HINT: Use pandas to read in the csv file and plot the data using matplotlib.\n",
    "\n",
    "## Exercise 2\n",
    "Create a pair of subplots comparing the Ionization Energy and Electronegativity trends. The Electronegativity trend can be plotted in the same way as the Ionization Energy, by plotting the Electronegativity of each element against it's Atomic Number.\n",
    "\n",
    "## Exercise 3 \n",
    "Create a function that will assign a color coding to a particular Standard State of an element, i.e. red for gases, blue for solids, etc. Use the assign function from pandas to apply the function across the periodic table, creating a column of assigned colors. Create a scatter plot of the Atomic Mass vs the Melting point of each element, utilizing the assigned color as the color of the marker."
   ]
  },
  {
   "cell_type": "code",
   "execution_count": null,
   "metadata": {},
   "outputs": [],
   "source": []
  }
 ],
 "metadata": {
  "kernelspec": {
   "display_name": "Python 3",
   "language": "python",
   "name": "python3"
  },
  "language_info": {
   "codemirror_mode": {
    "name": "ipython",
    "version": 3
   },
   "file_extension": ".py",
   "mimetype": "text/x-python",
   "name": "python",
   "nbconvert_exporter": "python",
   "pygments_lexer": "ipython3",
   "version": "3.9.2"
  }
 },
 "nbformat": 4,
 "nbformat_minor": 4
}
