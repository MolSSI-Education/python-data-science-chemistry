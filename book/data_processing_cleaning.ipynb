{
 "cells": [
  {
   "attachments": {},
   "cell_type": "markdown",
   "metadata": {},
   "source": [
    "File Processing and Data Cleaning\n",
    "================================"
   ]
  },
  {
   "attachments": {},
   "cell_type": "markdown",
   "metadata": {},
   "source": [
    "``````{admonition} Session 2 Overview\n",
    ":class: day-overview\n",
    "\n",
    "So far, we have been working with data that is fairly 'clean'. This means that, for the most part, our data didn't have too many missing values and had the right data type. This is more often the case when the data we are working with is prepared to be machine readable in the first place (more 'modern' data).\n",
    "\n",
    "Data you would like to work with, however, may not always be 'clean', particularly if you are working with older data. In fact, you may find in some instances, that data cleaning is 90% of the work you have to do to solve a problem. For example, you might want to work with or analyze data from published papers. In these cases, the data may be in tables in pdf.\n",
    "\n",
    "The first topic in this section is regular expressions. We will learn what regular expressions are and how we can use them to pull items of interest from text files using patterns.\n",
    "\n",
    "Next, we will use a library called [OCRmyPDF](https://ocrmypdf.readthedocs.io/en/latest/) to run optical character recognition on a pdf. This will make the pdf have information about the characters in the pdf. Then, we run another package called [tabula](https://github.com/chezou/tabula-py) to get information about tables from the pdf.\n",
    "\n",
    "We'll be grabbing data from the following paper, cleaning it, and fitting the data using Python:\n",
    "\n",
    "> Potts, R.O., Guy, R.H. A Predictive Algorithm for Skin Permeability: The Effects of Molecular Size and Hydrogen Bond Activity. Pharm Res 12, 1628–1633 (1995). https://doi.org/10.1023/A:1016236932339\n",
    "\n",
    "In this paper, the authors make a model for predicting skin permeability of molecules based on simple molecular descriptors. This paper was published in 1995, so this will definitely not be the best method. It is, however, a nice example of the kinds of things you can do with Python.\n",
    "\n",
    "Access and download the paper <a href=\"https://link.springer.com/article/10.1023/A:1016236932339\">here</a>. Save the paper in a directory called `pdfs` to match what we have for this notebook.\n",
    "\n",
    "````{admonition} Regular Expressions\n",
    ":class: overview\n",
    "\n",
    "* What is a regular expression?\n",
    "\n",
    "* How can I use regular expressions to pull information from files?\n",
    "\n",
    "````\n",
    "\n",
    "````{admonition} Reading Data from PDFs\n",
    ":class: overview\n",
    "\n",
    "* How can I tell if I can extract data from a PDF?\n",
    "\n",
    "* How can I run optical character recognition on a PDF?\n",
    "\n",
    "* How can I extract character information from a PDF?\n",
    "\n",
    "````\n",
    "\n",
    "````{admonition} Data Cleaning with Pandas\n",
    ":class: overview\n",
    "\n",
    "* What does \"clean data\" mean?\n",
    "\n",
    "* How an I drop unneccesarry \n",
    "\n",
    "* How can I change column or row names in a dataframe?\n",
    "\n",
    "* How can I cast columns to the correct data type?\n",
    "\n",
    "````\n",
    "\n",
    "``````\n"
   ]
  },
  {
   "cell_type": "code",
   "execution_count": null,
   "metadata": {},
   "outputs": [],
   "source": []
  }
 ],
 "metadata": {
  "kernelspec": {
   "display_name": "Python 3",
   "language": "python",
   "name": "python3"
  },
  "language_info": {
   "codemirror_mode": {
    "name": "ipython",
    "version": 3
   },
   "file_extension": ".py",
   "mimetype": "text/x-python",
   "name": "python",
   "nbconvert_exporter": "python",
   "pygments_lexer": "ipython3",
   "version": "3.8.10 (default, Nov 14 2022, 12:59:47) \n[GCC 9.4.0]"
  },
  "vscode": {
   "interpreter": {
    "hash": "916dbcbb3f70747c44a77c7bcd40155683ae19c65e1c03b4aa3499c5328201f1"
   }
  }
 },
 "nbformat": 4,
 "nbformat_minor": 4
}
