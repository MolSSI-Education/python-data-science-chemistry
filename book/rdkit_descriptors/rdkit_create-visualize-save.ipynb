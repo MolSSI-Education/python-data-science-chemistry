{
 "cells": [
  {
   "cell_type": "markdown",
   "id": "7b2ce4a4",
   "metadata": {},
   "source": [
    "# Creating, Visualizing and Saving Mol Objects with RDKit in Python\n",
    "\n",
    "Blurb about the Mol object (rdchem.Mol)\n",
    "\n",
    "Note about RDKit objects: RDKit syntax can be unusual and it's important to remember that although there is a python API for it, its objects and core functionality are written in C++.  Because of this, returned objects must go through an additional conversion step whenever a python object is wanted as the output of a block of code, and direct copying of variables pointing to RDKit objects will not create a new copy of the object, rather they will create a new variable pointing at the original object.  We'll see several examples of this throughout this lesson.\n",
    "\n",
    "Goals:\n",
    "* Create Mol objects from files or dictionaries\n",
    "* Generate additional Mol objects from existing ones\n",
    "* Create images and image files from Mol objects\n",
    "* Polish images, add labels and highlights\n",
    "\n",
    "\n",
    "## Creating Mol Objects\n",
    "\n",
    "Mol object instances can be created by a variety of methods.  We've seen some examples of Mol objects being created from SMILES strings and common molecule libraries, now we'll learn some additional ways a Mol can be created.\n",
    "\n",
    "Data for any system under investigation that is non-ideal, from real systems in experimental methods to optimized geometries in QM methods, cannot be communicated via a smile string.  In these situations, often more detailed specifications are needed, such as an accurate 3D geometry with explicit hydrogens.  Part of the utility of RDKit lies in its ability to create Mol objects using a variety of input formats, so that we can take molecular data from other sources or research processes and generate additional properties and descriptors.\n",
    "\n",
    "Different methods are called for depending on the format of the molecule's specifications, depending on what you're passing passing around, between researchers, applications, or modules.  Two common and versatile formats that we'll cover today are the MOL file and related Structural Data File (SDF), and building a molecule from a JSON-like python dictionary.\n",
    "\n",
    "#### Import the modules needed for the lesson"
   ]
  },
  {
   "cell_type": "code",
   "execution_count": 1,
   "id": "71d31d9c",
   "metadata": {},
   "outputs": [],
   "source": [
    "from rdkit import Chem\n",
    "from rdkit.Chem import AllChem\n",
    "from rdkit.Chem import Draw\n",
    "from rdkit.Chem.Draw import IPythonConsole"
   ]
  },
  {
   "cell_type": "markdown",
   "id": "92c707b3",
   "metadata": {},
   "source": [
    "### Mol from Mol File\n",
    "\n",
    "The MOL file is a format first created by MDL internally and published by [Dalby et al. in 1992](https://pubs.acs.org/doi/10.1021/ci00007a012).  It was created specifically for cheminformatics applications and is the most straightforward way of passing detailed structural data and metadata into RDKit.  The formatting is very precise and adhered to strictly by RDKit, so a link to the original paper has been included above.\n",
    "\n",
    "First, let's take a look at the file"
   ]
  },
  {
   "cell_type": "code",
   "execution_count": 2,
   "id": "17a8c98e",
   "metadata": {},
   "outputs": [
    {
     "name": "stdout",
     "output_type": "stream",
     "text": [
      "Pro\n",
      "ref: from 2012-Stover_Dixon_ea\n",
      "\n",
      " 17 17  0  0  0  0  0  0  0  0999 V2000\n",
      "    0.6300   -1.0684    0.5217 N \n",
      "    0.9344   -1.3645    1.4436 H \n",
      "   -0.1181    0.2144    0.6213 C \n",
      "   -0.2673    0.4889    1.6696 H \n",
      "   -1.5256    0.0697    0.0130 C \n",
      "   -2.3126    0.9939   -0.0633 O \n",
      "    0.7282    1.2942   -0.1146 C \n",
      "    0.3204    1.4724   -1.1134 H \n",
      "    0.7133    2.2467    0.4171 H \n",
      "    2.1314    0.6640   -0.2043 C \n",
      "    2.7164    1.0569   -1.0403 H \n",
      "    2.6950    0.8410    0.7188 H \n",
      "    1.8131   -0.8337   -0.3476 C \n",
      "    1.5473   -1.0680   -1.3847 H \n",
      "    2.6331   -1.4941   -0.0554 H \n",
      "   -1.7998   -1.1767   -0.4239 O \n",
      "   -0.9769   -1.6897   -0.2160 H \n",
      "  1  2  1  0\n",
      "  1  3  1  0\n",
      "  1 13  1  0\n",
      "  3  4  1  0\n",
      "  3  5  1  0\n",
      "  3  7  1  0\n",
      "  5  6  2  0\n",
      "  5 16  1  0\n",
      "  7  8  1  0\n",
      "  7  9  1  0\n",
      "  7 10  1  0\n",
      " 10 11  1  0\n",
      " 10 12  1  0\n",
      " 10 13  1  0\n",
      " 13 14  1  0\n",
      " 13 15  1  0\n",
      " 16 17  1  0\n",
      "M  END\n"
     ]
    }
   ],
   "source": [
    "pro_file = 'mol_files/pro.mol'\n",
    "\n",
    "with open(pro_file) as file:\n",
    "    print(file.read())"
   ]
  },
  {
   "cell_type": "markdown",
   "id": "fe15dff3",
   "metadata": {},
   "source": [
    "The first 3 lines in the MOL file are the name followed by any reference information.  The Mol object RDKit creates will store this data under the **private properties** \"_Name\" and \"_MolFileInfo\".  All of the built-in private properties can be accessed with the syntax:\n",
    "\n",
    "    mol = Mol    # create an instance of a Mol Object\n",
    "    rdk_property_list = mol.GetPropNames(includePrivate=True)    # returns an rdkit object list of tuples\n",
    "    python_property_list = [prop for prop in rdk_property_list]\n",
    "    print(python_property_list)\n",
    "\n",
    "The remaining lines until 'M  END' are the structural data for the molecule, beginning with the counts line followed by the coordinates and then the connectivity.  There can be additional metadata after the connectivity, but that is beyond the scope of this lesson.\n",
    "\n",
    "Let's make our Mol.  The syntax is:    \n",
    "\n",
    "    Chem.MolFromMolFile('path/to/file.mol'[, sanitize=True[, removeHs=True[, strictParsing=True]]])"
   ]
  },
  {
   "cell_type": "code",
   "execution_count": 3,
   "id": "fdbf9efc",
   "metadata": {},
   "outputs": [
    {
     "data": {
      "image/png": "[encoded data removed]",
      "text/plain": [
       "<rdkit.Chem.rdchem.Mol at 0x7f8a667ffd10>"
      ]
     },
     "execution_count": 3,
     "metadata": {},
     "output_type": "execute_result"
    }
   ],
   "source": [
    "pro = Chem.MolFromMolFile(pro_file, sanitize = False, removeHs=False, strictParsing=False)\n",
    "pro"
   ]
  },
  {
   "cell_type": "markdown",
   "id": "e07c0850",
   "metadata": {},
   "source": [
    "Note: Sanitization (see above syntax) deserves a more in-depth discussion and will be covered more below\n",
    "\n",
    "The image certainly isn't very clean, but it's an optimized geometry, so we wouldn't expect it to be.  We'll learn some ways to clean up images generated from real molecules in the next section."
   ]
  },
  {
   "cell_type": "markdown",
   "id": "db1d45c9",
   "metadata": {},
   "source": [
    "#### Mol from SDF File\n",
    "\n",
    "An SDF file is a collection of **MOL file** style string blocks separated by a blank line and a line composed of 4 '$' characters.  It's a very convenient way of passing sets of molecules related in some way such as by similarity or research project between users/machines.  Since each molecule's specifications is already in MOL format, creating Mol objects is very straightforward and a list of Mols is created when the file is read.\n",
    "\n",
    "The syntax to create a list of Mol objects from an SDF file is:\n",
    "    \n",
    "    mol_list = Chem.SDMolSupplier('path/to/file.sdf'[, sanitize=True[, removeHs=True[, strictParsing=True]]])"
   ]
  },
  {
   "cell_type": "code",
   "execution_count": 4,
   "id": "6b3083e8",
   "metadata": {},
   "outputs": [
    {
     "name": "stdout",
     "output_type": "stream",
     "text": [
      "Ala\n",
      "Arg\n",
      "Asn\n",
      "Asp\n",
      "Cys\n",
      "Gln\n",
      "Glu\n",
      "Gly\n",
      "His\n",
      "Ile\n",
      "Leu\n",
      "Lys\n",
      "Met\n",
      "Phe\n",
      "Pro\n",
      "Ser\n",
      "Thr\n",
      "Trp\n",
      "Tyr\n",
      "Val\n"
     ]
    }
   ],
   "source": [
    "nat20_sdf = Chem.SDMolSupplier('amino_acids-nat20.sdf', sanitize=False, removeHs=False, strictParsing=False)\n",
    "\n",
    "for mol in nat20_sdf:\n",
    "    mol_name = mol.GetProp('_Name')    # conversion to python object, see 'Note about RDKit objects' at top.\n",
    "    print(mol_name)"
   ]
  },
  {
   "cell_type": "markdown",
   "id": "a73bef5a",
   "metadata": {},
   "source": [
    "##### A Note on the SDMolSupplier\n",
    "\n",
    "nat20 above is not actually a list of mol objects in Python terms, but an **SDMolSupplier** object.  This means that the Mol objects created by it are only temporarily instantiated when called.  This can cause problems when trying to set properties of the Mol objects in the Supplier list, specifically the problem that you can't.\n",
    "\n",
    "Example:"
   ]
  },
  {
   "cell_type": "code",
   "execution_count": 5,
   "id": "248b7794",
   "metadata": {},
   "outputs": [
    {
     "ename": "KeyError",
     "evalue": "'test'",
     "output_type": "error",
     "traceback": [
      "\u001b[0;31m---------------------------------------------------------------------------\u001b[0m",
      "\u001b[0;31mKeyError\u001b[0m                                  Traceback (most recent call last)",
      "Cell \u001b[0;32mIn [5], line 2\u001b[0m\n\u001b[1;32m      1\u001b[0m nat20_sdf[\u001b[38;5;241m5\u001b[39m]\u001b[38;5;241m.\u001b[39mSetProp(\u001b[38;5;124m\"\u001b[39m\u001b[38;5;124mtest\u001b[39m\u001b[38;5;124m\"\u001b[39m, \u001b[38;5;124m\"\u001b[39m\u001b[38;5;124mtesting\u001b[39m\u001b[38;5;124m\"\u001b[39m)\n\u001b[0;32m----> 2\u001b[0m \u001b[38;5;28mprint\u001b[39m(\u001b[43mnat20_sdf\u001b[49m\u001b[43m[\u001b[49m\u001b[38;5;241;43m5\u001b[39;49m\u001b[43m]\u001b[49m\u001b[38;5;241;43m.\u001b[39;49m\u001b[43mGetProp\u001b[49m\u001b[43m(\u001b[49m\u001b[38;5;124;43m\"\u001b[39;49m\u001b[38;5;124;43mtest\u001b[39;49m\u001b[38;5;124;43m\"\u001b[39;49m\u001b[43m)\u001b[49m)\n",
      "\u001b[0;31mKeyError\u001b[0m: 'test'"
     ]
    }
   ],
   "source": [
    "nat20_sdf[5].SetProp(\"test\", \"testing\")\n",
    "print(nat20_sdf[5].GetProp(\"test\"))"
   ]
  },
  {
   "cell_type": "markdown",
   "id": "1a29be93",
   "metadata": {},
   "source": [
    "Here, a KeyError is raised because the property set in the first line doesn't exist when the Mol is *re-instantiated* in the second line. \n",
    "\n",
    "To get around this, each Mol must be instantiated and assigned to a new variable that is independent of the Supplier.\n",
    "\n",
    "See the following:"
   ]
  },
  {
   "cell_type": "code",
   "execution_count": null,
   "id": "ac1b04bb",
   "metadata": {},
   "outputs": [],
   "source": [
    "gln = Chem.Mol(nat20_sdf[5])\n",
    "gln.SetProp(\"test\", \"testing\")\n",
    "print(gln.GetProp(\"test\"))"
   ]
  },
  {
   "cell_type": "markdown",
   "id": "71c92bb2",
   "metadata": {},
   "source": [
    "A list of independent Mol objects can still easily be created in which the Mols have editable properties, by looping through the Supplier, instantiating each Mol and adding it to the list."
   ]
  },
  {
   "cell_type": "code",
   "execution_count": 7,
   "id": "c3d740d9",
   "metadata": {},
   "outputs": [
    {
     "data": {
      "text/plain": [
       "'1, 2, 3...'"
      ]
     },
     "execution_count": 7,
     "metadata": {},
     "output_type": "execute_result"
    }
   ],
   "source": [
    "nat20 = []\n",
    "for mol in nat20_sdf:\n",
    "    mol = Chem.Mol(mol)\n",
    "    nat20 += [mol]\n",
    "\n",
    "nat20[5].SetProp(\"retesting\", \"1, 2, 3...\")\n",
    "nat20[5].GetProp(\"retesting\")"
   ]
  },
  {
   "cell_type": "markdown",
   "id": "8a7b4f58",
   "metadata": {},
   "source": [
    "### Building a Mol from a JSON-like dictionary\n",
    "\n",
    "JSON  (JavaScript Object Notation) and JSON-like files/objects are a common way of passing data sets along with their attributes and parameters/specifications, particularly in the coding community.  MolSSI, for example, uses a JSON-based schema to represent molecules in its QCArchive software.  The syntax is simple, minimal, and nearly identical to a python dictionary.\n",
    "\n",
    "RDKit has the ability to create Mol objects with either python dictionary or JSON specification, however the sections and data are not automatically interpereted and the **Mol** must be *built* piece by piece using the editable [RWMol class](https://www.rdkit.org/docs/cppapi/classRDKit_1_1RWMol.html).\n",
    "\n",
    "First, let's define our molecule:"
   ]
  },
  {
   "cell_type": "code",
   "execution_count": null,
   "id": "662ae130",
   "metadata": {},
   "outputs": [],
   "source": [
    "nm_lys_dict = {    # define the dictionary of molecular specifications\n",
    "        \"N-methyl-Lys\": {\n",
    "        \"symbols\": [\n",
    "            'C', 'H', 'H', 'C', 'H', 'H', 'C', 'H', 'H', 'C', 'H', 'H', 'C', 'H', 'C', 'O', 'O', 'H', 'N', 'H', 'H', 'N', 'H', 'C', 'H', 'H', 'H'\n",
    "        ],\n",
    "        \"geometry\": [\n",
    "            [-2.786344, -0.865688, 0.149704],\n",
    "            [-3.544874, -1.62842, -0.108673],\n",
    "            [-2.545274, -1.01452, 1.210478],\n",
    "            [-1.528672, -1.098787, -0.698099],\n",
    "            [-1.764375, -0.901138, -1.753684],\n",
    "            [-1.263847, -2.1625, -0.640239],\n",
    "            [-0.32661, -0.243046, -0.271657],\n",
    "            [-0.073497, -0.482642, 0.769845],\n",
    "            [-0.627382, 0.808673, -0.286552],\n",
    "            [0.894654, -0.468795, -1.174919],\n",
    "            [0.645694, -0.193707, -2.205413],\n",
    "            [1.166248, -1.529929, -1.173636],\n",
    "            [2.145774, 0.356471, -0.789068],\n",
    "            [2.943212, 0.078298, -1.48798],\n",
    "            [2.648295, -0.046693, 0.60451],\n",
    "            [2.673128, 0.669735, 1.589731],\n",
    "            [3.093804, -1.337695, 0.635168],\n",
    "            [3.390314, -1.505546, 1.547838],\n",
    "            [1.902865, 1.789808, -0.924756],\n",
    "            [1.251878, 2.096932, -0.205188],\n",
    "            [2.763947, 2.304041, -0.754109],\n",
    "            [-3.301475, 0.498923, -0.002148],\n",
    "            [-3.509828, 0.664275, -0.984668],\n",
    "            [-4.502157, 0.749743, 0.795616],\n",
    "            [-4.879941, 1.755202, 0.586094],\n",
    "            [-5.319415, 0.027338, 0.618035],\n",
    "            [-4.247693, 0.706975, 1.860456],\n",
    "        ],\n",
    "        \"connectivity\": [\n",
    "            [0, 1, 1],\n",
    "            [0, 2, 1],\n",
    "            [0, 3, 1],\n",
    "            [0, 21, 1],\n",
    "            [3, 4, 1],\n",
    "            [3, 5, 1],\n",
    "            [3, 6, 1],\n",
    "            [6, 7, 1],\n",
    "            [6, 8, 1],\n",
    "            [6, 9, 1],\n",
    "            [9, 10, 1],\n",
    "            [9, 11, 1],\n",
    "            [9, 12, 1],\n",
    "            [12, 13, 1],\n",
    "            [12, 14, 1],\n",
    "            [12, 18, 1],\n",
    "            [14, 15, 2],\n",
    "            [14, 16, 1],\n",
    "            [16, 17, 1],\n",
    "            [18, 19, 1],\n",
    "            [18, 20, 1],\n",
    "            [21, 22, 1],\n",
    "            [21, 23, 1],\n",
    "            [23, 24, 1],\n",
    "            [23, 25, 1],\n",
    "            [23, 26, 1],\n",
    "        ]\n",
    "    }\n",
    "}"
   ]
  },
  {
   "cell_type": "markdown",
   "id": "454595ff",
   "metadata": {},
   "source": [
    "#### Step 1: Instantiate RWMol object"
   ]
  },
  {
   "cell_type": "code",
   "execution_count": null,
   "id": "1c37bc96",
   "metadata": {},
   "outputs": [],
   "source": [
    "base_mol = Chem.Mol()\n",
    "rw_mol = Chem.RWMol(base_mol)\n",
    "\n",
    "# we're only working with 1 molecule, so\n",
    "# we'll set the name of the molecule while making a variable for easy dict access\n",
    "mol_name = list(nm_lys_dict.keys())[0]\n",
    "rw_mol.SetProp(\"_Name\", mol_name)"
   ]
  },
  {
   "cell_type": "markdown",
   "id": "79321816",
   "metadata": {},
   "source": [
    "#### Step 2: Add the atoms"
   ]
  },
  {
   "cell_type": "code",
   "execution_count": null,
   "id": "0a4eae06",
   "metadata": {},
   "outputs": [],
   "source": [
    "for symbol in nm_lys_dict[mol_name][\"symbols\"]:\n",
    "    rw_mol.AddAtom(Chem.Atom(symbol))"
   ]
  },
  {
   "cell_type": "markdown",
   "id": "0034ba7f",
   "metadata": {},
   "source": [
    "Let's verify that worked by printing the list of atom symbols"
   ]
  },
  {
   "cell_type": "code",
   "execution_count": null,
   "id": "c2f89972",
   "metadata": {},
   "outputs": [],
   "source": [
    "atoms = rw_mol.GetAtoms()    # returns a list of Atom objects\n",
    "msg = \"The symbols are: \"\n",
    "for atom in atoms:\n",
    "    sym_str = f\"{atom.GetSymbol()}, \"\n",
    "    msg = msg + sym_str\n",
    "msg = msg.removesuffix(', ') + '.'\n",
    "print(msg)"
   ]
  },
  {
   "cell_type": "markdown",
   "id": "58ff0702",
   "metadata": {},
   "source": [
    "#### Step 3: Add the bonds\n",
    "\n",
    "Connectivity in RDKit is defined by bond types rather than bond orders.  If one is working with calculated floating point bond orders, additional steps are needed to translate these bond orders into bond types recognizable by RDKit.  Here for simplicity we are using a connectivity list that is already given using RDKit bond type integers.\n",
    "\n",
    "The bond types can be referenced in the docs under the [BondType class](http://rdkit.org/docs/source/rdkit.Chem.rdchem.html#rdkit.Chem.rdchem.Mol) at the link provided.\n",
    "\n",
    "First we'll define a dictionary to help translate from a bond type integer to an RDKit object:"
   ]
  },
  {
   "cell_type": "code",
   "execution_count": null,
   "id": "b07f4ea8",
   "metadata": {},
   "outputs": [],
   "source": [
    "bond_types = {\n",
    "    0: Chem.BondType.UNSPECIFIED, \n",
    "    1: Chem.BondType.SINGLE, \n",
    "    2: Chem.BondType.DOUBLE, \n",
    "    3: Chem.BondType.TRIPLE, \n",
    "    4: Chem.BondType.QUADRUPLE, \n",
    "    5: Chem.BondType.QUINTUPLE, \n",
    "    6: Chem.BondType.HEXTUPLE, \n",
    "    7: Chem.BondType.ONEANDAHALF, \n",
    "    8: Chem.BondType.TWOANDAHALF, \n",
    "    9: Chem.BondType.THREEANDAHALF, \n",
    "    10: Chem.BondType.FOURANDAHALF, \n",
    "    11: Chem.BondType.FIVEANDAHALF, \n",
    "    12: Chem.BondType.AROMATIC, \n",
    "    13: Chem.BondType.IONIC, \n",
    "    14: Chem.BondType.HYDROGEN, \n",
    "    15: Chem.BondType.THREECENTER, \n",
    "    16: Chem.BondType.DATIVEONE, \n",
    "    17: Chem.BondType.DATIVE, \n",
    "    18: Chem.BondType.DATIVEL, \n",
    "    19: Chem.BondType.DATIVER, \n",
    "    20: Chem.BondType.OTHER, \n",
    "    21: Chem.BondType.ZERO\n",
    "}"
   ]
  },
  {
   "cell_type": "markdown",
   "id": "9176d60c",
   "metadata": {},
   "source": [
    "Now we can add the bonds similarly to the atoms."
   ]
  },
  {
   "cell_type": "code",
   "execution_count": null,
   "id": "ef6adeb6",
   "metadata": {},
   "outputs": [],
   "source": [
    "for atom1, atom2, bond in nm_lys_dict[mol_name][\"connectivity\"]:\n",
    "    bondtype = bond_types[bond]\n",
    "    rw_mol.AddBond(atom1, atom2, bondtype)"
   ]
  },
  {
   "cell_type": "markdown",
   "id": "fd6486b9",
   "metadata": {},
   "source": [
    "Notice there is only 1 double bond in N-*m*-Lys, between atom indices 14 and 15. We can use this to verify that the process worked:"
   ]
  },
  {
   "cell_type": "code",
   "execution_count": null,
   "id": "dce7b679",
   "metadata": {},
   "outputs": [],
   "source": [
    "carbonyl = rw_mol.GetBondBetweenAtoms(14, 15)    # returns a C++ Bond object\n",
    "print(carbonyl.GetBondType())    # see 'Note about RDKit objects' at top."
   ]
  },
  {
   "cell_type": "markdown",
   "id": "be5c0c6d",
   "metadata": {},
   "source": [
    "#### Step 4: Get Mol and Set a Conformer"
   ]
  },
  {
   "cell_type": "markdown",
   "id": "686bcefa",
   "metadata": {},
   "source": [
    "At this point we can obtain a normal **Mol object** that can be used to generate some molecular properties/descriptors, such as a smiles string, bonding information, etc.  But this **Mol** lacks a conformer (geometry), so any properties that require an accurate geometry to calculate will not return accurate results.\n",
    "\n",
    "Let's see an example of this.  The syntax to get a Mol object from a RWMol object is:\n",
    "    \n",
    "    mol = rw_mol.GetMol()"
   ]
  },
  {
   "cell_type": "code",
   "execution_count": null,
   "id": "adec6c88",
   "metadata": {},
   "outputs": [],
   "source": [
    "methyl_lysine_no_geom = rw_mol.GetMol()    # First we get our molecule\n",
    "\n",
    "Chem.SanitizeMol(methyl_lysine_no_geom)\n",
    "\n",
    "# A smiles string can be generated from the Mol as is. Explicit Hs are removed at the same time.\n",
    "m_lys_smiles = Chem.MolToSmiles(Chem.RemoveHs(methyl_lysine_no_geom))\n",
    "print(m_lys_smiles)\n",
    "\n",
    "# Let's look at the generated Mols both raw and from SMILES (after removing implicit Hs)\n",
    "mols = [methyl_lysine_no_geom, Chem.MolFromSmiles(m_lys_smiles)]\n",
    "Draw.MolsToGridImage(mols,molsPerRow=2,subImgSize=(300,300))"
   ]
  },
  {
   "cell_type": "markdown",
   "id": "7578cfe0",
   "metadata": {},
   "source": [
    "As we can see, there is no geometry or stereochemistry information, and if we ask for the number of conformers, we get 0."
   ]
  },
  {
   "cell_type": "code",
   "execution_count": null,
   "id": "0bfdfb4b",
   "metadata": {},
   "outputs": [],
   "source": [
    "methyl_lysine_no_geom.GetNumConformers()\n",
    "Chem.FindMolChiralCenters(methyl_lysine_no_geom)"
   ]
  },
  {
   "cell_type": "markdown",
   "id": "e22ae8ad",
   "metadata": {},
   "source": [
    "**4b: Setting the conformer**"
   ]
  },
  {
   "cell_type": "code",
   "execution_count": null,
   "id": "f2114074",
   "metadata": {},
   "outputs": [],
   "source": [
    "# First we create a conformer object\n",
    "geom = Chem.Conformer(len(nm_lys_dict[mol_name][\"symbols\"]))\n",
    "\n",
    "# Then loop through the geometry lines setting the atom positions\n",
    "for index, coords in enumerate(nm_lys_dict[mol_name][\"geometry\"]):\n",
    "    geom.SetAtomPosition(\n",
    "        index,\n",
    "        coords\n",
    "    )\n",
    "\n",
    "# Make a new Mol object so the old is saved for comparison.\n",
    "# Note: Must call Mol constructor class to create new Mol object. see 'Note about RDKit objects' at top.\n",
    "methyl_lysine = Chem.Mol(methyl_lysine_no_geom)\n",
    "\n",
    "# Add the conformer to the Mol\n",
    "methyl_lysine.AddConformer(geom)"
   ]
  },
  {
   "cell_type": "markdown",
   "id": "ec3588ed",
   "metadata": {},
   "source": [
    "Now let's compare the two *N-methyl*-lysine molecules:"
   ]
  },
  {
   "cell_type": "code",
   "execution_count": null,
   "id": "a942ffd7",
   "metadata": {},
   "outputs": [],
   "source": [
    "mols = [methyl_lysine, methyl_lysine_no_geom]\n",
    "Draw.MolsToGridImage(mols,molsPerRow=2,subImgSize=(300,300))"
   ]
  },
  {
   "cell_type": "code",
   "execution_count": null,
   "id": "5fcdd108",
   "metadata": {},
   "outputs": [],
   "source": []
  }
 ],
 "metadata": {
  "kernelspec": {
   "display_name": "Python 3 (ipykernel)",
   "language": "python",
   "name": "python3"
  },
  "language_info": {
   "codemirror_mode": {
    "name": "ipython",
    "version": 3
   },
   "file_extension": ".py",
   "mimetype": "text/x-python",
   "name": "python",
   "nbconvert_exporter": "python",
   "pygments_lexer": "ipython3",
   "version": "3.10.6"
  }
 },
 "nbformat": 4,
 "nbformat_minor": 5
}
