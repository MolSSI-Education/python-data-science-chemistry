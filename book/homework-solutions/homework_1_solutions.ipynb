{
 "cells": [
  {
   "cell_type": "markdown",
   "id": "b4575766",
   "metadata": {},
   "source": [
    "Session 1 Homework Solution\n",
    "=========================\n",
    "This is the homework for the first session of the MolSSI Python Scripting Level 2 Workshop.\n",
    "This homework is intended to give you practice with the material covered in the first session. \n",
    "\n",
    "Goals:\n",
    " - Utilize pandas to read in and work with the data in a csv file.\n",
    " - Utilize matplotlib to create plots and subplots of data stored in a pandas dataframe.\n",
    " - Utilize pandas to extract specific information from a dataframe.\n",
    " - Utilize matplotlib to construct a plot with multiple groups of data.\n",
    "\n",
    "## Exercise 1\n",
    "Using the `PubChemElements_all.csv` file used during Session 1, create a plot of the Ionization Energy trend of the periodic table. The trend can be visualized by plotting the Ionization Energy of each element against it's Atomic Number. HINT: Use pandas to read in the csv file and plot the data using matplotlib.\n",
    "\n",
    "## Exercise 2\n",
    "Create a pair of subplots comparing the Ionization Energy and Electronegativity trends. The Electronegativity trend can be plotted in the same way as the Ionization Energy, by plotting the Electronegativity of each element against it's Atomic Number.\n",
    "\n",
    "## Exercise 3 \n",
    "Create a function that will assign a color coding to a particular Standard State of an element, i.e. red for gases, blue for solids, etc. Use the apply function from pandas to apply the function across the periodic table, creating a column of assigned colors. Create a pair of subplots utilizing the assigned color as the color of the marker:\n",
    " - Atomic Mass against the Melting point of each element\n",
    " - Ionization Energy against the Melting Point of each element"
   ]
  },
  {
   "cell_type": "markdown",
   "id": "fafa9741",
   "metadata": {},
   "source": [
    "## Exercise 1 Solution"
   ]
  },
  {
   "cell_type": "code",
   "execution_count": 1,
   "id": "e333fb74",
   "metadata": {},
   "outputs": [],
   "source": [
    "# Import necessary packages for the homework:\n",
    "import os\n",
    "import pandas as pd\n",
    "import matplotlib.pyplot as plt\n",
    "\n",
    "# %matplotlib notebook"
   ]
  },
  {
   "cell_type": "code",
   "execution_count": 2,
   "id": "b980dd24",
   "metadata": {},
   "outputs": [],
   "source": [
    "# Create a filepath to the periodic table csv file.\n",
    "file_path = os.path.join(\"data\", \"PubChemElements_all.csv\")\n",
    "\n",
    "# Use pandas to read the csv file into a table.\n",
    "df = pd.read_csv(file_path)"
   ]
  },
  {
   "cell_type": "code",
   "execution_count": 3,
   "id": "e7b03434",
   "metadata": {},
   "outputs": [
    {
     "data": {
      "text/html": [
       "<div>\n",
       "<style scoped>\n",
       "    .dataframe tbody tr th:only-of-type {\n",
       "        vertical-align: middle;\n",
       "    }\n",
       "\n",
       "    .dataframe tbody tr th {\n",
       "        vertical-align: top;\n",
       "    }\n",
       "\n",
       "    .dataframe thead th {\n",
       "        text-align: right;\n",
       "    }\n",
       "</style>\n",
       "<table border=\"1\" class=\"dataframe\">\n",
       "  <thead>\n",
       "    <tr style=\"text-align: right;\">\n",
       "      <th></th>\n",
       "      <th>AtomicNumber</th>\n",
       "      <th>Symbol</th>\n",
       "      <th>Name</th>\n",
       "      <th>AtomicMass</th>\n",
       "      <th>CPKHexColor</th>\n",
       "      <th>ElectronConfiguration</th>\n",
       "      <th>Electronegativity</th>\n",
       "      <th>AtomicRadius</th>\n",
       "      <th>IonizationEnergy</th>\n",
       "      <th>ElectronAffinity</th>\n",
       "      <th>OxidationStates</th>\n",
       "      <th>StandardState</th>\n",
       "      <th>MeltingPoint</th>\n",
       "      <th>BoilingPoint</th>\n",
       "      <th>Density</th>\n",
       "      <th>GroupBlock</th>\n",
       "      <th>YearDiscovered</th>\n",
       "    </tr>\n",
       "  </thead>\n",
       "  <tbody>\n",
       "    <tr>\n",
       "      <th>0</th>\n",
       "      <td>1</td>\n",
       "      <td>H</td>\n",
       "      <td>Hydrogen</td>\n",
       "      <td>1.008000</td>\n",
       "      <td>FFFFFF</td>\n",
       "      <td>1s1</td>\n",
       "      <td>2.20</td>\n",
       "      <td>120.0</td>\n",
       "      <td>13.598</td>\n",
       "      <td>0.754</td>\n",
       "      <td>+1, -1</td>\n",
       "      <td>Gas</td>\n",
       "      <td>13.81</td>\n",
       "      <td>20.28</td>\n",
       "      <td>0.000090</td>\n",
       "      <td>Nonmetal</td>\n",
       "      <td>1766</td>\n",
       "    </tr>\n",
       "    <tr>\n",
       "      <th>1</th>\n",
       "      <td>2</td>\n",
       "      <td>He</td>\n",
       "      <td>Helium</td>\n",
       "      <td>4.002600</td>\n",
       "      <td>D9FFFF</td>\n",
       "      <td>1s2</td>\n",
       "      <td>NaN</td>\n",
       "      <td>140.0</td>\n",
       "      <td>24.587</td>\n",
       "      <td>NaN</td>\n",
       "      <td>0</td>\n",
       "      <td>Gas</td>\n",
       "      <td>0.95</td>\n",
       "      <td>4.22</td>\n",
       "      <td>0.000179</td>\n",
       "      <td>Noble gas</td>\n",
       "      <td>1868</td>\n",
       "    </tr>\n",
       "    <tr>\n",
       "      <th>2</th>\n",
       "      <td>3</td>\n",
       "      <td>Li</td>\n",
       "      <td>Lithium</td>\n",
       "      <td>7.000000</td>\n",
       "      <td>CC80FF</td>\n",
       "      <td>[He]2s1</td>\n",
       "      <td>0.98</td>\n",
       "      <td>182.0</td>\n",
       "      <td>5.392</td>\n",
       "      <td>0.618</td>\n",
       "      <td>+1</td>\n",
       "      <td>Solid</td>\n",
       "      <td>453.65</td>\n",
       "      <td>1615.00</td>\n",
       "      <td>0.534000</td>\n",
       "      <td>Alkali metal</td>\n",
       "      <td>1817</td>\n",
       "    </tr>\n",
       "    <tr>\n",
       "      <th>3</th>\n",
       "      <td>4</td>\n",
       "      <td>Be</td>\n",
       "      <td>Beryllium</td>\n",
       "      <td>9.012183</td>\n",
       "      <td>C2FF00</td>\n",
       "      <td>[He]2s2</td>\n",
       "      <td>1.57</td>\n",
       "      <td>153.0</td>\n",
       "      <td>9.323</td>\n",
       "      <td>NaN</td>\n",
       "      <td>+2</td>\n",
       "      <td>Solid</td>\n",
       "      <td>1560.00</td>\n",
       "      <td>2744.00</td>\n",
       "      <td>1.850000</td>\n",
       "      <td>Alkaline earth metal</td>\n",
       "      <td>1798</td>\n",
       "    </tr>\n",
       "    <tr>\n",
       "      <th>4</th>\n",
       "      <td>5</td>\n",
       "      <td>B</td>\n",
       "      <td>Boron</td>\n",
       "      <td>10.810000</td>\n",
       "      <td>FFB5B5</td>\n",
       "      <td>[He]2s2 2p1</td>\n",
       "      <td>2.04</td>\n",
       "      <td>192.0</td>\n",
       "      <td>8.298</td>\n",
       "      <td>0.277</td>\n",
       "      <td>+3</td>\n",
       "      <td>Solid</td>\n",
       "      <td>2348.00</td>\n",
       "      <td>4273.00</td>\n",
       "      <td>2.370000</td>\n",
       "      <td>Metalloid</td>\n",
       "      <td>1808</td>\n",
       "    </tr>\n",
       "  </tbody>\n",
       "</table>\n",
       "</div>"
      ],
      "text/plain": [
       "   AtomicNumber Symbol       Name  AtomicMass CPKHexColor  \\\n",
       "0             1      H   Hydrogen    1.008000      FFFFFF   \n",
       "1             2     He     Helium    4.002600      D9FFFF   \n",
       "2             3     Li    Lithium    7.000000      CC80FF   \n",
       "3             4     Be  Beryllium    9.012183      C2FF00   \n",
       "4             5      B      Boron   10.810000      FFB5B5   \n",
       "\n",
       "  ElectronConfiguration  Electronegativity  AtomicRadius  IonizationEnergy  \\\n",
       "0                   1s1               2.20         120.0            13.598   \n",
       "1                   1s2                NaN         140.0            24.587   \n",
       "2               [He]2s1               0.98         182.0             5.392   \n",
       "3               [He]2s2               1.57         153.0             9.323   \n",
       "4           [He]2s2 2p1               2.04         192.0             8.298   \n",
       "\n",
       "   ElectronAffinity OxidationStates StandardState  MeltingPoint  BoilingPoint  \\\n",
       "0             0.754          +1, -1           Gas         13.81         20.28   \n",
       "1               NaN               0           Gas          0.95          4.22   \n",
       "2             0.618              +1         Solid        453.65       1615.00   \n",
       "3               NaN              +2         Solid       1560.00       2744.00   \n",
       "4             0.277              +3         Solid       2348.00       4273.00   \n",
       "\n",
       "    Density            GroupBlock YearDiscovered  \n",
       "0  0.000090              Nonmetal           1766  \n",
       "1  0.000179             Noble gas           1868  \n",
       "2  0.534000          Alkali metal           1817  \n",
       "3  1.850000  Alkaline earth metal           1798  \n",
       "4  2.370000             Metalloid           1808  "
      ]
     },
     "execution_count": 3,
     "metadata": {},
     "output_type": "execute_result"
    }
   ],
   "source": [
    "# Print the first 5 rows of the table to get a quick glance at its contents.\n",
    "df.head()"
   ]
  },
  {
   "cell_type": "code",
   "execution_count": 4,
   "id": "536b5ddc",
   "metadata": {},
   "outputs": [
    {
     "data": {
      "text/plain": [
       "Text(0, 0.5, 'Ionization Energy')"
      ]
     },
     "execution_count": 4,
     "metadata": {},
     "output_type": "execute_result"
    },
    {
     "data": {
      "image/png": "[encoded data removed]",
      "text/plain": [
       "<Figure size 432x288 with 1 Axes>"
      ]
     },
     "metadata": {
      "needs_background": "light"
     },
     "output_type": "display_data"
    }
   ],
   "source": [
    "# Create a simple scatter plot of the Ionization Energy vs the Atomic number of each element.\n",
    "ion_fig, ion_ax = plt.subplots()\n",
    "ion_ax.scatter('AtomicNumber', 'IonizationEnergy', data=df)\n",
    "ion_ax.set_xlabel('Atomic Number')\n",
    "ion_ax.set_ylabel('Ionization Energy')"
   ]
  },
  {
   "cell_type": "markdown",
   "id": "f7aaa0d2",
   "metadata": {},
   "source": [
    "## Exercise 2 Solution"
   ]
  },
  {
   "cell_type": "code",
   "execution_count": 5,
   "id": "555a6743",
   "metadata": {},
   "outputs": [
    {
     "data": {
      "image/png": "[encoded data removed]",
      "text/plain": [
       "<Figure size 432x288 with 2 Axes>"
      ]
     },
     "metadata": {
      "needs_background": "light"
     },
     "output_type": "display_data"
    }
   ],
   "source": [
    "# Create a set of subplots of the two trends: Ionization Energy and Electronegativity.\n",
    "\n",
    "comparison_fig, comparison_ax = plt.subplots(1, 2)\n",
    "# Add the first subplot.\n",
    "comparison_ax[0].scatter('AtomicNumber', 'IonizationEnergy', data=df)\n",
    "comparison_ax[0].set_xlabel('Atomic Number')\n",
    "comparison_ax[0].set_ylabel('Ionization')\n",
    "\n",
    "\n",
    "\n",
    "comparison_fig.tight_layout()"
   ]
  },
  {
   "cell_type": "code",
   "execution_count": 6,
   "id": "06271f4d",
   "metadata": {},
   "outputs": [
    {
     "data": {
      "text/plain": [
       "Text(215.175, 0.5, 'Electronegativity')"
      ]
     },
     "execution_count": 6,
     "metadata": {},
     "output_type": "execute_result"
    }
   ],
   "source": [
    "# Add the second subplot.\n",
    "comparison_ax[1].scatter('AtomicNumber', 'Electronegativity', data=df)\n",
    "comparison_ax[1].set_xlabel('Atomic Number')\n",
    "comparison_ax[1].set_ylabel('Electronegativity')"
   ]
  },
  {
   "cell_type": "code",
   "execution_count": 7,
   "id": "5d26a5c3",
   "metadata": {},
   "outputs": [
    {
     "data": {
      "image/png": "[encoded data removed]",
      "text/plain": [
       "<Figure size 432x288 with 2 Axes>"
      ]
     },
     "execution_count": 7,
     "metadata": {},
     "output_type": "execute_result"
    }
   ],
   "source": [
    "comparison_fig.tight_layout()\n",
    "comparison_fig"
   ]
  },
  {
   "cell_type": "markdown",
   "id": "5ad41c04",
   "metadata": {},
   "source": [
    "## Exercise 3 Solution"
   ]
  },
  {
   "cell_type": "code",
   "execution_count": 8,
   "id": "cb98c080",
   "metadata": {},
   "outputs": [
    {
     "data": {
      "text/plain": [
       "array(['Gas', 'Solid', 'Liquid', 'Expected to be a Solid',\n",
       "       'Expected to be a Gas'], dtype=object)"
      ]
     },
     "execution_count": 8,
     "metadata": {},
     "output_type": "execute_result"
    }
   ],
   "source": [
    "# Determine possible states stored in the Dataframe\n",
    "states = pd.unique(df['StandardState'])\n",
    "states"
   ]
  },
  {
   "cell_type": "code",
   "execution_count": 9,
   "id": "7bf42a10",
   "metadata": {},
   "outputs": [],
   "source": [
    "# Create a function that returns a different color for each type of standard state.\n",
    "def assign_state_color(standard_state):\n",
    "    state_markers = {'Gas': 'r',\n",
    "                     'Solid': 'b',\n",
    "                     'Liquid': 'g',\n",
    "                     'Expected to be a Solid': 'y',\n",
    "                     'Expected to be a Gas': 'k'}\n",
    "    return state_markers[standard_state]"
   ]
  },
  {
   "cell_type": "code",
   "execution_count": 10,
   "id": "a4ca7dbd",
   "metadata": {},
   "outputs": [],
   "source": [
    "# Apply the function to the dataframe, creating a new column.\n",
    "df['StateMarker'] = df['StandardState'].apply(assign_state_color)"
   ]
  },
  {
   "cell_type": "code",
   "execution_count": 11,
   "id": "ee3cea40",
   "metadata": {},
   "outputs": [
    {
     "data": {
      "image/png": "[encoded data removed]",
      "text/plain": [
       "<Figure size 576x288 with 2 Axes>"
      ]
     },
     "metadata": {
      "needs_background": "light"
     },
     "output_type": "display_data"
    }
   ],
   "source": [
    "# Create a plot that uses the colors assigned to the table of the Atomic Mass vs the Melting Point.\n",
    "state_fig, state_ax = plt.subplots(1, 2, figsize=(8,4))\n",
    "state_ax[0].set_xlabel('Atomic Mass')\n",
    "state_ax[0].set_ylabel('Melting Point')\n",
    "\n",
    "# Add each state as a separate scatter to the same subplot.\n",
    "for state in states:\n",
    "    dataframe = df[df['StandardState'] == state]\n",
    "    line = state_ax[0].scatter('AtomicMass', 'MeltingPoint', data=dataframe, color=dataframe.iloc[0]['StateMarker'])\n",
    "    line.set_label(state)\n",
    "\n",
    "state_ax[1].set_xlabel('Ionization Energy')\n",
    "state_ax[1].set_ylabel('Melting Point')\n",
    "for state in states:\n",
    "    dataframe = df[df['StandardState'] == state]\n",
    "    line = state_ax[1].scatter('IonizationEnergy', 'MeltingPoint', data=dataframe, color=dataframe.iloc[0]['StateMarker'])\n",
    "    line.set_label(state)\n",
    "\n",
    "# Create a legend\n",
    "state_ax[1].legend(states)\n",
    "\n",
    "\n",
    "state_fig.tight_layout()"
   ]
  },
  {
   "cell_type": "code",
   "execution_count": null,
   "id": "figured-header",
   "metadata": {},
   "outputs": [],
   "source": []
  }
 ],
 "metadata": {
  "kernelspec": {
   "display_name": "Python 3",
   "language": "python",
   "name": "python3"
  },
  "language_info": {
   "codemirror_mode": {
    "name": "ipython",
    "version": 3
   },
   "file_extension": ".py",
   "mimetype": "text/x-python",
   "name": "python",
   "nbconvert_exporter": "python",
   "pygments_lexer": "ipython3",
   "version": "3.8.6"
  }
 },
 "nbformat": 4,
 "nbformat_minor": 5
}
