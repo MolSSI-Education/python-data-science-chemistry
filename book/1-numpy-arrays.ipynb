{
 "cells": [
  {
   "cell_type": "markdown",
   "metadata": {},
   "source": [
    "Working with NumPy Arrays\n",
    "======================\n",
    "\n",
    "<div class=\"overview\">\n",
    "   <p class=\"overview-title\">Overview</p>\n",
    "    <p>Questions</p>\n",
    "        <ul>\n",
    "            <li>When should I use NumPy arrays instead of Pandas dataframes?</li>\n",
    "            <li>What does the shape of a NumPy array mean?</li>\n",
    "            <li>How can I reshape arrays?</li>\n",
    "        </ul>\n",
    "    <p>Objectives:</p>\n",
    "        <ul>\n",
    "            <li>Convert data from a pandas dataframe to a NumPy array.</li>\n",
    "            <li>Use the `reshape` function to reshape a NumPy array.</li>\n",
    "        </ul>\n",
    "    <p>Keypoints:</p>\n",
    "        <ul>\n",
    "            <li>Pandas dataframes are built on top of NumPy arrays.</li>\n",
    "            <li>NumPy arrays have all the same data type.</li>\n",
    "            <li>NumPy is used for numerical applications</li>\n",
    "        </ul>\n",
    "    </div>"
   ]
  },
  {
   "cell_type": "markdown",
   "metadata": {},
   "source": [
    "Pandas dataframes are built on top of a data structure known as the NumPy Array. If you completed the first MolSSI Python scripting workshop, you are already familiar with some properties of NumPy arrays.\n",
    "\n",
    "In general, you should use pandas dataframe when working with data which is:\n",
    "   - Two dimensional (rows and columns).\n",
    "   - Labeled.\n",
    "   - Mixed type.\n",
    "   - Something for which you would like to be able to easily get statistics.\n",
    "    \n",
    "You should work with NumPy arrays when:\n",
    "  - You have higher dimensional data (collection of two dimensional arrays).\n",
    "  - You need to perform advanced mathematics like linear algebra.\n",
    "  - You are using a library which requires NumPy arrays (scikitlearn)."
   ]
  },
  {
   "cell_type": "markdown",
   "metadata": {},
   "source": [
    "For our discussion of NumPy, we are first going to load our data into a pandas dataframe then convert this data into a NumPy array. In our previous workshop, we used `np.genfromtxt`. This function might be ideal if you are working with a file that contains only numbers. However, since our data is mixed, we will first read it using pandas, then convert to a NumPy array."
   ]
  },
  {
   "cell_type": "code",
   "execution_count": 1,
   "metadata": {},
   "outputs": [],
   "source": [
    "import os\n",
    "import pandas as pd\n",
    "\n",
    "import numpy as np"
   ]
  },
  {
   "cell_type": "code",
   "execution_count": 2,
   "metadata": {},
   "outputs": [
    {
     "data": {
      "text/html": [
       "<div>\n",
       "<style scoped>\n",
       "    .dataframe tbody tr th:only-of-type {\n",
       "        vertical-align: middle;\n",
       "    }\n",
       "\n",
       "    .dataframe tbody tr th {\n",
       "        vertical-align: top;\n",
       "    }\n",
       "\n",
       "    .dataframe thead th {\n",
       "        text-align: right;\n",
       "    }\n",
       "</style>\n",
       "<table border=\"1\" class=\"dataframe\">\n",
       "  <thead>\n",
       "    <tr style=\"text-align: right;\">\n",
       "      <th></th>\n",
       "      <th>Compound</th>\n",
       "      <th>ESOL logP (mol/L)</th>\n",
       "      <th>Minimum Degree</th>\n",
       "      <th>Molecular Weight</th>\n",
       "      <th># of H-Bond Donors</th>\n",
       "      <th># of Rings</th>\n",
       "      <th>Number of Rotatable Bonds</th>\n",
       "      <th>Polar Surface Area</th>\n",
       "      <th>measured logP (mol/L)</th>\n",
       "      <th>smiles</th>\n",
       "    </tr>\n",
       "  </thead>\n",
       "  <tbody>\n",
       "    <tr>\n",
       "      <th>0</th>\n",
       "      <td>Amigdalin</td>\n",
       "      <td>-0.974</td>\n",
       "      <td>1</td>\n",
       "      <td>457.432</td>\n",
       "      <td>7</td>\n",
       "      <td>3</td>\n",
       "      <td>7</td>\n",
       "      <td>202.32</td>\n",
       "      <td>-0.77</td>\n",
       "      <td>OCC3OC(OCC2OC(OC(C#N)c1ccccc1)C(O)C(O)C2O)C(O)...</td>\n",
       "    </tr>\n",
       "    <tr>\n",
       "      <th>1</th>\n",
       "      <td>Fenfuram</td>\n",
       "      <td>-2.885</td>\n",
       "      <td>1</td>\n",
       "      <td>201.225</td>\n",
       "      <td>1</td>\n",
       "      <td>2</td>\n",
       "      <td>2</td>\n",
       "      <td>42.24</td>\n",
       "      <td>-3.30</td>\n",
       "      <td>Cc1occc1C(=O)Nc2ccccc2</td>\n",
       "    </tr>\n",
       "    <tr>\n",
       "      <th>2</th>\n",
       "      <td>citral</td>\n",
       "      <td>-2.579</td>\n",
       "      <td>1</td>\n",
       "      <td>152.237</td>\n",
       "      <td>0</td>\n",
       "      <td>0</td>\n",
       "      <td>4</td>\n",
       "      <td>17.07</td>\n",
       "      <td>-2.06</td>\n",
       "      <td>CC(C)=CCCC(C)=CC(=O)</td>\n",
       "    </tr>\n",
       "    <tr>\n",
       "      <th>3</th>\n",
       "      <td>Picene</td>\n",
       "      <td>-6.618</td>\n",
       "      <td>2</td>\n",
       "      <td>278.354</td>\n",
       "      <td>0</td>\n",
       "      <td>5</td>\n",
       "      <td>0</td>\n",
       "      <td>0.00</td>\n",
       "      <td>-7.87</td>\n",
       "      <td>c1ccc2c(c1)ccc3c2ccc4c5ccccc5ccc43</td>\n",
       "    </tr>\n",
       "    <tr>\n",
       "      <th>4</th>\n",
       "      <td>Thiophene</td>\n",
       "      <td>-2.232</td>\n",
       "      <td>2</td>\n",
       "      <td>84.143</td>\n",
       "      <td>0</td>\n",
       "      <td>1</td>\n",
       "      <td>0</td>\n",
       "      <td>0.00</td>\n",
       "      <td>-1.33</td>\n",
       "      <td>c1ccsc1</td>\n",
       "    </tr>\n",
       "  </tbody>\n",
       "</table>\n",
       "</div>"
      ],
      "text/plain": [
       "    Compound  ESOL logP (mol/L)  Minimum Degree  Molecular Weight  \\\n",
       "0  Amigdalin             -0.974               1           457.432   \n",
       "1   Fenfuram             -2.885               1           201.225   \n",
       "2     citral             -2.579               1           152.237   \n",
       "3     Picene             -6.618               2           278.354   \n",
       "4  Thiophene             -2.232               2            84.143   \n",
       "\n",
       "   # of H-Bond Donors  # of Rings  Number of Rotatable Bonds  \\\n",
       "0                   7           3                          7   \n",
       "1                   1           2                          2   \n",
       "2                   0           0                          4   \n",
       "3                   0           5                          0   \n",
       "4                   0           1                          0   \n",
       "\n",
       "   Polar Surface Area  measured logP (mol/L)  \\\n",
       "0              202.32                  -0.77   \n",
       "1               42.24                  -3.30   \n",
       "2               17.07                  -2.06   \n",
       "3                0.00                  -7.87   \n",
       "4                0.00                  -1.33   \n",
       "\n",
       "                                              smiles  \n",
       "0  OCC3OC(OCC2OC(OC(C#N)c1ccccc1)C(O)C(O)C2O)C(O)...  \n",
       "1                             Cc1occc1C(=O)Nc2ccccc2  \n",
       "2                               CC(C)=CCCC(C)=CC(=O)  \n",
       "3                 c1ccc2c(c1)ccc3c2ccc4c5ccccc5ccc43  \n",
       "4                                            c1ccsc1  "
      ]
     },
     "execution_count": 2,
     "metadata": {},
     "output_type": "execute_result"
    }
   ],
   "source": [
    "file_path = os.path.join(\"data\", \"delaney-processed.csv\")\n",
    "\n",
    "df = pd.read_csv(file_path)\n",
    "df.head()"
   ]
  },
  {
   "cell_type": "markdown",
   "metadata": {},
   "source": [
    "## Converting a Pandas DataFrame to a NumPy Array\n",
    "\n",
    "To convert a dataframe to a numpy array, use the function `.to_numpy()`. You will notice that both the numpy array and the pandas dataframe have the same shape after conversion."
   ]
  },
  {
   "cell_type": "code",
   "execution_count": 3,
   "metadata": {},
   "outputs": [
    {
     "name": "stdout",
     "output_type": "stream",
     "text": [
      "[['Amigdalin' -0.974 1 ... 202.32 -0.77\n",
      "  'OCC3OC(OCC2OC(OC(C#N)c1ccccc1)C(O)C(O)C2O)C(O)C(O)C3O ']\n",
      " ['Fenfuram' -2.885 1 ... 42.24 -3.3 'Cc1occc1C(=O)Nc2ccccc2']\n",
      " ['citral' -2.579 1 ... 17.07 -2.06 'CC(C)=CCCC(C)=CC(=O)']\n",
      " ...\n",
      " ['Thiometon' -3.323 1 ... 18.46 -3.091 'CCSCCSP(=S)(OC)OC']\n",
      " ['2-Methylbutane' -2.245 1 ... 0.0 -3.18 'CCC(C)C']\n",
      " ['Stirofos' -4.32 1 ... 44.76000000000001 -4.522\n",
      "  'COP(=O)(OC)OC(=CCl)c1cc(Cl)c(Cl)cc1Cl']]\n"
     ]
    }
   ],
   "source": [
    "np_array = df.to_numpy()\n",
    "\n",
    "print(np_array)"
   ]
  },
  {
   "cell_type": "code",
   "execution_count": 4,
   "metadata": {},
   "outputs": [
    {
     "data": {
      "text/plain": [
       "(1128, 10)"
      ]
     },
     "execution_count": 4,
     "metadata": {},
     "output_type": "execute_result"
    }
   ],
   "source": [
    "df.shape"
   ]
  },
  {
   "cell_type": "code",
   "execution_count": 5,
   "metadata": {},
   "outputs": [
    {
     "data": {
      "text/plain": [
       "(1128, 10)"
      ]
     },
     "execution_count": 5,
     "metadata": {},
     "output_type": "execute_result"
    }
   ],
   "source": [
    "np_array.shape"
   ]
  },
  {
   "cell_type": "markdown",
   "metadata": {},
   "source": [
    "At the end of the numpy array, you will see `dtype=object`. When we converted the dataframe to a NumPy array, pandas attempted to give the dataframe the simplest type possible. Since we had a mix of strings and numbers, the assigned type of the numpy array is object. \n",
    "\n",
    "Note that we have both strings and numbers in the array."
   ]
  },
  {
   "cell_type": "code",
   "execution_count": 6,
   "metadata": {},
   "outputs": [
    {
     "data": {
      "text/plain": [
       "dtype('O')"
      ]
     },
     "execution_count": 6,
     "metadata": {},
     "output_type": "execute_result"
    }
   ],
   "source": [
    "np_array.dtype"
   ]
  },
  {
   "cell_type": "code",
   "execution_count": 7,
   "metadata": {},
   "outputs": [
    {
     "name": "stdout",
     "output_type": "stream",
     "text": [
      "Amigdalin\n",
      "<class 'str'>\n",
      "-0.974\n",
      "<class 'float'>\n"
     ]
    }
   ],
   "source": [
    "print(np_array[0, 0])\n",
    "print(type(np_array[0, 0]))\n",
    "\n",
    "print(np_array[0, 1])\n",
    "print(type(np_array[0, 1]))"
   ]
  },
  {
   "cell_type": "markdown",
   "metadata": {},
   "source": [
    "## Reshaping Arrays\n",
    "\n",
    "NumPy arrays have shapes just like Pandas DataFrames. One major difference is that they can have more dimensions than two. NumPy arrays are n-dimensional, meaning they can have any number of dimensions. Unlike pandas dataframes, NumPy arrays can be reshaped.\n",
    "\n",
    "When we fit our data using scikit-learn later in this workshop, we will need to make sure our arrays are the proper shape. Unlike pandas dataframes, NumPy arrays can have more than two dimensions. Let's see how we might reshape an array."
   ]
  },
  {
   "cell_type": "code",
   "execution_count": 8,
   "metadata": {},
   "outputs": [],
   "source": [
    "numbers = df[[\"ESOL logP (mol/L)\", \"measured logP (mol/L)\"]].to_numpy()"
   ]
  },
  {
   "cell_type": "code",
   "execution_count": 9,
   "metadata": {},
   "outputs": [
    {
     "data": {
      "text/plain": [
       "(1128, 2)"
      ]
     },
     "execution_count": 9,
     "metadata": {},
     "output_type": "execute_result"
    }
   ],
   "source": [
    "numbers.shape"
   ]
  },
  {
   "cell_type": "code",
   "execution_count": 10,
   "metadata": {},
   "outputs": [
    {
     "data": {
      "text/plain": [
       "dtype('float64')"
      ]
     },
     "execution_count": 10,
     "metadata": {},
     "output_type": "execute_result"
    }
   ],
   "source": [
    "numbers.dtype"
   ]
  },
  {
   "cell_type": "markdown",
   "metadata": {},
   "source": [
    "To change the shape of an array, use the function `.reshape`. Inside the reshape function, you list the size you would like for each dimension of the array to be. We could shape the `numbers` array we just created to be three dimensional rather than two dimensional. We might want rows with one column. For the third dimension you can think of it as being two columns stacked on one another.\n",
    "\n",
    "If you do not care what the shape of one of the dimensions is when doing a reshape, you can specify a `-1` for that dimension (or `unknown`). It essentially means to make that dimension whatever size it needs to be to fit the other specified dimensions."
   ]
  },
  {
   "cell_type": "code",
   "execution_count": 11,
   "metadata": {},
   "outputs": [
    {
     "name": "stdout",
     "output_type": "stream",
     "text": [
      "(1128, 1, 2)\n"
     ]
    }
   ],
   "source": [
    "# reshape so each \"category\" is its own two dimensional array\n",
    "numbers_reshaped = numbers.reshape(-1, 1, 2)\n",
    "print(numbers_reshaped.shape)"
   ]
  },
  {
   "cell_type": "markdown",
   "metadata": {},
   "source": [
    "We can slice into our reshaped array."
   ]
  },
  {
   "cell_type": "code",
   "execution_count": 12,
   "metadata": {},
   "outputs": [
    {
     "data": {
      "text/plain": [
       "array([[-0.974],\n",
       "       [-2.885],\n",
       "       [-2.579],\n",
       "       ...,\n",
       "       [-3.323],\n",
       "       [-2.245],\n",
       "       [-4.32 ]])"
      ]
     },
     "execution_count": 12,
     "metadata": {},
     "output_type": "execute_result"
    }
   ],
   "source": [
    "# Get ESOL values\n",
    "numbers_reshaped[:, :, 0]"
   ]
  },
  {
   "cell_type": "code",
   "execution_count": 13,
   "metadata": {},
   "outputs": [
    {
     "data": {
      "text/plain": [
       "array([-0.974, -2.885, -2.579, ..., -3.323, -2.245, -4.32 ])"
      ]
     },
     "execution_count": 13,
     "metadata": {},
     "output_type": "execute_result"
    }
   ],
   "source": [
    "numbers[:, 0]"
   ]
  },
  {
   "cell_type": "code",
   "execution_count": 15,
   "metadata": {},
   "outputs": [
    {
     "data": {
      "text/plain": [
       "array([[-0.77 ],\n",
       "       [-3.3  ],\n",
       "       [-2.06 ],\n",
       "       ...,\n",
       "       [-3.091],\n",
       "       [-3.18 ],\n",
       "       [-4.522]])"
      ]
     },
     "execution_count": 15,
     "metadata": {},
     "output_type": "execute_result"
    }
   ],
   "source": [
    "# Get measured values\n",
    "numbers_reshaped[:, :, 1]"
   ]
  },
  {
   "cell_type": "code",
   "execution_count": 16,
   "metadata": {},
   "outputs": [
    {
     "name": "stdout",
     "output_type": "stream",
     "text": [
      "['Amigdalin' 'Fenfuram' 'citral' ... 'Thiometon' '2-Methylbutane'\n",
      " 'Stirofos']\n",
      "[['Amigdalin']\n",
      " ['Fenfuram']\n",
      " ['citral']\n",
      " ...\n",
      " ['Thiometon']\n",
      " ['2-Methylbutane']\n",
      " ['Stirofos']]\n"
     ]
    }
   ],
   "source": [
    "# By default pandas Series are one-dimensional. We will have to reshape the arrays sometimes.\n",
    "names = df[\"Compound\"].to_numpy()\n",
    "print(names)\n",
    "names = names.reshape(-1, 1)\n",
    "print(names)"
   ]
  },
  {
   "cell_type": "code",
   "execution_count": null,
   "metadata": {},
   "outputs": [],
   "source": []
  }
 ],
 "metadata": {
  "kernelspec": {
   "display_name": "Python 3",
   "language": "python",
   "name": "python3"
  },
  "language_info": {
   "codemirror_mode": {
    "name": "ipython",
    "version": 3
   },
   "file_extension": ".py",
   "mimetype": "text/x-python",
   "name": "python",
   "nbconvert_exporter": "python",
   "pygments_lexer": "ipython3",
   "version": "3.7.8"
  }
 },
 "nbformat": 4,
 "nbformat_minor": 4
}
