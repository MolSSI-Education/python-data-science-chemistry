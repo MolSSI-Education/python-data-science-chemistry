{
 "cells": [
  {
   "cell_type": "markdown",
   "metadata": {},
   "source": [
    "Plotting with Matplotlib\n",
    "==================="
   ]
  },
  {
   "cell_type": "code",
   "execution_count": null,
   "metadata": {},
   "outputs": [],
   "source": [
    "import os\n",
    "\n",
    "import numpy as np\n",
    "import pandas as pd\n",
    "\n",
    "import matplotlib.pyplot as plt\n"
   ]
  },
  {
   "cell_type": "code",
   "execution_count": null,
   "metadata": {},
   "outputs": [],
   "source": [
    "file_path = os.path.join(\"data\", \"PubChemElements_all.csv\")\n",
    "\n",
    "df = pd.read_csv(file_path)"
   ]
  },
  {
   "cell_type": "code",
   "execution_count": null,
   "metadata": {},
   "outputs": [],
   "source": [
    "df.head()"
   ]
  },
  {
   "cell_type": "code",
   "execution_count": null,
   "metadata": {},
   "outputs": [],
   "source": [
    "# We've already seen some built-in plotting\n",
    "\n",
    "df.plot(x=\"AtomicMass\", y=\"MeltingPoint\", kind=\"scatter\")"
   ]
  },
  {
   "cell_type": "code",
   "execution_count": null,
   "metadata": {},
   "outputs": [],
   "source": [
    "# We probably want more customization than this. It's good for quickly\n",
    "# exploring, but not for creating presentation-worthy figures.\n",
    "\n",
    "# Pandas is running matplotlib in the background, so now we'll look at using matplotlib in more detail.\n",
    "\n",
    "# Understanding how matplotlib works will help us with other plotting libraries that are built on matplotlib.\n",
    "\n",
    "# makes plots interactive\n",
    "%matplotlib notebook"
   ]
  },
  {
   "cell_type": "code",
   "execution_count": null,
   "metadata": {},
   "outputs": [],
   "source": [
    "# procedural interface - if you've programmed in python before this is what you've used\n",
    "\n",
    "plt.figure()\n",
    "plt.scatter(\"AtomicMass\", \"MeltingPoint\", data=df)\n",
    "plt.xlabel(\"Atomic Mass\")\n",
    "plt.ylabel(\"Melting Point\")"
   ]
  },
  {
   "cell_type": "markdown",
   "metadata": {},
   "source": [
    "## Object Oriented Interface"
   ]
  },
  {
   "cell_type": "code",
   "execution_count": null,
   "metadata": {},
   "outputs": [],
   "source": [
    "# object oriented interface\n",
    "\n",
    "fig, ax = plt.subplots()"
   ]
  },
  {
   "cell_type": "code",
   "execution_count": null,
   "metadata": {},
   "outputs": [],
   "source": [
    "fig, ax = plt.subplots()\n",
    "ax.scatter(\"AtomicMass\", \"MeltingPoint\", data=df)\n",
    "ax.set_xlabel(\"Atomic Mass\")\n",
    "ax.set_ylabel(\"Melting Point\")"
   ]
  },
  {
   "cell_type": "markdown",
   "metadata": {},
   "source": [
    "## Subplots"
   ]
  },
  {
   "cell_type": "code",
   "execution_count": null,
   "metadata": {},
   "outputs": [],
   "source": [
    "fig, ax = plt.subplots(2, 2)"
   ]
  },
  {
   "cell_type": "code",
   "execution_count": null,
   "metadata": {},
   "outputs": [],
   "source": [
    "ax.shape"
   ]
  },
  {
   "cell_type": "code",
   "execution_count": null,
   "metadata": {},
   "outputs": [],
   "source": [
    "fig, ax = plt.subplots(2, 2)\n",
    "ax[0, 0].scatter(\"AtomicMass\", \"MeltingPoint\", data=df)\n",
    "ax[0, 0].set_xlabel(\"Atomic Mass\")\n",
    "ax[0, 0].set_ylabel(\"Melting Point\")\n",
    "\n",
    "ax[0, 1].scatter(\"Electronegativity\", \"MeltingPoint\", data=df)\n",
    "ax[0, 1].set_xlabel(\"Atomic Mass\")\n",
    "ax[0, 1].set_ylabel(\"Melting Point\")"
   ]
  },
  {
   "cell_type": "code",
   "execution_count": null,
   "metadata": {},
   "outputs": [],
   "source": [
    "fig, ax = plt.subplots(2, 2)\n",
    "ax[0, 0].scatter(\"AtomicMass\", \"MeltingPoint\", data=df)\n",
    "ax[0, 0].set_xlabel(\"Atomic Mass\")\n",
    "ax[0, 0].set_ylabel(\"Melting Point\")\n",
    "\n",
    "ax[0, 1].scatter(\"Electronegativity\", \"MeltingPoint\", data=df)\n",
    "ax[0, 1].set_xlabel(\"Atomic Mass\")\n",
    "ax[0, 1].set_ylabel(\"Melting Point\")\n",
    "\n",
    "fig.tight_layout()"
   ]
  },
  {
   "cell_type": "markdown",
   "metadata": {},
   "source": [
    "## Plot Customization"
   ]
  },
  {
   "cell_type": "code",
   "execution_count": null,
   "metadata": {},
   "outputs": [],
   "source": []
  }
 ],
 "metadata": {
  "kernelspec": {
   "display_name": "Python 3",
   "language": "python",
   "name": "python3"
  },
  "language_info": {
   "codemirror_mode": {
    "name": "ipython",
    "version": 3
   },
   "file_extension": ".py",
   "mimetype": "text/x-python",
   "name": "python",
   "nbconvert_exporter": "python",
   "pygments_lexer": "ipython3",
   "version": "3.7.8"
  }
 },
 "nbformat": 4,
 "nbformat_minor": 4
}
