{
 "cells": [
  {
   "cell_type": "markdown",
   "metadata": {},
   "source": [
    "Session 2 Homework\n",
    "=================\n",
    "\n",
    "## Exercise 1\n",
    "\n",
    "In the first class, we examined a dataset containing molecular descriptors and the results from the ESOL solubility model. In this homework, we are going to use the `tabula` library to extract a table from the associated paper. In your `pdf` folder, you have a file called `Delaney_paper.pdf`. Your task for this homework is to pull information from table 4 and create plots using seaborn showing  the correlation between the various solubility models and the experimental values.\n",
    "\n",
    "Using the file `pdfs/Delaney_paper.pdf` and `tabula-py`, read in the data from Table 4. Save this file in your data folder as `delaney_table4.csv`.\n",
    "\n",
    "## Exercise 2\n",
    "\n",
    "Read in your saved data and clean the table using pandas.\n",
    "\n",
    "- Rename the columns to have easy and descriptive names.\n",
    "- Use `pd.to_numeric` with the appropriate options to cast columns to floats.\n",
    "- Drop rows or columns if necessary.\n",
    "\n",
    "Your dataframe should have the following column names before you save it:\n",
    "\n",
    "```\n",
    "['common name', 'CAS no.', 'experimental values', 'ESOL', 'Liu',\n",
    "       'Huuskonen', 'Kuhne', 'Wegner', 'Gasteiger', 'Tetko', 'GSE']\n",
    "```\n",
    "\n",
    "Save your cleaned dataframe as `delaney_table4_clean.csv`\n",
    "\n",
    "## Exercise 3\n",
    "\n",
    "Use seaborn `lmplot` to create a plot showing `experimental values` vs each of the models. You should have one plot per model. Create a plot which has two columns per row.\n",
    "\n",
    "**Bonus** - Use seaborn to visualize the correlation between experimental values and the models. Which one has the highest correlation? The method `df.corr` gives you Pearson's correlation coefficient (R). Table 4 reports $R^2$ - can you get the values to match? (how?)"
   ]
  },
  {
   "cell_type": "code",
   "execution_count": null,
   "metadata": {},
   "outputs": [],
   "source": []
  }
 ],
 "metadata": {
  "kernelspec": {
   "display_name": "Python 3",
   "language": "python",
   "name": "python3"
  },
  "language_info": {
   "codemirror_mode": {
    "name": "ipython",
    "version": 3
   },
   "file_extension": ".py",
   "mimetype": "text/x-python",
   "name": "python",
   "nbconvert_exporter": "python",
   "pygments_lexer": "ipython3",
   "version": "3.8.10 (default, Nov 14 2022, 12:59:47) \n[GCC 9.4.0]"
  },
  "vscode": {
   "interpreter": {
    "hash": "916dbcbb3f70747c44a77c7bcd40155683ae19c65e1c03b4aa3499c5328201f1"
   }
  }
 },
 "nbformat": 4,
 "nbformat_minor": 4
}
